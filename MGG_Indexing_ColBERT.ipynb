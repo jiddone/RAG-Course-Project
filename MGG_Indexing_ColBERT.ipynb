{
  "cells": [
    {
      "cell_type": "markdown",
      "metadata": {
        "id": "9ovFg3wMmoYn"
      },
      "source": [
        "# RAG Indexing - Specialized Embeddings"
      ]
    },
    {
      "cell_type": "markdown",
      "metadata": {
        "id": "WuLmR53JmoYq"
      },
      "source": [
        "## 1. Initialization"
      ]
    },
    {
      "cell_type": "code",
      "execution_count": 1,
      "metadata": {
        "colab": {
          "base_uri": "https://localhost:8080/"
        },
        "id": "MMroM4Z4c_nA",
        "outputId": "3c6fceca-268d-4ad6-f544-047926f5b98f"
      },
      "outputs": [
        {
          "name": "stdout",
          "output_type": "stream",
          "text": [
            "Wed Jun  5 13:34:37 2024       \n",
            "+---------------------------------------------------------------------------------------+\n",
            "| NVIDIA-SMI 535.104.05             Driver Version: 535.104.05   CUDA Version: 12.2     |\n",
            "|-----------------------------------------+----------------------+----------------------+\n",
            "| GPU  Name                 Persistence-M | Bus-Id        Disp.A | Volatile Uncorr. ECC |\n",
            "| Fan  Temp   Perf          Pwr:Usage/Cap |         Memory-Usage | GPU-Util  Compute M. |\n",
            "|                                         |                      |               MIG M. |\n",
            "|=========================================+======================+======================|\n",
            "|   0  Tesla T4                       Off | 00000000:00:04.0 Off |                    0 |\n",
            "| N/A   41C    P8               9W /  70W |      0MiB / 15360MiB |      0%      Default |\n",
            "|                                         |                      |                  N/A |\n",
            "+-----------------------------------------+----------------------+----------------------+\n",
            "                                                                                         \n",
            "+---------------------------------------------------------------------------------------+\n",
            "| Processes:                                                                            |\n",
            "|  GPU   GI   CI        PID   Type   Process name                            GPU Memory |\n",
            "|        ID   ID                                                             Usage      |\n",
            "|=======================================================================================|\n",
            "|  No running processes found                                                           |\n",
            "+---------------------------------------------------------------------------------------+\n"
          ]
        }
      ],
      "source": [
        "!nvidia-smi"
      ]
    },
    {
      "cell_type": "code",
      "execution_count": 3,
      "metadata": {
        "colab": {
          "base_uri": "https://localhost:8080/"
        },
        "id": "ft1hQt6GRP5P",
        "outputId": "00aa7dbc-767f-4e2c-be0a-502f2a12ded0"
      },
      "outputs": [
        {
          "name": "stdout",
          "output_type": "stream",
          "text": [
            "Mounted at /content/drive\n"
          ]
        }
      ],
      "source": [
        "from google.colab import drive\n",
        "drive.mount('/content/drive')"
      ]
    },
    {
      "cell_type": "code",
      "execution_count": 30,
      "metadata": {
        "colab": {
          "base_uri": "https://localhost:8080/"
        },
        "collapsed": true,
        "id": "hok_GnVpSK6r",
        "outputId": "b947155d-0e3d-4709-986a-20f799c4d5a4"
      },
      "outputs": [
        {
          "name": "stdout",
          "output_type": "stream",
          "text": [
            "Requirement already satisfied: langchain==0.1.15 in /usr/local/lib/python3.10/dist-packages (0.1.15)\n",
            "Requirement already satisfied: PyYAML>=5.3 in /usr/local/lib/python3.10/dist-packages (from langchain==0.1.15) (6.0.1)\n",
            "Requirement already satisfied: SQLAlchemy<3,>=1.4 in /usr/local/lib/python3.10/dist-packages (from langchain==0.1.15) (2.0.30)\n",
            "Requirement already satisfied: aiohttp<4.0.0,>=3.8.3 in /usr/local/lib/python3.10/dist-packages (from langchain==0.1.15) (3.9.5)\n",
            "Requirement already satisfied: async-timeout<5.0.0,>=4.0.0 in /usr/local/lib/python3.10/dist-packages (from langchain==0.1.15) (4.0.3)\n",
            "Requirement already satisfied: dataclasses-json<0.7,>=0.5.7 in /usr/local/lib/python3.10/dist-packages (from langchain==0.1.15) (0.6.6)\n",
            "Requirement already satisfied: jsonpatch<2.0,>=1.33 in /usr/local/lib/python3.10/dist-packages (from langchain==0.1.15) (1.33)\n",
            "Requirement already satisfied: langchain-community<0.1,>=0.0.32 in /usr/local/lib/python3.10/dist-packages (from langchain==0.1.15) (0.0.38)\n",
            "Requirement already satisfied: langchain-core<0.2.0,>=0.1.41 in /usr/local/lib/python3.10/dist-packages (from langchain==0.1.15) (0.1.52)\n",
            "Requirement already satisfied: langchain-text-splitters<0.1,>=0.0.1 in /usr/local/lib/python3.10/dist-packages (from langchain==0.1.15) (0.0.2)\n",
            "Requirement already satisfied: langsmith<0.2.0,>=0.1.17 in /usr/local/lib/python3.10/dist-packages (from langchain==0.1.15) (0.1.71)\n",
            "Requirement already satisfied: numpy<2,>=1 in /usr/local/lib/python3.10/dist-packages (from langchain==0.1.15) (1.25.2)\n",
            "Requirement already satisfied: pydantic<3,>=1 in /usr/local/lib/python3.10/dist-packages (from langchain==0.1.15) (2.7.2)\n",
            "Requirement already satisfied: requests<3,>=2 in /usr/local/lib/python3.10/dist-packages (from langchain==0.1.15) (2.32.3)\n",
            "Requirement already satisfied: tenacity<9.0.0,>=8.1.0 in /usr/local/lib/python3.10/dist-packages (from langchain==0.1.15) (8.3.0)\n",
            "Requirement already satisfied: aiosignal>=1.1.2 in /usr/local/lib/python3.10/dist-packages (from aiohttp<4.0.0,>=3.8.3->langchain==0.1.15) (1.3.1)\n",
            "Requirement already satisfied: attrs>=17.3.0 in /usr/local/lib/python3.10/dist-packages (from aiohttp<4.0.0,>=3.8.3->langchain==0.1.15) (23.2.0)\n",
            "Requirement already satisfied: frozenlist>=1.1.1 in /usr/local/lib/python3.10/dist-packages (from aiohttp<4.0.0,>=3.8.3->langchain==0.1.15) (1.4.1)\n",
            "Requirement already satisfied: multidict<7.0,>=4.5 in /usr/local/lib/python3.10/dist-packages (from aiohttp<4.0.0,>=3.8.3->langchain==0.1.15) (6.0.5)\n",
            "Requirement already satisfied: yarl<2.0,>=1.0 in /usr/local/lib/python3.10/dist-packages (from aiohttp<4.0.0,>=3.8.3->langchain==0.1.15) (1.9.4)\n",
            "Requirement already satisfied: marshmallow<4.0.0,>=3.18.0 in /usr/local/lib/python3.10/dist-packages (from dataclasses-json<0.7,>=0.5.7->langchain==0.1.15) (3.21.2)\n",
            "Requirement already satisfied: typing-inspect<1,>=0.4.0 in /usr/local/lib/python3.10/dist-packages (from dataclasses-json<0.7,>=0.5.7->langchain==0.1.15) (0.9.0)\n",
            "Requirement already satisfied: jsonpointer>=1.9 in /usr/local/lib/python3.10/dist-packages (from jsonpatch<2.0,>=1.33->langchain==0.1.15) (2.4)\n",
            "Requirement already satisfied: packaging<24.0,>=23.2 in /usr/local/lib/python3.10/dist-packages (from langchain-core<0.2.0,>=0.1.41->langchain==0.1.15) (23.2)\n",
            "Requirement already satisfied: orjson<4.0.0,>=3.9.14 in /usr/local/lib/python3.10/dist-packages (from langsmith<0.2.0,>=0.1.17->langchain==0.1.15) (3.10.3)\n",
            "Requirement already satisfied: annotated-types>=0.4.0 in /usr/local/lib/python3.10/dist-packages (from pydantic<3,>=1->langchain==0.1.15) (0.7.0)\n",
            "Requirement already satisfied: pydantic-core==2.18.3 in /usr/local/lib/python3.10/dist-packages (from pydantic<3,>=1->langchain==0.1.15) (2.18.3)\n",
            "Requirement already satisfied: typing-extensions>=4.6.1 in /usr/local/lib/python3.10/dist-packages (from pydantic<3,>=1->langchain==0.1.15) (4.12.0)\n",
            "Requirement already satisfied: charset-normalizer<4,>=2 in /usr/local/lib/python3.10/dist-packages (from requests<3,>=2->langchain==0.1.15) (3.3.2)\n",
            "Requirement already satisfied: idna<4,>=2.5 in /usr/local/lib/python3.10/dist-packages (from requests<3,>=2->langchain==0.1.15) (3.7)\n",
            "Requirement already satisfied: urllib3<3,>=1.21.1 in /usr/local/lib/python3.10/dist-packages (from requests<3,>=2->langchain==0.1.15) (2.0.7)\n",
            "Requirement already satisfied: certifi>=2017.4.17 in /usr/local/lib/python3.10/dist-packages (from requests<3,>=2->langchain==0.1.15) (2024.2.2)\n",
            "Requirement already satisfied: greenlet!=0.4.17 in /usr/local/lib/python3.10/dist-packages (from SQLAlchemy<3,>=1.4->langchain==0.1.15) (3.0.3)\n",
            "Requirement already satisfied: mypy-extensions>=0.3.0 in /usr/local/lib/python3.10/dist-packages (from typing-inspect<1,>=0.4.0->dataclasses-json<0.7,>=0.5.7->langchain==0.1.15) (1.0.0)\n",
            "Requirement already satisfied: pymilvus==2.4.0 in /usr/local/lib/python3.10/dist-packages (2.4.0)\n",
            "Requirement already satisfied: setuptools>=67 in /usr/local/lib/python3.10/dist-packages (from pymilvus==2.4.0) (67.7.2)\n",
            "Requirement already satisfied: grpcio<=1.60.0,>=1.49.1 in /usr/local/lib/python3.10/dist-packages (from pymilvus==2.4.0) (1.56.0)\n",
            "Requirement already satisfied: protobuf>=3.20.0 in /usr/local/lib/python3.10/dist-packages (from pymilvus==2.4.0) (3.20.3)\n",
            "Requirement already satisfied: environs<=9.5.0 in /usr/local/lib/python3.10/dist-packages (from pymilvus==2.4.0) (9.5.0)\n",
            "Requirement already satisfied: ujson>=2.0.0 in /usr/local/lib/python3.10/dist-packages (from pymilvus==2.4.0) (5.10.0)\n",
            "Requirement already satisfied: pandas>=1.2.4 in /usr/local/lib/python3.10/dist-packages (from pymilvus==2.4.0) (2.0.3)\n",
            "Requirement already satisfied: requests in /usr/local/lib/python3.10/dist-packages (from pymilvus==2.4.0) (2.32.3)\n",
            "Requirement already satisfied: minio>=7.0.0 in /usr/local/lib/python3.10/dist-packages (from pymilvus==2.4.0) (7.2.7)\n",
            "Requirement already satisfied: pyarrow>=12.0.0 in /usr/local/lib/python3.10/dist-packages (from pymilvus==2.4.0) (14.0.2)\n",
            "Requirement already satisfied: azure-storage-blob in /usr/local/lib/python3.10/dist-packages (from pymilvus==2.4.0) (12.20.0)\n",
            "Requirement already satisfied: scipy in /usr/local/lib/python3.10/dist-packages (from pymilvus==2.4.0) (1.11.4)\n",
            "Requirement already satisfied: marshmallow>=3.0.0 in /usr/local/lib/python3.10/dist-packages (from environs<=9.5.0->pymilvus==2.4.0) (3.21.2)\n",
            "Requirement already satisfied: python-dotenv in /usr/local/lib/python3.10/dist-packages (from environs<=9.5.0->pymilvus==2.4.0) (1.0.1)\n",
            "Requirement already satisfied: certifi in /usr/local/lib/python3.10/dist-packages (from minio>=7.0.0->pymilvus==2.4.0) (2024.2.2)\n",
            "Requirement already satisfied: urllib3 in /usr/local/lib/python3.10/dist-packages (from minio>=7.0.0->pymilvus==2.4.0) (2.0.7)\n",
            "Requirement already satisfied: argon2-cffi in /usr/local/lib/python3.10/dist-packages (from minio>=7.0.0->pymilvus==2.4.0) (23.1.0)\n",
            "Requirement already satisfied: pycryptodome in /usr/local/lib/python3.10/dist-packages (from minio>=7.0.0->pymilvus==2.4.0) (3.20.0)\n",
            "Requirement already satisfied: typing-extensions in /usr/local/lib/python3.10/dist-packages (from minio>=7.0.0->pymilvus==2.4.0) (4.12.0)\n",
            "Requirement already satisfied: python-dateutil>=2.8.2 in /usr/local/lib/python3.10/dist-packages (from pandas>=1.2.4->pymilvus==2.4.0) (2.8.2)\n",
            "Requirement already satisfied: pytz>=2020.1 in /usr/local/lib/python3.10/dist-packages (from pandas>=1.2.4->pymilvus==2.4.0) (2023.4)\n",
            "Requirement already satisfied: tzdata>=2022.1 in /usr/local/lib/python3.10/dist-packages (from pandas>=1.2.4->pymilvus==2.4.0) (2024.1)\n",
            "Requirement already satisfied: numpy>=1.21.0 in /usr/local/lib/python3.10/dist-packages (from pandas>=1.2.4->pymilvus==2.4.0) (1.25.2)\n",
            "Requirement already satisfied: azure-core>=1.28.0 in /usr/local/lib/python3.10/dist-packages (from azure-storage-blob->pymilvus==2.4.0) (1.30.1)\n",
            "Requirement already satisfied: cryptography>=2.1.4 in /usr/local/lib/python3.10/dist-packages (from azure-storage-blob->pymilvus==2.4.0) (42.0.7)\n",
            "Requirement already satisfied: isodate>=0.6.1 in /usr/local/lib/python3.10/dist-packages (from azure-storage-blob->pymilvus==2.4.0) (0.6.1)\n",
            "Requirement already satisfied: charset-normalizer<4,>=2 in /usr/local/lib/python3.10/dist-packages (from requests->pymilvus==2.4.0) (3.3.2)\n",
            "Requirement already satisfied: idna<4,>=2.5 in /usr/local/lib/python3.10/dist-packages (from requests->pymilvus==2.4.0) (3.7)\n",
            "Requirement already satisfied: six>=1.11.0 in /usr/local/lib/python3.10/dist-packages (from azure-core>=1.28.0->azure-storage-blob->pymilvus==2.4.0) (1.16.0)\n",
            "Requirement already satisfied: cffi>=1.12 in /usr/local/lib/python3.10/dist-packages (from cryptography>=2.1.4->azure-storage-blob->pymilvus==2.4.0) (1.16.0)\n",
            "Requirement already satisfied: packaging>=17.0 in /usr/local/lib/python3.10/dist-packages (from marshmallow>=3.0.0->environs<=9.5.0->pymilvus==2.4.0) (23.2)\n",
            "Requirement already satisfied: argon2-cffi-bindings in /usr/local/lib/python3.10/dist-packages (from argon2-cffi->minio>=7.0.0->pymilvus==2.4.0) (21.2.0)\n",
            "Requirement already satisfied: pycparser in /usr/local/lib/python3.10/dist-packages (from cffi>=1.12->cryptography>=2.1.4->azure-storage-blob->pymilvus==2.4.0) (2.22)\n",
            "Requirement already satisfied: sentence-transformers==2.6.1 in /usr/local/lib/python3.10/dist-packages (2.6.1)\n",
            "Requirement already satisfied: transformers<5.0.0,>=4.32.0 in /usr/local/lib/python3.10/dist-packages (from sentence-transformers==2.6.1) (4.41.1)\n",
            "Requirement already satisfied: tqdm in /usr/local/lib/python3.10/dist-packages (from sentence-transformers==2.6.1) (4.66.4)\n",
            "Requirement already satisfied: torch>=1.11.0 in /usr/local/lib/python3.10/dist-packages (from sentence-transformers==2.6.1) (2.3.0+cu121)\n",
            "Requirement already satisfied: numpy in /usr/local/lib/python3.10/dist-packages (from sentence-transformers==2.6.1) (1.25.2)\n",
            "Requirement already satisfied: scikit-learn in /usr/local/lib/python3.10/dist-packages (from sentence-transformers==2.6.1) (1.2.2)\n",
            "Requirement already satisfied: scipy in /usr/local/lib/python3.10/dist-packages (from sentence-transformers==2.6.1) (1.11.4)\n",
            "Requirement already satisfied: huggingface-hub>=0.15.1 in /usr/local/lib/python3.10/dist-packages (from sentence-transformers==2.6.1) (0.23.2)\n",
            "Requirement already satisfied: Pillow in /usr/local/lib/python3.10/dist-packages (from sentence-transformers==2.6.1) (9.4.0)\n",
            "Requirement already satisfied: filelock in /usr/local/lib/python3.10/dist-packages (from huggingface-hub>=0.15.1->sentence-transformers==2.6.1) (3.14.0)\n",
            "Requirement already satisfied: fsspec>=2023.5.0 in /usr/local/lib/python3.10/dist-packages (from huggingface-hub>=0.15.1->sentence-transformers==2.6.1) (2023.6.0)\n",
            "Requirement already satisfied: packaging>=20.9 in /usr/local/lib/python3.10/dist-packages (from huggingface-hub>=0.15.1->sentence-transformers==2.6.1) (23.2)\n",
            "Requirement already satisfied: pyyaml>=5.1 in /usr/local/lib/python3.10/dist-packages (from huggingface-hub>=0.15.1->sentence-transformers==2.6.1) (6.0.1)\n",
            "Requirement already satisfied: requests in /usr/local/lib/python3.10/dist-packages (from huggingface-hub>=0.15.1->sentence-transformers==2.6.1) (2.32.3)\n",
            "Requirement already satisfied: typing-extensions>=3.7.4.3 in /usr/local/lib/python3.10/dist-packages (from huggingface-hub>=0.15.1->sentence-transformers==2.6.1) (4.12.0)\n",
            "Requirement already satisfied: sympy in /usr/local/lib/python3.10/dist-packages (from torch>=1.11.0->sentence-transformers==2.6.1) (1.12.1)\n",
            "Requirement already satisfied: networkx in /usr/local/lib/python3.10/dist-packages (from torch>=1.11.0->sentence-transformers==2.6.1) (3.3)\n",
            "Requirement already satisfied: jinja2 in /usr/local/lib/python3.10/dist-packages (from torch>=1.11.0->sentence-transformers==2.6.1) (3.1.4)\n",
            "Requirement already satisfied: nvidia-cuda-nvrtc-cu12==12.1.105 in /usr/local/lib/python3.10/dist-packages (from torch>=1.11.0->sentence-transformers==2.6.1) (12.1.105)\n",
            "Requirement already satisfied: nvidia-cuda-runtime-cu12==12.1.105 in /usr/local/lib/python3.10/dist-packages (from torch>=1.11.0->sentence-transformers==2.6.1) (12.1.105)\n",
            "Requirement already satisfied: nvidia-cuda-cupti-cu12==12.1.105 in /usr/local/lib/python3.10/dist-packages (from torch>=1.11.0->sentence-transformers==2.6.1) (12.1.105)\n",
            "Requirement already satisfied: nvidia-cudnn-cu12==8.9.2.26 in /usr/local/lib/python3.10/dist-packages (from torch>=1.11.0->sentence-transformers==2.6.1) (8.9.2.26)\n",
            "Requirement already satisfied: nvidia-cublas-cu12==12.1.3.1 in /usr/local/lib/python3.10/dist-packages (from torch>=1.11.0->sentence-transformers==2.6.1) (12.1.3.1)\n",
            "Requirement already satisfied: nvidia-cufft-cu12==11.0.2.54 in /usr/local/lib/python3.10/dist-packages (from torch>=1.11.0->sentence-transformers==2.6.1) (11.0.2.54)\n",
            "Requirement already satisfied: nvidia-curand-cu12==10.3.2.106 in /usr/local/lib/python3.10/dist-packages (from torch>=1.11.0->sentence-transformers==2.6.1) (10.3.2.106)\n",
            "Requirement already satisfied: nvidia-cusolver-cu12==11.4.5.107 in /usr/local/lib/python3.10/dist-packages (from torch>=1.11.0->sentence-transformers==2.6.1) (11.4.5.107)\n",
            "Requirement already satisfied: nvidia-cusparse-cu12==12.1.0.106 in /usr/local/lib/python3.10/dist-packages (from torch>=1.11.0->sentence-transformers==2.6.1) (12.1.0.106)\n",
            "Requirement already satisfied: nvidia-nccl-cu12==2.20.5 in /usr/local/lib/python3.10/dist-packages (from torch>=1.11.0->sentence-transformers==2.6.1) (2.20.5)\n",
            "Requirement already satisfied: nvidia-nvtx-cu12==12.1.105 in /usr/local/lib/python3.10/dist-packages (from torch>=1.11.0->sentence-transformers==2.6.1) (12.1.105)\n",
            "Requirement already satisfied: triton==2.3.0 in /usr/local/lib/python3.10/dist-packages (from torch>=1.11.0->sentence-transformers==2.6.1) (2.3.0)\n",
            "Requirement already satisfied: nvidia-nvjitlink-cu12 in /usr/local/lib/python3.10/dist-packages (from nvidia-cusolver-cu12==11.4.5.107->torch>=1.11.0->sentence-transformers==2.6.1) (12.5.40)\n",
            "Requirement already satisfied: regex!=2019.12.17 in /usr/local/lib/python3.10/dist-packages (from transformers<5.0.0,>=4.32.0->sentence-transformers==2.6.1) (2024.5.15)\n",
            "Requirement already satisfied: tokenizers<0.20,>=0.19 in /usr/local/lib/python3.10/dist-packages (from transformers<5.0.0,>=4.32.0->sentence-transformers==2.6.1) (0.19.1)\n",
            "Requirement already satisfied: safetensors>=0.4.1 in /usr/local/lib/python3.10/dist-packages (from transformers<5.0.0,>=4.32.0->sentence-transformers==2.6.1) (0.4.3)\n",
            "Requirement already satisfied: joblib>=1.1.1 in /usr/local/lib/python3.10/dist-packages (from scikit-learn->sentence-transformers==2.6.1) (1.4.2)\n",
            "Requirement already satisfied: threadpoolctl>=2.0.0 in /usr/local/lib/python3.10/dist-packages (from scikit-learn->sentence-transformers==2.6.1) (3.5.0)\n",
            "Requirement already satisfied: MarkupSafe>=2.0 in /usr/local/lib/python3.10/dist-packages (from jinja2->torch>=1.11.0->sentence-transformers==2.6.1) (2.1.5)\n",
            "Requirement already satisfied: charset-normalizer<4,>=2 in /usr/local/lib/python3.10/dist-packages (from requests->huggingface-hub>=0.15.1->sentence-transformers==2.6.1) (3.3.2)\n",
            "Requirement already satisfied: idna<4,>=2.5 in /usr/local/lib/python3.10/dist-packages (from requests->huggingface-hub>=0.15.1->sentence-transformers==2.6.1) (3.7)\n",
            "Requirement already satisfied: urllib3<3,>=1.21.1 in /usr/local/lib/python3.10/dist-packages (from requests->huggingface-hub>=0.15.1->sentence-transformers==2.6.1) (2.0.7)\n",
            "Requirement already satisfied: certifi>=2017.4.17 in /usr/local/lib/python3.10/dist-packages (from requests->huggingface-hub>=0.15.1->sentence-transformers==2.6.1) (2024.2.2)\n",
            "Requirement already satisfied: mpmath<1.4.0,>=1.1.0 in /usr/local/lib/python3.10/dist-packages (from sympy->torch>=1.11.0->sentence-transformers==2.6.1) (1.3.0)\n"
          ]
        }
      ],
      "source": [
        "!pip install langchain==0.1.15\n",
        "!pip install pymilvus==2.4.0\n",
        "!pip install sentence-transformers==2.6.1"
      ]
    },
    {
      "cell_type": "code",
      "execution_count": 5,
      "metadata": {
        "colab": {
          "base_uri": "https://localhost:8080/"
        },
        "id": "UGZm2XGqBOTI",
        "outputId": "be95989e-830a-4dd1-9c74-ee5d8760e9a5"
      },
      "outputs": [
        {
          "name": "stdout",
          "output_type": "stream",
          "text": [
            "Collecting grpcio==1.56.0\n",
            "  Downloading grpcio-1.56.0-cp310-cp310-manylinux_2_17_x86_64.manylinux2014_x86_64.whl (5.2 MB)\n",
            "\u001b[?25l     \u001b[90m━━━━━━━━━━━━━━━━━━━━━━━━━━━━━━━━━━━━━━━━\u001b[0m \u001b[32m0.0/5.2 MB\u001b[0m \u001b[31m?\u001b[0m eta \u001b[36m-:--:--\u001b[0m\r\u001b[2K     \u001b[91m━━━━━━━━━━━━\u001b[0m\u001b[91m╸\u001b[0m\u001b[90m━━━━━━━━━━━━━━━━━━━━━━━━━━━\u001b[0m \u001b[32m1.6/5.2 MB\u001b[0m \u001b[31m49.4 MB/s\u001b[0m eta \u001b[36m0:00:01\u001b[0m\r\u001b[2K     \u001b[91m━━━━━━━━━━━━━━━━━━━━━━━━━━━━━━━━━\u001b[0m\u001b[90m╺\u001b[0m\u001b[90m━━━━━━\u001b[0m \u001b[32m4.3/5.2 MB\u001b[0m \u001b[31m62.5 MB/s\u001b[0m eta \u001b[36m0:00:01\u001b[0m\r\u001b[2K     \u001b[91m━━━━━━━━━━━━━━━━━━━━━━━━━━━━━━━━━━━━━━━\u001b[0m\u001b[91m╸\u001b[0m \u001b[32m5.2/5.2 MB\u001b[0m \u001b[31m70.0 MB/s\u001b[0m eta \u001b[36m0:00:01\u001b[0m\r\u001b[2K     \u001b[90m━━━━━━━━━━━━━━━━━━━━━━━━━━━━━━━━━━━━━━━━\u001b[0m \u001b[32m5.2/5.2 MB\u001b[0m \u001b[31m47.9 MB/s\u001b[0m eta \u001b[36m0:00:00\u001b[0m\n",
            "\u001b[?25hInstalling collected packages: grpcio\n",
            "  Attempting uninstall: grpcio\n",
            "    Found existing installation: grpcio 1.60.0\n",
            "    Uninstalling grpcio-1.60.0:\n",
            "      Successfully uninstalled grpcio-1.60.0\n",
            "Successfully installed grpcio-1.56.0\n"
          ]
        }
      ],
      "source": [
        "!pip install grpcio==1.56.0 #RUNTIME NEEDS RESTART"
      ]
    },
    {
      "cell_type": "code",
      "execution_count": 6,
      "metadata": {
        "colab": {
          "base_uri": "https://localhost:8080/"
        },
        "id": "UC9x1TssLRub",
        "outputId": "dfc6e933-9392-480c-ce44-a291fdba964c"
      },
      "outputs": [
        {
          "name": "stdout",
          "output_type": "stream",
          "text": [
            "Collecting ragatouille\n",
            "  Downloading ragatouille-0.0.8.post2-py3-none-any.whl (41 kB)\n",
            "\u001b[2K     \u001b[90m━━━━━━━━━━━━━━━━━━━━━━━━━━━━━━━━━━━━━━━━\u001b[0m \u001b[32m41.8/41.8 kB\u001b[0m \u001b[31m2.0 MB/s\u001b[0m eta \u001b[36m0:00:00\u001b[0m\n",
            "\u001b[?25hCollecting colbert-ai==0.2.19 (from ragatouille)\n",
            "  Downloading colbert-ai-0.2.19.tar.gz (86 kB)\n",
            "\u001b[2K     \u001b[90m━━━━━━━━━━━━━━━━━━━━━━━━━━━━━━━━━━━━━━━━\u001b[0m \u001b[32m86.7/86.7 kB\u001b[0m \u001b[31m5.8 MB/s\u001b[0m eta \u001b[36m0:00:00\u001b[0m\n",
            "\u001b[?25h  Preparing metadata (setup.py) ... \u001b[?25l\u001b[?25hdone\n",
            "Collecting faiss-cpu<2.0.0,>=1.7.4 (from ragatouille)\n",
            "  Downloading faiss_cpu-1.8.0-cp310-cp310-manylinux_2_17_x86_64.manylinux2014_x86_64.whl (27.0 MB)\n",
            "\u001b[2K     \u001b[90m━━━━━━━━━━━━━━━━━━━━━━━━━━━━━━━━━━━━━━━━\u001b[0m \u001b[32m27.0/27.0 MB\u001b[0m \u001b[31m36.1 MB/s\u001b[0m eta \u001b[36m0:00:00\u001b[0m\n",
            "\u001b[?25hCollecting fast-pytorch-kmeans==0.2.0.1 (from ragatouille)\n",
            "  Downloading fast_pytorch_kmeans-0.2.0.1-py3-none-any.whl (8.8 kB)\n",
            "Requirement already satisfied: langchain<0.2.0,>=0.1.0 in /usr/local/lib/python3.10/dist-packages (from ragatouille) (0.1.15)\n",
            "Requirement already satisfied: langchain_core<0.2.0,>=0.1.4 in /usr/local/lib/python3.10/dist-packages (from ragatouille) (0.1.52)\n",
            "Collecting llama-index>=0.7 (from ragatouille)\n",
            "  Downloading llama_index-0.10.43-py3-none-any.whl (6.8 kB)\n",
            "Collecting onnx<2.0.0,>=1.15.0 (from ragatouille)\n",
            "  Downloading onnx-1.16.1-cp310-cp310-manylinux_2_17_x86_64.manylinux2014_x86_64.whl (15.9 MB)\n",
            "\u001b[2K     \u001b[90m━━━━━━━━━━━━━━━━━━━━━━━━━━━━━━━━━━━━━━━━\u001b[0m \u001b[32m15.9/15.9 MB\u001b[0m \u001b[31m57.9 MB/s\u001b[0m eta \u001b[36m0:00:00\u001b[0m\n",
            "\u001b[?25hRequirement already satisfied: sentence-transformers<3.0.0,>=2.2.2 in /usr/local/lib/python3.10/dist-packages (from ragatouille) (2.6.1)\n",
            "Requirement already satisfied: srsly==2.4.8 in /usr/local/lib/python3.10/dist-packages (from ragatouille) (2.4.8)\n",
            "Requirement already satisfied: torch>=1.13 in /usr/local/lib/python3.10/dist-packages (from ragatouille) (2.3.0+cu121)\n",
            "Requirement already satisfied: transformers<5.0.0,>=4.36.2 in /usr/local/lib/python3.10/dist-packages (from ragatouille) (4.41.1)\n",
            "Collecting voyager<3.0.0,>=2.0.2 (from ragatouille)\n",
            "  Downloading voyager-2.0.6-cp310-cp310-manylinux_2_17_x86_64.manylinux2014_x86_64.whl (4.2 MB)\n",
            "\u001b[2K     \u001b[90m━━━━━━━━━━━━━━━━━━━━━━━━━━━━━━━━━━━━━━━━\u001b[0m \u001b[32m4.2/4.2 MB\u001b[0m \u001b[31m85.6 MB/s\u001b[0m eta \u001b[36m0:00:00\u001b[0m\n",
            "\u001b[?25hCollecting bitarray (from colbert-ai==0.2.19->ragatouille)\n",
            "  Downloading bitarray-2.9.2-cp310-cp310-manylinux_2_17_x86_64.manylinux2014_x86_64.whl (288 kB)\n",
            "\u001b[2K     \u001b[90m━━━━━━━━━━━━━━━━━━━━━━━━━━━━━━━━━━━━━━━━\u001b[0m \u001b[32m288.3/288.3 kB\u001b[0m \u001b[31m2.6 MB/s\u001b[0m eta \u001b[36m0:00:00\u001b[0m\n",
            "\u001b[?25hCollecting datasets (from colbert-ai==0.2.19->ragatouille)\n",
            "  Downloading datasets-2.19.2-py3-none-any.whl (542 kB)\n",
            "\u001b[2K     \u001b[90m━━━━━━━━━━━━━━━━━━━━━━━━━━━━━━━━━━━━━━━━\u001b[0m \u001b[32m542.1/542.1 kB\u001b[0m \u001b[31m52.1 MB/s\u001b[0m eta \u001b[36m0:00:00\u001b[0m\n",
            "\u001b[?25hRequirement already satisfied: flask in /usr/local/lib/python3.10/dist-packages (from colbert-ai==0.2.19->ragatouille) (2.2.5)\n",
            "Collecting git-python (from colbert-ai==0.2.19->ragatouille)\n",
            "  Downloading git_python-1.0.3-py2.py3-none-any.whl (1.9 kB)\n",
            "Requirement already satisfied: python-dotenv in /usr/local/lib/python3.10/dist-packages (from colbert-ai==0.2.19->ragatouille) (1.0.1)\n",
            "Collecting ninja (from colbert-ai==0.2.19->ragatouille)\n",
            "  Downloading ninja-1.11.1.1-py2.py3-none-manylinux1_x86_64.manylinux_2_5_x86_64.whl (307 kB)\n",
            "\u001b[2K     \u001b[90m━━━━━━━━━━━━━━━━━━━━━━━━━━━━━━━━━━━━━━━━\u001b[0m \u001b[32m307.2/307.2 kB\u001b[0m \u001b[31m38.6 MB/s\u001b[0m eta \u001b[36m0:00:00\u001b[0m\n",
            "\u001b[?25hRequirement already satisfied: scipy in /usr/local/lib/python3.10/dist-packages (from colbert-ai==0.2.19->ragatouille) (1.11.4)\n",
            "Requirement already satisfied: tqdm in /usr/local/lib/python3.10/dist-packages (from colbert-ai==0.2.19->ragatouille) (4.66.4)\n",
            "Requirement already satisfied: ujson in /usr/local/lib/python3.10/dist-packages (from colbert-ai==0.2.19->ragatouille) (5.10.0)\n",
            "Requirement already satisfied: numpy in /usr/local/lib/python3.10/dist-packages (from fast-pytorch-kmeans==0.2.0.1->ragatouille) (1.25.2)\n",
            "Collecting pynvml (from fast-pytorch-kmeans==0.2.0.1->ragatouille)\n",
            "  Downloading pynvml-11.5.0-py3-none-any.whl (53 kB)\n",
            "\u001b[2K     \u001b[90m━━━━━━━━━━━━━━━━━━━━━━━━━━━━━━━━━━━━━━━━\u001b[0m \u001b[32m53.1/53.1 kB\u001b[0m \u001b[31m7.7 MB/s\u001b[0m eta \u001b[36m0:00:00\u001b[0m\n",
            "\u001b[?25hRequirement already satisfied: catalogue<2.1.0,>=2.0.3 in /usr/local/lib/python3.10/dist-packages (from srsly==2.4.8->ragatouille) (2.0.10)\n",
            "Requirement already satisfied: PyYAML>=5.3 in /usr/local/lib/python3.10/dist-packages (from langchain<0.2.0,>=0.1.0->ragatouille) (6.0.1)\n",
            "Requirement already satisfied: SQLAlchemy<3,>=1.4 in /usr/local/lib/python3.10/dist-packages (from langchain<0.2.0,>=0.1.0->ragatouille) (2.0.30)\n",
            "Requirement already satisfied: aiohttp<4.0.0,>=3.8.3 in /usr/local/lib/python3.10/dist-packages (from langchain<0.2.0,>=0.1.0->ragatouille) (3.9.5)\n",
            "Requirement already satisfied: async-timeout<5.0.0,>=4.0.0 in /usr/local/lib/python3.10/dist-packages (from langchain<0.2.0,>=0.1.0->ragatouille) (4.0.3)\n",
            "Requirement already satisfied: dataclasses-json<0.7,>=0.5.7 in /usr/local/lib/python3.10/dist-packages (from langchain<0.2.0,>=0.1.0->ragatouille) (0.6.6)\n",
            "Requirement already satisfied: jsonpatch<2.0,>=1.33 in /usr/local/lib/python3.10/dist-packages (from langchain<0.2.0,>=0.1.0->ragatouille) (1.33)\n",
            "Requirement already satisfied: langchain-community<0.1,>=0.0.32 in /usr/local/lib/python3.10/dist-packages (from langchain<0.2.0,>=0.1.0->ragatouille) (0.0.38)\n",
            "Requirement already satisfied: langchain-text-splitters<0.1,>=0.0.1 in /usr/local/lib/python3.10/dist-packages (from langchain<0.2.0,>=0.1.0->ragatouille) (0.0.2)\n",
            "Requirement already satisfied: langsmith<0.2.0,>=0.1.17 in /usr/local/lib/python3.10/dist-packages (from langchain<0.2.0,>=0.1.0->ragatouille) (0.1.71)\n",
            "Requirement already satisfied: pydantic<3,>=1 in /usr/local/lib/python3.10/dist-packages (from langchain<0.2.0,>=0.1.0->ragatouille) (2.7.2)\n",
            "Requirement already satisfied: requests<3,>=2 in /usr/local/lib/python3.10/dist-packages (from langchain<0.2.0,>=0.1.0->ragatouille) (2.31.0)\n",
            "Requirement already satisfied: tenacity<9.0.0,>=8.1.0 in /usr/local/lib/python3.10/dist-packages (from langchain<0.2.0,>=0.1.0->ragatouille) (8.3.0)\n",
            "Requirement already satisfied: packaging<24.0,>=23.2 in /usr/local/lib/python3.10/dist-packages (from langchain_core<0.2.0,>=0.1.4->ragatouille) (23.2)\n",
            "Collecting llama-index-agent-openai<0.3.0,>=0.1.4 (from llama-index>=0.7->ragatouille)\n",
            "  Downloading llama_index_agent_openai-0.2.7-py3-none-any.whl (12 kB)\n",
            "Collecting llama-index-cli<0.2.0,>=0.1.2 (from llama-index>=0.7->ragatouille)\n",
            "  Downloading llama_index_cli-0.1.12-py3-none-any.whl (26 kB)\n",
            "Collecting llama-index-core==0.10.43 (from llama-index>=0.7->ragatouille)\n",
            "  Downloading llama_index_core-0.10.43-py3-none-any.whl (15.4 MB)\n",
            "\u001b[2K     \u001b[90m━━━━━━━━━━━━━━━━━━━━━━━━━━━━━━━━━━━━━━━━\u001b[0m \u001b[32m15.4/15.4 MB\u001b[0m \u001b[31m67.9 MB/s\u001b[0m eta \u001b[36m0:00:00\u001b[0m\n",
            "\u001b[?25hCollecting llama-index-embeddings-openai<0.2.0,>=0.1.5 (from llama-index>=0.7->ragatouille)\n",
            "  Downloading llama_index_embeddings_openai-0.1.10-py3-none-any.whl (6.2 kB)\n",
            "Collecting llama-index-indices-managed-llama-cloud<0.2.0,>=0.1.2 (from llama-index>=0.7->ragatouille)\n",
            "  Downloading llama_index_indices_managed_llama_cloud-0.1.6-py3-none-any.whl (6.7 kB)\n",
            "Collecting llama-index-legacy<0.10.0,>=0.9.48 (from llama-index>=0.7->ragatouille)\n",
            "  Downloading llama_index_legacy-0.9.48-py3-none-any.whl (2.0 MB)\n",
            "\u001b[2K     \u001b[90m━━━━━━━━━━━━━━━━━━━━━━━━━━━━━━━━━━━━━━━━\u001b[0m \u001b[32m2.0/2.0 MB\u001b[0m \u001b[31m76.7 MB/s\u001b[0m eta \u001b[36m0:00:00\u001b[0m\n",
            "\u001b[?25hCollecting llama-index-llms-openai<0.2.0,>=0.1.13 (from llama-index>=0.7->ragatouille)\n",
            "  Downloading llama_index_llms_openai-0.1.22-py3-none-any.whl (11 kB)\n",
            "Collecting llama-index-multi-modal-llms-openai<0.2.0,>=0.1.3 (from llama-index>=0.7->ragatouille)\n",
            "  Downloading llama_index_multi_modal_llms_openai-0.1.6-py3-none-any.whl (5.8 kB)\n",
            "Collecting llama-index-program-openai<0.2.0,>=0.1.3 (from llama-index>=0.7->ragatouille)\n",
            "  Downloading llama_index_program_openai-0.1.6-py3-none-any.whl (5.2 kB)\n",
            "Collecting llama-index-question-gen-openai<0.2.0,>=0.1.2 (from llama-index>=0.7->ragatouille)\n",
            "  Downloading llama_index_question_gen_openai-0.1.3-py3-none-any.whl (2.9 kB)\n",
            "Collecting llama-index-readers-file<0.2.0,>=0.1.4 (from llama-index>=0.7->ragatouille)\n",
            "  Downloading llama_index_readers_file-0.1.23-py3-none-any.whl (36 kB)\n",
            "Collecting llama-index-readers-llama-parse<0.2.0,>=0.1.2 (from llama-index>=0.7->ragatouille)\n",
            "  Downloading llama_index_readers_llama_parse-0.1.4-py3-none-any.whl (2.5 kB)\n",
            "Collecting deprecated>=1.2.9.3 (from llama-index-core==0.10.43->llama-index>=0.7->ragatouille)\n",
            "  Downloading Deprecated-1.2.14-py2.py3-none-any.whl (9.6 kB)\n",
            "Collecting dirtyjson<2.0.0,>=1.0.8 (from llama-index-core==0.10.43->llama-index>=0.7->ragatouille)\n",
            "  Downloading dirtyjson-1.0.8-py3-none-any.whl (25 kB)\n",
            "Requirement already satisfied: fsspec>=2023.5.0 in /usr/local/lib/python3.10/dist-packages (from llama-index-core==0.10.43->llama-index>=0.7->ragatouille) (2023.6.0)\n",
            "Collecting httpx (from llama-index-core==0.10.43->llama-index>=0.7->ragatouille)\n",
            "  Downloading httpx-0.27.0-py3-none-any.whl (75 kB)\n",
            "\u001b[2K     \u001b[90m━━━━━━━━━━━━━━━━━━━━━━━━━━━━━━━━━━━━━━━━\u001b[0m \u001b[32m75.6/75.6 kB\u001b[0m \u001b[31m11.8 MB/s\u001b[0m eta \u001b[36m0:00:00\u001b[0m\n",
            "\u001b[?25hCollecting llamaindex-py-client<0.2.0,>=0.1.18 (from llama-index-core==0.10.43->llama-index>=0.7->ragatouille)\n",
            "  Downloading llamaindex_py_client-0.1.19-py3-none-any.whl (141 kB)\n",
            "\u001b[2K     \u001b[90m━━━━━━━━━━━━━━━━━━━━━━━━━━━━━━━━━━━━━━━━\u001b[0m \u001b[32m141.9/141.9 kB\u001b[0m \u001b[31m22.5 MB/s\u001b[0m eta \u001b[36m0:00:00\u001b[0m\n",
            "\u001b[?25hRequirement already satisfied: nest-asyncio<2.0.0,>=1.5.8 in /usr/local/lib/python3.10/dist-packages (from llama-index-core==0.10.43->llama-index>=0.7->ragatouille) (1.6.0)\n",
            "Requirement already satisfied: networkx>=3.0 in /usr/local/lib/python3.10/dist-packages (from llama-index-core==0.10.43->llama-index>=0.7->ragatouille) (3.3)\n",
            "Requirement already satisfied: nltk<4.0.0,>=3.8.1 in /usr/local/lib/python3.10/dist-packages (from llama-index-core==0.10.43->llama-index>=0.7->ragatouille) (3.8.1)\n",
            "Collecting openai>=1.1.0 (from llama-index-core==0.10.43->llama-index>=0.7->ragatouille)\n",
            "  Downloading openai-1.31.0-py3-none-any.whl (324 kB)\n",
            "\u001b[2K     \u001b[90m━━━━━━━━━━━━━━━━━━━━━━━━━━━━━━━━━━━━━━━━\u001b[0m \u001b[32m324.1/324.1 kB\u001b[0m \u001b[31m37.9 MB/s\u001b[0m eta \u001b[36m0:00:00\u001b[0m\n",
            "\u001b[?25hRequirement already satisfied: pandas in /usr/local/lib/python3.10/dist-packages (from llama-index-core==0.10.43->llama-index>=0.7->ragatouille) (2.0.3)\n",
            "Requirement already satisfied: pillow>=9.0.0 in /usr/local/lib/python3.10/dist-packages (from llama-index-core==0.10.43->llama-index>=0.7->ragatouille) (9.4.0)\n",
            "Collecting tiktoken>=0.3.3 (from llama-index-core==0.10.43->llama-index>=0.7->ragatouille)\n",
            "  Downloading tiktoken-0.7.0-cp310-cp310-manylinux_2_17_x86_64.manylinux2014_x86_64.whl (1.1 MB)\n",
            "\u001b[2K     \u001b[90m━━━━━━━━━━━━━━━━━━━━━━━━━━━━━━━━━━━━━━━━\u001b[0m \u001b[32m1.1/1.1 MB\u001b[0m \u001b[31m63.6 MB/s\u001b[0m eta \u001b[36m0:00:00\u001b[0m\n",
            "\u001b[?25hRequirement already satisfied: typing-extensions>=4.5.0 in /usr/local/lib/python3.10/dist-packages (from llama-index-core==0.10.43->llama-index>=0.7->ragatouille) (4.12.0)\n",
            "Requirement already satisfied: typing-inspect>=0.8.0 in /usr/local/lib/python3.10/dist-packages (from llama-index-core==0.10.43->llama-index>=0.7->ragatouille) (0.9.0)\n",
            "Requirement already satisfied: wrapt in /usr/local/lib/python3.10/dist-packages (from llama-index-core==0.10.43->llama-index>=0.7->ragatouille) (1.14.1)\n",
            "Requirement already satisfied: protobuf>=3.20.2 in /usr/local/lib/python3.10/dist-packages (from onnx<2.0.0,>=1.15.0->ragatouille) (3.20.3)\n",
            "Requirement already satisfied: scikit-learn in /usr/local/lib/python3.10/dist-packages (from sentence-transformers<3.0.0,>=2.2.2->ragatouille) (1.2.2)\n",
            "Requirement already satisfied: huggingface-hub>=0.15.1 in /usr/local/lib/python3.10/dist-packages (from sentence-transformers<3.0.0,>=2.2.2->ragatouille) (0.23.2)\n",
            "Requirement already satisfied: filelock in /usr/local/lib/python3.10/dist-packages (from torch>=1.13->ragatouille) (3.14.0)\n",
            "Requirement already satisfied: sympy in /usr/local/lib/python3.10/dist-packages (from torch>=1.13->ragatouille) (1.12.1)\n",
            "Requirement already satisfied: jinja2 in /usr/local/lib/python3.10/dist-packages (from torch>=1.13->ragatouille) (3.1.4)\n",
            "Requirement already satisfied: nvidia-cuda-nvrtc-cu12==12.1.105 in /usr/local/lib/python3.10/dist-packages (from torch>=1.13->ragatouille) (12.1.105)\n",
            "Requirement already satisfied: nvidia-cuda-runtime-cu12==12.1.105 in /usr/local/lib/python3.10/dist-packages (from torch>=1.13->ragatouille) (12.1.105)\n",
            "Requirement already satisfied: nvidia-cuda-cupti-cu12==12.1.105 in /usr/local/lib/python3.10/dist-packages (from torch>=1.13->ragatouille) (12.1.105)\n",
            "Requirement already satisfied: nvidia-cudnn-cu12==8.9.2.26 in /usr/local/lib/python3.10/dist-packages (from torch>=1.13->ragatouille) (8.9.2.26)\n",
            "Requirement already satisfied: nvidia-cublas-cu12==12.1.3.1 in /usr/local/lib/python3.10/dist-packages (from torch>=1.13->ragatouille) (12.1.3.1)\n",
            "Requirement already satisfied: nvidia-cufft-cu12==11.0.2.54 in /usr/local/lib/python3.10/dist-packages (from torch>=1.13->ragatouille) (11.0.2.54)\n",
            "Requirement already satisfied: nvidia-curand-cu12==10.3.2.106 in /usr/local/lib/python3.10/dist-packages (from torch>=1.13->ragatouille) (10.3.2.106)\n",
            "Requirement already satisfied: nvidia-cusolver-cu12==11.4.5.107 in /usr/local/lib/python3.10/dist-packages (from torch>=1.13->ragatouille) (11.4.5.107)\n",
            "Requirement already satisfied: nvidia-cusparse-cu12==12.1.0.106 in /usr/local/lib/python3.10/dist-packages (from torch>=1.13->ragatouille) (12.1.0.106)\n",
            "Requirement already satisfied: nvidia-nccl-cu12==2.20.5 in /usr/local/lib/python3.10/dist-packages (from torch>=1.13->ragatouille) (2.20.5)\n",
            "Requirement already satisfied: nvidia-nvtx-cu12==12.1.105 in /usr/local/lib/python3.10/dist-packages (from torch>=1.13->ragatouille) (12.1.105)\n",
            "Requirement already satisfied: triton==2.3.0 in /usr/local/lib/python3.10/dist-packages (from torch>=1.13->ragatouille) (2.3.0)\n",
            "Requirement already satisfied: nvidia-nvjitlink-cu12 in /usr/local/lib/python3.10/dist-packages (from nvidia-cusolver-cu12==11.4.5.107->torch>=1.13->ragatouille) (12.5.40)\n",
            "Requirement already satisfied: regex!=2019.12.17 in /usr/local/lib/python3.10/dist-packages (from transformers<5.0.0,>=4.36.2->ragatouille) (2024.5.15)\n",
            "Requirement already satisfied: tokenizers<0.20,>=0.19 in /usr/local/lib/python3.10/dist-packages (from transformers<5.0.0,>=4.36.2->ragatouille) (0.19.1)\n",
            "Requirement already satisfied: safetensors>=0.4.1 in /usr/local/lib/python3.10/dist-packages (from transformers<5.0.0,>=4.36.2->ragatouille) (0.4.3)\n",
            "Requirement already satisfied: aiosignal>=1.1.2 in /usr/local/lib/python3.10/dist-packages (from aiohttp<4.0.0,>=3.8.3->langchain<0.2.0,>=0.1.0->ragatouille) (1.3.1)\n",
            "Requirement already satisfied: attrs>=17.3.0 in /usr/local/lib/python3.10/dist-packages (from aiohttp<4.0.0,>=3.8.3->langchain<0.2.0,>=0.1.0->ragatouille) (23.2.0)\n",
            "Requirement already satisfied: frozenlist>=1.1.1 in /usr/local/lib/python3.10/dist-packages (from aiohttp<4.0.0,>=3.8.3->langchain<0.2.0,>=0.1.0->ragatouille) (1.4.1)\n",
            "Requirement already satisfied: multidict<7.0,>=4.5 in /usr/local/lib/python3.10/dist-packages (from aiohttp<4.0.0,>=3.8.3->langchain<0.2.0,>=0.1.0->ragatouille) (6.0.5)\n",
            "Requirement already satisfied: yarl<2.0,>=1.0 in /usr/local/lib/python3.10/dist-packages (from aiohttp<4.0.0,>=3.8.3->langchain<0.2.0,>=0.1.0->ragatouille) (1.9.4)\n",
            "Requirement already satisfied: marshmallow<4.0.0,>=3.18.0 in /usr/local/lib/python3.10/dist-packages (from dataclasses-json<0.7,>=0.5.7->langchain<0.2.0,>=0.1.0->ragatouille) (3.21.2)\n",
            "Requirement already satisfied: jsonpointer>=1.9 in /usr/local/lib/python3.10/dist-packages (from jsonpatch<2.0,>=1.33->langchain<0.2.0,>=0.1.0->ragatouille) (2.4)\n",
            "Requirement already satisfied: orjson<4.0.0,>=3.9.14 in /usr/local/lib/python3.10/dist-packages (from langsmith<0.2.0,>=0.1.17->langchain<0.2.0,>=0.1.0->ragatouille) (3.10.3)\n",
            "Requirement already satisfied: beautifulsoup4<5.0.0,>=4.12.3 in /usr/local/lib/python3.10/dist-packages (from llama-index-readers-file<0.2.0,>=0.1.4->llama-index>=0.7->ragatouille) (4.12.3)\n",
            "Collecting pypdf<5.0.0,>=4.0.1 (from llama-index-readers-file<0.2.0,>=0.1.4->llama-index>=0.7->ragatouille)\n",
            "  Downloading pypdf-4.2.0-py3-none-any.whl (290 kB)\n",
            "\u001b[2K     \u001b[90m━━━━━━━━━━━━━━━━━━━━━━━━━━━━━━━━━━━━━━━━\u001b[0m \u001b[32m290.4/290.4 kB\u001b[0m \u001b[31m35.6 MB/s\u001b[0m eta \u001b[36m0:00:00\u001b[0m\n",
            "\u001b[?25hCollecting striprtf<0.0.27,>=0.0.26 (from llama-index-readers-file<0.2.0,>=0.1.4->llama-index>=0.7->ragatouille)\n",
            "  Downloading striprtf-0.0.26-py3-none-any.whl (6.9 kB)\n",
            "Collecting llama-parse<0.5.0,>=0.4.0 (from llama-index-readers-llama-parse<0.2.0,>=0.1.2->llama-index>=0.7->ragatouille)\n",
            "  Downloading llama_parse-0.4.4-py3-none-any.whl (8.0 kB)\n",
            "Requirement already satisfied: annotated-types>=0.4.0 in /usr/local/lib/python3.10/dist-packages (from pydantic<3,>=1->langchain<0.2.0,>=0.1.0->ragatouille) (0.7.0)\n",
            "Requirement already satisfied: pydantic-core==2.18.3 in /usr/local/lib/python3.10/dist-packages (from pydantic<3,>=1->langchain<0.2.0,>=0.1.0->ragatouille) (2.18.3)\n",
            "Requirement already satisfied: charset-normalizer<4,>=2 in /usr/local/lib/python3.10/dist-packages (from requests<3,>=2->langchain<0.2.0,>=0.1.0->ragatouille) (3.3.2)\n",
            "Requirement already satisfied: idna<4,>=2.5 in /usr/local/lib/python3.10/dist-packages (from requests<3,>=2->langchain<0.2.0,>=0.1.0->ragatouille) (3.7)\n",
            "Requirement already satisfied: urllib3<3,>=1.21.1 in /usr/local/lib/python3.10/dist-packages (from requests<3,>=2->langchain<0.2.0,>=0.1.0->ragatouille) (2.0.7)\n",
            "Requirement already satisfied: certifi>=2017.4.17 in /usr/local/lib/python3.10/dist-packages (from requests<3,>=2->langchain<0.2.0,>=0.1.0->ragatouille) (2024.2.2)\n",
            "Requirement already satisfied: greenlet!=0.4.17 in /usr/local/lib/python3.10/dist-packages (from SQLAlchemy<3,>=1.4->langchain<0.2.0,>=0.1.0->ragatouille) (3.0.3)\n",
            "Requirement already satisfied: pyarrow>=12.0.0 in /usr/local/lib/python3.10/dist-packages (from datasets->colbert-ai==0.2.19->ragatouille) (14.0.2)\n",
            "Requirement already satisfied: pyarrow-hotfix in /usr/local/lib/python3.10/dist-packages (from datasets->colbert-ai==0.2.19->ragatouille) (0.6)\n",
            "Collecting dill<0.3.9,>=0.3.0 (from datasets->colbert-ai==0.2.19->ragatouille)\n",
            "  Downloading dill-0.3.8-py3-none-any.whl (116 kB)\n",
            "\u001b[2K     \u001b[90m━━━━━━━━━━━━━━━━━━━━━━━━━━━━━━━━━━━━━━━━\u001b[0m \u001b[32m116.3/116.3 kB\u001b[0m \u001b[31m13.5 MB/s\u001b[0m eta \u001b[36m0:00:00\u001b[0m\n",
            "\u001b[?25hCollecting requests<3,>=2 (from langchain<0.2.0,>=0.1.0->ragatouille)\n",
            "  Downloading requests-2.32.3-py3-none-any.whl (64 kB)\n",
            "\u001b[2K     \u001b[90m━━━━━━━━━━━━━━━━━━━━━━━━━━━━━━━━━━━━━━━━\u001b[0m \u001b[32m64.9/64.9 kB\u001b[0m \u001b[31m8.8 MB/s\u001b[0m eta \u001b[36m0:00:00\u001b[0m\n",
            "\u001b[?25hCollecting xxhash (from datasets->colbert-ai==0.2.19->ragatouille)\n",
            "  Downloading xxhash-3.4.1-cp310-cp310-manylinux_2_17_x86_64.manylinux2014_x86_64.whl (194 kB)\n",
            "\u001b[2K     \u001b[90m━━━━━━━━━━━━━━━━━━━━━━━━━━━━━━━━━━━━━━━━\u001b[0m \u001b[32m194.1/194.1 kB\u001b[0m \u001b[31m25.7 MB/s\u001b[0m eta \u001b[36m0:00:00\u001b[0m\n",
            "\u001b[?25hCollecting multiprocess (from datasets->colbert-ai==0.2.19->ragatouille)\n",
            "  Downloading multiprocess-0.70.16-py310-none-any.whl (134 kB)\n",
            "\u001b[2K     \u001b[90m━━━━━━━━━━━━━━━━━━━━━━━━━━━━━━━━━━━━━━━━\u001b[0m \u001b[32m134.8/134.8 kB\u001b[0m \u001b[31m20.0 MB/s\u001b[0m eta \u001b[36m0:00:00\u001b[0m\n",
            "\u001b[?25hRequirement already satisfied: Werkzeug>=2.2.2 in /usr/local/lib/python3.10/dist-packages (from flask->colbert-ai==0.2.19->ragatouille) (3.0.3)\n",
            "Requirement already satisfied: itsdangerous>=2.0 in /usr/local/lib/python3.10/dist-packages (from flask->colbert-ai==0.2.19->ragatouille) (2.2.0)\n",
            "Requirement already satisfied: click>=8.0 in /usr/local/lib/python3.10/dist-packages (from flask->colbert-ai==0.2.19->ragatouille) (8.1.7)\n",
            "Requirement already satisfied: MarkupSafe>=2.0 in /usr/local/lib/python3.10/dist-packages (from jinja2->torch>=1.13->ragatouille) (2.1.5)\n",
            "Collecting gitpython (from git-python->colbert-ai==0.2.19->ragatouille)\n",
            "  Downloading GitPython-3.1.43-py3-none-any.whl (207 kB)\n",
            "\u001b[2K     \u001b[90m━━━━━━━━━━━━━━━━━━━━━━━━━━━━━━━━━━━━━━━━\u001b[0m \u001b[32m207.3/207.3 kB\u001b[0m \u001b[31m24.0 MB/s\u001b[0m eta \u001b[36m0:00:00\u001b[0m\n",
            "\u001b[?25hRequirement already satisfied: joblib>=1.1.1 in /usr/local/lib/python3.10/dist-packages (from scikit-learn->sentence-transformers<3.0.0,>=2.2.2->ragatouille) (1.4.2)\n",
            "Requirement already satisfied: threadpoolctl>=2.0.0 in /usr/local/lib/python3.10/dist-packages (from scikit-learn->sentence-transformers<3.0.0,>=2.2.2->ragatouille) (3.5.0)\n",
            "Requirement already satisfied: mpmath<1.4.0,>=1.1.0 in /usr/local/lib/python3.10/dist-packages (from sympy->torch>=1.13->ragatouille) (1.3.0)\n",
            "Requirement already satisfied: soupsieve>1.2 in /usr/local/lib/python3.10/dist-packages (from beautifulsoup4<5.0.0,>=4.12.3->llama-index-readers-file<0.2.0,>=0.1.4->llama-index>=0.7->ragatouille) (2.5)\n",
            "Requirement already satisfied: anyio in /usr/local/lib/python3.10/dist-packages (from httpx->llama-index-core==0.10.43->llama-index>=0.7->ragatouille) (3.7.1)\n",
            "Collecting httpcore==1.* (from httpx->llama-index-core==0.10.43->llama-index>=0.7->ragatouille)\n",
            "  Downloading httpcore-1.0.5-py3-none-any.whl (77 kB)\n",
            "\u001b[2K     \u001b[90m━━━━━━━━━━━━━━━━━━━━━━━━━━━━━━━━━━━━━━━━\u001b[0m \u001b[32m77.9/77.9 kB\u001b[0m \u001b[31m10.4 MB/s\u001b[0m eta \u001b[36m0:00:00\u001b[0m\n",
            "\u001b[?25hRequirement already satisfied: sniffio in /usr/local/lib/python3.10/dist-packages (from httpx->llama-index-core==0.10.43->llama-index>=0.7->ragatouille) (1.3.1)\n",
            "Collecting h11<0.15,>=0.13 (from httpcore==1.*->httpx->llama-index-core==0.10.43->llama-index>=0.7->ragatouille)\n",
            "  Downloading h11-0.14.0-py3-none-any.whl (58 kB)\n",
            "\u001b[2K     \u001b[90m━━━━━━━━━━━━━━━━━━━━━━━━━━━━━━━━━━━━━━━━\u001b[0m \u001b[32m58.3/58.3 kB\u001b[0m \u001b[31m8.7 MB/s\u001b[0m eta \u001b[36m0:00:00\u001b[0m\n",
            "\u001b[?25hRequirement already satisfied: distro<2,>=1.7.0 in /usr/lib/python3/dist-packages (from openai>=1.1.0->llama-index-core==0.10.43->llama-index>=0.7->ragatouille) (1.7.0)\n",
            "Requirement already satisfied: mypy-extensions>=0.3.0 in /usr/local/lib/python3.10/dist-packages (from typing-inspect>=0.8.0->llama-index-core==0.10.43->llama-index>=0.7->ragatouille) (1.0.0)\n",
            "Collecting gitdb<5,>=4.0.1 (from gitpython->git-python->colbert-ai==0.2.19->ragatouille)\n",
            "  Downloading gitdb-4.0.11-py3-none-any.whl (62 kB)\n",
            "\u001b[2K     \u001b[90m━━━━━━━━━━━━━━━━━━━━━━━━━━━━━━━━━━━━━━━━\u001b[0m \u001b[32m62.7/62.7 kB\u001b[0m \u001b[31m9.5 MB/s\u001b[0m eta \u001b[36m0:00:00\u001b[0m\n",
            "\u001b[?25hRequirement already satisfied: python-dateutil>=2.8.2 in /usr/local/lib/python3.10/dist-packages (from pandas->llama-index-core==0.10.43->llama-index>=0.7->ragatouille) (2.8.2)\n",
            "Requirement already satisfied: pytz>=2020.1 in /usr/local/lib/python3.10/dist-packages (from pandas->llama-index-core==0.10.43->llama-index>=0.7->ragatouille) (2023.4)\n",
            "Requirement already satisfied: tzdata>=2022.1 in /usr/local/lib/python3.10/dist-packages (from pandas->llama-index-core==0.10.43->llama-index>=0.7->ragatouille) (2024.1)\n",
            "Requirement already satisfied: exceptiongroup in /usr/local/lib/python3.10/dist-packages (from anyio->httpx->llama-index-core==0.10.43->llama-index>=0.7->ragatouille) (1.2.1)\n",
            "Collecting smmap<6,>=3.0.1 (from gitdb<5,>=4.0.1->gitpython->git-python->colbert-ai==0.2.19->ragatouille)\n",
            "  Downloading smmap-5.0.1-py3-none-any.whl (24 kB)\n",
            "Requirement already satisfied: six>=1.5 in /usr/local/lib/python3.10/dist-packages (from python-dateutil>=2.8.2->pandas->llama-index-core==0.10.43->llama-index>=0.7->ragatouille) (1.16.0)\n",
            "Building wheels for collected packages: colbert-ai\n",
            "  Building wheel for colbert-ai (setup.py) ... \u001b[?25l\u001b[?25hdone\n",
            "  Created wheel for colbert-ai: filename=colbert_ai-0.2.19-py3-none-any.whl size=114762 sha256=0d949734813e4967df038855c8865843db0e12e39a837236349a4de9f04eaab9\n",
            "  Stored in directory: /root/.cache/pip/wheels/90/b9/63/d4fc276c73c42ef7fc1065a26cf87e5a1cf56ef6498cbfbe5d\n",
            "Successfully built colbert-ai\n",
            "Installing collected packages: striprtf, ninja, dirtyjson, bitarray, xxhash, voyager, smmap, requests, pypdf, pynvml, onnx, h11, faiss-cpu, dill, deprecated, tiktoken, multiprocess, httpcore, gitdb, httpx, gitpython, openai, llamaindex-py-client, git-python, fast-pytorch-kmeans, datasets, llama-index-legacy, llama-index-core, colbert-ai, llama-parse, llama-index-readers-file, llama-index-llms-openai, llama-index-indices-managed-llama-cloud, llama-index-embeddings-openai, llama-index-readers-llama-parse, llama-index-multi-modal-llms-openai, llama-index-cli, llama-index-agent-openai, llama-index-program-openai, llama-index-question-gen-openai, llama-index, ragatouille\n",
            "  Attempting uninstall: requests\n",
            "    Found existing installation: requests 2.31.0\n",
            "    Uninstalling requests-2.31.0:\n",
            "      Successfully uninstalled requests-2.31.0\n",
            "\u001b[31mERROR: pip's dependency resolver does not currently take into account all the packages that are installed. This behaviour is the source of the following dependency conflicts.\n",
            "google-colab 1.0.0 requires requests==2.31.0, but you have requests 2.32.3 which is incompatible.\u001b[0m\u001b[31m\n",
            "\u001b[0mSuccessfully installed bitarray-2.9.2 colbert-ai-0.2.19 datasets-2.19.2 deprecated-1.2.14 dill-0.3.8 dirtyjson-1.0.8 faiss-cpu-1.8.0 fast-pytorch-kmeans-0.2.0.1 git-python-1.0.3 gitdb-4.0.11 gitpython-3.1.43 h11-0.14.0 httpcore-1.0.5 httpx-0.27.0 llama-index-0.10.43 llama-index-agent-openai-0.2.7 llama-index-cli-0.1.12 llama-index-core-0.10.43 llama-index-embeddings-openai-0.1.10 llama-index-indices-managed-llama-cloud-0.1.6 llama-index-legacy-0.9.48 llama-index-llms-openai-0.1.22 llama-index-multi-modal-llms-openai-0.1.6 llama-index-program-openai-0.1.6 llama-index-question-gen-openai-0.1.3 llama-index-readers-file-0.1.23 llama-index-readers-llama-parse-0.1.4 llama-parse-0.4.4 llamaindex-py-client-0.1.19 multiprocess-0.70.16 ninja-1.11.1.1 onnx-1.16.1 openai-1.31.0 pynvml-11.5.0 pypdf-4.2.0 ragatouille-0.0.8.post2 requests-2.32.3 smmap-5.0.1 striprtf-0.0.26 tiktoken-0.7.0 voyager-2.0.6 xxhash-3.4.1\n"
          ]
        }
      ],
      "source": [
        "! pip install -U ragatouille"
      ]
    },
    {
      "cell_type": "code",
      "execution_count": null,
      "metadata": {},
      "outputs": [],
      "source": [
        "!pip install tensorflow-text==2.15.0"
      ]
    },
    {
      "cell_type": "code",
      "execution_count": null,
      "metadata": {},
      "outputs": [],
      "source": [
        "import json\n",
        "from transformers import AutoTokenizer\n",
        "from langchain.docstore.document import Document\n",
        "from langchain.chains.question_answering import load_qa_chain\n",
        "from langchain.prompts import PromptTemplate\n",
        "from langchain.chains.combine_documents.stuff import StuffDocumentsChain\n",
        "from langchain_community.llms import HuggingFaceEndpoint\n",
        "from tqdm import tqdm\n",
        "from ragatouille import RAGPretrainedModel\n",
        "import json\n",
        "\n",
        "from getpass import getpass\n",
        "from typing import List, Optional\n",
        "from datetime import datetime\n",
        "from tqdm import tqdm\n",
        "\n",
        "import tensorflow as tf\n",
        "import tensorflow_hub as hub\n",
        "import numpy as np\n",
        "from scipy.special import softmax\n",
        "import json\n",
        "\n"
      ]
    },
    {
      "cell_type": "markdown",
      "metadata": {
        "id": "E2fiYoDymoY1"
      },
      "source": [
        "RAGATOUILLE is developed by Meta AI and enhances traditional NLP models by integrating retrieval mechanisms with generative capabilities. This approach allows the model to fetch relevant documents or information from a large corpus to improve the quality and accuracy of generated responses. By combining retrieval and generation, RAGATOUILLE aims to produce more informative, contextually rich, and accurate outputs, pushing the boundaries of what language models can achieve."
      ]
    },
    {
      "cell_type": "code",
      "execution_count": null,
      "metadata": {
        "colab": {
          "base_uri": "https://localhost:8080/",
          "height": 404,
          "referenced_widgets": [
            "a00855f2258e493ca81b3ac9722b4fdf",
            "877226c58138460fb1dfb70890a2dbb3",
            "c49f645cb9134415bde98288fe69708d",
            "d3d4fb3fc1d0446b9e7e98ce22e98f3c",
            "0a108658da8948e78016542638207a17",
            "1e98023cebfc46ac8a47dcab342a4232",
            "23df424680814290aee74630e3eaf22e",
            "5ba50965023d4b099ef30ea6c7c012a8",
            "e10933170785419a9438402a959c3752",
            "c83790d080c94986952654718ac345de",
            "5a3e790f457440c8b55ce172455b8d19",
            "13265ec989b042f79c61deef76f23911",
            "7332b7ecd96540ff893af722a7e2202d",
            "26f056bc09794bba97868c3c7bed0be0",
            "194ae66781644fff93ef8d4c0252791a",
            "859458c50e824192872279b4028127bc",
            "efee22dfe0424b348e912a9d455bd2e8",
            "51ae3daa144c406ab8ef800a4b4f12cf",
            "7919a9a6bf7940e0bf0977a13f653365",
            "73697a089f154ecebcd5cd50c119e7a2",
            "394a735bf0b84c33b8d00daf8d0a2e76",
            "63b76162b46f45b8b68830aa751fe356",
            "00a6b904ab5a45b79ee4d9dbd3ae7988",
            "6163a67ccd284e0e8ea53ee50ee00380",
            "b3877e84bfb04f33984fa96770092416",
            "6a1a72eae2d148cea8e9d9aecd93a0ce",
            "05bd8b06977045aab238ccdc5f76fd28",
            "821ecf35d4114eb1a5a4cd757e9d83ef",
            "55f978d18bba4042bd05082e495e44ef",
            "9ab89608452342b4a7c67d9a37e3b178",
            "34175f7a64054fd2bd068ec05620d156",
            "611957241d184d688f940316a293320c",
            "53950beaf6364351b3c6fee42d6b1e51",
            "ca7f905cc9904388a429c0000c17e4c6",
            "e0e7dd1b44854bc882be0f5ca2de1876",
            "1d0cd3c3a984475dbeb96147a226b1cb",
            "dd710e2048c44672b38249f326ec5da4",
            "5877d053ed794bc0a25fe3cc156cc200",
            "ce0051b8cb6f4a17b2378fae13edc6ad",
            "3e4fc4ff69664cadbfddcdff645b864e",
            "944c7fc38d674f06807aa61edd3a6770",
            "6421d009e6cd4aa386be046258ea8f6d",
            "0961023bdba145c5b056d9c04a8c33da",
            "dd7feee1c2154fd082542be5827976ed",
            "e813c15461f246aca3922837a4ad9a94",
            "b95cd3c98aca47a6977d341fe4c415a2",
            "6cbdbfc3b9444e75af77f5468c10a317",
            "e92fe8eabfa34407bced1a6599aaf0d5",
            "4269d0883f694093b0a561887a89f482",
            "0dfce2ace3a446e095e0866491a7f502",
            "2bb6d9dd5c3f4c5eb73f48f45e10cf12",
            "e8cdab1a99ee4afaa9659193e05f1115",
            "73bf76314bce4f6d85c7657582c1aaa1",
            "c0c5d108a0134b24a0951fd3f85608b7",
            "db07df98d1254d36945b095148816e5a",
            "72fb180ec1f74e94910949c063da918f",
            "5c27cbae7fab4c0087cfd0e1c058504a",
            "266a296d688d4a8295a09de712c63754",
            "2a1abc9c3bec456da0c1a79d305031d5",
            "f5a05e74dde2458e86089e9c32888a59",
            "26e3282588c042c5b0e4df5de6ae9bc1",
            "1dabb3b12d824fcd90fdd7db5a8e523a",
            "767d056b55064106aa8eaa5c924d47dc",
            "d43f2acdb2cb4fd89330dd6034d23a29",
            "a0d63499791a4d3bb1be9a18d5384ad9",
            "962de82e79cc4d0fbfbcc92e9329c2f9",
            "aadd0f0d4254465491a29915c2027f7e",
            "7d2135c887774529a58d99938194f044",
            "0ae820c4f6524006b4b6de0e61f28fd2",
            "9eaf2be11aba4f5bb6cacfff509d08e6",
            "a89185e16597464f99f1fdb246c151b8",
            "02c4376d9483434c8f5ce01e0b84c53b",
            "c70fd401105a411ca154230d3e167c72",
            "7eeb1644ae07468d8dce49e9277bc2fe",
            "dd101712c02645b18a1f52b9a657038a",
            "23a72f139fd24db79f80d0cbcaf2ac33",
            "450682b073de4e83b62c4c7043ee2d41"
          ]
        },
        "id": "Z-p3o5UILavH",
        "outputId": "cbac7eec-341f-4a17-a6ca-fc80a2d96e26"
      },
      "outputs": [
        {
          "name": "stderr",
          "output_type": "stream",
          "text": [
            "/usr/local/lib/python3.10/dist-packages/huggingface_hub/utils/_token.py:89: UserWarning: \n",
            "The secret `HF_TOKEN` does not exist in your Colab secrets.\n",
            "To authenticate with the Hugging Face Hub, create a token in your settings tab (https://huggingface.co/settings/tokens), set it as secret in your Google Colab and restart your session.\n",
            "You will be able to reuse this secret in all of your notebooks.\n",
            "Please note that authentication is recommended but still optional to access public models or datasets.\n",
            "  warnings.warn(\n"
          ]
        },
        {
          "data": {
            "application/vnd.jupyter.widget-view+json": {
              "model_id": "a00855f2258e493ca81b3ac9722b4fdf",
              "version_major": 2,
              "version_minor": 0
            },
            "text/plain": [
              "artifact.metadata:   0%|          | 0.00/1.63k [00:00<?, ?B/s]"
            ]
          },
          "metadata": {},
          "output_type": "display_data"
        },
        {
          "name": "stderr",
          "output_type": "stream",
          "text": [
            "/usr/local/lib/python3.10/dist-packages/huggingface_hub/file_download.py:1132: FutureWarning: `resume_download` is deprecated and will be removed in version 1.0.0. Downloads always resume when possible. If you want to force a new download, use `force_download=True`.\n",
            "  warnings.warn(\n"
          ]
        },
        {
          "data": {
            "application/vnd.jupyter.widget-view+json": {
              "model_id": "13265ec989b042f79c61deef76f23911",
              "version_major": 2,
              "version_minor": 0
            },
            "text/plain": [
              "config.json:   0%|          | 0.00/743 [00:00<?, ?B/s]"
            ]
          },
          "metadata": {},
          "output_type": "display_data"
        },
        {
          "data": {
            "application/vnd.jupyter.widget-view+json": {
              "model_id": "00a6b904ab5a45b79ee4d9dbd3ae7988",
              "version_major": 2,
              "version_minor": 0
            },
            "text/plain": [
              "model.safetensors:   0%|          | 0.00/438M [00:00<?, ?B/s]"
            ]
          },
          "metadata": {},
          "output_type": "display_data"
        },
        {
          "data": {
            "application/vnd.jupyter.widget-view+json": {
              "model_id": "ca7f905cc9904388a429c0000c17e4c6",
              "version_major": 2,
              "version_minor": 0
            },
            "text/plain": [
              "tokenizer_config.json:   0%|          | 0.00/405 [00:00<?, ?B/s]"
            ]
          },
          "metadata": {},
          "output_type": "display_data"
        },
        {
          "data": {
            "application/vnd.jupyter.widget-view+json": {
              "model_id": "e813c15461f246aca3922837a4ad9a94",
              "version_major": 2,
              "version_minor": 0
            },
            "text/plain": [
              "vocab.txt:   0%|          | 0.00/232k [00:00<?, ?B/s]"
            ]
          },
          "metadata": {},
          "output_type": "display_data"
        },
        {
          "data": {
            "application/vnd.jupyter.widget-view+json": {
              "model_id": "72fb180ec1f74e94910949c063da918f",
              "version_major": 2,
              "version_minor": 0
            },
            "text/plain": [
              "tokenizer.json:   0%|          | 0.00/466k [00:00<?, ?B/s]"
            ]
          },
          "metadata": {},
          "output_type": "display_data"
        },
        {
          "data": {
            "application/vnd.jupyter.widget-view+json": {
              "model_id": "aadd0f0d4254465491a29915c2027f7e",
              "version_major": 2,
              "version_minor": 0
            },
            "text/plain": [
              "special_tokens_map.json:   0%|          | 0.00/112 [00:00<?, ?B/s]"
            ]
          },
          "metadata": {},
          "output_type": "display_data"
        }
      ],
      "source": [
        "RAG = RAGPretrainedModel.from_pretrained(\"colbert-ir/colbertv2.0\")"
      ]
    },
    {
      "cell_type": "code",
      "execution_count": 2,
      "metadata": {
        "id": "8XRlPZs-L3zB"
      },
      "outputs": [],
      "source": [
        "# Function that read a json\n",
        "def read_json(file_path):\n",
        "    \"\"\"\n",
        "    Parameters:\n",
        "    - file_path (str): Path to the JSON file.\n",
        "\n",
        "    Returns:\n",
        "    - data: Parsed JSON data.\n",
        "    \"\"\"\n",
        "    with open(file_path, 'r', encoding='utf8') as file:\n",
        "        data = json.load(file)\n",
        "    return data"
      ]
    },
    {
      "cell_type": "code",
      "execution_count": 4,
      "metadata": {
        "id": "FVKjpuz-L5jd"
      },
      "outputs": [],
      "source": [
        "# Path to the file containing all the documents\n",
        "docs_dir = \"/content/drive/MyDrive/dataset/documents.json\""
      ]
    },
    {
      "cell_type": "code",
      "execution_count": 5,
      "metadata": {
        "colab": {
          "base_uri": "https://localhost:8080/"
        },
        "id": "XYQ4gWaVL7fD",
        "outputId": "d95a6f12-dbae-4e81-fe3e-fb3fa58a0b30"
      },
      "outputs": [
        {
          "name": "stdout",
          "output_type": "stream",
          "text": [
            "{'id': '0025577043f5090cd603c6aea60f26e236195594', 'kind': 'movie', 'text': '<html><title>Pump Up The Volume Transcript</title><pre>\\nHappy Harry Hardon - Did you ever get the feeling that everything in America is \\ncompletely fucked up. You know that feeling that the whole country is like one inch \\naway from saying \\'That\\'s it, forget it.\\' You think about it. Everything is polluted. The \\nenvironment, the government, the schools you name it. Speaking of schools. I was \\nwalking the households the other day and I asked myself. Is there live after high school? \\nBecause I can\\'t face tomorrow, let alone a whole year of this shit. Yeah, you got it folks. \\nIt\\'s me again with a little attitude for all you out here and waiting for Atlanta. All you \\nnice people living in the middle of America the beautiful. Lets see, we\\'re on er 92 FM \\ntonight and it feels like a nice clean little band so far. No one else is using it. The price is \\nright. Heh, heh. And yes folks you guest it. Tonight I am as horny as a ten peckerd house, \\nso stay tuned because this is Happy Harry Hardon reminding you to eat your cereal with a \\nfork and do your homework in the dark..\\n\\nMurdock - Mr. Travis, Louis Travis. It\\'s just for a second.\\n\\nMr Woodward - So, I\\'ll pick you up after your yearbook.\\n\\nPaige Woodward - Okay, dad.\\n\\nMr Woodward - And no big dates tonight, you have to be well rested for your History \\nexam\\ntomorrow.\\n\\nPaige - Okay.\\n\\nMazz - Yo Paige, anytime anywhere beautiful. Mr. Paige.\\n\\nNora Diniro - Oh, Miss Paige Woodward arriving.\\n\\nJanie - So rich, so smart.\\n\\nNora - So perfect.\\n\\nMurdock - Cheryl, good to see you. You\\'re going to see the principal this morning.\\n\\nCheryl - Can you tell me what this is about.\\n\\nMurdock - We\\'ll see. Excuse Misses Creswood.\\n\\nLuis Chavez - Yes.\\n\\nNora  - Check this out.\\n\\nJanie - What is it?\\n\\nNora -  It\\'s this guy. He\\'s got a pirate radio station. Hiss name is Happy Harry Hardon. \\nHe\\'s a total sex maniac.\\n\\nJanie - Off course.\\n\\nNora - He comes on every night at ten o\\'clock.\\n\\nHappy Harry Hardon - Okay, down to business. I got my wild cherry diet Pepsi and I got \\nmy Black Jack gum here and I got that feeling, mmm that familiar feeling that something \\nrank is going down up there. Yeah, I can smell it. I can almost taste it. The rankness in \\nthe air. It\\'s everywhere. It\\'s running through that old pipeline out there, trickling along the \\ndumb concrete river and coming up the drains of those lovely tracktones we all live in. I \\nmean I don\\'t know. Everywhere I look it seems everything is sold out.\\n\\nAnnie - They say this is where the reception is the coolest.\\n\\nJohnathan - Then he\\'ll probably live right around here.\\n\\nMazz - Fucking Yuppies.\\n\\nHappy Harry Hardon - My dad sold out. And my mom sold out years ago when she had \\nme. And then they sold me out when they brought me to this hole in the world. They \\nmade me everything I am today so naturally I hate the bastards. Speaking of which, I am \\nrunning a contest on the best way to put them out of their misery. Tonight we have \\nnumber twelve of one hundred things to do with your body when you\\'re all alone. Now \\nare you ready of the incredible sound of Happy Harry Hardon coming on his own face. \\nOh, my god, it\\'s very possible you know. Oh, oh this is a champion one. I\\'m going for it. \\nHe\\'s still growing. This... Yes, Happy Harry Hardon will go to any language to keep his \\nthree listeners glued with Huwy Bluwy to their radios. But the question is. How far will \\nyou go? How far can you go to amaze and discuss the sensational Happy Harry Hardon. I \\nmean. How serious are you? I ask you that. dear listener.\\n\\nMr Woodward - Hi beautiful. You know I can\\'t figure out how you manage to get such \\ngreat\\ngrades and you listen to that radio all night. You know. Tomorrow don\\'t forget Yale \\ninterview. And I don\\'t want you to look too sleepy. You know. Goodnight Sweetheart.\\n\\nHappy Harry Hardon - I\\'m getting a lot of letters here guys. Here. Dear Happy Harry \\nHardon, my boyfriend won\\'t talk to me anymore. How do I show him that I really love \\nhim? Look, I don\\'t know anything about these letters asking for love advice. I mean, if I \\nknew anything about love I would be out there making it instead of talking to you guys. \\nSo just send me stuff to box 20710, USA Mail Paradise Hill Mess Arizona 84012. \\nReplies guarantied. Dear Harry, I think your boring and upknocktius and have a high \\nopinion of yourself. Course I\\'m you I\\'ll probably thinking I sent this to myself. I think \\nschool is okay. if you just look at it right. I like your music, but I really don\\'t see why you \\ncan\\'t be cheerful for one second. I tell you since you ask. I just arrived in this stupid \\nsuburb. I have no friends, no money, no car, no licence. And even if I did have a licence \\nall I can do is drive out to some stupid mall. Maybe if I\\'m lucky play some fucking video \\ngames, smoke a joint and get stupid. You see, there\\'s nothing to do anymore. Everything \\ndecents been done. All the great themes have been used up. Turned into theme parks. So I \\ndon\\'t really find it cheerful to be living in totally exhausted decade where there is nothing \\nto look forward to and no one to look up to. That was deep. Oh no, not again. The \\ncreature stirs. Oh God, I think it is going to be a gusher. This is the sixth time in an hour. \\nOh god...\\n\\nAnnie - He sounds like he chronically masturbated.\\n\\nJohnathan - He prides himself on it.\\n\\nHappy Harry Hardon - You see, I take care of it. Oh, or else I\\'m going to explode. I just... \\nExcuse me while I... While I... While I... Oh yeah... Oh yeah... Oh yeah, this is the big \\none. I\\'m gonna explode... Oh, take cover Arizona here I come.\\n\\nMazz - Any time now, man.\\n\\nHappy Harry Hardon - Oh God... Oh God... This is the best. Oh God yeah... Free at last, \\nI\\'m beat. I\\'m whipped. It\\'s quitting time. Gotta recuperate.\\n\\nMazz - There he goes. Some time he\\'s on for five minutes, some time he\\'s on for five \\nhours. That\\'s my man.\\n\\nMarla Hunter - God, I feel so out of touch here.\\n\\nBrian Hunter - We didn\\'t move out here to stay in touch.\\n\\nMarla Hunter - And why did we move out here?\\n\\nBrian Hunter - Oh, because it\\'s a nice place to live. I\\'m making good money and I\\'m the\\nyoungest school commissioner in the History of Arizona.\\n\\nMarla Hunter - Brian, you know what. The man I married loved his work. Not power and\\nmoney.\\n\\nBrian Hunter - That\\'s all right I still love my work. And I love power and money.\\n\\nMarla Hunter - Young radical Brain, you were always fighting against the system. And \\nnow you are...\\n\\nBrian Hunter - I am the system, yeah. Is that a beer?\\n\\nMark Hunter (Happy Harry Hardon) - Sure!\\n\\nMarla Hunter - Have you notice his behaviour lately?\\n\\nBrian Hunter - What about him?\\n\\nMarla Hunter - He\\'s just so unhappy here.\\n\\nBrian Hunter - I\\'ll go talk to him.\\n\\n<Brian\\'s Study>\\n\\nBrian Hunter - Hi, what\\'s up?\\n\\nMark - I was just looking for some stamps.\\n\\nBrian Hunter - Oh fine, I got some right here. Sending a letter to one of your friends back \\neast?\\n\\nMark - No, I thought I might send away for an inflatable date.\\n\\nBrian Hunter - You know, one of these days you\\'re going to have to watch yourself \\nyoung man.\\n\\nMark - I love it when you call me young man.\\n\\nBrian Hunter - You know when I was your age I was in all the teams and a bunch of \\nclubs. Look all I\\'m saying is that school must have some really terrific programs, it\\'s very \\nhighly rated.\\n\\nMark - Just save it for the masses.\\n\\nBrian Hunter - Mark, they\\'ve got twelve hundred students down there. Surely some of \\nthem\\nhave gotta be cool.\\n\\nMark - Look the deal is I get decent grades and you guys leave me alone.\\n\\n<Back at Hupert Humphrey>\\n\\nJanie - Okay so who is this guy?\\n\\nNora - I don\\'t know, nobody knows who he is, but he really hates this school so I guess \\nhe goes here.\\n\\nJanie - But all the guys that go here are geeks.\\n\\nNora - Maybe not my dear! Later\\n\\nJanie - Later?\\n\\n<English Class>\\n\\nJan Emerson - And so then the logi cars questioned the few remaining death spurs more \\nand more they began to fade away until there was nothing left of them and they \\ndisappeared from the face of the earth.......... Hmm, pretty good hey? Leading with your \\nheart, not your mind. I wondered if you would tell us what you were thinking when you \\nwrote this?\\n\\nMark - I just wrote it late last night.\\n\\nJan - That\\'s obvious it\\'s practically a night book. Mark, I was hoping you\\'d share your \\nfeelings about it. <Bell rings> Saved by the bell. Don\\'t think If I didn\\'t read your \\ncomposition it won\\'t be read. Mark! We\\'re looking for new writers for The Clarion. Don\\'t \\nbe embarrassed of your talent.\\n\\n<Murdock\\'s woodwork class. A Happy Harry Hardon Tape blasting out of a stereo>\\n\\nClass - Morning Mr. Murdock\\n\\nMurdock - I\\'m not stupid you know.\\n\\n<Staff room>\\n\\nCreswood - This school is judged on one category only: Academic scores. The lesson of \\nmodern education is that nothing comes easily, no pain, no gain.\\n\\nMurdock <enters> - Excuse me everyone do you want to listen to this, it\\'s the third this \\nweek. It\\'s unbelievable.\\n\\n<Murdock plays a tape with Happy Harry Hardon simulating masturbation>\\n\\nJan - <laughs>\\n\\nCreswood - Jan! This is no laughing matter.\\n\\n<School Library>\\n\\nNora - Hi!\\n\\nMark - Hi\\n\\nNora - You\\'re in my writing class right.\\n\\nMark - Right.\\n\\nNora - Yeah I like Emerson (Jan) she\\'s pretty funky. <Nora look at the date on Marks \\nbook> Now you\\'re in trouble!.... You owe me twenty five cents...... \"How To Talk Dirty \\nAnd Influence People\" by Lenny Bruce. Who\\'s he?... Any good?\\n\\nMark - He\\'s alright.\\n\\nNora - Talk a lot.\\n\\nMark - Not to much no.\\n\\n<Mark leaves and Nora looks down at checklist of possible Hard Harrys\\'>\\n\\nNora - Cute, but no way!\\n\\n<A ten o\\'clock show>  \\n\\nHappy Harry Hardon - Guess who? It\\'s ten o\\'clock do you care where your parents are? \\nAfter all it\\'s a jungle out there. <Everybody Knows plays> I don\\'t know. Everywhere I \\nlook it seems that someone\\'s getting butt surfed by the system. Parents are always talking \\nabout the system, and the sixties and how cool it was. Well look at where the sixties got \\nthem hey! Come on people now smile on your brother everybody together try and love \\none another right now!!! Now that was the sixties, this is a song from the nineties from \\nmy buddies the Descendants. <The Descendants play> I hate the sixties, I hate school, I \\nhate principals, I hate vice principles!! But my true pure refined hatred is reserved for \\nguidance councillors. Happy Harry just happens to have in his very hands a copy of a \\nmemo written by Mr. David Deaver, guidance councillor extrordinaire to one Miss \\nLoretta Creswood, high school principle. \"I found Cheryl un-remorseful about her current \\ncondition\" Bastard can\\'t even say she\\'s knocked up. \"And she\\'s unwilling to minimise it\\'s \\naffect on the morals of the student population.\" Guidance councillors!!!!! If they knew \\nanything about career moves would they have ended up as guidance councillors? What \\ndo you say we call Deaver up hey? Happy Harry Hardon just happens to have the home \\nphone numbers of every employee up at Paradise Hills. Here we go, there you are Mr. \\nDeesky <Happy Harry Hardon rings up Mr Deaver>.\\n\\nDeaver - Deaver residence, David Deaver speaking.\\n\\nHappy Harry Hardon - Hey this is WKPS, we\\'re doing a piece on high schools. We \\nunderstand that your a guidance councillor.\\n\\nDeaver - I\\'m head of guidance at Hubert Humphrey High in Paradise Hills Arizona. I\\'ve \\nbeen there seven years.\\n\\nHappy Harry Hardon - Can you tell me a bit about what you do.\\n\\nDeaver - I run a comprehensive American values program, erm in which we discuss \\nethical situations, sex education and drug abuse.\\n\\nHappy Harry Hardon - What do you say to young people who look around at the world \\nand see it\\'s become, like you know, a sleazy country, a place you just can\\'t trust. Like \\nyour school for example. Why is it, it wins all of these awards and students are dropping \\nout like flies, why..why is that. Now my listeners are interested in the decision to expel \\nCheryl Bates.\\n\\nDeaver - I, erm, I\\'m not aware of anything like that, I don\\'t know what you\\'re talking \\nabout.\\n\\nHappy Harry Hardon - That is not true sir. \"Cheryl refuses to accept suggestions of a \\nmore positive mental attitude towards her health and her future. I\\'m afraid I find no \\nalternative, but to suggest suspension.\"\\n\\nDeaver - Who is this? How did you get this number?\\n\\nHappy Harry Hardon - Are you going to admit it sir.\\n\\nDeaver - Admit what?\\n\\nHappy Harry Hardon - That you\\'re slime!\\n\\nDeaver - Now just wait a minute.\\n\\nHappy Harry Hardon - You interview a student and then you rat on her, you betray her \\ntrust, isn\\'t that right Sir!<Deaver hangs up> Well as you can see, these guys are played \\nout. Society is mutating so rapidly that anyone over the age of twenty has really no \\nidea.... Err alright, back down to business. \"I share a room with my older brother and \\nnearly every night after he turns off his light he come over to my bed and gives me a few \\narm nookies and stuff and then makes me scratch his back and other refinements\" It\\'s \\nabout time we had some refinements on this show. \"Then sooner or later he gets worked \\nup and further a do he rubs his thing and makes me watch.\" Signed \"I\\'m just screwed up\" \\nWell first of all you\\'re not screwed up, your an unscrewed up reaction to a screwed up \\nsituation. Feeling screwed up at a screwed up time, in a screwed up place does not make \\nyou necessarily screwed up, if you catch my drift. Well as you know dear listeners if you \\nenclose your number a reply is guaranteed. <Rings Miss Screwed Up>\\n\\nMiss Screwed Up - Hello\\n\\nHappy Harry Hardon - This is Happy Harry Hardon, your live. Is this Miss Screwed Up.\\n\\nMiss Screwed Up - Yes\\n\\nHappy Harry Hardon - Well I have a couple of questions. How big is it, this thing you \\ndescribed? Is it bigger than a baby\\'s arm..... What you don\\'t remember or you don\\'t want \\nto tell me?.... Or maybe you made this whole thing up hey? Remember my dear I can \\nsmell a lie like a fart in a car. <Miss Screwed Up hangs up> Well it\\'s too bad about that \\none actually, to me the real truth is always a bigger turn on. It doesn\\'t have to be a big \\ndeal, it could be anything.\\n\\n<Malcolm\\'s bedroom>\\n\\nMrs Kaiser - Malcolm have you finished your homework yet?\\n\\nMalcolm - Yes.\\n\\nMrs Kaiser - Your father and I are downstairs, why don\\'t you come and join us for once.\\n\\nMalcolm - No.\\n\\nMrs Kaiser - Okay Malcolm have it your way.\\n\\nMalcolm - Thanks.\\n\\n<Back at Hard Harrys\\'>\\n\\nHappy Harry Hardon - Send me your most pathetic moment, your most anything, as long \\nas it\\'s real. I mean I want the size, the shape, the feel, the smell. I want blood sweat and \\ntears on these letters. I want brains and ectoplasm and cum spilled all over them. \\nHallelujah! And now , all my horny listeners, get one hand free because yes, the eat me \\nbeat me lady is back. \"Come in. Every night you enter me like a criminal. You break into \\nmy brain, but you\\'re no ordinary criminal. You put your feet up, you drink your can of \\nPepsi, you start to party, you turn up my stereo. Songs I\\'ve never heard, but I move \\nanyway. You get me crazy, I say \\'Do it.\\' I don\\'t care just do it. Jam me, jack me, push me, \\npull me -talk hard!\"............ I like that. Talk Hard. I like the idea that a voice can just go \\nsomewhere uninvited and just kind of hang out like a dirty thought in a nice clean mind. \\nTo me a thought is like a virus. You know, it can just kill all the healthy thoughts and just \\ntake over. That would be serious.\\n\\nNora - That would be totally serious.\\n\\nHappy Harry Hardon - I know all of my horny listeners would love it if I would call up \\nthe eat me beat me lady. But no! Because she never encloses her number.\\n\\nNora - Tough look creepoid.\\n\\nHappy Harry Hardon - Always the same red paper, the same beautiful black writing. \\nShe\\'s probably a lot like me, a legend in her own mind. But you know what, I bet in real \\nlife she\\'s probably not that wild. I bet she\\'s kind of shy like so many of us who briskly \\nwalk the halls, pretending to be late for some class, pretending to be distracted. Hey \\npoetry lady, are you really this cool? Are you out there? Are you listening? \\n\\nNora - I\\'m always out here.\\n\\nHappy Harry Hardon - I feel like I know you, and yet we\\'ll never meet. Ah so be it... \\nNow here\\'s a song from my close personal buddies the Beastie Boys. A song that was so \\ncontroversial they couldn\\'t put it on their second album. What about a little night light.\\n\\n<Beastie Boys play>\\n\\nHappy Harry Hardon - I just love being the rap king of Arizona. I don\\'t know drugs are \\nout, sex is out, politics are out, everything is on hold. I mean we definitely need \\nsomething knew. We just keep waiting for some new voice to come out of somewhere \\nand say \"Hey wait a minute, what is wrong with this picture.\" <picks up a letter and \\nopens it> Well maybe this is the answer to everything, wouldn\\'t that be nice hey.  \"Dear \\nHappy Harry Hardon do you think I should kill myself\" Great! Signed \"I\\'m Serious\" And \\nof course there is a number here. <Calls the number> Hello serious?\\n\\nMalcolm - Yeah\\n\\nHappy Harry Hardon - Are you okay?\\n\\nMalcolm - Yep\\n\\nHappy Harry Hardon - I guess what I\\'m asking is how serious are you, well how are you \\ngoing to do it?\\n\\nMalcolm - I\\'m gonna blow my fucking head off.\\n\\nHappy Harry Hardon - O! Well do you have a gun.\\n\\nMalcolm - No I\\'m going to use my finger genius.\\n\\nHappy Harry Hardon - Alright. So where is this gonna take place hey?\\n\\nMalcolm - Right here.\\n\\nHappy Harry Hardon - Where is this alleged gun? Do you have it with you? Did you at \\nleast write a note? You have a reason don\\'t you? Your not going to be one of those people \\nwho kills themselves and nobody has any idea of why they did it? Hey that\\'s why we \\nneed a note pal!\\n\\nMalcolm - I\\'m all alone.\\n\\nHappy Harry Hardon - No, hey, maybe it\\'s okay to be alone sometimes, everybody\\'s \\nalone.\\n\\nMalcolm - You\\'re not.\\n\\nHappy Harry Hardon - I didn\\'t talk to one person today, not..not counting teachers. I sit \\nalone everyday you know, sitting on the stairwell eating my lunch, reading a book. What \\nabout you?  <Malcolm hangs up> I hate that, now I\\'m depressed. Now I feel like killing \\nmyself, but I\\'m too depressed to bother. <Tries to re-dial Malcolm, but it\\'s engaged> \\nGreat! He\\'s got the phone of the hook. Rejected again, that\\'s okay I\\'m use to it, terminal \\nloneliness....... People always think they no who a person is but they\\'re always wrong. \\nMost parents have no idea. It\\'s just that mine had me tested because I sit alone in my \\nroom alone, naked, wearing only a cock ring, heh heh! I mean it really bugs me, everyone \\nknows what a person should be, who cares who I should be! You know, in real life I \\ncould be that anonymous nerd sitting across from you in Chem. Lab, staring at you so \\nhard, you turn around, he tries to smile, but the smile just comes out all wrong. You just \\nthink how pathetic, then he just looks away and never looks back at you again. Well hey, \\nwho cares, that\\'s my motto. Well sleep tight Cheryl, sleep tight Miss Refinements, sleep \\ntight Poetry Lady, sleep tight Mr Serious, maybe you\\'ll feel better tomorrow.\\n\\n<Tomorrow at school>\\n\\nJamie - Hey what\\'s a cock ring, it sounds cool.\\n\\nAlex - How should I know, maybe it\\'s a ring with a cock on it.\\n\\nJamie - But he said he was wearing.\\n\\n<Mark approaches Paige>\\n\\nMark - Hi\\n\\nPaige - Hi.\\n\\n<Someone puts a tape on of Happy Harry Hardon\\'s conversation with Deaver>\\n\\nMurdock - You know people this dancing is a privilege and it will be taken away if it\\'s \\nabused, do you understand that?\\n\\n<Nora searches the school grounds for Mark and finds him reading on the stairs>\\n\\nNora - Hi, got a stick of gum. Black Jack!... You really as horny as a ten peckerd \\nhouse?..... Hi my names Nora, what\\'s yours?\\n\\nMark - Mark.\\n\\nNora - Mark! Well hi Mark.\\n\\nMark - Hi.\\n\\nNora - Listen, I was gonna cut fourth period, do you wanna join me for a smoke in the \\narts clay room.\\n\\nMark - Er, no, I can\\'t, got to go, sorry.\\n\\nNora - Sorry!\\n\\n<Staff room>\\n\\nMurdock - These dam tapes keep cropping up all over the place, they were playing this in \\nthe alcove.\\n\\nMr. Moore - Who is this guy anyway, everyday there\\'s more graffiti.\\n\\nMr. Stern - I don\\'t know, but he\\'s turning the school upside down.\\n\\nJan - Has anybody seen Luis Chavez he wasn\\'t in my class today.\\n\\nMr. Stern - Mine either.\\n\\n<Murdock plays the tape of Happy Harry Hardon reading out Deaver\\'s letter to \\nCreswood. Creswood enters the staff room.>\\n\\nCreswood - Turn that off, I\\'ve got an announcement to make.\\n\\n<Mark\\'s English class>\\n\\nJan - I have some very upsetting news. Last night one of our students, Malcolm Kaiser \\ntook his own life, for those of you who knew him, there will be a memorial service at \\nDempsey hill on Friday. I know it hurts, it\\'s painful to lose someone.\\n\\n<Mark collects his post from the postal centre, exits and starts to read the eat me beat me \\nlady\\'s letter>\\n\\nMark (Reads silently) - \"You\\'re the voice crying out in the wilderness, your the voice that \\nmakes my brain burn and make my guts go gooey. Yeah you gut me, my insides spill on \\nyour alter and tell the future, my steaming gleaming guts spill out your nature. I know \\nyou, not your name, but your game. I know the true you, come to me or I\\'ll come to you.\"\\n\\n<Nora appears from behind the bus stop>\\n\\nNora - So you are him! Don\\'t worry I\\'m not going to bust you or anything... Aren\\'t you \\ngoing to ask who I am?\\n\\nMark - I don\\'t think so, no!\\n\\nNora - I\\'m the eat me beat me lady!   So you don\\'t believe me. \"I know you, not your \\nname, but your game. I know the true you, come to me or I\\'ll come to you.\"  Hey relax, \\nI\\'m not really like that, except when I am.\\n\\nMark - Look it\\'s not your fault. I was listening last night. I didn\\'t think he\\'d go through \\nwith it.\\n\\n<The Hunter dining table>\\n\\nMarla - Mark,  we heard about Malcolm Kaiser, we know.\\n\\nBrian - We were just wondering if you knew him?\\n\\nMark - No not really.\\n\\nBrian - Mark, I\\'m going to ask you something. Your mother and I have been talking and I \\nguess we realise...\\n\\nMarla - Mark, basically we thought you might benefit from seeing a psychiatrist.\\n\\nMark - Is it that obvious.\\n\\nMarla - No honey of course not. We think you\\'re perfect, it\\'s just that you seem so sad \\nand lonely all the time.\\n\\nBrian - And we just want you to feel good about your self.\\n\\nMarla - You had friends in New York Hun.\\n\\nBrian - Have you ever tried to meet people here at all?\\n\\nMarla - Have you ever just walked up to a girl here and said \\'Hi\\'?\\n\\nMark (Trying to make an exit) - Look the girls here, there different, I can\\'t talk to them!\\n\\nMarla - How are they different?\\n\\nBrian - I was taking to your English teacher today.\\n\\nMark - C\\'mon Dad please! It\\'s creepy enough around there without you snooping around.\\n\\nBrian - And she says you\\'ve got a great promise as a writer, but that you\\'re having trouble \\nconcentrating.\\n\\nMark - So when is Johnny gonna concentrate, get happy, get a girl friend and then write a \\nbest seller?\\n\\nBrian - Fine! You don\\'t listen, you don\\'t talk to me, you don\\'t talk to anyone, you hate \\neverything.\\n\\nMark - I can\\'t talk to you people and I certainly aint gonna see a shrink.\\n\\nBrian - Listen Mark! Everyone\\'s got problems, not just you, but you aint gonna solve \\nthem if you don\\'t communicate them.\\n\\n<Mark walks off>\\n\\nMarla - Okay! He\\'s gone back down stairs.\\n\\n<Downstairs>\\n\\nShep Sheppard - And so family and friends of Malcolm Kaiser sadly come and go into \\nthe night even as phantom DJ Happy Harry Hardon prepares to broadcast anonymously \\nfrom somewhere in this formerly peaceful community. This is Shep Sheppard reporting \\nlive from Paradise Hills, Arizona. Back to you Bill.\\n\\nMark - Yeah back to you.\\n\\n<If it be your will plays.The ten o\\'clock broadcast>\\n\\nHappy Harry Hardon - You see I never planned it like this. My dumb Dad got me this \\nshort wave radio set so I could just speak to my friends back east, but I couldn\\'t reach \\nanybody, I thought I was talking to nobody. I imagined that nobody listening. Maybe I \\nimagined one person out there, anyway one day I woke up and I realised I was never \\ngoing to be normal and so I said fuck it, I said so be it and Happy Harry Hardon was \\nborn. I never meant to hurt anyone, honestly I never meant to hurt anyone. I\\'m sorry \\nMalcolm. I never said \"Don\\'t do it\" I\\'m sorry. Erm anyway I\\'m done, stick a fork in me \\nit\\'s been grand. This is Happy Harry Hardon saying sionara, over and out.\\n\\nNora - Come on you can\\'t do this.\\n\\nPaige - This is a joke right?\\n\\nMazz - C\\'mon Harry baby, don\\'t stiff.\\n\\nMark - What am I doing. Fuck It!\\n\\nHappy Harry Hardon - You hear about some kid who did something stupid, something \\ndesperate. What possessed him. How could he do such a terrible thing. It\\'s really quite \\nsimple actually. Consider the life of a teenager. You have parents, teachers telling you \\nwhat to do. You have movies, magazines, and TV telling you what to do. But you know \\nwhat you have to do. Your job, your purpose, is to get accepted, get a cute girl friend, and \\nthink up something great to do with the rest of your life. What if you\\'re confused and \\ncan\\'t imagine a career? What if you\\'re funny looking and you can\\'t get a girl friend? You \\nsee no one wants to hear it, but the terrible secret is that being young is sometimes less \\nfun than being dead.\\n\\nShep Sheppard - This is great he\\'s making it worse.\\n\\nHappy Harry Hardon - Suicide is wrong, but the interesting thing about it is how \\nuncomplicated it seems. There you are, you got all these problems swarming around your \\nbrain, and here is one simple, one incredibly simple solution. I\\'m just surprised it doesn\\'t \\nhappen every day around here. No now they\\'re going to say I said offing yourself is \\nsimple, but no, no, no, no, it\\'s not simple. It\\'s like everything else you have to read the \\nfine print. For instance, assuming there is a heaven who would ever wanna go there, you \\nknow. I mean think about it, sitting on this cloud, you know it\\'s nice, it\\'s quiet, there\\'s no \\nteachers, there\\'s no parents, but guess what? There\\'s nothing to do. Fucking boring. \\nAnother thing to remember about suicide is that it is not a pretty picture. First of all, you \\nshit your shorts you know. So there you are dead, people are weeping over you, crying, \\ngirls you never spoke to are saying, \"Why? Why? Why?\" and you have a load in your \\nshorts. That\\'s the way I see it. Sue me. Now, they\\'re saying I shouldn\\'t think stuff like \\nthis. They\\'re saying something is wrong with me, that I should be ashamed. Well, I\\'m sick \\nof being ashamed. Aren\\'t you?\\n\\nNora - Sick to death!\\n\\nHappy Harry Hardon - I don\\'t mind being dejected and rejected, but I\\'m not going to be \\nashamed about it.\\n\\nNora - Alleuelya\\n\\nHappy Harry Hardon - At least pain is real. You look around and you see nothing is real, \\nbut the pain is real. You know, even this show isn\\'t real. This isn\\'t me; I\\'m using a voice \\ndisguiser. I\\'m a phoney fuck just like my Dad, just like anybody. You see, the real me is \\njust as worried as the rest of you. They say I\\'m disturbed, well of course I\\'m disturbed. I \\nmean we\\'re all disturbed, and if we\\'re not, why not? Doesn\\'t this blend of blindness and \\nblandness want to make you do something crazy? Then why not do something crazy? It \\nmakes a hell of a lot of sense than blowing you fucking brains out you know. Go nuts, go \\ncrazy, get creative! You got problems? You just chuck\\'em, nuke\\'em! They think you\\'re \\nmoody? Make\\'em think you\\'re crazy, make\\'em think you might snap! They think you got \\nattitude? You show\\'em some real attitude! Come on, go nuts, get crazy. Hey no more Mr. \\nNice Guy. Ahhhhhhhhhhhhhhhhhh, oh god!! ahhhhhhhhhhhhhhh, oh yes. <Paige throws \\nall her stuff in the microwave and turns it on> <Henry Rollins plays> Time out! <Starts \\nto read a letter> This is good, this is really very interesting.<Happy Harry Hardon dials \\nthe phone>\\n\\nChris - Hello\\n\\nHappy Harry Hardon - Hi it\\'s me you\\'re on the air. Are you willing to tell my listeners \\nwhat you told me here in this letter? Do you think they\\'re ready to handle it.\\n\\nChris - I\\'m not ashamed.\\n\\nHappy Harry Hardon - So tell us what happened.\\n\\nChris - This guy I knew, he invited me up to the ridge and I wasn\\'t really sure why, but I \\nwas really happy because he\\'s a pretty cool guy, he\\'s an athlete and everything.\\n\\nHappy Harry Hardon - First of all where was this and how old are you.\\n\\nChris - It was just before school. I\\'m sixteen.\\n\\nHappy Harry Hardon - Go ahead.\\n\\nChris - So we get up there, we take our shirts off and we start fooling around and then I \\nsought of told him how much I liked him, he just smiled and said he knew it. But then, he \\nsays why don\\'t we take our pants off and get a tan, so I did it, but he stalled.\\n\\nHappy Harry Hardon - Go ahead.\\n\\nChris - Then two of his friends showed up and they were drinking beer and laughing and \\nthey took my clothes and threw them up in the trees. I didn\\'t know what to do. I started to \\ncry but they just laughed at me so I stopped and they just started calling me things. I don\\'t \\neven care about that. I know I\\'m into guys, but this was different.\\n\\nHappy Harry Hardon - So what did you do?\\n\\nChris - Everything, everything they told me.\\n\\nDeaver - I\\'m calling the police. Fraud! Pornography! He\\'s just using these poor kids.\\n\\nPolice Dispatcher - That\\'s the thirteenth call tonight.\\n\\nPolice Officer - Sounds like the kids bull shitting to me.\\n\\nDetective #1 - I don\\'t know, these things happen when you\\'re a kid, you swallow it \\nDenny?\\n\\nDetective Denny - I think you\\'re forgetting what it\\'s like when you\\'re young.\\n\\nShep\\'s Boss - C\\'mon Shep. They got this kid to call in with this story they\\'ve concocted, \\nthis isn\\'t real.\\n\\nShep Sheppard - Who cares if it\\'s real? People are riveted.\\n\\nDetective Denny - No! If people are re-broadcasting this stuff over state lines, I think it\\'s \\ntime to call in the Feds. This is F.C.C. juristiction.\\n\\nChris - I feel bad that I didn\\'t even do anything. Now he wont even talk to me, he wont \\neven look at me. I\\'m pretty confused!\\n\\nHappy Harry Hardon - Confused! You\\'re not the one who is confused. You sound like \\nyou know exactly what\\'s going on. If any ones confused it\\'s those guys out there.\\n\\nChris - I know, but I think about him a lot. I sometimes wonder why one person is born \\none way and another person is born another way..... Are you there?\\n\\nHappy Harry Hardon - Yes, yes!\\n\\nChris - So I guess you think I\\'m a faggot wimp hey?\\n\\nHappy Harry Hardon - No! I\\'m just thinking how strong people can be and how everyone \\nis alike in some way, how everyone needs the same things.\\n\\nChris - So what are we going to do about this.\\n\\nHappy Harry Hardon - I don\\'t know. That\\'s the big question isn\\'t it hey?\\n\\nChris - I guess nobody knows hah. Well that\\'s tough, I got to go, se ya.\\n\\nHappy Harry Hardon - I guess we all got to go now. Good night pal, good night friends.\\n\\n<The Pixies \"Wave Of Mutilation\" plays>\\n\\n<Tomorrow in the school grounds>\\n\\nNora - \"Believe It Or Not I Care: 8:30 - 3:30.\" What\\'s that.\\n\\nJanie - Some new hot line Deaver\\'s setting up.\\n\\nNora - Hey it\\'s like 8:30 in the morning so it\\'s alright to kill myself!\\n\\nJanie - Oh my god it\\'s after 3:00 so I\\'m totally fucked.\\n\\n<Mark walks by>\\n\\nNora - Hi!\\n\\n<Mark ignores her>\\n\\nJanie - What are you doing........ Tramp!\\n\\nNora - Bitch!\\n\\n<Creswood\\'s office>\\n\\nCreswood - How\\'s he getting all this information? I want all the locks in the school \\nchanged. I want a list of every student with relatives on the staff.\\n\\n<Murdock walks in>\\n\\nMurdock - Excuse me. I just found the graffiti on the roof of the cafeteria, they\\'re taking \\nit down now.\\n\\nCreswood - What\\'s it say?\\n\\nMurdock - \"Creswood\\'s a maggot puss wad.\"\\n\\n<Murdock sees Donald selling Happy Harry Hardon tapes by the lockers and takes him to \\nCreswood>\\n\\nDonald - Nobody knows who he is.\\n\\nCreswood - We don\\'t believe you Donald.\\n\\nDonald - I swear to you, nobody\\'s got an idea.\\n\\nMurdock - Well you\\'ve got to the end of the day to get an idea. Don\\'t forget, your file is \\nunder review.\\n\\nCreswood - You better bring all you enrolment files here to my office.\\n\\n<Back outside the lockers>\\n\\nDoug - So what did they do to you?\\n\\n<Donald shakes his head in disgust>\\n\\nJoey - Hey! You Donald?\\n\\nDonald - Yeah\\n\\nJoey - Hi! I\\'m Joey can you get me into the P.A.\\n\\n<The school alcove>\\n\\nCreswood - That\\'s the end of the music in The Alcove and from now on any found \\ndefacing of school property will be expelled.\\n\\n<Donald and Joey put a mix tape of Deaver squirming in conversation with Happy Harry \\nHardon>\\n\\nCreswood - What\\'s happening? What\\'s going on?\\n\\nMurdock - It\\'s Mr Deaver!\\n\\nMr Moore - It wont stop, they\\'re in the speaker system.\\n\\nCreswood - Shut it off, shut off the whole system.\\n\\nMr Moore - We can\\'t!\\n\\nCreswood - Shut down the whole school!\\n\\n<Shep Sheppard roles up outside Hubert Humphrey where Mazz lingers>\\n\\nMazz - Hey you! Check it out, you\\'re the TV guy right? Hey you want to interview me, \\nhey because I listened the first night he was on, I\\'m like a mate of his. I used to go here, \\nbut they chucked me out for no reason you know. <Mazz throws coloured smoke bomb\\'s \\non the ground> Hey check it out, school colours you know, instant prep rally. Jesus the \\nsmog\\'s getting worse and worse in this town. <Murdock grabs Mazz and takes him to \\nCreswood\\'s office.>\\n\\nShep Sheppard - This is Shep Sheppard reporting live from deep in the smoke at \\nHumphrey High.\\n\\n<Creswood\\'s office>\\n\\nMurdock - Sit down.\\n\\nMazz - So anybody mind if I smoke?\\n\\nCreswood - You do understand that you\\'re expelled Mr Mazzilli?\\n\\nMazz - That\\'s cool.\\n\\nCreswood - I can quite legally expel you.\\n\\nMazz - Yo! Loretta, I\\'m already expelled. Don\\'t you remember? You booted me out the \\nfirst week for dress code.\\n\\nCreswood - You\\'re trespassing. How would you like to be arrested.\\n\\nMazz - Well that\\'s cool too, \\'cos I told them cameras to wait. I\\'ve got a lot to tell them \\nyou know.\\n\\nCreswood - And who\\'s going to believe you, tell me who\\'s going to believe you?\\n\\nMazz - Maybe Harry would.\\n\\n<Nora pulls Mark into the Clayroom>\\n\\nNora - It\\'s cool, it\\'s safe. Guess what I heard?\\n\\nMark - What?\\n\\nNora - That tall snob Paige Woodward, she burned up all her shit last night right after you \\nsuggested it, in her kitchen! Oh her precious pearls were flying like bullets, her Dad was \\nun-thrilled.\\n\\nMark - This is out of control.\\n\\nNora - Yeess!\\n\\n<An announcement come over the P.A. that there will be an emergency PTA. meeting \\nthat evening.>\\n\\nMark - That\\'s it, it\\'s over. I just hope it isn\\'t too late.\\n\\nNora - Mark!\\n\\nMark - Just leave me alone okay, please!\\n\\n<Mark goes to collect his post only to see the police get there just before him>\\n\\nReporter #2 - Is that box registered to any name?\\n\\nPostal Clerk - Yes of course that box is registered to a name, but I can\\'t give it out to you.\\n\\nDetective Denny - <Holding up his badge> But you can to me.\\n\\nPostal Clerk - Yes sir I can give it to you. I\\'ll give it to you instantly. That box is \\nregistered to a Mr. Charles U. Farely, 112 Crescent.\\n\\nReporter #2 - But that\\'s the address of the school.\\n\\nDetective Denny - Chuck You Farely, ha ha. \\n\\n<The Hunter dining table, watching the news>\\n\\nMarla - Are you okay Mark?\\n\\nMark - Don\\'t worry Mum. I\\'m not going to blow up the kitchen.\\n\\nMarla - Very funny darling.\\n\\nBrian - Listen to this. Mark have you ever even listened to this character.\\n\\nMark - No, not exactly listened.\\n\\nBrain - Well he\\'s knocking the best school in the district and apparently he goes there.\\n\\nMark - Dad it\\'s not exactly the best school in the district. There are some problems with \\nit.\\n\\nBrian - You don\\'t rock the boat especially when you\\'re sitting in it. Any way we should \\nget going, I don\\'t want to be late.\\n\\nMarla! - C\\'mon Mark it\\'s your fathers big meeting.\\n\\n<The PTA. meeting>\\n\\nCreswood - Good evening on be half of myself and the staff at Hubert Humphrey High I \\nwish to thank you for turning out in such numbers, I congratulate you on your concern. \\nNow before we begin I would like to introduce our new school commissioner, fresh from \\nseveral educational triumphs on the east coast, Brian Hunter. Before I introduce the rest \\nof our speakers for this evening.\\n\\nPTA. Parent #1 - Excuse me Mrs Creswood, can we just skip the preliminaries and find \\nout what you\\'re doing about all this.\\n\\nCreswood - Well when I introduce Mr Deaver he\\'ll talk about our twenty four hour hot \\nline.\\n\\nPTA. Parent #1 - Wait a minute, the kids who need the most help like those with drug \\nproblems, they don\\'t go in for all that.\\n\\nPTA. Parent #2 - I know kids. I mean they just wanna be happy.\\n\\nPTA. Parent #3 - Frankly, this radio person is the whole problem. Are we going to allow \\nthis guy to be heard by anyone who turns a dial.\\n\\nPTA. Parent #4 - I work with teenage gangs in the city I say we go after this guy.\\n\\n<Paige walks in>\\n\\nPaige - My name is Paige Woodward and I have something to say to you people. People \\nare saying that Harry is introducing bad things and encouraging bad things. But it seems \\nto me that these things were already here. My god why don\\'t you people listen? He\\'s \\ntrying to tell you something is wrong with this school. Half the people that are here are on \\na probation of some kind. We are all really scared to be who we really are. I am not \\nperfect. I\\'ve just been going through the motions of being perfect, and inside I\\'m \\nscreaming.\\n\\nCreswood - Paige, you were a model student.\\n\\n<Paige walks out were the press await>\\n\\nReporter #2 - Do you know who he is? Are you prepared to do anything he says?\\n\\nPaige - <Shouting into the camera> Can you hear me? Don\\'t listen to them, don\\'t listen to \\nany of them, stay on, stay hard!\\n\\nReporter #2 - Are you on drugs?\\n\\nPaige - Arrrgh. Talk Hard. Arrrrrgh.\\n\\nMark - I\\'ve got a lot of homework I\\'m gonna take off alright.\\n\\nMarla - Mark I know why your really going home. It\\'s because you wanna listen to that \\nshow tonight don\\'t you?\\n\\n<Play Peter Murphy>\\n\\n<Nora goes to Marks house where she finds him burning his Happy Harry Hardon \\nletters>\\n\\nNora - Hi! What are you doing? You having fun?\\n\\nMark - Yeah.\\n\\nNora - Hey, look I took some of these off the wall for you. I mistakingly thought you \\nmight want them.\\n\\nMark - Thanks.\\n\\nNora - So I guess you\\'re not going on tonight.\\n\\nMark - Brilliant.\\n\\nNora - Is this all just a game to you. You know you can\\'t just shout fire in a theatre and \\nwalk out. You have a responsibility for the people who believe in you. What is this? \\nC\\'mon say something, say anything. Open your mouth and say get the hell out of here \\nbitch.\\n\\nMark - I can\\'t.\\n\\nNora - You can\\'t what?\\n\\nMark - I can\\'t talk.\\n\\nNora - Sure you can talk.\\n\\nMark - I can\\'t talk to you.\\n\\nHappy Harry Hardon - I got a letter from this guy who\\'s got a problem, he can\\'t talk. I \\nmean he can talk, but never when he wants to, not to girls, not to people.\\n\\nBrian - I can\\'t believe it\\'s as bad as they say.\\n\\nHappy Harry Hardon - He just opened up his mouth and nothing came out. And this jerk \\nfinds somebody that he likes, which is probably the worst thing to happen to a person \\nwho can\\'t talk. So I don\\'t know what to tell this guy because lately every time I give out \\nadvice the fit hits the shan. So I don\\'t know, maybe the best thing to do is just turn around \\nand face the music and try to talk.\\n\\nMarla - Mark!\\n\\nMark - Coming.\\n\\nMarla - Mark it\\'s just us. I wanna come in for a minute.\\n\\nMark - Yeah, just give me a second here, two seconds.\\n\\nBrian - Mark unlock the door.\\n\\nMarla - Mark can you hear us?\\n\\nMark - Yes, yes.\\n\\nMarla - We wanna come in.\\n\\nBrian -  Open the god dam door.\\n\\nMark - On my way.\\n\\n<Mark opens the door>\\n\\nBrian - Your mother and I have been out there for two minutes, what the hell are you \\ndoing in there.\\n\\nMark - I was just reading.\\n\\nMarla - Oh c\\'mon Mark we heard you, we heard you talking.\\n\\nMark - I was reading aloud.\\n\\nBrian - Oh c\\'mon do you really expect us to believe that?\\n\\nMark - Okay I\\'ll tell you the truth.\\n\\nNora - He was talking to me. Hi I\\'m Nora Diniro.\\n\\nMarla - Nice to meet you, how do you do.\\n\\nNora - I was afraid you would be mad at me for disturbing Mark\\'s homework.\\n\\nMarla - You don\\'t know how happy we are to meet you.\\n\\nNora - Listen I got to go, but it was really nice to have met you, bye Mark.\\n\\nMarla - No, you don\\'t have to go. Mark she doesn\\'t have to go.\\n\\nNora - Bye now, see you tomorrow.\\n\\n<Nora exits>\\n\\nBrian - You\\'ve been a bad dog haven\\'t you. You know for a second there we though you \\nwere that crazy DJ character.\\n\\nMark - Maybe he\\'s not that crazy Dad.\\n\\nBrian - Right! Very funny. Go get her, go on. <Brian and Marla exit> That\\'s my idea of \\nhome work.\\n\\nMarla - Yeah.\\n\\nHappy Harry Hardon - Sorry about that folks, technical difficulties. Lets see who we have \\nout there tonight hey. The usual band of teenage malcotets. I certainly hope so, because \\nHappy Harry Hardon is feeling kind of rude tonight.\\n\\nBrian - That little leech.\\n\\nMarla - Like father, like son.\\n\\nHappy Harry Hardon - Oh I feel good, dam <Happy Harry Hardon takes of his T Shirt> \\nWell, well, well, well. The big news! The emergency PTA meeting to discuss your truly. \\nYes all the professionals have come out to talk about little old me and now they\\'ve all run \\nhome to tune in and listen to what they\\'ve all been talking about. They say that I am \\ndillusioned, demented, deranged and so guess what I say, SO BE IT! I say rise up in the \\ncafeterias and stab them with your plastic forks. I say flogging and flactuance for Mrs \\nCreswood, she gets a hundred lashes for every kid she\\'s hounded out of that fucking \\nplace. I say down with all guidance councillors, make them work for a living. I can\\'t stay \\naway from this man. Oh I got to give him another call. Here I come Deave.\\n\\nPolice Dispatcher - Hot line. Believe it or not we care.\\n\\nHappy Harry Hardon - Believe it or not this is Happy Harry Hardon and I would like the \\npleasure of speaking to Mr Deaver.\\n\\nPolice Dispatcher - Just a moment, I\\'ll see if he\\'s available.\\n\\nHappy Harry Hardon - I love it, the bitch is putting me on hold. I\\'m waiting for you. You \\ncan run, but you can not hide Mr Deaver. Waiting for the Deave.                                 \\n\\nDeaver - Hello my young friend.\\n\\nHappy Harry Hardon - You\\'re in on it right Mr Deaver.\\n\\nDeaver - It\\'s all over son this phone call has been traced and who ever you are, your \\nHistory.\\n\\nHappy Harry Hardon - Well, so be it, alleuelya.\\n\\nMazz - Don\\'t just sit there man, run!\\n\\nHappy Harry Hardon - Don\\'t worry about me, I\\'m alright. You see I bet what\\'s happening \\nout there is that the police are busting some old couple who have been un-knowingly \\nsupplying me with my phone fees. I am everywhere. I am inside each and every single \\none of you. Just look in and I will be there waving out at yeah, naked wearing only a cock \\nring, heh, heh. Wow, time flies when you\\'re on the run. I\\'m gonna cut out now with this \\nunusual song I\\'m dedicating to an unusual person who makes me feel kind of unusual.\\n\\n<Ivan Neville plays>\\n\\nNora - It\\'s okay you don\\'t have to talk, you don\\'t have to say anything and you don\\'t have \\nto do anything, unless you want to.\\n\\nMark - You\\'re so different. <Nora takes her top off> I meant your so fearless. I wish I \\ncould be like you.\\n\\nNora - You are.\\n\\nMark - I wish I could say things to you.\\n\\nNora - You do.\\n\\nMark - Everything\\'s so strange.\\n\\nNora - Yeah.\\n\\nMark - Maybe we\\'re just crazy.\\n\\nNora - So be it.\\n\\n<A police car pulls up nearby>\\n\\nNora - It\\'s the cops!\\n\\nMark - It\\'s okay. I think they\\'re just dropping in on my neighbour.\\n\\nNora - So are you really wearing a cock ring.\\n\\nMark - I\\'ve never even seen one.\\n\\nNora - Oh yeah.\\n\\nMark - Yeah, I read about them in a magazine.\\n\\nNora - Maybe I don\\'t believe you. <Tries to unzip Mark\\'s jeans>\\n\\nMark - I swear, what are you doing. I have neighbours, stop!\\n\\nNora - So you can talk when you want to.\\n\\nMark - Yes I can.\\n\\nNora - Maybe we should pause first stage personal identification. I got to go.\\n\\n<The next day outside Hubert Humphrey>\\n\\nShep Sheppard - It\\'s been three days since the death of Malcolm Kaiser and state and \\nlocal officials have still little idea of the identity of this so called Happy Harry Hardon or \\nthough many are convinced he is a student at this school.\\n\\n<Mark approaches Nora at the school gates>\\n\\nNora - Hi.\\n\\nMark - Are you okay.\\n\\nNora - Yeah, are you.\\n\\nMark - Yeah.\\n\\n<After a beautiful couple stalled attempts to kiss each other, their lips finally meet>\\n\\nNora - This is deep your message is out there. \"The Truth Is A Virus\"\\n\\nMark - Oh God! Jesus, this whole thing is making me ill.\\n\\nNora - Mark what is with you.\\n\\nMark - Look Nora last night was a mistake, I\\'m not going on any more, it\\'s over.\\n\\nNora - But your so close.\\n\\nMark - Close to what.\\n\\nNora - To getting your message across.\\n\\nMark - This is my life you\\'re screwing around with here you know.\\n\\nNora - Not any more it isn\\'t, this is everyone\\'s life. Mark you can\\'t leave it like this, \\npeople are confused.\\n\\nMark - So am I.\\n\\nNora - Mark!\\n\\nMark - The things fucked up, it\\'s crazy!\\n\\nNora - No, no the world is fucked up just like you said. Don\\'t you see that you\\'re the \\nvoice, you\\'re the voice we\\'re all waiting for.\\n\\nMark - You\\'re completely nuts. <Mark runs off>\\n\\nNora - Yeah, well you make me nuts.\\n\\n<Murdock scours the school to find Creswood\\'s so called troubled students>\\n\\n<Creswood\\'s office>\\n\\nCreswood <On the phone to Brian Hunter> - No Brian everything is under control. I\\'ve \\njust ordered psychiatric evaluations on a couple of the key trouble makers. I can do what \\never I like, it\\'s my school, Commissioner. No you\\'re not coming over here, you\\'ll only \\nupset me more good bye!\\n<Creswood turns her head to her key trouble makers> Well shall we have a look at these \\nfiles, or shall we discuss the identity of  our DJ friend.\\n\\n<Murdock turns off a Happy Harry Hardon tape in The Alcove>\\n\\nMurdock - Don\\'t push me people, you understand that. <People start making funny noises \\nbehind him>\\n\\nCheryl - They got forced to take me back.\\n\\n<Mazz appears to put some graffiti on the wall>\\n\\nMurdock - Where\\'re you going?\\n\\nMazz - I\\'m putting this up.\\n\\nMurdock - You\\'re not putting anything up. You\\'re not supposed to be here. <Murdock \\npushes Mazz>\\n\\nMazz - Hey, hey! Murdock you\\'re getting so touchy.\\n\\nMurdock - Your not supposed to be here. <Murdock attacks Mazz>\\n\\n<Jan & Creswood rush over>\\n\\nJan - Stop, that\\'s enough. What\\'s wrong with you? He was beating a student. What\\'s \\nwrong with this school?\\n\\nCreswood - Control yourself.\\n\\nJan - I will not. I want answers.\\n\\nCreswood - Or suffer the consequences.\\n\\nJan - What are you talking about.\\n\\nCreswood - I\\'m talking about your dismissal.\\n\\n<Outside the lockers>\\n\\nMark - Nora, I\\'ve been looking all over for you. I just wanted to apologise for saying you \\nwere nuts.\\n\\nNora - Forget it. Look <They both turn to the field with the F.C.C. vans> F.C.C. you \\nknow what that means.\\n\\nMark - Yeah, it means Federal Communication Commission. They can drive around and \\ntriangulate where ever the hell a radio signals coming from. I know exactly what it \\nmeans.\\n\\nNora - Yeah, so fuck it right. I mean it\\'s over. Frankly I don\\'t even give a shit.\\n\\nMark - What the hell is wrong.\\n\\nNora - I just got expelled.\\n\\nMark - What the hell are you talking about.\\n\\nNora - I\\'m failing Math.\\n\\nMark - They can\\'t kick you out for that.\\n\\nNora - I\\'ve been cutting lessons.\\n\\nMark - Well that just deserves a suspension right.\\n\\nNora - Well then I said \"Fuck You\" to Creswood. You should have seen her face, she was \\nso happy she said \"Thank You\"\\n\\nMark - This school sucks. Jesus Christ!\\n\\nNora - This is why I don\\'t even care anymore. Look just leave it alone. There\\'s nothing \\nyou can do about it. <Nora runs off>\\n\\nJan - Hunter! Hunter wait a minute. I just wanted to say good bye and good luck.\\n\\nMark - Why?\\n\\nJan - I was fired, I made a mistake. I thought I could change things, I forgot you don\\'t \\nrock the boat.\\n\\nMark - Yeah especially when you\\'re in it.\\n\\nJan - Hey, chin up.\\n\\n<Staff room>\\n\\nBrian - Loretta what the hell is going on here.\\n\\nCreswood - It\\'s the trouble makers, you can\\'t run a top school with trouble makers in the \\nmix.\\n\\nBrian - Okay, so what exactly is a trouble maker.\\n\\nCreswood - Someone who has no interest in education.\\n\\nBrian - Oh c\\'mon that includes every teenager I know.\\n\\nCreswood - Can\\'t you understand that nothing is more important than a good education.\\n\\nBrian -  Except for the basic right to it.\\n\\nCreswood - The point is I have the highest S.A.T. scores in the state.\\n\\nBrian - Yeah but how.\\n\\nCreswood - I stand by my record.\\n\\n<The School Field>\\n\\nShep Sheppard - Mr. Watts, Shep Sheppard Channel Six news here.\\n\\nWatts - Good evening.\\n\\nShep Sheppard - How does Washington intend to deal with this situation.\\n\\nWatts - We at the F.C.C. feel that democracy is about protecting the rights of the ordinary \\ncitizen. Un-regulated radio would result in programming of the lowest common \\ndenominator, the rule of the mob. <Watts looks round to see one of his F.C.C. vans has \\npicked up some graffiti> This is vandalism, not free expression.\\n\\n<Everyone gathers outside the school to listen to the Happy Harry Hardon show>\\n\\nMazz - Okay everybody, ten seconds to Happy Harry Hardon. Ten, nine, eight, seven, \\nsix, five, four, three, two, one. Harrrrrry! C\\'mon we\\'re right here waiting for you right \\nnow.\\n\\n<Mark turns up at Nora\\'s house>\\n\\nMark - Hi.\\n\\nNora - Hi.\\n\\nMark - Are you okay?\\n\\nNora - Yeah, fine, great, never been better.\\n\\nMark - We started something here.\\n\\nNora - We!\\n\\nMark - Alright I started, but now I need your help to finish it. Nora I need you.\\n\\nNora - Well it\\'s about time.\\n\\nMark - I\\'ve got something to show you.\\n\\nNora - Is it bigger than a baby\\'s arm.\\n\\nMark - No it\\'s outside. <Mark shows Nora his converted radio jeep>\\n\\nNora - Oh wow.\\n\\nMark - It\\'s my Mums jeep she kind of loaned it to me.\\n\\nNora - Who did all this?\\n\\nMark - Me and radio shack. You have driven a jeep before right?\\n\\n<Concrete Blondie plays and the F.C.C. vans go on the search of Happy Harry Hardon>\\n\\nMr. Watts - Personally I hope we get to hear from him a little bit before they nab him it \\nwill be interesting to see how hard he is then.\\n\\nHappy Harry Hardon - Hello Dad we\\'re going to jail.\\n\\nNora - Say hi to Mom.\\n\\nHappy Harry Hardon - Hi folks! It seems we have a new listener tonight. Mr Watts of the \\nF.C.C. Hi Arthur thanks for coming out.\\n\\nWatts - Well thank you for coming out.\\n\\nHappy Harry Hardon - Imagine a fucking political hag being in charge of free speech in \\nAmerica. I bet Watts was the guy who took names at high school when the teacher was \\nabsent.\\n\\nWatts - This is the problem with free speech. Would you cut that thing, cut it off. Would \\nyou just turn the dam thing off. He\\'s obviously moving just pull everything over on \\nwheels.\\n\\nHappy Harry Hardon - Welcome to radio free America. America\\'s ready, I\\'m ready. I \\nwant a million voices crying out in the wilderness. Jesus let\\'s get serious. Maybe Mr. \\nWatts can shed some light no the mysterious disappearances of some of our students. \\nLuis Chavez age fifteen, legally kicked out on September 26th. Arthur Washington age \\nsixteen, expelled September 27th.\\n\\nCreswood - So what does this prove, not everyone goes to college.\\n\\nMurdock -Right.\\n\\nJan - Mr. Hunter I think you should be aware of something. After the school received the \\nmoney from the government for every enrolled student, Mrs Creswood would then \\nproceed to weed out those she felt were undesirable.\\n\\nCreswood - Nonsense she doesn\\'t know what she\\'s talking about.\\n\\nJan - In the first weeks you flagged all the pupils with low S.A.T. scores and started files \\non them. Why?\\n\\nCreswood - What are you doing with school property?\\n\\nBrian - She asked you why.\\n\\nJan - For extra tutoring.\\n\\nBrian - You expelled over twenty students in the first thirty days of school.\\n\\nJan - And how many others did you harass into dropping out.\\n\\nBrian - And you kept the expelled students names on the rolls that\\'s illegal.\\n\\nCreswood - The money went to the school, it was all for the good of the school.\\n\\nJan - Those kids had rights.\\n\\nCreswood - They were losers.\\n\\nMurdock - Trouble makers.\\n\\nDeaver - They\\'re just kids.\\n\\nCreswood - I don\\'t regret my policy.\\n\\nBrian - It\\'s criminal and I\\'m suspending you.\\n\\nCreswood - You can\\'t do that.\\n\\nBrian - Oh I\\'m afraid I just did.\\n\\n<Nora hits a bump trying to avoid the F.C.C. vans as she goes off road near the school \\ngrounds>\\n\\nMark - Oh Jesus my harmoniser.\\n\\nNora - Forget it, hold on I\\'ve got to get us out off here.\\n\\nMark - I need that to disguise my voice.\\n\\nNora - Well give me a minute maybe we can fix it.\\n\\nMark - <Looks at the people gathered at the school> Jesus look at this. Fuck it, I\\'m going \\non with out it.\\n\\nNora - No, I think I got it.\\n\\nMark - Okay this is really me now, no more hiding. Listen we\\'re all worried, we\\'re all in \\npain, that just comes with having eyes with having ears, but just remember one thing it \\ncan\\'t get any worse, it can only get better. I mean high school is the bottom. Being a \\nteenager sucks, but that\\'s the point, surviving it is the whole point. Quitting is not going \\nto make you strong, living will. So just hang on and hang in there.  You know I know all \\nabout the hating and the sneering, I\\'m a member of the why bother generation myself. But \\nwhy did I bother coming out here tonight and why did you? I mean it\\'s time, it begins \\nwith us not with politicians, the experts of the teachers, but with us, with you and with \\nme, the ones who need it most. I believe with everything that\\'s in me that the whole world \\nis begging for healing, even the trees and the earth its self are crying out for it, you can \\nhear it everywhere. It\\'s the same kind of healing I desperately needed and finally feel has \\nbegun with you.<A police chopper appears over head> Everyone mix it up, it\\'s not game \\nover yet, it\\'s just the beginning, but it\\'s up to you. I\\'m calling for every kid to seize the air. \\nSteal it, it belongs to you. Speak out, they can\\'t stop you. Find your voice and use it. Keep \\nthis going. Pick a name, go on air. It\\'s your life, take charge of it. Do it, try it, try \\nanything. Spill your guts out and say shit and fuck a million times if you want to, but you \\ndecide. Fill the air, steal it. Keep the air alive...................... .. \\n...................................................... TALK HARD!!!!\\n\\nThe above dialogue was from the movie \"Pump Up The Volume\" (c)1990 New Line \\nCinema. And was rewritten without permission.\\n\\nOriginally Written by Allan Moyle\\n\\nExtracted from the film by Martin Eaves\\n\\n\\n</pre></html>', 'summary': ' Mark Hunter (Slater), a high school student in a sleepy suburb of Phoenix, Arizona, starts an FM pirate radio station that broadcasts from the basement of his parents\\' house. Mark is a loner, an outsider, whose only outlet for his teenage angst and aggression is his unauthorized radio station. His pirate station\\'s theme song is \"Everybody Knows\" by Leonard Cohen and there are glimpses of cassettes by such alternative musicians as The Jesus and Mary Chain, Camper Van Beethoven, Primal Scream, Soundgarden, Ice-T, Bad Brains, Concrete Blonde, Henry Rollins, and The Pixies. By day, Mark is seen as a loner, hardly talking to anyone around him; by night, he expresses his outsider views about what is wrong with American society. When he speaks his mind about what is going on at his school and in the community, more and more of his fellow students tune in to hear his show.\\nNobody knows the true identity of \"Hard Harry\" or \"Happy Harry Hard-on,\" as Mark refers to himself, until Nora Diniro (Mathis), a fellow student, tracks him down and confronts him the day after a student named Malcolm commits suicide after Harry attempts to reason with him. The radio show becomes increasingly popular and influential after Harry confronts the suicide head-on, exhorting his listeners to do something about their problems instead of surrendering to them through suicideâ\\x80\\x94at the crescendo of his yelled speech, an overachieving student named Paige Woodward (who has been a constant listener) jams her various medals and accolades into a microwave and turns it on. She then sits, watching the awards cook until the microwave explodes, injuring her. While this is happening, other students act out in cathartic release.\\nEventually, the radio show causes so much trouble in the community that the FCC is called in to investigate. During the fracas, it is revealed that the school\\'s principal (Annie Ross) has been expelling \"problem students,\" namely, students with below-average standardized test scores, in an effort to boost the district\\'s test scores while still keeping their names on the rolls (a criminal offense) in order to retain government funding.\\nRealizing he has started something huge, Mark decides it is up to him to end it. He dismantles his radio station and attaches it to his mother\\'s old jeep, creating a mobile transmitter so his position can\\'t be triangulated. Pursued by the police and the FCC, Nora drives the jeep around while Mark broadcasts. The harmonizer he uses to disguise his voice breaks, and with no time left to fix it, Mark decides to broadcast his final message as himself. They finally drive up to the crowd of protesting students, and Mark tells them that the world belongs to them and that they should make their own future. The police step in and arrest Mark and Nora. As they are taken away, Mark reminds the students to \"talk hard.\" As the film ends, the voices of other students (and even one of the teachers) speak as intros for their own independent stations, which can be heard broadcasting across the country.', 'word_count': 11499}\n"
          ]
        }
      ],
      "source": [
        "# Saving the data in a variable\n",
        "data=read_json(docs_dir)\n",
        "print(data[0])"
      ]
    },
    {
      "cell_type": "code",
      "execution_count": 6,
      "metadata": {
        "colab": {
          "base_uri": "https://localhost:8080/"
        },
        "id": "4CbNFX0EofDo",
        "outputId": "0409ddf8-9d8a-4b0e-a471-ed011342031c"
      },
      "outputs": [
        {
          "name": "stdout",
          "output_type": "stream",
          "text": [
            "83\n"
          ]
        }
      ],
      "source": [
        "# Printing the amount of questions given as reference\n",
        "dirDocDomande=\"/content/drive/MyDrive/dataset/subsampled_golden_pairs.json\"\n",
        "dataDomande=read_json(dirDocDomande)\n",
        "ids=set()\n",
        "for elemento in dataDomande:\n",
        "  ids.add(elemento['id'])\n",
        "print(len(ids))"
      ]
    },
    {
      "cell_type": "code",
      "execution_count": 7,
      "metadata": {
        "id": "MlA1semNDECp"
      },
      "outputs": [],
      "source": [
        "# Saving the link between titles and ids in a file\n",
        "title_to_id=dict()\n",
        "i=0\n",
        "for id in ids:\n",
        "  title_to_id[id]=i\n",
        "  i+=1\n",
        "with open('/content/drive/MyDrive/title_to_id.json', 'w') as fp:\n",
        "    json.dump(title_to_id, fp)"
      ]
    },
    {
      "cell_type": "markdown",
      "metadata": {
        "id": "8HCBFV50moY-"
      },
      "source": [
        "## 2. RAG Indexing using ColBERT\n",
        "\n",
        "ColBERT (Contextualized Late Interaction over BERT) is an advanced retrieval method in natural language processing that leverages the BERT model to improve both efficiency and accuracy in large-scale information retrieval tasks. Unlike traditional cross-encoders that evaluate every possible pair of query and document at query time, ColBERT precomputes document embeddings and interacts with query embeddings in a late stage. This late-stage interaction enables faster and more scalable retrieval while maintaining high accuracy, making it particularly suitable for applications requiring quick access to large datasets.\n"
      ]
    },
    {
      "cell_type": "code",
      "execution_count": 36,
      "metadata": {
        "id": "3BQljCX4Z11j"
      },
      "outputs": [],
      "source": [
        "# Organizing the structures to pass to the ColBERT model\n",
        "my_documents = []\n",
        "document_ids = []\n",
        "document_metadatas = []\n",
        "\n",
        "selected_titles=[]\n",
        "for elemento in dataDomande:\n",
        "  selected_titles.append(elemento['id'])\n",
        "\n",
        "documentiFiltrati=[]\n",
        "docInseriti=[]\n",
        "num_docs = 0\n",
        "count_filtered_titles = 0\n",
        "\n",
        "for elemento in data:\n",
        "  if elemento['id'] in selected_titles:\n",
        "    documentiFiltrati.append(elemento)\n",
        "for elemento in documentiFiltrati:\n",
        "  num_docs+=1\n",
        "  id = elemento['id']\n",
        "  if id in docInseriti:\n",
        "    continue\n",
        "  docInseriti.append(id)\n",
        "  sezioneTesto = elemento['text']\n",
        "  sezioneSummary = elemento['summary']\n",
        "  text = sezioneTesto + sezioneSummary\n",
        "  sourceId = title_to_id[id]\n",
        "  if(sourceId == \"\"):\n",
        "    print(\"hi\")\n",
        "  sourceAlphanum = id\n",
        "\n",
        "  my_documents.append(text)\n",
        "  document_ids.append(sourceAlphanum)\n",
        "  document_metadatas.append({\"source_id: \" : sourceId})"
      ]
    },
    {
      "cell_type": "code",
      "execution_count": 9,
      "metadata": {
        "colab": {
          "base_uri": "https://localhost:8080/",
          "height": 1000,
          "referenced_widgets": [
            "7fbfe57c17ac42f09361afff134a83eb",
            "43ad697f641c4ef99b1b0c2748e32dfa",
            "19f32835fc0b4461a9998aa960d9afb1",
            "da224268b298478a8b8472553e8eabbf",
            "f69da1faa7084c0c8e4f26dff3a450a7",
            "d588f58797f74ebfaa6e7da375767bb5",
            "becccc3ce63b42a397b39f422087329d",
            "8ef05da1340c4ac19fb0333b1e30dd60",
            "46a17009bd3a4b50b81f3d79da9c1996",
            "a992709a5c204ab39063186434c1f6d1",
            "a89a8f91aa72435c8ca26d7d15a444ce",
            "5b1dec5cc7604551992446f9f4f26990",
            "1d0419ec3dc547a2a109702e83b1bc38",
            "341067272e4f435b816f60058b3a3d0d",
            "cce4e337a33c4901a89f1b052f712d50",
            "98119d13b24b41c79b9fcb70ed3d4f22",
            "ea6d0e546c02441fa479dc70950693ae",
            "ef4b1c00e7d9497586cfe582538792d9",
            "206630239ab34017a91190b2034a3f1f",
            "9a842df2b24f4193b5de7d6f44c79c89",
            "154dc1d1d61d41599f07f702826aeb8d",
            "d534e140b09844acaaddd126296ee52f",
            "1f0d42297b554bcf8e6dd97e1356d879",
            "739d56437cb248748fce79c3c37d61e6",
            "44120835504243d0bb770628ec22fb55",
            "2280bd9e25db411faa6c432579c55c99",
            "19515c04ec45406dbe269ff2b01b5a8b",
            "0dab7e75dc6d43ebb4eb9da6020c3a51",
            "1c6bd2772ddb4c439f6aa951cf366f67",
            "93249614f84c42c899691f0f42d9e3e7",
            "5706e0bf106d41639d79276d060db261",
            "af98005a02c1408aaeb2c5c2df7ca79c",
            "ba1bdaaaff09463d8369e4186b2bed9d",
            "03c81fb5a23d4b2abd76da48db4d2e59",
            "0b0bb08ab4b94ced8a5be76ea87c8b8b",
            "64ec092710ab44f9ae4b5e7ebd28d577",
            "f6b032a880884be9908251283cf2e9d6",
            "5215df07e0444ea79fcfe7ec781e1e07",
            "e5843c4e098f4038999e3fd67f615e9f",
            "0ad21e009cbe4cea926efa2819193314",
            "7116ee5f60a0403f8e7e62263c72980c",
            "2e53a2d98aed460697bb530af5133e31",
            "3174768b65f440b88904e2bc950d8312",
            "66d9102fcaa642d1a4e690199491d79e",
            "caf4050ed9fc45f1b59992b0e504d9ec",
            "74f37565b9554807a3c5863a0bb0278e",
            "67b8ac6f93884e39aed57b8ad34fa7be",
            "e2b5a5fc3528432fad639cb7b60cb9b1",
            "3e99f42da5134a029be015a4a8514a82",
            "f9eb49df1b5f4709ae8cc57abe6915d9",
            "0f2a3f962fdb42e7b8bc701543a26f82",
            "352ed0cb1afd44f1a8e1baa35831a112",
            "f8849ee418a84dc8a2e173b02a5a44df",
            "51444f58ad654b55a03a76da349d2896",
            "e2ff413fd2154ef5a219548e9fa639ef",
            "9946b27da51043e28ebf22234f2e0345",
            "39c91e43d4d545058027b3f093a3c925",
            "fcfec64c370240b1a11dd9a1060bb11f",
            "739eba13086343b7b88129c2c5374396",
            "9d6e0575b95746999af14c367b7860e9",
            "d1aaab7bf9ac4aec98fc3ac269d4a6f3",
            "030fb5d14cc9483cb1d926e5eb4a8d0c",
            "f0f29f216f424c4ebbc02c016ba11a30",
            "f3a8660a71bb4d9688dc5a45390b7759",
            "a2bcbd5bf3314e4d98e6ca3ed629b625",
            "87feedde48c0458794a7cd0b4b2eff8d",
            "ee307b5ad1214c348f747e0c34a9c37b",
            "9cf620f10c9f4290810ca2932a6959ec",
            "4c2bc1bac347481a99c1bd96659d8577",
            "4ff56d78f757494589df99801135a67b",
            "e9764add8d81419ab9b37ce9bbc34434",
            "064fbe4224fc4e25a6b2b4ac708b4178",
            "f2fa0f70f407463aa23e208e5fdeb716",
            "5b1af42a3f4f4d03890f80ff7f619fd9",
            "bff17c6fd7864472825a7bc8db2c92c6",
            "1c778336665a4ff2af140aaef3e2b7ca",
            "505cc68c91c344bea49af824899c34e1"
          ]
        },
        "id": "2N9CQw_3Peoa",
        "outputId": "e3acfcb5-79ee-4e9b-e523-37542d5a8112"
      },
      "outputs": [
        {
          "name": "stderr",
          "output_type": "stream",
          "text": [
            "/usr/local/lib/python3.10/dist-packages/huggingface_hub/utils/_token.py:89: UserWarning: \n",
            "The secret `HF_TOKEN` does not exist in your Colab secrets.\n",
            "To authenticate with the Hugging Face Hub, create a token in your settings tab (https://huggingface.co/settings/tokens), set it as secret in your Google Colab and restart your session.\n",
            "You will be able to reuse this secret in all of your notebooks.\n",
            "Please note that authentication is recommended but still optional to access public models or datasets.\n",
            "  warnings.warn(\n"
          ]
        },
        {
          "data": {
            "application/vnd.jupyter.widget-view+json": {
              "model_id": "7fbfe57c17ac42f09361afff134a83eb",
              "version_major": 2,
              "version_minor": 0
            },
            "text/plain": [
              "artifact.metadata:   0%|          | 0.00/1.63k [00:00<?, ?B/s]"
            ]
          },
          "metadata": {},
          "output_type": "display_data"
        },
        {
          "name": "stderr",
          "output_type": "stream",
          "text": [
            "/usr/local/lib/python3.10/dist-packages/huggingface_hub/file_download.py:1132: FutureWarning: `resume_download` is deprecated and will be removed in version 1.0.0. Downloads always resume when possible. If you want to force a new download, use `force_download=True`.\n",
            "  warnings.warn(\n"
          ]
        },
        {
          "data": {
            "application/vnd.jupyter.widget-view+json": {
              "model_id": "5b1dec5cc7604551992446f9f4f26990",
              "version_major": 2,
              "version_minor": 0
            },
            "text/plain": [
              "config.json:   0%|          | 0.00/743 [00:00<?, ?B/s]"
            ]
          },
          "metadata": {},
          "output_type": "display_data"
        },
        {
          "data": {
            "application/vnd.jupyter.widget-view+json": {
              "model_id": "1f0d42297b554bcf8e6dd97e1356d879",
              "version_major": 2,
              "version_minor": 0
            },
            "text/plain": [
              "model.safetensors:   0%|          | 0.00/438M [00:00<?, ?B/s]"
            ]
          },
          "metadata": {},
          "output_type": "display_data"
        },
        {
          "data": {
            "application/vnd.jupyter.widget-view+json": {
              "model_id": "03c81fb5a23d4b2abd76da48db4d2e59",
              "version_major": 2,
              "version_minor": 0
            },
            "text/plain": [
              "tokenizer_config.json:   0%|          | 0.00/405 [00:00<?, ?B/s]"
            ]
          },
          "metadata": {},
          "output_type": "display_data"
        },
        {
          "data": {
            "application/vnd.jupyter.widget-view+json": {
              "model_id": "caf4050ed9fc45f1b59992b0e504d9ec",
              "version_major": 2,
              "version_minor": 0
            },
            "text/plain": [
              "vocab.txt:   0%|          | 0.00/232k [00:00<?, ?B/s]"
            ]
          },
          "metadata": {},
          "output_type": "display_data"
        },
        {
          "data": {
            "application/vnd.jupyter.widget-view+json": {
              "model_id": "9946b27da51043e28ebf22234f2e0345",
              "version_major": 2,
              "version_minor": 0
            },
            "text/plain": [
              "tokenizer.json:   0%|          | 0.00/466k [00:00<?, ?B/s]"
            ]
          },
          "metadata": {},
          "output_type": "display_data"
        },
        {
          "data": {
            "application/vnd.jupyter.widget-view+json": {
              "model_id": "ee307b5ad1214c348f747e0c34a9c37b",
              "version_major": 2,
              "version_minor": 0
            },
            "text/plain": [
              "special_tokens_map.json:   0%|          | 0.00/112 [00:00<?, ?B/s]"
            ]
          },
          "metadata": {},
          "output_type": "display_data"
        },
        {
          "name": "stdout",
          "output_type": "stream",
          "text": [
            "---- WARNING! You are using PLAID with an experimental replacement for FAISS for greater compatibility ----\n",
            "This is a behaviour change from RAGatouille 0.8.0 onwards.\n",
            "This works fine for most users and smallish datasets, but can be considerably slower than FAISS and could cause worse results in some situations.\n",
            "If you're confident with FAISS working on your machine, pass use_faiss=True to revert to the FAISS-using behaviour.\n",
            "--------------------\n",
            "\n",
            "\n",
            "[Jun 05, 13:41:35] #> Creating directory .ragatouille/colbert/indexes/CollectionSaccomannoBertolinoFerrariColBERT2 \n",
            "\n",
            "\n",
            "[Jun 05, 13:41:38] [0] \t\t #> Encoding 32888 passages..\n",
            "[Jun 05, 13:43:52] [0] \t\t avg_doclen_est = 169.0104522705078 \t len(local_sample) = 32,888\n",
            "[Jun 05, 13:44:05] [0] \t\t Creating 32,768 partitions.\n",
            "[Jun 05, 13:44:05] [0] \t\t *Estimated* 5,950,350 embeddings.\n",
            "[Jun 05, 13:44:05] [0] \t\t #> Saving the indexing plan to .ragatouille/colbert/indexes/CollectionSaccomannoBertolinoFerrariColBERT2/plan.json ..\n",
            "used 20 iterations (5.067s) to cluster 5508416 items into 32768 clusters\n",
            "[Jun 05, 13:44:16] Loading decompress_residuals_cpp extension (set COLBERT_LOAD_TORCH_EXTENSION_VERBOSE=True for more info)...\n"
          ]
        },
        {
          "name": "stderr",
          "output_type": "stream",
          "text": [
            "/usr/local/lib/python3.10/dist-packages/torch/utils/cpp_extension.py:1967: UserWarning: TORCH_CUDA_ARCH_LIST is not set, all archs for visible cards are included for compilation. \n",
            "If this is not desired, please set os.environ['TORCH_CUDA_ARCH_LIST'].\n",
            "  warnings.warn(\n"
          ]
        },
        {
          "name": "stdout",
          "output_type": "stream",
          "text": [
            "[Jun 05, 13:45:51] Loading packbits_cpp extension (set COLBERT_LOAD_TORCH_EXTENSION_VERBOSE=True for more info)...\n"
          ]
        },
        {
          "name": "stderr",
          "output_type": "stream",
          "text": [
            "/usr/local/lib/python3.10/dist-packages/torch/utils/cpp_extension.py:1967: UserWarning: TORCH_CUDA_ARCH_LIST is not set, all archs for visible cards are included for compilation. \n",
            "If this is not desired, please set os.environ['TORCH_CUDA_ARCH_LIST'].\n",
            "  warnings.warn(\n"
          ]
        },
        {
          "name": "stdout",
          "output_type": "stream",
          "text": [
            "[0.046, 0.045, 0.047, 0.043, 0.045, 0.044, 0.043, 0.043, 0.044, 0.045, 0.042, 0.044, 0.044, 0.045, 0.045, 0.047, 0.04, 0.043, 0.043, 0.042, 0.043, 0.045, 0.044, 0.044, 0.044, 0.042, 0.044, 0.044, 0.045, 0.045, 0.044, 0.047, 0.049, 0.044, 0.044, 0.041, 0.043, 0.042, 0.043, 0.052, 0.047, 0.043, 0.045, 0.043, 0.046, 0.042, 0.042, 0.048, 0.047, 0.042, 0.043, 0.043, 0.044, 0.045, 0.044, 0.043, 0.048, 0.046, 0.051, 0.043, 0.041, 0.046, 0.045, 0.047, 0.047, 0.045, 0.047, 0.044, 0.039, 0.042, 0.046, 0.043, 0.042, 0.044, 0.043, 0.043, 0.046, 0.052, 0.044, 0.045, 0.046, 0.045, 0.044, 0.044, 0.04, 0.042, 0.044, 0.043, 0.042, 0.055, 0.043, 0.047, 0.043, 0.048, 0.042, 0.044, 0.048, 0.04, 0.045, 0.044, 0.046, 0.044, 0.044, 0.049, 0.045, 0.041, 0.045, 0.042, 0.044, 0.042, 0.044, 0.044, 0.046, 0.042, 0.044, 0.045, 0.046, 0.046, 0.047, 0.043, 0.043, 0.042, 0.043, 0.048, 0.043, 0.043, 0.043, 0.043]\n"
          ]
        },
        {
          "name": "stderr",
          "output_type": "stream",
          "text": [
            "\r0it [00:00, ?it/s]"
          ]
        },
        {
          "name": "stdout",
          "output_type": "stream",
          "text": [
            "[Jun 05, 13:47:33] [0] \t\t #> Encoding 25000 passages..\n"
          ]
        },
        {
          "name": "stderr",
          "output_type": "stream",
          "text": [
            "\r1it [01:48, 108.07s/it]"
          ]
        },
        {
          "name": "stdout",
          "output_type": "stream",
          "text": [
            "[Jun 05, 13:49:21] [0] \t\t #> Encoding 10207 passages..\n"
          ]
        },
        {
          "name": "stderr",
          "output_type": "stream",
          "text": [
            "2it [02:34, 77.14s/it]\n",
            "100%|██████████| 2/2 [00:00<00:00, 111.06it/s]\n"
          ]
        },
        {
          "name": "stdout",
          "output_type": "stream",
          "text": [
            "[Jun 05, 13:50:08] #> Optimizing IVF to store map from centroids to list of pids..\n",
            "[Jun 05, 13:50:08] #> Building the emb2pid mapping..\n",
            "[Jun 05, 13:50:08] len(emb2pid) = 5950312\n"
          ]
        },
        {
          "name": "stderr",
          "output_type": "stream",
          "text": [
            "100%|██████████| 32768/32768 [00:00<00:00, 72497.12it/s]\n"
          ]
        },
        {
          "name": "stdout",
          "output_type": "stream",
          "text": [
            "[Jun 05, 13:50:09] #> Saved optimized IVF to .ragatouille/colbert/indexes/CollectionSaccomannoBertolinoFerrariColBERT2/ivf.pid.pt\n",
            "Done indexing!\n"
          ]
        }
      ],
      "source": [
        "# RAG implementation\n",
        "RAG = RAGPretrainedModel.from_pretrained(\"colbert-ir/colbertv2.0\")\n",
        "\n",
        "index_path = RAG.index(\n",
        "    index_name=\"CollectionSaccomannoBertolinoFerrariColBERT2\",\n",
        "    collection=my_documents,\n",
        "    document_ids=document_ids,\n",
        "    document_metadatas=document_metadatas,\n",
        ")"
      ]
    },
    {
      "cell_type": "code",
      "execution_count": 39,
      "metadata": {
        "colab": {
          "base_uri": "https://localhost:8080/"
        },
        "id": "2PifAvHbWM4I",
        "outputId": "7adb2d15-013a-4731-cb72-528a758c2da0"
      },
      "outputs": [
        {
          "name": "stderr",
          "output_type": "stream",
          "text": [
            "/usr/local/lib/python3.10/dist-packages/huggingface_hub/file_download.py:1132: FutureWarning: `resume_download` is deprecated and will be removed in version 1.0.0. Downloads always resume when possible. If you want to force a new download, use `force_download=True`.\n",
            "  warnings.warn(\n"
          ]
        },
        {
          "name": "stdout",
          "output_type": "stream",
          "text": [
            "Loading searcher for index CollectionSaccomannoBertolinoFerrariColBERT2 for the first time... This may take a few seconds\n",
            "[Jun 05, 14:27:55] #> Loading codec...\n",
            "[Jun 05, 14:27:55] #> Loading IVF...\n",
            "[Jun 05, 14:27:55] #> Loading doclens...\n"
          ]
        },
        {
          "name": "stderr",
          "output_type": "stream",
          "text": [
            "100%|██████████| 2/2 [00:00<00:00, 470.24it/s]"
          ]
        },
        {
          "name": "stdout",
          "output_type": "stream",
          "text": [
            "[Jun 05, 14:27:55] #> Loading codes and residuals...\n"
          ]
        },
        {
          "name": "stderr",
          "output_type": "stream",
          "text": [
            "\n",
            "100%|██████████| 2/2 [00:00<00:00,  5.55it/s]"
          ]
        },
        {
          "name": "stdout",
          "output_type": "stream",
          "text": [
            "Searcher loaded!\n",
            "\n",
            "#> QueryTokenizer.tensorize(batch_text[0], batch_background[0], bsize) ==\n",
            "#> Input: . Why did Reverend Mother chastise Deloris?, \t\t True, \t\t None\n",
            "#> Output IDs: torch.Size([32]), tensor([  101,     1,  2339,  2106, 10547,  2388, 15775, 29472,  2063,  3972,\n",
            "        21239,  1029,   102,   103,   103,   103,   103,   103,   103,   103,\n",
            "          103,   103,   103,   103,   103,   103,   103,   103,   103,   103,\n",
            "          103,   103], device='cuda:0')\n",
            "#> Output Mask: torch.Size([32]), tensor([1, 1, 1, 1, 1, 1, 1, 1, 1, 1, 1, 1, 1, 0, 0, 0, 0, 0, 0, 0, 0, 0, 0, 0,\n",
            "        0, 0, 0, 0, 0, 0, 0, 0], device='cuda:0')\n",
            "\n"
          ]
        },
        {
          "name": "stderr",
          "output_type": "stream",
          "text": [
            "\n"
          ]
        }
      ],
      "source": [
        "# Query example\n",
        "query = \"Why did Reverend Mother chastise Deloris?\"\n",
        "RAG = RAGPretrainedModel.from_index(index_path)\n",
        "results = RAG.search(query)"
      ]
    },
    {
      "cell_type": "code",
      "execution_count": 40,
      "metadata": {
        "colab": {
          "base_uri": "https://localhost:8080/"
        },
        "id": "6sDELIH9XZMu",
        "outputId": "031d4655-b287-4c93-bbfd-82d110fcb38e"
      },
      "outputs": [
        {
          "data": {
            "text/plain": [
              "[{'content': 'Mary Clarence objects to following the strictures and simple life of the convent, but comes to befriend several of the nuns, including the forever jolly Sister Mary Patrick, quiet and meek Sister Mary Robert, and the elderly deadpan Sister Mary Lazarus. After sneaking into a nearby bar, Mary Clarence is chastised by Reverend Mother and put into the choir, which she has seen to be dreadful. The choir nuns, learning that Mary Clarence has a background in music, elect her to take over as choir director, which she accepts, and she rearranges them to make them better singers. At Mass one Sunday, the choir sings the \"Hail Holy Queen\" in the traditional manner beautifully before shifting into a gospel and rock-and-roll-infused performance of the hymn.\\nReverend Mother is infuriated with Mary Clarence about the performance, and orders that Mary Lazarus once again become the leader the choir, but Monsignor O\\'Hara is thrilled with the performance as the unorthodox music brought people, including teenagers, in off the streets. Deloris convinces Monsignor O\\'Hara that the nuns should be going out to clean up the neighborhood.',\n",
              "  'score': 18.953125,\n",
              "  'rank': 1,\n",
              "  'document_id': 'f7bb9eb9306b79cad4b6466f2ac3dcbd0e5fa63a',\n",
              "  'passage_id': 34473,\n",
              "  'document_metadata': {'source_id: ': 54}},\n",
              " {'content': 'Deloris convinces Monsignor O\\'Hara that the nuns should be going out to clean up the neighborhood. This they do, and the choir wows church visitors with their music, with Souther eventually attending a performance of \"My Guy\" (appropriately rewritten as \"My God\"). Eventually, O\\'Hara announces to the choir that Pope John Paul II is to visit the church to see the choir himself. Reverend Mother decides to hand in her resignation since her authority has been unintentionally undermined, but Mary Clarence offers to leave in her stead, to which the Reverend Mother disagrees.\\nDetective Tate, a police officer on Vince\\'s payroll, finds out where Deloris is and contacts Vince, who sends Joey and Willy out to grab her. Souther confronts Tate, gets him arrested, and flies to San Francisco to try and warn Mary Clarence, but Vince\\'s men abduct her.\\nThe nuns, led by the Reverend Mother, risk their lives by going to Reno to save Mary Clarence. Meanwhile, she flees Vince and his men, leading to a chase around the casino until the nuns find her and try to sneak out.',\n",
              "  'score': 18.546875,\n",
              "  'rank': 2,\n",
              "  'document_id': 'f7bb9eb9306b79cad4b6466f2ac3dcbd0e5fa63a',\n",
              "  'passage_id': 34474,\n",
              "  'document_metadata': {'source_id: ': 54}},\n",
              " {'content': \"After Deloris walks in on Vince having his chauffeur Ernie executed for betrayal, Vince orders his two henchmen Joey and Willy to kill her as well. Deloris flees Vince's casino to the local police station where Lieutenant Eddie Souther suggests she testify against Vince if he can be arrested and tried, but for now, she should go into witness protection until the time comes.\\nDeloris is taken to St. Katherine's Parish in a seedy, run-down neighborhood of San Francisco, where Souther suggests she take refuge in the attached convent. Both Deloris and the stoic Reverend Mother object, but are convinced by Souther and Monsignor O'Hara to go ahead with it. Deloris 'becomes' a nun â\\x80\\x93 habit and all â\\x80\\x93 under the hand of Reverend Mother, who gives her the religious name 'Sister Mary Clarence' to complete the disguise. Mary Clarence objects to following the strictures and simple life of the convent, but comes to befriend several of the nuns, including the forever jolly Sister Mary Patrick, quiet and meek Sister Mary Robert, and the elderly deadpan Sister Mary Lazarus.\",\n",
              "  'score': 18.328125,\n",
              "  'rank': 3,\n",
              "  'document_id': 'f7bb9eb9306b79cad4b6466f2ac3dcbd0e5fa63a',\n",
              "  'passage_id': 34472,\n",
              "  'document_metadata': {'source_id: ': 54}},\n",
              " {'content': 'The nuns, led by the Reverend Mother, risk their lives by going to Reno to save Mary Clarence. Meanwhile, she flees Vince and his men, leading to a chase around the casino until the nuns find her and try to sneak out. Vince, Joey and Willy confront the nuns, but they are unable to bring themselves to shoot Deloris while she is in a nun\\'s habit, and Reverend Mother proclaims Deloris is indeed a nun, to convince Vince. As Vince works up the courage to shoot her anyway, Souther bursts in and shoots him in the arm, and has the men arrested. Reverend Mother then thanks Deloris for everything she has done for them and agrees to remain at the convent.\\nThe film ends with the choir, led by Deloris, singing \"I Will Follow Him\" before the Pope and a packed and refurbished St. Katherine\\'s, earning a loud standing ovation from the audience, the Pope, Reverend Mother, Monsignor O\\'Hara and Lt. Souther. The end credits reveals that Deloris\\' secret life as a nun was sold to the media and has become a sensation.',\n",
              "  'score': 18.3125,\n",
              "  'rank': 4,\n",
              "  'document_id': 'f7bb9eb9306b79cad4b6466f2ac3dcbd0e5fa63a',\n",
              "  'passage_id': 34475,\n",
              "  'document_metadata': {'source_id: ': 54}},\n",
              " {'content': 'Katherine\\'s, earning a loud standing ovation from the audience, the Pope, Reverend Mother, Monsignor O\\'Hara and Lt. Souther. The end credits reveals that Deloris\\' secret life as a nun was sold to the media and has become a sensation. The ending of Deloris\\' \"career\" as a choir leader is revealed through magazines and album covers and Deloris has continued leading the choir as a famous group with published albums.',\n",
              "  'score': 17.515625,\n",
              "  'rank': 5,\n",
              "  'document_id': 'f7bb9eb9306b79cad4b6466f2ac3dcbd0e5fa63a',\n",
              "  'passage_id': 34476,\n",
              "  'document_metadata': {'source_id: ': 54}},\n",
              " {'content': \"Control is her passion; within the walls of the \\n     convent, she has created a world she can trust because it's \\n     a world she controls.\\n\\n               But Mother Superior is not in control at \\n               this particular moment.  BISHOP GEORGE \\n               O'HARA stands before her with a majestic \\n               presence and some bad news.\\n\\n<b>                               MOTHER SUPERIOR\\n</b>               Absolutely not.  I am very sorry, but \\n               no.\\n\\n<b>                               O'HARA\\n</b>               We can save this young woman's life, and \\n               imprison a parasite -- all in one \\n               gesture.\\n\\n     Page 21.\\n\\n<b>                               MOTHER SUPERIOR\\n</b>               But she's been exposed to the underside \\n               of life.  She is the underside of life.\\n\\n<b>                               O'HARA\\n</b>               And therefore an ideal prospect for \\n               rehabilitation.\\n\\n<b>                               MOTHER SUPERIOR\\n</b>               We're a small convent, Bishop.  Surely \\n               there are... more appropriate shelters.\\n\\n<b>                               O'HARA\\n</b>               Your small convent is in danger of \\n               closing, Reverend Mother.\",\n",
              "  'score': 15.2421875,\n",
              "  'rank': 6,\n",
              "  'document_id': 'f7bb9eb9306b79cad4b6466f2ac3dcbd0e5fa63a',\n",
              "  'passage_id': 34233,\n",
              "  'document_metadata': {'source_id: ': 54}},\n",
              " {'content': \"<b>                               MOTHER SUPERIOR\\n</b>               Really?\\n\\n     Christy has just been eating this up with a spoon.\\n\\n<b>                               CHRISTY\\n</b>               Excuse me, Bishop.  Reverend Mother has \\n               some other ideas too.  She's too modest \\n               to talk about it, but she thinks we \\n               should get out of the convent and into \\n               the neighborhood more.\\n                             (putting her hands on \\n                             Mother Superior's \\n                             shoulders) \\n               This woman.\\n\\n     Mary Patrick jumps forward.\\n\\n<b>                               MARY PATRICK\\n</b>               Bless her!  There are so many problems \\n               in this neighborhood that we could help \\n               solve.  That's why many of us became \\n               nuns.  It's marvelous, Reverend Mother.\\n\\n<b>                               MOTHER SUPERIOR\\n</b>                             (confused by the turn \\n                             things have taken)\\n               Really...\\n\\n<b>                               CHRISTY\\n</b>                             (with regard to Mother \\n                             Superior)\\n               You know Reverend Mother.  Hides her \\n               light under a bushel.  She has plans for \\n               us to move right onto the streets.\",\n",
              "  'score': 14.859375,\n",
              "  'rank': 7,\n",
              "  'document_id': 'f7bb9eb9306b79cad4b6466f2ac3dcbd0e5fa63a',\n",
              "  'passage_id': 34358,\n",
              "  'document_metadata': {'source_id: ': 54}},\n",
              " {'content': \"It was soon seen that her education had not been\\nneglected in those points which Mrs. Melmoth deemed most important. The\\nnicer departments of cookery, after sufficient proof of her skill, were\\ncommitted to her care; and the doctor's table was now covered with\\ndelicacies, simple indeed, but as tempting on account of their intrinsic\\nexcellence as of the small white hands that made them. By such arts as\\nthese,--which in her were no arts, but the dictates of an affectionate\\ndisposition,--by making herself useful where it was possible, and\\nagreeable on all occasions, Ellen gained the love of everyone within the\\nsphere of her influence.\\n\\nBut the maiden's conquests were not confined to the members of Dr.\\nMelmoth's family. She had numerous admirers among those whose situation\\ncompelled them to stand afar off, and gaze upon her loveliness, as if she\\nwere a star, whose brightness they saw, but whose warmth they could not\\nfeel.\",\n",
              "  'score': 14.3046875,\n",
              "  'rank': 8,\n",
              "  'document_id': '818bfd881f6099dc585792bba69b492a111e7793',\n",
              "  'passage_id': 20075,\n",
              "  'document_metadata': {'source_id: ': 24}},\n",
              " {'content': 'There were\\nno foolish rivalries and jealousies between them. Their lives were too\\nfull of zeal and earnestness for them to waste in selfishness their\\npower to be moral and spiritual forces among a people who so much needed\\ntheir helping hands. Miss Delany gave Iola a situation in her school;\\nbut before the term was quite over she was force to resign, her health\\nhaving been so undermined by the fearful strain through which she had\\npassed, that she was quite unequal to the task. She remained at home,\\nand did what her strength would allow in assisting her mother in the\\nwork of canning and preserving fruits.\\n\\nIn the meantime, Iola had been corresponding with Robert. She had told\\nhim of her success in finding her mother and brother, and had received\\nan answer congratulating her on the glad fruition of her hopes. He also\\nsaid that his business was flourishing, that his mother was keeping\\nhouse for him, and, to use her own expression, was as happy as the days\\nare long. She was firmly persuaded that Marie was her daughter, and she\\nwanted to see her before she died.',\n",
              "  'score': 14.2109375,\n",
              "  'rank': 9,\n",
              "  'document_id': 'bb6376e342dc66b433066219e35995b491923a16',\n",
              "  'passage_id': 27304,\n",
              "  'document_metadata': {'source_id: ': 59}},\n",
              " {'content': '\"No! Why should she? I don\\'t know if she knows he has spoken to me at\\nall. Poor creature! she had enough to craze her almost without that!\\nShe was for going away and leaving us, that we might not share in her\\ndisgrace. I was afraid of her being quite delirious. I did so want\\nyou, Faith! However, I did the best I could; I spoke to her very\\ncoldly, and almost sternly, all the while my heart was bleeding for\\nher. I dared not give her sympathy; I tried to give her strength. But\\nI did so want you, Faith.\"\\n\\n\"And I was so full of enjoyment, I am ashamed to think of it. But the\\nDawsons are so kind--and the day was so fine-- Where is Ruth now?\"\\n\\n\"With Leonard. He is her great earthly motive--I thought that being\\nwith him would be best. But he must be in bed and asleep now.\"\\n\\n\"I will go up to her,\" said Miss Faith.',\n",
              "  'score': 14.0703125,\n",
              "  'rank': 10,\n",
              "  'document_id': 'e524c75271fe0e5c4b1fdbc3c2e297cdecf1b113',\n",
              "  'passage_id': 31999,\n",
              "  'document_metadata': {'source_id: ': 77}}]"
            ]
          },
          "execution_count": 40,
          "metadata": {},
          "output_type": "execute_result"
        }
      ],
      "source": [
        "# Output of the example\n",
        "results"
      ]
    },
    {
      "cell_type": "markdown",
      "metadata": {},
      "source": [
        "## 3. RAG Retrieval"
      ]
    },
    {
      "cell_type": "code",
      "execution_count": 42,
      "metadata": {
        "id": "__bzAKH_0OmY"
      },
      "outputs": [],
      "source": [
        "# Retrieval model setup\n",
        "CHUNK_SIZE = 8192\n",
        "CHUNK_OVERLAP = 0\n",
        "SIMILARITY_MEASURE = \"COSINE\"\n",
        "K = 10\n",
        "EMBEDDINGS_MODEL = \"colbert-ir/colbertv2.0\"\n",
        "\n",
        "# Generation model setup\n",
        "LLM_MODEL_NAME = \"mistralai/Mixtral-8x7B-Instruct-v0.1\"\n",
        "LLM_MAX_TOKENS = 128000\n",
        "RESPONSE_MAX_TOKENS = 100"
      ]
    },
    {
      "cell_type": "code",
      "execution_count": 44,
      "metadata": {
        "colab": {
          "base_uri": "https://localhost:8080/"
        },
        "id": "hAxbRIUj1hdG",
        "outputId": "e0bb90fe-b11a-4c59-88a7-4aa587a5ac6c"
      },
      "outputs": [
        {
          "name": "stdout",
          "output_type": "stream",
          "text": [
            "··········\n"
          ]
        }
      ],
      "source": [
        "# Access to HuggingFace\n",
        "HUGGINGFACEHUB_API_TOKEN = getpass()\n",
        "\n",
        "import os\n",
        "\n",
        "os.environ[\"HUGGINGFACEHUB_API_TOKEN\"] = HUGGINGFACEHUB_API_TOKEN"
      ]
    },
    {
      "cell_type": "code",
      "execution_count": 45,
      "metadata": {
        "colab": {
          "base_uri": "https://localhost:8080/"
        },
        "id": "D_AyiE5E0hhf",
        "outputId": "ed30d488-066b-4c90-a460-005faa6e4181"
      },
      "outputs": [
        {
          "name": "stdout",
          "output_type": "stream",
          "text": [
            "The token has not been saved to the git credentials helper. Pass `add_to_git_credential=True` in this function directly or `--add-to-git-credential` if using via `huggingface-cli` if you want to set the git credential as well.\n",
            "Token is valid (permission: read).\n",
            "Your token has been saved to /root/.cache/huggingface/token\n",
            "Login successful\n"
          ]
        }
      ],
      "source": [
        "llm = HuggingFaceEndpoint(repo_id=LLM_MODEL_NAME, temperature=0.01, max_new_tokens=RESPONSE_MAX_TOKENS)"
      ]
    },
    {
      "cell_type": "code",
      "execution_count": 46,
      "metadata": {
        "id": "r0AbeBde0mwJ"
      },
      "outputs": [],
      "source": [
        "qa_chain = load_qa_chain(llm, chain_type = 'stuff', verbose=False)"
      ]
    },
    {
      "cell_type": "code",
      "execution_count": 47,
      "metadata": {
        "id": "Ux5bXqma0qH5"
      },
      "outputs": [],
      "source": [
        "# Functions to standardize the text\n",
        "def get_prompt(\n",
        "    chain: StuffDocumentsChain,\n",
        "    context: str,\n",
        "    is_question_answering_action: bool,\n",
        "    human_input: Optional[str],\n",
        ") -> str:\n",
        "    inputs = {}\n",
        "    if is_question_answering_action:\n",
        "        inputs = {\n",
        "            'question': human_input,\n",
        "            'context': context\n",
        "        }\n",
        "    else:\n",
        "        inputs = {\n",
        "            'text': context\n",
        "        }\n",
        "    prompt = chain.llm_chain.prompt.format(**inputs)\n",
        "    return prompt\n",
        "\n",
        "\n",
        "def adapt_to_input_size(\n",
        "    context_messages_texts: List[str],\n",
        "    model: str,\n",
        "    max_input_tokens: int,\n",
        "    max_new_tokens_in_the_answer: int,\n",
        "    chain: StuffDocumentsChain,\n",
        "    is_question_answering_action: bool,\n",
        "    human_input: Optional[str],\n",
        "    verbose: bool\n",
        ") -> List[str]:\n",
        "    \"\"\"100 tokens ~= 75 words Source: https://help.openai.com/en/articles/4936856-what-are-tokens-and-how-to-count-them\"\"\"\n",
        "    context = chain.document_separator.join(context_messages_texts)\n",
        "    prompt = get_prompt(chain, context, is_question_answering_action, human_input)\n",
        "    input_size = chain.llm_chain.llm.get_num_tokens(prompt)\n",
        "    # input_size: totale numero tokens che arriveranno all'LLM\n",
        "    max_input_size_for_request = max_input_tokens - max_new_tokens_in_the_answer\n",
        "    if input_size >= max_input_size_for_request:\n",
        "        enc = AutoTokenizer.from_pretrained(model)\n",
        "        #print(f\"The number of input tokens {input_size} exceed the maximum number allowed for the request: {max_input_size_for_request}\")\n",
        "        overflow_tokens = input_size - max_input_size_for_request\n",
        "        len_context_encoding = chain.llm_chain.llm.get_num_tokens(context)\n",
        "        slice_size = len_context_encoding - overflow_tokens - len(context_messages_texts) + 1 # Last two terms are used to exclude separators from the count\n",
        "        #print(f\"Currently the context is long {len_context_encoding - len(context_messages_texts) + 1} tokens, will be pruned to the first {slice_size} tokens\")\n",
        "        current_tokens = 0\n",
        "        result = []\n",
        "        for context_text in context_messages_texts:\n",
        "            page_tokenized = enc.encode(context_text)\n",
        "            if current_tokens + len(page_tokenized) <= slice_size:\n",
        "                current_tokens += len(page_tokenized)\n",
        "                result.append(context_text)\n",
        "            else:\n",
        "                page_tokenized_slice = page_tokenized[:(slice_size - current_tokens)]\n",
        "                result.append(enc.decode(page_tokenized_slice))\n",
        "                current_tokens += len(page_tokenized_slice)\n",
        "                assert current_tokens == slice_size\n",
        "                break\n",
        "        # here the context is correctly pruned\n",
        "    else:\n",
        "        result = context_messages_texts\n",
        "\n",
        "    if verbose:\n",
        "        new_context = chain.document_separator.join(result)\n",
        "        new_prompt = get_prompt(chain, new_context, is_question_answering_action, human_input)\n",
        "        new_input_size = chain.llm_chain.llm.get_num_tokens(new_prompt)\n",
        "        #print(f'A total of {new_input_size} tokens will be spent')\n",
        "    return result"
      ]
    },
    {
      "cell_type": "code",
      "execution_count": 49,
      "metadata": {
        "id": "9_bcl3d40yDG"
      },
      "outputs": [],
      "source": [
        "# Uploading queries documents\n",
        "ANNOTATIONS_PATH = \"/content/drive/MyDrive/dataset/subsampled_golden_pairs.json\"\n",
        "TITLE_TO_ID_PATH = \"/content/drive/MyDrive/title_to_id.json\"\n",
        "with open(ANNOTATIONS_PATH, 'r') as json_file:\n",
        "    anns = json.load(json_file)\n",
        "with open(TITLE_TO_ID_PATH, 'r') as json_file:\n",
        "    title_to_id = json.load(json_file)\n",
        "queries=dict()\n",
        "for elemento in anns:\n",
        "  id=elemento['id']\n",
        "  domanda=elemento['question']\n",
        "  risposte=elemento['answers']\n",
        "  queries[domanda]=(id,title_to_id[id])"
      ]
    },
    {
      "cell_type": "code",
      "execution_count": 50,
      "metadata": {
        "colab": {
          "base_uri": "https://localhost:8080/"
        },
        "id": "ExGumFWq0zLv",
        "outputId": "c2acd15c-d3ba-4dfe-ef8d-82c1a15c2334"
      },
      "outputs": [
        {
          "data": {
            "text/plain": [
              "dict_items([('Why did Reverend Mother chastise Deloris?', ('f7bb9eb9306b79cad4b6466f2ac3dcbd0e5fa63a', 54)), ('What does Augustus reveal to Hazel after staying in Amsterdam together?', ('2453d062843edc379bdae3be69859e18bf1abd9d', 15)), ('What happen to the hideout spot?', ('08ac6c0dca91fee93d27c7caf85bb57e17d4fc46', 8)), ('How much did Christian pay for the video?', ('6ed5d860df4edd3d32f1aca52ec369f0d21039a0', 47)), ('Where is the underground shelter where James Cole is being held as a prisoner located?', ('5df7b23024d86a042fcdcb06ee485d528317a156', 82)), ('What was the top secret project that the CIA officers watched in the begining?', ('54e7219964513efc449b07327b717c600c609115', 73)), ('In which mountains are Hal and Sarah stranded?', ('34baa9e1ca1e15bccce2326e4f5c52bb6ba30eb8', 23)), ('Why does Daisy tell Benjamin to stay out of his life?', ('21813f2122fca16d05e89d44f4521f7da8a8f3b7', 9)), ('What type of animal was Mar?', ('dcd3468c3e18822f08ff0607edfb3e9ca06f3ef0', 35)), (\"What was Bruce's job before he got fired?\", ('1da161b6007d46d85eda16ae391e1e78218fabd2', 44)), (\"What was Wallace's charge that lead to his death?\", ('ec5123faf9944ed8ef012cce89123db124242b3d', 57)), ('Why did Metro Man fake his death?', ('a912a7308035d8c7136ca7439bce977ed57951f4', 75)), ('Where does Kaufman meet Lynne?', ('0bd270c8c46f84a4abd99d65e2f17a9e11a7f76d', 1)), (\"What was Jerry Lawler's occupation?\", ('0bd270c8c46f84a4abd99d65e2f17a9e11a7f76d', 1)), ('Who did John and Lara pick up to get them through the police checkpoints during their escape?', ('2148102315134288df1183ff805c8c29785f270c', 32)), ('What weapon was used to kill Brenda?', ('523a2eb1ae686d7bf0e664c89d0a490a7e1a22bc', 70)), (\"What is Jessica Martin's profession?\", ('57ae5005bae297a1bc8d8b31cc02598f71a559f3', 67)), ('Who blessed the stake given to Charley?', ('ccfabbee5a88f09447f3cbba5ea0f86e5c039058', 14)), ('Who does Sullivan begin a romance with?', ('ee7e2ef2ecfa84682214c65ed178f959eaffb8ea', 53)), ('Who does Holden fall in love with?', ('08de5678977bbbefcebc7e2abb04e402539b90e0', 79)), ('Who will comment a murder there?', ('e2fde9209d27595d3436ec97714d2e8a065721c7', 36)), ('Who is Luke initially setting out to rescue ?', ('42b6d4260bbc83d7d8343779d34e96a067dfaad4', 0)), ('What is the name of the private investigator? ', ('ffcf7daee9cda766d2fcf1f6399b29be41876b21', 21)), ('What does Karen use to light the petrol which keeps her from dying?', ('dcd3468c3e18822f08ff0607edfb3e9ca06f3ef0', 35)), ('Who attempted to kill Cooper?', ('a8771e0706c5b98b55c60b8dc3b9668295315712', 50)), ('Why did Elena betray Marie?', ('5328457f649b51410906d4d23b915f5147bee4ed', 4)), (\"What is Abby's occupation in the story?\", ('b6ed74a969cdbb5ddc34575df8b7ee9d955d5556', 25)), (\"How long did Wallace's guerrilla war last against the English?\", ('ec5123faf9944ed8ef012cce89123db124242b3d', 57)), ('Where is the FBI team invited for dinner?', ('712fafff56f2ed4d135937b39dd8b2c320ae6d1c', 61)), ('Who owns the murder weapon?', ('020773a0ca71155173ec4affe6a2496a6cb45216', 22)), ('The trio come upon what group trying to hang Tommy?', ('3747036f950fe8f79cdaa0eb713104b9eb8af6c5', 71)), ('What happened to megamind when he was a baby?', ('a912a7308035d8c7136ca7439bce977ed57951f4', 75)), (\"What did Chenille's brother want to do after high school?\", ('8e15ee1aade0ced118df14ec3c59a14fecba8e1f', 20)), ('When Mayes is separated from the pack what does he find?', ('712fafff56f2ed4d135937b39dd8b2c320ae6d1c', 61)), (\"What happens to Uri's painting after Lenny hangs it up on his wall?\", ('36cdfca4aa4ecf0692b4c17f8fdc5c22dcf4d2e5', 60)), (\"How is Fiona's curse broken?\", ('51dee7b41692efe1a4908527013b3aea46cb2c9a', 63)), ('How is Corey killed?', ('8d34e0da546a23ce02b96f88aaba16054764807f', 18)), ('What catastrophic event is occurring that makes Daisy Fuller ask her daughter to read a story?', ('21813f2122fca16d05e89d44f4521f7da8a8f3b7', 9)), (\"What happened to the button that Lara Brennan lost the night of her boss' murder?\", ('2148102315134288df1183ff805c8c29785f270c', 32)), ('Where does Graham visit Lecktor?', ('9cd25b973d253386eaebbb7f2f7821dc7518f6d6', 13)), (\"Who is the school's headmistress?\", ('214cb5277750c1ccddec0b10fa545c3c78c45f64', 11)), ('What does Bastion wish for at the end?', ('935775d945bc210b0928bffb6924e06e1ef9a9dd', 49)), ('Why was Olivier initially frustrated with Marilyn?', ('907e3c83c161299b8f178e98399d4e2cc0dcd57f', 52)), ('Who do both Sullivan and Costigan have a romatic relationship with?', ('ee7e2ef2ecfa84682214c65ed178f959eaffb8ea', 53)), (\"What changed Susan's attitude towards her father?\", ('6aa4c6be53eff0024e5c84f99ac94cddff4eb8f0', 48)), ('What plans does John Conner discover during his attack on a Skynet base?', ('11acb0c4c601eec40b1b4a00cddf674052777a8c', 69)), ('How long does Death give Stu to return to the land of the living to find his body?', ('bb4c45e6a2f4c58def38dbd630d7059028c27bdd', 26)), ('How does Jerry first try to kill Charley?', ('dae7e31c643a625b54fd042a8ecad0d9e964494e', 55)), ('Stanwyk\\'s \"real plan\" was to kill who?', ('2daf99dd0a17e8141b6697c4dad2621082cf5488', 29)), ('What is the name of the serial killer Jack Crawford ask him to help catch?', ('9cd25b973d253386eaebbb7f2f7821dc7518f6d6', 13)), (\"What is Maximilien's true identity?\", ('2584ef223f762658333799d37f593530f02ada28', 37)), ('What does gib complain about?', ('0507acab5483574fd74d15921e6a7de500413ca8', 38)), ('From where does Nordau draw his examples of how fin de siecle has affected all aspects of society?', ('5e34e97ac8ff6cfb0f6e6e2ddcb4c23e55ea1c78', 10)), (\"What did Tancred's destiny seem to be?\", ('4ff62e050b4eba11e273a060f0e5b0080746ea79', 80)), (\"What is Neal's nickname?\", ('4a4f75695025f492d0f8d71cd121afb048bdaf1f', 81)), ('Who leads the towns people in binding and then hanging Christy?', ('3015bab88108b574f61356eaa21df5fb52f0c545', 56)), ('What are military professionals are too slow to get?', ('21b5f862d86b23b2ed446dcbfbfb572ba70471d0', 46)), ('What does May telegram Newland?', ('e2ad3b91abda132c04c65f7b93559d2ff23b1cac', 65)), ('What does Theseus do when he captures Palamon and Arcite?', ('1b548ec72908f9447446bdb24e8c179df19a8999', 58)), ('What conclusion about Pearl does Bertha come to?', ('f6fbb458ad9ae228f23e0903109646020e249761', 16)), ('Who is Paul Irving?', ('ae029461fcf47fb7c4e9e2574c7fb936ca29937b', 64)), (\"Who throws the dolls' dresses out the window? \", ('08c3429e9717bc663bc5f41cd3a2c701c222ed2f', 2)), ('Where do Tom Thumb and Hunca Munca live?', ('08c3429e9717bc663bc5f41cd3a2c701c222ed2f', 2)), ('What do Francois and Perrault train Buck to be?', ('1fa32a0798f79e13ca92ae84eda9ab3eb12c70a4', 42)), ('What city is Llanfeare located in?', ('485b86c3ffec91e89fbc846985944adc0cf73c80', 68)), ('What did Martin and Petulant do after their adventure?', ('4a92bf273183297c7b9e2a39e4ba9044d0eb1e33', 39)), ('Who is Esther to Rev. Rufus Lyon?', ('ced259f88228bea5f1d29e0bc784c28ad8b8c4cb', 3)), ('Who does Tom live with up north?', ('fa1c5da957da66aec751555a4bb1b6ba1580ccce', 51)), (\"In what way was Wace's view on love different than Kempton's?\", ('06b1c16f9343dfe145570e28e0fe81ddc66cf1ea', 12)), ('What career do Bella and Julia decide to pursue?', ('e72d83e55d93bb42ae19fa3ec68bb983d4541a7e', 41)), ('What trouble does Molara have with the regular troops?', ('3f596a5be9de38b6f63b6c4b92021fe78d403e80', 30)), ('Why did Elena return to New York?', ('e2ad3b91abda132c04c65f7b93559d2ff23b1cac', 65)), ('How many siblings did Marius have?', ('ad020448b562d244e23b4d9a55fde6b31971f583', 33)), ('How many miles west of the Lizard was Judea when the storm hit?', ('4a130666c65fb9435977c7b28ace9f922b224567', 40)), ('Who did Cicero encourage through his writings?', ('b844c7bb3cacfa042e25f614b6299a7e7ae56e31', 27)), ('Who gives refuge to Christopher after a failed assassination attempt? ', ('f4c9b2e062c118b0c15409e78b8e2a3c2ceadcd3', 6)), ('Where does Trina keep her penny-pinched savings?', ('60510bf4be495aeb1b4640a7a058b4ae7c04b884', 19)), (\"What job does Lisbeth's brother take?\", ('019a9611dd8e1b822bd0a58f075cc4a30bdd0797', 66)), ('Who is the antagonist?', ('350c0f8265c2d1183fd9a7e2a92c748998ac8775', 45)), ('What does Anne do?', ('ae029461fcf47fb7c4e9e2574c7fb936ca29937b', 64)), ('What did the new company do?', ('84a16d3e5025bb3e2ceb36f8dbd85ade48fac84a', 62)), ('What does Marcus do while he is dying?', ('60510bf4be495aeb1b4640a7a058b4ae7c04b884', 19)), ('Who is Austin to Maud?', ('344cddeff8cb90fe176ea9809fd8d3169a7dba34', 28)), ('What secret does Conan reveal to the readers?', ('46e4a4aa0f4ba89cf4d4972f1b9f6657f56e8f63', 78)), ('Who has a shut-in lifestyle?', ('818bfd881f6099dc585792bba69b492a111e7793', 24)), ('What is the most esential instrument of war?', ('21b5f862d86b23b2ed446dcbfbfb572ba70471d0', 46)), ('Who does Buck return as every year?', ('1fa32a0798f79e13ca92ae84eda9ab3eb12c70a4', 42)), ('Who owned the horse?', ('9bb9407d60ce0a2e7b57defe538f8578ea79493b', 72)), ('Who is it that Mary secretly admires?', ('206ee38a1991579ed174f236490a9064e573a878', 43)), (\"What is wrong with cap'n bill's leg?\", ('8fd8d776e178272a36766df5b6971d4b5dda9d86', 76)), ('Who do the tenants think does all of their kind things?', ('8932752af63261f435156ff18c41d3da39c3d5c6', 5)), ('Where did Tom meet Sailor Ben prior to them becoming friends?', ('fa1c5da957da66aec751555a4bb1b6ba1580ccce', 51)), ('Which college does Stephen attend?', ('58184a6c7022822b91a6593d00dd12be8bce7f36', 74)), ('What is a possible theme for this work? ', ('0c6bb0eb4a8f40ba3bdd6b1e6e86163e759d04e9', 31)), ('What happens to Iola one her father dies?', ('bb6376e342dc66b433066219e35995b491923a16', 59)), ('What does Froude think will happen if blacks in West Indian contries are allowed to vote?', ('de79e439d0586c0af4aa95689757190b6e156c38', 7)), ('How many puddle-ducks do the kittens encounter in the road?', ('2c5f448df18172babaac38806e1fb699a8baf65b', 17)), ('What would have been the punishment if Blanco was proven guilty of stealing?', ('9bb9407d60ce0a2e7b57defe538f8578ea79493b', 72)), (\"What is Pablo's disability?\", ('17f2e2685467b6eebf01d2a643e31f53ea215e91', 34)), ('How is Ruth related to Leonard?', ('e524c75271fe0e5c4b1fdbc3c2e297cdecf1b113', 77))])"
            ]
          },
          "execution_count": 50,
          "metadata": {},
          "output_type": "execute_result"
        }
      ],
      "source": [
        "queries.items()"
      ]
    },
    {
      "cell_type": "code",
      "execution_count": 51,
      "metadata": {
        "id": "K7dytG251OpW"
      },
      "outputs": [],
      "source": [
        "# Setting standard prompt\n",
        "PROMPT = \"\"\"You are a Question Answering system that is rewarded if the response is short, concise and straight to the point, use the following pieces of context to answer the question at the end. If the context doesn't provide the required information simply respond <no answer>.\n",
        "    Context:\n",
        "    {context}\n",
        "\n",
        "    Human question: {human_input}\n",
        "    \"\"\""
      ]
    },
    {
      "cell_type": "code",
      "execution_count": 56,
      "metadata": {
        "colab": {
          "base_uri": "https://localhost:8080/",
          "height": 1000,
          "referenced_widgets": [
            "e0f9429dd1a4456991a4d54654de25fb",
            "f3ae4c1c59bc41bdb0475fe0a9518a62",
            "079840f2c5794c15bca31856f02e32ad",
            "c98bd88567f94744b3160405365ea345",
            "a03252e3daa148099fd347683d248ac0",
            "162a7c5c6fc449ddab6598517693dfc7",
            "145d7489827345058cafd95552d89a9e",
            "0769c3fa7f474ec2be66eaaf9b2ed769",
            "218f839d556a4ec2898cb7ddfd05bfe0",
            "095e4eba5ce14e60b7920158edd7a99a",
            "bfb8028f02aa4549826bf9d07f046b7b",
            "a3a6d41d034a4474b49cdf7a23fc979f",
            "d53704fa230d43938fc40aa30e04ee11",
            "0d0477a19ace4c7aa9a9695f32432ff4",
            "20b16b70c47544e598430e136416f13f",
            "24c19fb13c764f3cbf5a501f831eee27",
            "7cfbf96d76324fbaa5feb958de25efbb",
            "38e5f7c9fc0045ed9ec02cb89705ead9",
            "00c5eeacb7de4067bc80e9a21816c212",
            "46363d908dd5474580736f5c38b9f205",
            "feaa72a3add04224b3fd7172270cfe1a",
            "87693c6884a141f595c60a04b99ba925",
            "cf56d02d53a24463901ddf47cfc28ac5",
            "8f7778cdb3e3472c896111ab6ada0a01",
            "8e46fee5489541f0a14d96dd51aaf68b",
            "5e3cbb46a9eb4f53bfd2f96c9c7a8706",
            "feafe2c64f254fdfa408ec47ecf3b74b",
            "c71bed7648524d68a4e902a96c27b40a",
            "eb1060f47ebd487996e8b55c04c121fe",
            "935b9d27e76c4cd292664675a8b6e84f",
            "bd804da6bb444d338c101aea221798c6",
            "caac8f179bed461297c83c7b52f70b87",
            "da40e89a1cb447c4aa49b4a950ac4ae5",
            "9a75846a87e14a1f9efebff078fa7dc7",
            "1c9a493d7b3c473f89c71ebc1da5f0f1",
            "a52df7db93f8427c94a43c197c565e75",
            "cf51751f6b7743ac97ad4853e0e42bcc",
            "9ae00c443e084e148fe25ad48e441b40",
            "41f8edc8ec514b0eab74c4192092a949",
            "fe4e24165cf94991ae383b68cf8e14df",
            "48653149433243ceae7bdb329fb94c85",
            "f8953c7736cf473d8ab53b1f6f28349b",
            "1f99301503ed422dbc14fcb9fb732f86",
            "5848c1a0f2de43b996d683d32bdad0f0",
            "019f510edd7f4b1d8d6bbce20aa191a3",
            "2ebc4d89445c46088ad80691149bac1a",
            "1c3a87e0521c43e6aeb2699736893aa6",
            "749c7115bbd3466480c5cd2864083dee",
            "0320ef8932344495a0a694633427d930",
            "e4b248c1466a437386f33baf9aad7930",
            "a982d2300cc946b2806fdd27ce583be9",
            "91665ed2786547d8899596b24f0aee2f",
            "67cf0b4c85de4e79b3cc52f481c42bd7",
            "04ad862832464dc2a96476355ebe5709",
            "328566d4f717486c941d3c5d50d35bf0"
          ]
        },
        "id": "q4WXURi_00cw",
        "outputId": "55d2117b-cfc5-4f58-8153-8bf5c3257331"
      },
      "outputs": [
        {
          "name": "stdout",
          "output_type": "stream",
          "text": [
            "Query: Why did Reverend Mother chastise Deloris?\n"
          ]
        },
        {
          "data": {
            "application/vnd.jupyter.widget-view+json": {
              "model_id": "e0f9429dd1a4456991a4d54654de25fb",
              "version_major": 2,
              "version_minor": 0
            },
            "text/plain": [
              "tokenizer_config.json:   0%|          | 0.00/26.0 [00:00<?, ?B/s]"
            ]
          },
          "metadata": {},
          "output_type": "display_data"
        },
        {
          "data": {
            "application/vnd.jupyter.widget-view+json": {
              "model_id": "a3a6d41d034a4474b49cdf7a23fc979f",
              "version_major": 2,
              "version_minor": 0
            },
            "text/plain": [
              "vocab.json:   0%|          | 0.00/1.04M [00:00<?, ?B/s]"
            ]
          },
          "metadata": {},
          "output_type": "display_data"
        },
        {
          "data": {
            "application/vnd.jupyter.widget-view+json": {
              "model_id": "cf56d02d53a24463901ddf47cfc28ac5",
              "version_major": 2,
              "version_minor": 0
            },
            "text/plain": [
              "merges.txt:   0%|          | 0.00/456k [00:00<?, ?B/s]"
            ]
          },
          "metadata": {},
          "output_type": "display_data"
        },
        {
          "data": {
            "application/vnd.jupyter.widget-view+json": {
              "model_id": "9a75846a87e14a1f9efebff078fa7dc7",
              "version_major": 2,
              "version_minor": 0
            },
            "text/plain": [
              "tokenizer.json:   0%|          | 0.00/1.36M [00:00<?, ?B/s]"
            ]
          },
          "metadata": {},
          "output_type": "display_data"
        },
        {
          "name": "stderr",
          "output_type": "stream",
          "text": [
            "/usr/local/lib/python3.10/dist-packages/huggingface_hub/file_download.py:1132: FutureWarning: `resume_download` is deprecated and will be removed in version 1.0.0. Downloads always resume when possible. If you want to force a new download, use `force_download=True`.\n",
            "  warnings.warn(\n"
          ]
        },
        {
          "data": {
            "application/vnd.jupyter.widget-view+json": {
              "model_id": "019f510edd7f4b1d8d6bbce20aa191a3",
              "version_major": 2,
              "version_minor": 0
            },
            "text/plain": [
              "config.json:   0%|          | 0.00/665 [00:00<?, ?B/s]"
            ]
          },
          "metadata": {},
          "output_type": "display_data"
        },
        {
          "name": "stderr",
          "output_type": "stream",
          "text": [
            "Token indices sequence length is longer than the specified maximum sequence length for this model (3296 > 1024). Running this sequence through the model will result in indexing errors\n",
            "/usr/local/lib/python3.10/dist-packages/langchain_core/_api/deprecation.py:119: LangChainDeprecationWarning: The method `Chain.run` was deprecated in langchain 0.1.0 and will be removed in 0.2.0. Use invoke instead.\n",
            "  warn_deprecated(\n"
          ]
        },
        {
          "name": "stdout",
          "output_type": "stream",
          "text": [
            "Answer:  Reverend Mother chastised Deloris for singing a gospel and rock-and-roll-infused performance of the hymn \"Hail Holy Queen\" during Mass.\n",
            "\n",
            "\n",
            "Query: What does Augustus reveal to Hazel after staying in Amsterdam together?\n",
            "Answer:  Augustus reveals to Hazel that his cancer has relapsed, has spread throughout his body and is terminal.\n",
            "\n",
            "\n",
            "Query: What happen to the hideout spot?\n",
            "Answer:  The hideout spot was found and brought out to prove that Llanfeare was not his own.\n",
            "\n",
            "\n",
            "Query: How much did Christian pay for the video?\n",
            "Answer:  Christian paid $1 million for the snuff film.\n",
            "\n",
            "\n",
            "Query: Where is the underground shelter where James Cole is being held as a prisoner located?\n",
            "Answer:  The underground shelter where James Cole is being held as a prisoner is located beneath the ruins of Philadelphia.\n",
            "\n",
            "\n",
            "Query: What was the top secret project that the CIA officers watched in the begining?\n",
            "Answer:  The top secret project that the CIA officers watched in the begining was called \"Crossbow\": a space shuttle mounted with a computer-guided laser weapon capable of incinerating a man on the ground with pinpoint accuracy.\n",
            "\n",
            "\n",
            "Query: In which mountains are Hal and Sarah stranded?\n",
            "Answer:  Hal and Sarah are stranded in the Colorado Rockies.\n",
            "\n",
            "\n",
            "Query: Why does Daisy tell Benjamin to stay out of his life?\n",
            "Answer:  Daisy tells Benjamin to stay out of his life because she is frustrated by her injuries and doesn't want him to see her that way.\n",
            "\n",
            "\n",
            "Query: What type of animal was Mar?\n",
            "Answer:  Mar was a pet cat.\n",
            "\n",
            "\n",
            "Query: What was Bruce's job before he got fired?\n",
            "Answer:  Bruce was a television field reporter for Eyewitness News at WKBW-TV in Buffalo, New York, before he got fired.\n",
            "\n",
            "\n"
          ]
        }
      ],
      "source": [
        "# Printing 10 question-answer outputs\n",
        "queries_to_print = 10\n",
        "#print(K)\n",
        "num_printed_queries = 0\n",
        "for query, titles in queries.items():\n",
        "    #print(\"Query\",query)\n",
        "    #print(\"Titles\",titles)\n",
        "    if query == \"\":\n",
        "        continue\n",
        "    if num_printed_queries >= queries_to_print:\n",
        "        break\n",
        "    print(f\"Query: {query}\")\n",
        "    num_printed_queries += 1\n",
        "    printed_answer = False\n",
        "    if printed_answer:\n",
        "        continue\n",
        "    else:\n",
        "        printed_answer = True\n",
        "    results = RAG.search(query)\n",
        "    adapted_res_texts = adapt_to_input_size(context_messages_texts=[res[\"content\"] for res in results], model=LLM_MODEL_NAME, max_input_tokens=LLM_MAX_TOKENS, max_new_tokens_in_the_answer=RESPONSE_MAX_TOKENS, chain=qa_chain, is_question_answering_action=True, human_input=query, verbose=True)\n",
        "    adapted_res_docs = [Document(page_content = adapted_res_text) for adapted_res_text in adapted_res_texts]\n",
        "    prompt = PromptTemplate(input_variables=[\"human_input\",\"context\"], template=PROMPT)\n",
        "    answer = qa_chain.run(input_documents = adapted_res_docs, question = query, prompt = prompt)\n",
        "    print(f\"Answer: {answer}\")\n",
        "    print(f\"\\n\")"
      ]
    },
    {
      "cell_type": "code",
      "execution_count": 59,
      "metadata": {
        "colab": {
          "base_uri": "https://localhost:8080/"
        },
        "id": "OHUlgBv_02YK",
        "outputId": "d872efb6-71fd-4f5b-91f8-cbc9837a6d72"
      },
      "outputs": [
        {
          "name": "stderr",
          "output_type": "stream",
          "text": [
            "\r  0%|          | 0/100 [00:00<?, ?it/s]"
          ]
        },
        {
          "name": "stdout",
          "output_type": "stream",
          "text": [
            "('f7bb9eb9306b79cad4b6466f2ac3dcbd0e5fa63a', 54)\n",
            "('f7bb9eb9306b79cad4b6466f2ac3dcbd0e5fa63a', 54)\n"
          ]
        },
        {
          "name": "stderr",
          "output_type": "stream",
          "text": [
            "\r  1%|          | 1/100 [00:00<00:31,  3.16it/s]"
          ]
        },
        {
          "name": "stdout",
          "output_type": "stream",
          "text": [
            "('2453d062843edc379bdae3be69859e18bf1abd9d', 15)\n",
            "('2453d062843edc379bdae3be69859e18bf1abd9d', 15)\n"
          ]
        },
        {
          "name": "stderr",
          "output_type": "stream",
          "text": [
            "\r  2%|▏         | 2/100 [00:00<00:30,  3.20it/s]"
          ]
        },
        {
          "name": "stdout",
          "output_type": "stream",
          "text": [
            "('08ac6c0dca91fee93d27c7caf85bb57e17d4fc46', 8)\n",
            "('08ac6c0dca91fee93d27c7caf85bb57e17d4fc46', 8)\n"
          ]
        },
        {
          "name": "stderr",
          "output_type": "stream",
          "text": [
            "\r  3%|▎         | 3/100 [00:00<00:29,  3.25it/s]"
          ]
        },
        {
          "name": "stdout",
          "output_type": "stream",
          "text": [
            "('6ed5d860df4edd3d32f1aca52ec369f0d21039a0', 47)\n",
            "('6ed5d860df4edd3d32f1aca52ec369f0d21039a0', 47)\n"
          ]
        },
        {
          "name": "stderr",
          "output_type": "stream",
          "text": [
            "\r  4%|▍         | 4/100 [00:01<00:28,  3.39it/s]"
          ]
        },
        {
          "name": "stdout",
          "output_type": "stream",
          "text": [
            "('5df7b23024d86a042fcdcb06ee485d528317a156', 82)\n",
            "('5df7b23024d86a042fcdcb06ee485d528317a156', 82)\n"
          ]
        },
        {
          "name": "stderr",
          "output_type": "stream",
          "text": [
            "\r  5%|▌         | 5/100 [00:01<00:27,  3.48it/s]"
          ]
        },
        {
          "name": "stdout",
          "output_type": "stream",
          "text": [
            "('54e7219964513efc449b07327b717c600c609115', 73)\n",
            "('54e7219964513efc449b07327b717c600c609115', 73)\n"
          ]
        },
        {
          "name": "stderr",
          "output_type": "stream",
          "text": [
            "\r  6%|▌         | 6/100 [00:01<00:26,  3.51it/s]"
          ]
        },
        {
          "name": "stdout",
          "output_type": "stream",
          "text": [
            "('34baa9e1ca1e15bccce2326e4f5c52bb6ba30eb8', 23)\n",
            "('34baa9e1ca1e15bccce2326e4f5c52bb6ba30eb8', 23)\n"
          ]
        },
        {
          "name": "stderr",
          "output_type": "stream",
          "text": [
            "\r  7%|▋         | 7/100 [00:02<00:26,  3.57it/s]"
          ]
        },
        {
          "name": "stdout",
          "output_type": "stream",
          "text": [
            "('21813f2122fca16d05e89d44f4521f7da8a8f3b7', 9)\n",
            "('21813f2122fca16d05e89d44f4521f7da8a8f3b7', 9)\n"
          ]
        },
        {
          "name": "stderr",
          "output_type": "stream",
          "text": [
            "\r  8%|▊         | 8/100 [00:02<00:25,  3.54it/s]"
          ]
        },
        {
          "name": "stdout",
          "output_type": "stream",
          "text": [
            "('dcd3468c3e18822f08ff0607edfb3e9ca06f3ef0', 35)\n",
            "('dcd3468c3e18822f08ff0607edfb3e9ca06f3ef0', 35)\n"
          ]
        },
        {
          "name": "stderr",
          "output_type": "stream",
          "text": [
            "\r  9%|▉         | 9/100 [00:02<00:25,  3.57it/s]"
          ]
        },
        {
          "name": "stdout",
          "output_type": "stream",
          "text": [
            "('1da161b6007d46d85eda16ae391e1e78218fabd2', 44)\n",
            "('1da161b6007d46d85eda16ae391e1e78218fabd2', 44)\n"
          ]
        },
        {
          "name": "stderr",
          "output_type": "stream",
          "text": [
            "\r 10%|█         | 10/100 [00:02<00:25,  3.58it/s]"
          ]
        },
        {
          "name": "stdout",
          "output_type": "stream",
          "text": [
            "('ec5123faf9944ed8ef012cce89123db124242b3d', 57)\n",
            "('ec5123faf9944ed8ef012cce89123db124242b3d', 57)\n"
          ]
        },
        {
          "name": "stderr",
          "output_type": "stream",
          "text": [
            "\r 11%|█         | 11/100 [00:03<00:42,  2.10it/s]"
          ]
        },
        {
          "name": "stdout",
          "output_type": "stream",
          "text": [
            "('a912a7308035d8c7136ca7439bce977ed57951f4', 75)\n",
            "('a912a7308035d8c7136ca7439bce977ed57951f4', 75)\n"
          ]
        },
        {
          "name": "stderr",
          "output_type": "stream",
          "text": [
            "\r 12%|█▏        | 12/100 [00:06<01:35,  1.09s/it]"
          ]
        },
        {
          "name": "stdout",
          "output_type": "stream",
          "text": [
            "('0bd270c8c46f84a4abd99d65e2f17a9e11a7f76d', 1)\n",
            "('0bd270c8c46f84a4abd99d65e2f17a9e11a7f76d', 1)\n"
          ]
        },
        {
          "name": "stderr",
          "output_type": "stream",
          "text": [
            "\r 13%|█▎        | 13/100 [00:08<01:58,  1.36s/it]"
          ]
        },
        {
          "name": "stdout",
          "output_type": "stream",
          "text": [
            "('0bd270c8c46f84a4abd99d65e2f17a9e11a7f76d', 1)\n",
            "('0bd270c8c46f84a4abd99d65e2f17a9e11a7f76d', 1)\n"
          ]
        },
        {
          "name": "stderr",
          "output_type": "stream",
          "text": [
            "\r 14%|█▍        | 14/100 [00:09<01:50,  1.29s/it]"
          ]
        },
        {
          "name": "stdout",
          "output_type": "stream",
          "text": [
            "('2148102315134288df1183ff805c8c29785f270c', 32)\n",
            "('2148102315134288df1183ff805c8c29785f270c', 32)\n"
          ]
        },
        {
          "name": "stderr",
          "output_type": "stream",
          "text": [
            "\r 15%|█▌        | 15/100 [00:11<02:02,  1.44s/it]"
          ]
        },
        {
          "name": "stdout",
          "output_type": "stream",
          "text": [
            "('523a2eb1ae686d7bf0e664c89d0a490a7e1a22bc', 70)\n",
            "('523a2eb1ae686d7bf0e664c89d0a490a7e1a22bc', 70)\n"
          ]
        },
        {
          "name": "stderr",
          "output_type": "stream",
          "text": [
            "\r 16%|█▌        | 16/100 [00:12<01:48,  1.29s/it]"
          ]
        },
        {
          "name": "stdout",
          "output_type": "stream",
          "text": [
            "('57ae5005bae297a1bc8d8b31cc02598f71a559f3', 67)\n",
            "('57ae5005bae297a1bc8d8b31cc02598f71a559f3', 67)\n"
          ]
        },
        {
          "name": "stderr",
          "output_type": "stream",
          "text": [
            "\r 17%|█▋        | 17/100 [00:12<01:35,  1.15s/it]"
          ]
        },
        {
          "name": "stdout",
          "output_type": "stream",
          "text": [
            "('ccfabbee5a88f09447f3cbba5ea0f86e5c039058', 14)\n",
            "('ccfabbee5a88f09447f3cbba5ea0f86e5c039058', 14)\n"
          ]
        },
        {
          "name": "stderr",
          "output_type": "stream",
          "text": [
            "\r 18%|█▊        | 18/100 [00:13<01:30,  1.10s/it]"
          ]
        },
        {
          "name": "stdout",
          "output_type": "stream",
          "text": [
            "('ee7e2ef2ecfa84682214c65ed178f959eaffb8ea', 53)\n",
            "('ee7e2ef2ecfa84682214c65ed178f959eaffb8ea', 53)\n"
          ]
        },
        {
          "name": "stderr",
          "output_type": "stream",
          "text": [
            "\r 19%|█▉        | 19/100 [00:14<01:27,  1.08s/it]"
          ]
        },
        {
          "name": "stdout",
          "output_type": "stream",
          "text": [
            "('08de5678977bbbefcebc7e2abb04e402539b90e0', 79)\n",
            "('08de5678977bbbefcebc7e2abb04e402539b90e0', 79)\n"
          ]
        },
        {
          "name": "stderr",
          "output_type": "stream",
          "text": [
            "\r 20%|██        | 20/100 [00:17<01:54,  1.43s/it]"
          ]
        },
        {
          "name": "stdout",
          "output_type": "stream",
          "text": [
            "('e2fde9209d27595d3436ec97714d2e8a065721c7', 36)\n",
            "('e2fde9209d27595d3436ec97714d2e8a065721c7', 36)\n"
          ]
        },
        {
          "name": "stderr",
          "output_type": "stream",
          "text": [
            "\r 21%|██        | 21/100 [00:18<01:41,  1.28s/it]"
          ]
        },
        {
          "name": "stdout",
          "output_type": "stream",
          "text": [
            "('42b6d4260bbc83d7d8343779d34e96a067dfaad4', 0)\n",
            "('42b6d4260bbc83d7d8343779d34e96a067dfaad4', 0)\n"
          ]
        },
        {
          "name": "stderr",
          "output_type": "stream",
          "text": [
            "\r 22%|██▏       | 22/100 [00:19<01:34,  1.21s/it]"
          ]
        },
        {
          "name": "stdout",
          "output_type": "stream",
          "text": [
            "('ffcf7daee9cda766d2fcf1f6399b29be41876b21', 21)\n",
            "('ffcf7daee9cda766d2fcf1f6399b29be41876b21', 21)\n"
          ]
        },
        {
          "name": "stderr",
          "output_type": "stream",
          "text": [
            "\r 23%|██▎       | 23/100 [00:21<01:54,  1.49s/it]"
          ]
        },
        {
          "name": "stdout",
          "output_type": "stream",
          "text": [
            "('dcd3468c3e18822f08ff0607edfb3e9ca06f3ef0', 35)\n",
            "('dcd3468c3e18822f08ff0607edfb3e9ca06f3ef0', 35)\n"
          ]
        },
        {
          "name": "stderr",
          "output_type": "stream",
          "text": [
            "\r 24%|██▍       | 24/100 [00:22<01:47,  1.41s/it]"
          ]
        },
        {
          "name": "stdout",
          "output_type": "stream",
          "text": [
            "('a8771e0706c5b98b55c60b8dc3b9668295315712', 50)\n",
            "('a8771e0706c5b98b55c60b8dc3b9668295315712', 50)\n"
          ]
        },
        {
          "name": "stderr",
          "output_type": "stream",
          "text": [
            "\r 25%|██▌       | 25/100 [00:23<01:36,  1.29s/it]"
          ]
        },
        {
          "name": "stdout",
          "output_type": "stream",
          "text": [
            "('5328457f649b51410906d4d23b915f5147bee4ed', 4)\n",
            "('5328457f649b51410906d4d23b915f5147bee4ed', 4)\n"
          ]
        },
        {
          "name": "stderr",
          "output_type": "stream",
          "text": [
            "\r 26%|██▌       | 26/100 [00:27<02:42,  2.20s/it]"
          ]
        },
        {
          "name": "stdout",
          "output_type": "stream",
          "text": [
            "('b6ed74a969cdbb5ddc34575df8b7ee9d955d5556', 25)\n",
            "('b6ed74a969cdbb5ddc34575df8b7ee9d955d5556', 25)\n"
          ]
        },
        {
          "name": "stderr",
          "output_type": "stream",
          "text": [
            "\r 27%|██▋       | 27/100 [00:29<02:19,  1.91s/it]"
          ]
        },
        {
          "name": "stdout",
          "output_type": "stream",
          "text": [
            "('ec5123faf9944ed8ef012cce89123db124242b3d', 57)\n",
            "('ec5123faf9944ed8ef012cce89123db124242b3d', 57)\n"
          ]
        },
        {
          "name": "stderr",
          "output_type": "stream",
          "text": [
            "\r 28%|██▊       | 28/100 [00:30<02:10,  1.81s/it]"
          ]
        },
        {
          "name": "stdout",
          "output_type": "stream",
          "text": [
            "('712fafff56f2ed4d135937b39dd8b2c320ae6d1c', 61)\n",
            "('712fafff56f2ed4d135937b39dd8b2c320ae6d1c', 61)\n"
          ]
        },
        {
          "name": "stderr",
          "output_type": "stream",
          "text": [
            "\r 29%|██▉       | 29/100 [00:34<02:46,  2.35s/it]"
          ]
        },
        {
          "name": "stdout",
          "output_type": "stream",
          "text": [
            "('020773a0ca71155173ec4affe6a2496a6cb45216', 22)\n",
            "('020773a0ca71155173ec4affe6a2496a6cb45216', 22)\n"
          ]
        },
        {
          "name": "stderr",
          "output_type": "stream",
          "text": [
            "\r 30%|███       | 30/100 [00:35<02:12,  1.89s/it]"
          ]
        },
        {
          "name": "stdout",
          "output_type": "stream",
          "text": [
            "('3747036f950fe8f79cdaa0eb713104b9eb8af6c5', 71)\n",
            "('3747036f950fe8f79cdaa0eb713104b9eb8af6c5', 71)\n"
          ]
        },
        {
          "name": "stderr",
          "output_type": "stream",
          "text": [
            "\r 31%|███       | 31/100 [00:36<01:55,  1.67s/it]"
          ]
        },
        {
          "name": "stdout",
          "output_type": "stream",
          "text": [
            "('a912a7308035d8c7136ca7439bce977ed57951f4', 75)\n",
            "('a912a7308035d8c7136ca7439bce977ed57951f4', 75)\n"
          ]
        },
        {
          "name": "stderr",
          "output_type": "stream",
          "text": [
            "\r 32%|███▏      | 32/100 [00:37<01:48,  1.60s/it]"
          ]
        },
        {
          "name": "stdout",
          "output_type": "stream",
          "text": [
            "('8e15ee1aade0ced118df14ec3c59a14fecba8e1f', 20)\n",
            "('8e15ee1aade0ced118df14ec3c59a14fecba8e1f', 20)\n"
          ]
        },
        {
          "name": "stderr",
          "output_type": "stream",
          "text": [
            "\r 33%|███▎      | 33/100 [00:39<01:43,  1.54s/it]"
          ]
        },
        {
          "name": "stdout",
          "output_type": "stream",
          "text": [
            "('712fafff56f2ed4d135937b39dd8b2c320ae6d1c', 61)\n",
            "('712fafff56f2ed4d135937b39dd8b2c320ae6d1c', 61)\n"
          ]
        },
        {
          "name": "stderr",
          "output_type": "stream",
          "text": [
            "\r 34%|███▍      | 34/100 [00:41<01:58,  1.79s/it]"
          ]
        },
        {
          "name": "stdout",
          "output_type": "stream",
          "text": [
            "('36cdfca4aa4ecf0692b4c17f8fdc5c22dcf4d2e5', 60)\n",
            "('36cdfca4aa4ecf0692b4c17f8fdc5c22dcf4d2e5', 60)\n"
          ]
        },
        {
          "name": "stderr",
          "output_type": "stream",
          "text": [
            "\r 35%|███▌      | 35/100 [00:43<01:54,  1.76s/it]"
          ]
        },
        {
          "name": "stdout",
          "output_type": "stream",
          "text": [
            "('51dee7b41692efe1a4908527013b3aea46cb2c9a', 63)\n",
            "('51dee7b41692efe1a4908527013b3aea46cb2c9a', 63)\n"
          ]
        },
        {
          "name": "stderr",
          "output_type": "stream",
          "text": [
            "\r 36%|███▌      | 36/100 [00:45<01:58,  1.86s/it]"
          ]
        },
        {
          "name": "stdout",
          "output_type": "stream",
          "text": [
            "('8d34e0da546a23ce02b96f88aaba16054764807f', 18)\n",
            "('8d34e0da546a23ce02b96f88aaba16054764807f', 18)\n"
          ]
        },
        {
          "name": "stderr",
          "output_type": "stream",
          "text": [
            "\r 37%|███▋      | 37/100 [00:47<01:56,  1.85s/it]"
          ]
        },
        {
          "name": "stdout",
          "output_type": "stream",
          "text": [
            "('21813f2122fca16d05e89d44f4521f7da8a8f3b7', 9)\n",
            "('21813f2122fca16d05e89d44f4521f7da8a8f3b7', 9)\n"
          ]
        },
        {
          "name": "stderr",
          "output_type": "stream",
          "text": [
            "\r 38%|███▊      | 38/100 [00:50<02:21,  2.29s/it]"
          ]
        },
        {
          "name": "stdout",
          "output_type": "stream",
          "text": [
            "('2148102315134288df1183ff805c8c29785f270c', 32)\n",
            "('2148102315134288df1183ff805c8c29785f270c', 32)\n"
          ]
        },
        {
          "name": "stderr",
          "output_type": "stream",
          "text": [
            "\r 39%|███▉      | 39/100 [00:52<02:10,  2.14s/it]"
          ]
        },
        {
          "name": "stdout",
          "output_type": "stream",
          "text": [
            "('9cd25b973d253386eaebbb7f2f7821dc7518f6d6', 13)\n",
            "('9cd25b973d253386eaebbb7f2f7821dc7518f6d6', 13)\n"
          ]
        },
        {
          "name": "stderr",
          "output_type": "stream",
          "text": [
            "\r 40%|████      | 40/100 [00:53<01:53,  1.90s/it]"
          ]
        },
        {
          "name": "stdout",
          "output_type": "stream",
          "text": [
            "('214cb5277750c1ccddec0b10fa545c3c78c45f64', 11)\n",
            "('214cb5277750c1ccddec0b10fa545c3c78c45f64', 11)\n"
          ]
        },
        {
          "name": "stderr",
          "output_type": "stream",
          "text": [
            "\r 41%|████      | 41/100 [00:54<01:30,  1.54s/it]"
          ]
        },
        {
          "name": "stdout",
          "output_type": "stream",
          "text": [
            "('935775d945bc210b0928bffb6924e06e1ef9a9dd', 49)\n",
            "('935775d945bc210b0928bffb6924e06e1ef9a9dd', 49)\n"
          ]
        },
        {
          "name": "stderr",
          "output_type": "stream",
          "text": [
            "\r 42%|████▏     | 42/100 [00:55<01:30,  1.56s/it]"
          ]
        },
        {
          "name": "stdout",
          "output_type": "stream",
          "text": [
            "('907e3c83c161299b8f178e98399d4e2cc0dcd57f', 52)\n",
            "('907e3c83c161299b8f178e98399d4e2cc0dcd57f', 52)\n"
          ]
        },
        {
          "name": "stderr",
          "output_type": "stream",
          "text": [
            "\r 43%|████▎     | 43/100 [00:57<01:35,  1.68s/it]"
          ]
        },
        {
          "name": "stdout",
          "output_type": "stream",
          "text": [
            "('ee7e2ef2ecfa84682214c65ed178f959eaffb8ea', 53)\n",
            "('ee7e2ef2ecfa84682214c65ed178f959eaffb8ea', 53)\n"
          ]
        },
        {
          "name": "stderr",
          "output_type": "stream",
          "text": [
            "\r 44%|████▍     | 44/100 [00:59<01:36,  1.72s/it]"
          ]
        },
        {
          "name": "stdout",
          "output_type": "stream",
          "text": [
            "('6aa4c6be53eff0024e5c84f99ac94cddff4eb8f0', 48)\n",
            "('6aa4c6be53eff0024e5c84f99ac94cddff4eb8f0', 48)\n"
          ]
        },
        {
          "name": "stderr",
          "output_type": "stream",
          "text": [
            "\r 45%|████▌     | 45/100 [01:03<02:09,  2.35s/it]"
          ]
        },
        {
          "name": "stdout",
          "output_type": "stream",
          "text": [
            "('11acb0c4c601eec40b1b4a00cddf674052777a8c', 69)\n",
            "('11acb0c4c601eec40b1b4a00cddf674052777a8c', 69)\n"
          ]
        },
        {
          "name": "stderr",
          "output_type": "stream",
          "text": [
            "\r 46%|████▌     | 46/100 [01:07<02:36,  2.89s/it]"
          ]
        },
        {
          "name": "stdout",
          "output_type": "stream",
          "text": [
            "('bb4c45e6a2f4c58def38dbd630d7059028c27bdd', 26)\n",
            "('bb4c45e6a2f4c58def38dbd630d7059028c27bdd', 26)\n"
          ]
        },
        {
          "name": "stderr",
          "output_type": "stream",
          "text": [
            "\r 47%|████▋     | 47/100 [01:09<02:15,  2.55s/it]"
          ]
        },
        {
          "name": "stdout",
          "output_type": "stream",
          "text": [
            "('dae7e31c643a625b54fd042a8ecad0d9e964494e', 55)\n",
            "('dae7e31c643a625b54fd042a8ecad0d9e964494e', 55)\n"
          ]
        },
        {
          "name": "stderr",
          "output_type": "stream",
          "text": [
            "\r 48%|████▊     | 48/100 [01:13<02:33,  2.94s/it]"
          ]
        },
        {
          "name": "stdout",
          "output_type": "stream",
          "text": [
            "('2daf99dd0a17e8141b6697c4dad2621082cf5488', 29)\n",
            "('2daf99dd0a17e8141b6697c4dad2621082cf5488', 29)\n"
          ]
        },
        {
          "name": "stderr",
          "output_type": "stream",
          "text": [
            "\r 49%|████▉     | 49/100 [01:17<02:50,  3.34s/it]"
          ]
        },
        {
          "name": "stdout",
          "output_type": "stream",
          "text": [
            "('9cd25b973d253386eaebbb7f2f7821dc7518f6d6', 13)\n",
            "('9cd25b973d253386eaebbb7f2f7821dc7518f6d6', 13)\n"
          ]
        },
        {
          "name": "stderr",
          "output_type": "stream",
          "text": [
            "\r 50%|█████     | 50/100 [01:18<02:13,  2.67s/it]"
          ]
        },
        {
          "name": "stdout",
          "output_type": "stream",
          "text": [
            "('2584ef223f762658333799d37f593530f02ada28', 37)\n",
            "('2584ef223f762658333799d37f593530f02ada28', 37)\n"
          ]
        },
        {
          "name": "stderr",
          "output_type": "stream",
          "text": [
            "\r 51%|█████     | 51/100 [01:20<01:56,  2.38s/it]"
          ]
        },
        {
          "name": "stdout",
          "output_type": "stream",
          "text": [
            "('0507acab5483574fd74d15921e6a7de500413ca8', 38)\n",
            "('0507acab5483574fd74d15921e6a7de500413ca8', 38)\n"
          ]
        },
        {
          "name": "stderr",
          "output_type": "stream",
          "text": [
            "\r 52%|█████▏    | 52/100 [01:21<01:34,  1.98s/it]"
          ]
        },
        {
          "name": "stdout",
          "output_type": "stream",
          "text": [
            "('5e34e97ac8ff6cfb0f6e6e2ddcb4c23e55ea1c78', 10)\n",
            "('5e34e97ac8ff6cfb0f6e6e2ddcb4c23e55ea1c78', 10)\n"
          ]
        },
        {
          "name": "stderr",
          "output_type": "stream",
          "text": [
            "\r 53%|█████▎    | 53/100 [01:22<01:26,  1.84s/it]"
          ]
        },
        {
          "name": "stdout",
          "output_type": "stream",
          "text": [
            "('4ff62e050b4eba11e273a060f0e5b0080746ea79', 80)\n",
            "('4ff62e050b4eba11e273a060f0e5b0080746ea79', 80)\n"
          ]
        },
        {
          "name": "stderr",
          "output_type": "stream",
          "text": [
            "\r 54%|█████▍    | 54/100 [01:25<01:41,  2.20s/it]"
          ]
        },
        {
          "name": "stdout",
          "output_type": "stream",
          "text": [
            "('4a4f75695025f492d0f8d71cd121afb048bdaf1f', 81)\n",
            "('4a4f75695025f492d0f8d71cd121afb048bdaf1f', 81)\n"
          ]
        },
        {
          "name": "stderr",
          "output_type": "stream",
          "text": [
            "\r 55%|█████▌    | 55/100 [01:26<01:20,  1.80s/it]"
          ]
        },
        {
          "name": "stdout",
          "output_type": "stream",
          "text": [
            "('3015bab88108b574f61356eaa21df5fb52f0c545', 56)\n",
            "('3015bab88108b574f61356eaa21df5fb52f0c545', 56)\n"
          ]
        },
        {
          "name": "stderr",
          "output_type": "stream",
          "text": [
            "\r 56%|█████▌    | 56/100 [01:27<01:09,  1.59s/it]"
          ]
        },
        {
          "name": "stdout",
          "output_type": "stream",
          "text": [
            "('21b5f862d86b23b2ed446dcbfbfb572ba70471d0', 46)\n",
            "('21b5f862d86b23b2ed446dcbfbfb572ba70471d0', 46)\n"
          ]
        },
        {
          "name": "stderr",
          "output_type": "stream",
          "text": [
            "\r 57%|█████▋    | 57/100 [01:30<01:27,  2.04s/it]"
          ]
        },
        {
          "name": "stdout",
          "output_type": "stream",
          "text": [
            "('e2ad3b91abda132c04c65f7b93559d2ff23b1cac', 65)\n",
            "('e2ad3b91abda132c04c65f7b93559d2ff23b1cac', 65)\n"
          ]
        },
        {
          "name": "stderr",
          "output_type": "stream",
          "text": [
            "\r 58%|█████▊    | 58/100 [01:34<01:48,  2.58s/it]"
          ]
        },
        {
          "name": "stdout",
          "output_type": "stream",
          "text": [
            "('1b548ec72908f9447446bdb24e8c179df19a8999', 58)\n",
            "('1b548ec72908f9447446bdb24e8c179df19a8999', 58)\n"
          ]
        },
        {
          "name": "stderr",
          "output_type": "stream",
          "text": [
            "\r 59%|█████▉    | 59/100 [01:37<01:47,  2.61s/it]"
          ]
        },
        {
          "name": "stdout",
          "output_type": "stream",
          "text": [
            "('f6fbb458ad9ae228f23e0903109646020e249761', 16)\n",
            "('f6fbb458ad9ae228f23e0903109646020e249761', 16)\n"
          ]
        },
        {
          "name": "stderr",
          "output_type": "stream",
          "text": [
            "\r 60%|██████    | 60/100 [01:38<01:29,  2.24s/it]"
          ]
        },
        {
          "name": "stdout",
          "output_type": "stream",
          "text": [
            "('ae029461fcf47fb7c4e9e2574c7fb936ca29937b', 64)\n",
            "('ae029461fcf47fb7c4e9e2574c7fb936ca29937b', 64)\n"
          ]
        },
        {
          "name": "stderr",
          "output_type": "stream",
          "text": [
            "\r 61%|██████    | 61/100 [01:42<01:47,  2.77s/it]"
          ]
        },
        {
          "name": "stdout",
          "output_type": "stream",
          "text": [
            "('08c3429e9717bc663bc5f41cd3a2c701c222ed2f', 2)\n",
            "('08c3429e9717bc663bc5f41cd3a2c701c222ed2f', 2)\n"
          ]
        },
        {
          "name": "stderr",
          "output_type": "stream",
          "text": [
            "\r 62%|██████▏   | 62/100 [01:44<01:29,  2.36s/it]"
          ]
        },
        {
          "name": "stdout",
          "output_type": "stream",
          "text": [
            "('08c3429e9717bc663bc5f41cd3a2c701c222ed2f', 2)\n",
            "('08c3429e9717bc663bc5f41cd3a2c701c222ed2f', 2)\n"
          ]
        },
        {
          "name": "stderr",
          "output_type": "stream",
          "text": [
            "\r 63%|██████▎   | 63/100 [01:45<01:17,  2.09s/it]"
          ]
        },
        {
          "name": "stdout",
          "output_type": "stream",
          "text": [
            "('1fa32a0798f79e13ca92ae84eda9ab3eb12c70a4', 42)\n",
            "('1fa32a0798f79e13ca92ae84eda9ab3eb12c70a4', 42)\n"
          ]
        },
        {
          "name": "stderr",
          "output_type": "stream",
          "text": [
            "\r 64%|██████▍   | 64/100 [01:46<01:05,  1.82s/it]"
          ]
        },
        {
          "name": "stdout",
          "output_type": "stream",
          "text": [
            "('485b86c3ffec91e89fbc846985944adc0cf73c80', 68)\n",
            "('485b86c3ffec91e89fbc846985944adc0cf73c80', 68)\n"
          ]
        },
        {
          "name": "stderr",
          "output_type": "stream",
          "text": [
            "\r 65%|██████▌   | 65/100 [01:48<01:03,  1.82s/it]"
          ]
        },
        {
          "name": "stdout",
          "output_type": "stream",
          "text": [
            "('4a92bf273183297c7b9e2a39e4ba9044d0eb1e33', 39)\n",
            "('4a92bf273183297c7b9e2a39e4ba9044d0eb1e33', 39)\n"
          ]
        },
        {
          "name": "stderr",
          "output_type": "stream",
          "text": [
            "\r 66%|██████▌   | 66/100 [01:55<01:52,  3.30s/it]"
          ]
        },
        {
          "name": "stdout",
          "output_type": "stream",
          "text": [
            "('ced259f88228bea5f1d29e0bc784c28ad8b8c4cb', 3)\n",
            "('ced259f88228bea5f1d29e0bc784c28ad8b8c4cb', 3)\n"
          ]
        },
        {
          "name": "stderr",
          "output_type": "stream",
          "text": [
            "\r 67%|██████▋   | 67/100 [01:57<01:34,  2.87s/it]"
          ]
        },
        {
          "name": "stdout",
          "output_type": "stream",
          "text": [
            "('fa1c5da957da66aec751555a4bb1b6ba1580ccce', 51)\n",
            "('fa1c5da957da66aec751555a4bb1b6ba1580ccce', 51)\n"
          ]
        },
        {
          "name": "stderr",
          "output_type": "stream",
          "text": [
            "\r 68%|██████▊   | 68/100 [01:59<01:22,  2.58s/it]"
          ]
        },
        {
          "name": "stdout",
          "output_type": "stream",
          "text": [
            "('06b1c16f9343dfe145570e28e0fe81ddc66cf1ea', 12)\n",
            "('06b1c16f9343dfe145570e28e0fe81ddc66cf1ea', 12)\n"
          ]
        },
        {
          "name": "stderr",
          "output_type": "stream",
          "text": [
            "\r 69%|██████▉   | 69/100 [02:04<01:40,  3.23s/it]"
          ]
        },
        {
          "name": "stdout",
          "output_type": "stream",
          "text": [
            "('e72d83e55d93bb42ae19fa3ec68bb983d4541a7e', 41)\n",
            "('e72d83e55d93bb42ae19fa3ec68bb983d4541a7e', 41)\n"
          ]
        },
        {
          "name": "stderr",
          "output_type": "stream",
          "text": [
            "\r 70%|███████   | 70/100 [02:05<01:24,  2.83s/it]"
          ]
        },
        {
          "name": "stdout",
          "output_type": "stream",
          "text": [
            "('3f596a5be9de38b6f63b6c4b92021fe78d403e80', 30)\n",
            "('3f596a5be9de38b6f63b6c4b92021fe78d403e80', 30)\n"
          ]
        },
        {
          "name": "stderr",
          "output_type": "stream",
          "text": [
            "\r 71%|███████   | 71/100 [02:08<01:21,  2.82s/it]"
          ]
        },
        {
          "name": "stdout",
          "output_type": "stream",
          "text": [
            "('e2ad3b91abda132c04c65f7b93559d2ff23b1cac', 65)\n",
            "('e2ad3b91abda132c04c65f7b93559d2ff23b1cac', 65)\n"
          ]
        },
        {
          "name": "stderr",
          "output_type": "stream",
          "text": [
            "\r 72%|███████▏  | 72/100 [02:09<01:05,  2.35s/it]"
          ]
        },
        {
          "name": "stdout",
          "output_type": "stream",
          "text": [
            "('ad020448b562d244e23b4d9a55fde6b31971f583', 33)\n",
            "('ad020448b562d244e23b4d9a55fde6b31971f583', 33)\n"
          ]
        },
        {
          "name": "stderr",
          "output_type": "stream",
          "text": [
            "\r 73%|███████▎  | 73/100 [02:11<00:57,  2.12s/it]"
          ]
        },
        {
          "name": "stdout",
          "output_type": "stream",
          "text": [
            "('4a130666c65fb9435977c7b28ace9f922b224567', 40)\n",
            "('4a130666c65fb9435977c7b28ace9f922b224567', 40)\n"
          ]
        },
        {
          "name": "stderr",
          "output_type": "stream",
          "text": [
            "\r 74%|███████▍  | 74/100 [02:14<01:01,  2.35s/it]"
          ]
        },
        {
          "name": "stdout",
          "output_type": "stream",
          "text": [
            "('b844c7bb3cacfa042e25f614b6299a7e7ae56e31', 27)\n",
            "('b844c7bb3cacfa042e25f614b6299a7e7ae56e31', 27)\n"
          ]
        },
        {
          "name": "stderr",
          "output_type": "stream",
          "text": [
            "\r 75%|███████▌  | 75/100 [02:18<01:14,  2.99s/it]"
          ]
        },
        {
          "name": "stdout",
          "output_type": "stream",
          "text": [
            "('f4c9b2e062c118b0c15409e78b8e2a3c2ceadcd3', 6)\n",
            "('f4c9b2e062c118b0c15409e78b8e2a3c2ceadcd3', 6)\n"
          ]
        },
        {
          "name": "stderr",
          "output_type": "stream",
          "text": [
            "\r 76%|███████▌  | 76/100 [02:20<01:03,  2.66s/it]"
          ]
        },
        {
          "name": "stdout",
          "output_type": "stream",
          "text": [
            "('60510bf4be495aeb1b4640a7a058b4ae7c04b884', 19)\n",
            "('60510bf4be495aeb1b4640a7a058b4ae7c04b884', 19)\n"
          ]
        },
        {
          "name": "stderr",
          "output_type": "stream",
          "text": [
            "\r 77%|███████▋  | 77/100 [02:24<01:07,  2.93s/it]"
          ]
        },
        {
          "name": "stdout",
          "output_type": "stream",
          "text": [
            "('019a9611dd8e1b822bd0a58f075cc4a30bdd0797', 66)\n",
            "('019a9611dd8e1b822bd0a58f075cc4a30bdd0797', 66)\n"
          ]
        },
        {
          "name": "stderr",
          "output_type": "stream",
          "text": [
            "\r 78%|███████▊  | 78/100 [02:26<01:00,  2.77s/it]"
          ]
        },
        {
          "name": "stdout",
          "output_type": "stream",
          "text": [
            "('350c0f8265c2d1183fd9a7e2a92c748998ac8775', 45)\n",
            "('350c0f8265c2d1183fd9a7e2a92c748998ac8775', 45)\n"
          ]
        },
        {
          "name": "stderr",
          "output_type": "stream",
          "text": [
            "\r 79%|███████▉  | 79/100 [02:28<00:50,  2.42s/it]"
          ]
        },
        {
          "name": "stdout",
          "output_type": "stream",
          "text": [
            "('ae029461fcf47fb7c4e9e2574c7fb936ca29937b', 64)\n",
            "('ae029461fcf47fb7c4e9e2574c7fb936ca29937b', 64)\n"
          ]
        },
        {
          "name": "stderr",
          "output_type": "stream",
          "text": [
            "\r 80%|████████  | 80/100 [02:30<00:44,  2.21s/it]"
          ]
        },
        {
          "name": "stdout",
          "output_type": "stream",
          "text": [
            "('84a16d3e5025bb3e2ceb36f8dbd85ade48fac84a', 62)\n",
            "('84a16d3e5025bb3e2ceb36f8dbd85ade48fac84a', 62)\n"
          ]
        },
        {
          "name": "stderr",
          "output_type": "stream",
          "text": [
            "\r 81%|████████  | 81/100 [02:32<00:43,  2.28s/it]"
          ]
        },
        {
          "name": "stdout",
          "output_type": "stream",
          "text": [
            "('60510bf4be495aeb1b4640a7a058b4ae7c04b884', 19)\n",
            "('60510bf4be495aeb1b4640a7a058b4ae7c04b884', 19)\n"
          ]
        },
        {
          "name": "stderr",
          "output_type": "stream",
          "text": [
            "\r 82%|████████▏ | 82/100 [02:38<01:02,  3.49s/it]"
          ]
        },
        {
          "name": "stdout",
          "output_type": "stream",
          "text": [
            "('344cddeff8cb90fe176ea9809fd8d3169a7dba34', 28)\n",
            "('344cddeff8cb90fe176ea9809fd8d3169a7dba34', 28)\n"
          ]
        },
        {
          "name": "stderr",
          "output_type": "stream",
          "text": [
            "\r 83%|████████▎ | 83/100 [02:41<00:55,  3.24s/it]"
          ]
        },
        {
          "name": "stdout",
          "output_type": "stream",
          "text": [
            "('46e4a4aa0f4ba89cf4d4972f1b9f6657f56e8f63', 78)\n",
            "('46e4a4aa0f4ba89cf4d4972f1b9f6657f56e8f63', 78)\n"
          ]
        },
        {
          "name": "stderr",
          "output_type": "stream",
          "text": [
            "\r 84%|████████▍ | 84/100 [02:43<00:47,  2.95s/it]"
          ]
        },
        {
          "name": "stdout",
          "output_type": "stream",
          "text": [
            "('818bfd881f6099dc585792bba69b492a111e7793', 24)\n",
            "('818bfd881f6099dc585792bba69b492a111e7793', 24)\n"
          ]
        },
        {
          "name": "stderr",
          "output_type": "stream",
          "text": [
            "\r 85%|████████▌ | 85/100 [02:45<00:38,  2.56s/it]"
          ]
        },
        {
          "name": "stdout",
          "output_type": "stream",
          "text": [
            "('21b5f862d86b23b2ed446dcbfbfb572ba70471d0', 46)\n",
            "('21b5f862d86b23b2ed446dcbfbfb572ba70471d0', 46)\n"
          ]
        },
        {
          "name": "stderr",
          "output_type": "stream",
          "text": [
            "\r 86%|████████▌ | 86/100 [02:47<00:31,  2.26s/it]"
          ]
        },
        {
          "name": "stdout",
          "output_type": "stream",
          "text": [
            "('1fa32a0798f79e13ca92ae84eda9ab3eb12c70a4', 42)\n",
            "('1fa32a0798f79e13ca92ae84eda9ab3eb12c70a4', 42)\n"
          ]
        },
        {
          "name": "stderr",
          "output_type": "stream",
          "text": [
            "\r 87%|████████▋ | 87/100 [02:48<00:27,  2.11s/it]"
          ]
        },
        {
          "name": "stdout",
          "output_type": "stream",
          "text": [
            "('9bb9407d60ce0a2e7b57defe538f8578ea79493b', 72)\n",
            "('9bb9407d60ce0a2e7b57defe538f8578ea79493b', 72)\n"
          ]
        },
        {
          "name": "stderr",
          "output_type": "stream",
          "text": [
            "\r 88%|████████▊ | 88/100 [02:49<00:22,  1.84s/it]"
          ]
        },
        {
          "name": "stdout",
          "output_type": "stream",
          "text": [
            "('206ee38a1991579ed174f236490a9064e573a878', 43)\n",
            "('206ee38a1991579ed174f236490a9064e573a878', 43)\n"
          ]
        },
        {
          "name": "stderr",
          "output_type": "stream",
          "text": [
            "\r 89%|████████▉ | 89/100 [02:51<00:18,  1.65s/it]"
          ]
        },
        {
          "name": "stdout",
          "output_type": "stream",
          "text": [
            "('8fd8d776e178272a36766df5b6971d4b5dda9d86', 76)\n",
            "('8fd8d776e178272a36766df5b6971d4b5dda9d86', 76)\n"
          ]
        },
        {
          "name": "stderr",
          "output_type": "stream",
          "text": [
            "\r 90%|█████████ | 90/100 [02:52<00:14,  1.46s/it]"
          ]
        },
        {
          "name": "stdout",
          "output_type": "stream",
          "text": [
            "('8932752af63261f435156ff18c41d3da39c3d5c6', 5)\n",
            "('8932752af63261f435156ff18c41d3da39c3d5c6', 5)\n"
          ]
        },
        {
          "name": "stderr",
          "output_type": "stream",
          "text": [
            "\r 91%|█████████ | 91/100 [02:53<00:12,  1.40s/it]"
          ]
        },
        {
          "name": "stdout",
          "output_type": "stream",
          "text": [
            "('fa1c5da957da66aec751555a4bb1b6ba1580ccce', 51)\n",
            "('fa1c5da957da66aec751555a4bb1b6ba1580ccce', 51)\n"
          ]
        },
        {
          "name": "stderr",
          "output_type": "stream",
          "text": [
            "\r 92%|█████████▏| 92/100 [02:55<00:13,  1.66s/it]"
          ]
        },
        {
          "name": "stdout",
          "output_type": "stream",
          "text": [
            "('58184a6c7022822b91a6593d00dd12be8bce7f36', 74)\n",
            "('58184a6c7022822b91a6593d00dd12be8bce7f36', 74)\n"
          ]
        },
        {
          "name": "stderr",
          "output_type": "stream",
          "text": [
            "\r 93%|█████████▎| 93/100 [02:56<00:09,  1.42s/it]"
          ]
        },
        {
          "name": "stdout",
          "output_type": "stream",
          "text": [
            "('0c6bb0eb4a8f40ba3bdd6b1e6e86163e759d04e9', 31)\n",
            "('0c6bb0eb4a8f40ba3bdd6b1e6e86163e759d04e9', 31)\n"
          ]
        },
        {
          "name": "stderr",
          "output_type": "stream",
          "text": [
            "\r 94%|█████████▍| 94/100 [02:58<00:09,  1.65s/it]"
          ]
        },
        {
          "name": "stdout",
          "output_type": "stream",
          "text": [
            "('bb6376e342dc66b433066219e35995b491923a16', 59)\n",
            "('bb6376e342dc66b433066219e35995b491923a16', 59)\n"
          ]
        },
        {
          "name": "stderr",
          "output_type": "stream",
          "text": [
            "\r 95%|█████████▌| 95/100 [03:03<00:12,  2.52s/it]"
          ]
        },
        {
          "name": "stdout",
          "output_type": "stream",
          "text": [
            "('de79e439d0586c0af4aa95689757190b6e156c38', 7)\n",
            "('de79e439d0586c0af4aa95689757190b6e156c38', 7)\n"
          ]
        },
        {
          "name": "stderr",
          "output_type": "stream",
          "text": [
            "\r 96%|█████████▌| 96/100 [03:06<00:10,  2.63s/it]"
          ]
        },
        {
          "name": "stdout",
          "output_type": "stream",
          "text": [
            "('2c5f448df18172babaac38806e1fb699a8baf65b', 17)\n",
            "('2c5f448df18172babaac38806e1fb699a8baf65b', 17)\n"
          ]
        },
        {
          "name": "stderr",
          "output_type": "stream",
          "text": [
            "\r 97%|█████████▋| 97/100 [03:08<00:07,  2.53s/it]"
          ]
        },
        {
          "name": "stdout",
          "output_type": "stream",
          "text": [
            "('9bb9407d60ce0a2e7b57defe538f8578ea79493b', 72)\n",
            "('9bb9407d60ce0a2e7b57defe538f8578ea79493b', 72)\n"
          ]
        },
        {
          "name": "stderr",
          "output_type": "stream",
          "text": [
            "\r 98%|█████████▊| 98/100 [03:10<00:04,  2.45s/it]"
          ]
        },
        {
          "name": "stdout",
          "output_type": "stream",
          "text": [
            "('17f2e2685467b6eebf01d2a643e31f53ea215e91', 34)\n",
            "('17f2e2685467b6eebf01d2a643e31f53ea215e91', 34)\n"
          ]
        },
        {
          "name": "stderr",
          "output_type": "stream",
          "text": [
            "\r 99%|█████████▉| 99/100 [03:12<00:02,  2.19s/it]"
          ]
        },
        {
          "name": "stdout",
          "output_type": "stream",
          "text": [
            "('e524c75271fe0e5c4b1fdbc3c2e297cdecf1b113', 77)\n",
            "('e524c75271fe0e5c4b1fdbc3c2e297cdecf1b113', 77)\n"
          ]
        },
        {
          "name": "stderr",
          "output_type": "stream",
          "text": [
            "100%|██████████| 100/100 [03:14<00:00,  1.94s/it]\n"
          ]
        }
      ],
      "source": [
        "# Generating the answers for each question\n",
        "res = {}\n",
        "answers = {}\n",
        "for query, titles in tqdm(queries.items()):\n",
        "    print(titles)\n",
        "    answers[query]=[]\n",
        "    res[query]=[]\n",
        "    print(titles)\n",
        "    results = RAG.search(query)\n",
        "\n",
        "    res[query].append({'id':titles[1], 'results':[(res['content'], res['score'], res['document_id']) for res in results]})\n",
        "    adapted_res_texts = adapt_to_input_size(context_messages_texts=[res[\"content\"] for res in results], model=LLM_MODEL_NAME, max_input_tokens=LLM_MAX_TOKENS, max_new_tokens_in_the_answer=RESPONSE_MAX_TOKENS, chain=qa_chain, is_question_answering_action=True, human_input=query, verbose=True)\n",
        "    adapted_res_docs = [Document(page_content = adapted_res_text) for adapted_res_text in adapted_res_texts]\n",
        "    prompt = PromptTemplate(input_variables=[\"human_input\",\"context\"], template=PROMPT)\n",
        "    answer = qa_chain.run(input_documents = adapted_res_docs, question = query, prompt = prompt)\n",
        "    prompt_input = {'human_input':query, 'context':qa_chain.document_separator.join(adapted_res_texts)}\n",
        "    parsed_prompt = prompt.format(**prompt_input)\n",
        "    answers[query].append({'prompt':parsed_prompt,'doc_id':titles[1],'doc_title':titles[0],'answer':answer})\n",
        "data = datetime.today().strftime('%Y%m%d')"
      ]
    },
    {
      "cell_type": "code",
      "execution_count": 62,
      "metadata": {
        "id": "BZ0ihspX7JCh"
      },
      "outputs": [],
      "source": [
        "# Utility functions\n",
        "RAG_OUTPUT = \"\"\n",
        "ALL_OUTPUT_CSV_FILE = f\"/content/BemScore_all_categories.csv\"\n",
        "\n",
        "def read_json_file(file_path):\n",
        "    try:\n",
        "        with open(file_path, 'r') as file:\n",
        "            data = json.load(file)\n",
        "        return data\n",
        "    except FileNotFoundError:\n",
        "        print(f\"Error: File not found at path '{file_path}'.\")\n",
        "        return None\n",
        "    except json.JSONDecodeError as e:\n",
        "        print(f\"Error decoding JSON in file '{file_path}': {e}\")\n",
        "        return None\n",
        "\n",
        "def read_jsonl(file_path):\n",
        "    \"\"\"\n",
        "    Read a JSONL file and return a list of dictionaries.\n",
        "\n",
        "    Args:\n",
        "    - file_path (str): Path to the JSONL file.\n",
        "\n",
        "    Returns:\n",
        "    - list: A list of dictionaries containing the JSON objects from the file.\n",
        "    \"\"\"\n",
        "    data = []\n",
        "    with open(file_path, 'r') as file:\n",
        "        for line in file:\n",
        "            try:\n",
        "                data.append(json.loads(line))\n",
        "            except json.JSONDecodeError as e:\n",
        "                print(f\"Error decoding JSON: {e}. Skipping line.\")\n",
        "    return data\n",
        "\n",
        "def write_json_file(file_path, data):\n",
        "    try:\n",
        "        with open(file_path, 'w', encoding='utf-8') as file:\n",
        "            json.dump(data, file, indent=4, ensure_ascii=True)\n",
        "        print(f\"Data successfully written to '{file_path}'.\")\n",
        "    except json.JSONDecodeError as e:\n",
        "        print(f\"Error encoding data as JSON: {e}\")\n",
        "    except Exception as e:\n",
        "        print(f\"Error writing data to '{file_path}': {e}\")\n",
        "\n",
        "def compute_metric_on_candidate_answer(candidate_answer, golden_answers, metric_function):\n",
        "    sum_scores = 0\n",
        "    number_of_answers = 0\n",
        "    for golden_answer in golden_answers:\n",
        "        current_score = metric_function([candidate_answer], [golden_answer])\n",
        "        sum_scores += current_score\n",
        "        number_of_answers += 1\n",
        "    assert number_of_answers > 0\n",
        "    return round(sum_scores/number_of_answers, 3)"
      ]
    },
    {
      "cell_type": "code",
      "execution_count": 63,
      "metadata": {
        "id": "1jUV-qe2712z"
      },
      "outputs": [],
      "source": [
        "# More utility functions\n",
        "#@title Sets up the BERT tokenizer using tf-text.\n",
        "import tensorflow_text as text\n",
        "\n",
        "VOCAB_PATH = 'gs://cloud-tpu-checkpoints/bert/keras_bert/uncased_L-12_H-768_A-12/vocab.txt'  #@param {type:\"string\"}\n",
        "\n",
        "vocab_table = tf.lookup.StaticVocabularyTable(\n",
        "        tf.lookup.TextFileInitializer(\n",
        "            filename=VOCAB_PATH,\n",
        "            key_dtype=tf.string,\n",
        "            key_index=tf.lookup.TextFileIndex.WHOLE_LINE,\n",
        "            value_dtype=tf.int64,\n",
        "            value_index=tf.lookup.TextFileIndex.LINE_NUMBER\n",
        "        ),\n",
        "        num_oov_buckets=1)\n",
        "cls_id, sep_id = vocab_table.lookup(tf.convert_to_tensor(['[CLS]', '[SEP]']))\n",
        "tokenizer = text.BertTokenizer(vocab_lookup_table=vocab_table,\n",
        "                               token_out_type=tf.int64,\n",
        "                               preserve_unused_token=True,\n",
        "                               lower_case=True)\n",
        "def bertify_example(example):\n",
        "  question = tokenizer.tokenize(example['question']).merge_dims(1, 2)\n",
        "  reference = tokenizer.tokenize(example['reference']).merge_dims(1, 2)\n",
        "  candidate = tokenizer.tokenize(example['candidate']).merge_dims(1, 2)\n",
        "\n",
        "  input_ids, segment_ids = text.combine_segments(\n",
        "      (candidate, reference, question), cls_id, sep_id)\n",
        "\n",
        "  return {'input_ids': input_ids.numpy(), 'segment_ids': segment_ids.numpy()}\n",
        "\n",
        "\n",
        "def pad(a, length=512):\n",
        "  return np.append(a, np.zeros(length - a.shape[-1], np.int32))\n",
        "\n",
        "\n",
        "def bertify_examples(examples):\n",
        "  input_ids = []\n",
        "  segment_ids = []\n",
        "  for example in examples:\n",
        "    example_inputs = bertify_example(example)\n",
        "    input_ids.append(pad(example_inputs['input_ids']))\n",
        "    segment_ids.append(pad(example_inputs['segment_ids']))\n",
        "\n",
        "  return {'input_ids': np.stack(input_ids), 'segment_ids': np.stack(segment_ids)}"
      ]
    },
    {
      "cell_type": "code",
      "execution_count": 66,
      "metadata": {
        "id": "QTtQHljD75CA"
      },
      "outputs": [],
      "source": [
        "bem = hub.load('https://kaggle.com/models/google/bert/frameworks/TensorFlow2/variations/answer-equivalence-bem/versions/1')"
      ]
    },
    {
      "cell_type": "code",
      "execution_count": 67,
      "metadata": {
        "id": "FQExgL0D752m"
      },
      "outputs": [],
      "source": [
        "def get_bem_score(predictions,references):\n",
        "    prediction = predictions[0]\n",
        "    reference = references[0]\n",
        "    examples = [{\n",
        "    'question': prediction['query'],\n",
        "    'reference': reference,\n",
        "    'candidate': prediction['answer']\n",
        "    }]\n",
        "    inputs = bertify_examples(examples)\n",
        "    # The outputs are raw logits.\n",
        "    raw_outputs = bem(inputs)\n",
        "\n",
        "    # They can be transformed into a classification 'probability' like so:\n",
        "    bem_score = float(softmax(np.squeeze(raw_outputs))[1])\n",
        "    return bem_score\n",
        "\n",
        "def list_avg(lst):\n",
        "    return sum(lst) / len(lst)\n",
        "\n",
        "def compute_aggregates(metrics_dict):\n",
        "    aggregate_dict = {}\n",
        "    for key in metrics_dict.keys():\n",
        "        aggregate_dict[key] = []\n",
        "        if key == \"Query\":\n",
        "            aggregate_dict[key].extend(['MEAN','MIN','MAX'])\n",
        "            continue\n",
        "        if key == \"Candidate answer\" or key == \"First gt answer\":\n",
        "            aggregate_dict[key].extend(['','',''])\n",
        "            continue\n",
        "        values = metrics_dict[key]\n",
        "        mean_value = list_avg(values)\n",
        "        min_value = min(values)\n",
        "        max_value = max(values)\n",
        "        aggregate_dict[key].append(round(mean_value,3))\n",
        "        aggregate_dict[key].append(min_value)\n",
        "        aggregate_dict[key].append(max_value)\n",
        "    return aggregate_dict"
      ]
    },
    {
      "cell_type": "code",
      "execution_count": 137,
      "metadata": {
        "id": "-OaxMcr377zY"
      },
      "outputs": [],
      "source": [
        "# Creating one structure for BEM score computing\n",
        "\n",
        "query_to_answers = {}\n",
        "for query in queries.items():\n",
        "\n",
        "    predicted_answers = [elem[1][0]['answer'] for elem in answers.items() if elem[0]==query[0]]\n",
        "    assert len(predicted_answers) == 1\n",
        "\n",
        "    golden_answers = [e  for elem in anns for e in elem['answers'] if elem['question']==query[0]]\n",
        "    golden_answers = [golden_answers[0]]\n",
        "    assert len(golden_answers) == 1\n",
        "\n",
        "    query_to_answers[query[0]] = {'predicted_answers':predicted_answers, 'golden_answers':golden_answers}"
      ]
    },
    {
      "cell_type": "code",
      "execution_count": 139,
      "metadata": {
        "colab": {
          "base_uri": "https://localhost:8080/"
        },
        "id": "e9vzgt00Fobl",
        "outputId": "200d38a0-fedb-4521-cddb-64930fc22411"
      },
      "outputs": [
        {
          "name": "stderr",
          "output_type": "stream",
          "text": [
            "100%|██████████| 100/100 [07:05<00:00,  4.25s/it]\n"
          ]
        }
      ],
      "source": [
        "# Computing REM score\n",
        "res = {\"Query\":[], \"Candidate answer\":[], \"First gt answer\":[], \"BEM score\":[]}\n",
        "for query in tqdm(queries):\n",
        "    res[\"Query\"].append(query)\n",
        "    prediction_answer = query_to_answers[query]['predicted_answers']\n",
        "    reference_answers = query_to_answers[query]['golden_answers']\n",
        "    res['Candidate answer'].append(prediction_answer[0])\n",
        "    res['First gt answer'].append(reference_answers[0][0])\n",
        "    pred_bem_score = compute_metric_on_candidate_answer({'query':query,'answer':prediction_answer[0]},reference_answers[0], get_bem_score)\n",
        "    res['BEM score'].append(round(pred_bem_score, 3))\n",
        "aggregate_dict = compute_aggregates(res)\n",
        "for key in res.keys():\n",
        "    res[key].extend(aggregate_dict[key])"
      ]
    },
    {
      "cell_type": "code",
      "execution_count": 144,
      "metadata": {
        "colab": {
          "base_uri": "https://localhost:8080/"
        },
        "id": "SOu27pvhJcLB",
        "outputId": "44cadfca-a759-49ea-9b02-54ebeb4567b4"
      },
      "outputs": [
        {
          "name": "stdout",
          "output_type": "stream",
          "text": [
            "BEM score generale: 0.5825145631067964\n"
          ]
        }
      ],
      "source": [
        "# Computing BEM medium score\n",
        "\n",
        "bem_scores = res['BEM score']\n",
        "\n",
        "mean_bem_score = sum(bem_scores) / len(bem_scores)\n",
        "\n",
        "print(f\"BEM score generale: {mean_bem_score}\")"
      ]
    }
  ],
  "metadata": {
    "accelerator": "GPU",
    "colab": {
      "collapsed_sections": [
        "1zOxnIkaRu1x",
        "Dq6_EC3HR0Ae",
        "m91PdkyUSMR2",
        "8krBpH2gbIXK",
        "S00LAFU1VTAk"
      ],
      "gpuType": "T4",
      "provenance": []
    },
    "kernelspec": {
      "display_name": "Python 3",
      "name": "python3"
    },
    "language_info": {
      "name": "python"
    },
    "widgets": {
      "application/vnd.jupyter.widget-state+json": {
        "00a6b904ab5a45b79ee4d9dbd3ae7988": {
          "model_module": "@jupyter-widgets/controls",
          "model_module_version": "1.5.0",
          "model_name": "HBoxModel",
          "state": {
            "_dom_classes": [],
            "_model_module": "@jupyter-widgets/controls",
            "_model_module_version": "1.5.0",
            "_model_name": "HBoxModel",
            "_view_count": null,
            "_view_module": "@jupyter-widgets/controls",
            "_view_module_version": "1.5.0",
            "_view_name": "HBoxView",
            "box_style": "",
            "children": [
              "IPY_MODEL_6163a67ccd284e0e8ea53ee50ee00380",
              "IPY_MODEL_b3877e84bfb04f33984fa96770092416",
              "IPY_MODEL_6a1a72eae2d148cea8e9d9aecd93a0ce"
            ],
            "layout": "IPY_MODEL_05bd8b06977045aab238ccdc5f76fd28"
          }
        },
        "00c5eeacb7de4067bc80e9a21816c212": {
          "model_module": "@jupyter-widgets/base",
          "model_module_version": "1.2.0",
          "model_name": "LayoutModel",
          "state": {
            "_model_module": "@jupyter-widgets/base",
            "_model_module_version": "1.2.0",
            "_model_name": "LayoutModel",
            "_view_count": null,
            "_view_module": "@jupyter-widgets/base",
            "_view_module_version": "1.2.0",
            "_view_name": "LayoutView",
            "align_content": null,
            "align_items": null,
            "align_self": null,
            "border": null,
            "bottom": null,
            "display": null,
            "flex": null,
            "flex_flow": null,
            "grid_area": null,
            "grid_auto_columns": null,
            "grid_auto_flow": null,
            "grid_auto_rows": null,
            "grid_column": null,
            "grid_gap": null,
            "grid_row": null,
            "grid_template_areas": null,
            "grid_template_columns": null,
            "grid_template_rows": null,
            "height": null,
            "justify_content": null,
            "justify_items": null,
            "left": null,
            "margin": null,
            "max_height": null,
            "max_width": null,
            "min_height": null,
            "min_width": null,
            "object_fit": null,
            "object_position": null,
            "order": null,
            "overflow": null,
            "overflow_x": null,
            "overflow_y": null,
            "padding": null,
            "right": null,
            "top": null,
            "visibility": null,
            "width": null
          }
        },
        "019f510edd7f4b1d8d6bbce20aa191a3": {
          "model_module": "@jupyter-widgets/controls",
          "model_module_version": "1.5.0",
          "model_name": "HBoxModel",
          "state": {
            "_dom_classes": [],
            "_model_module": "@jupyter-widgets/controls",
            "_model_module_version": "1.5.0",
            "_model_name": "HBoxModel",
            "_view_count": null,
            "_view_module": "@jupyter-widgets/controls",
            "_view_module_version": "1.5.0",
            "_view_name": "HBoxView",
            "box_style": "",
            "children": [
              "IPY_MODEL_2ebc4d89445c46088ad80691149bac1a",
              "IPY_MODEL_1c3a87e0521c43e6aeb2699736893aa6",
              "IPY_MODEL_749c7115bbd3466480c5cd2864083dee"
            ],
            "layout": "IPY_MODEL_0320ef8932344495a0a694633427d930"
          }
        },
        "02c4376d9483434c8f5ce01e0b84c53b": {
          "model_module": "@jupyter-widgets/base",
          "model_module_version": "1.2.0",
          "model_name": "LayoutModel",
          "state": {
            "_model_module": "@jupyter-widgets/base",
            "_model_module_version": "1.2.0",
            "_model_name": "LayoutModel",
            "_view_count": null,
            "_view_module": "@jupyter-widgets/base",
            "_view_module_version": "1.2.0",
            "_view_name": "LayoutView",
            "align_content": null,
            "align_items": null,
            "align_self": null,
            "border": null,
            "bottom": null,
            "display": null,
            "flex": null,
            "flex_flow": null,
            "grid_area": null,
            "grid_auto_columns": null,
            "grid_auto_flow": null,
            "grid_auto_rows": null,
            "grid_column": null,
            "grid_gap": null,
            "grid_row": null,
            "grid_template_areas": null,
            "grid_template_columns": null,
            "grid_template_rows": null,
            "height": null,
            "justify_content": null,
            "justify_items": null,
            "left": null,
            "margin": null,
            "max_height": null,
            "max_width": null,
            "min_height": null,
            "min_width": null,
            "object_fit": null,
            "object_position": null,
            "order": null,
            "overflow": null,
            "overflow_x": null,
            "overflow_y": null,
            "padding": null,
            "right": null,
            "top": null,
            "visibility": null,
            "width": null
          }
        },
        "030fb5d14cc9483cb1d926e5eb4a8d0c": {
          "model_module": "@jupyter-widgets/controls",
          "model_module_version": "1.5.0",
          "model_name": "DescriptionStyleModel",
          "state": {
            "_model_module": "@jupyter-widgets/controls",
            "_model_module_version": "1.5.0",
            "_model_name": "DescriptionStyleModel",
            "_view_count": null,
            "_view_module": "@jupyter-widgets/base",
            "_view_module_version": "1.2.0",
            "_view_name": "StyleView",
            "description_width": ""
          }
        },
        "0320ef8932344495a0a694633427d930": {
          "model_module": "@jupyter-widgets/base",
          "model_module_version": "1.2.0",
          "model_name": "LayoutModel",
          "state": {
            "_model_module": "@jupyter-widgets/base",
            "_model_module_version": "1.2.0",
            "_model_name": "LayoutModel",
            "_view_count": null,
            "_view_module": "@jupyter-widgets/base",
            "_view_module_version": "1.2.0",
            "_view_name": "LayoutView",
            "align_content": null,
            "align_items": null,
            "align_self": null,
            "border": null,
            "bottom": null,
            "display": null,
            "flex": null,
            "flex_flow": null,
            "grid_area": null,
            "grid_auto_columns": null,
            "grid_auto_flow": null,
            "grid_auto_rows": null,
            "grid_column": null,
            "grid_gap": null,
            "grid_row": null,
            "grid_template_areas": null,
            "grid_template_columns": null,
            "grid_template_rows": null,
            "height": null,
            "justify_content": null,
            "justify_items": null,
            "left": null,
            "margin": null,
            "max_height": null,
            "max_width": null,
            "min_height": null,
            "min_width": null,
            "object_fit": null,
            "object_position": null,
            "order": null,
            "overflow": null,
            "overflow_x": null,
            "overflow_y": null,
            "padding": null,
            "right": null,
            "top": null,
            "visibility": null,
            "width": null
          }
        },
        "03c81fb5a23d4b2abd76da48db4d2e59": {
          "model_module": "@jupyter-widgets/controls",
          "model_module_version": "1.5.0",
          "model_name": "HBoxModel",
          "state": {
            "_dom_classes": [],
            "_model_module": "@jupyter-widgets/controls",
            "_model_module_version": "1.5.0",
            "_model_name": "HBoxModel",
            "_view_count": null,
            "_view_module": "@jupyter-widgets/controls",
            "_view_module_version": "1.5.0",
            "_view_name": "HBoxView",
            "box_style": "",
            "children": [
              "IPY_MODEL_0b0bb08ab4b94ced8a5be76ea87c8b8b",
              "IPY_MODEL_64ec092710ab44f9ae4b5e7ebd28d577",
              "IPY_MODEL_f6b032a880884be9908251283cf2e9d6"
            ],
            "layout": "IPY_MODEL_5215df07e0444ea79fcfe7ec781e1e07"
          }
        },
        "04ad862832464dc2a96476355ebe5709": {
          "model_module": "@jupyter-widgets/base",
          "model_module_version": "1.2.0",
          "model_name": "LayoutModel",
          "state": {
            "_model_module": "@jupyter-widgets/base",
            "_model_module_version": "1.2.0",
            "_model_name": "LayoutModel",
            "_view_count": null,
            "_view_module": "@jupyter-widgets/base",
            "_view_module_version": "1.2.0",
            "_view_name": "LayoutView",
            "align_content": null,
            "align_items": null,
            "align_self": null,
            "border": null,
            "bottom": null,
            "display": null,
            "flex": null,
            "flex_flow": null,
            "grid_area": null,
            "grid_auto_columns": null,
            "grid_auto_flow": null,
            "grid_auto_rows": null,
            "grid_column": null,
            "grid_gap": null,
            "grid_row": null,
            "grid_template_areas": null,
            "grid_template_columns": null,
            "grid_template_rows": null,
            "height": null,
            "justify_content": null,
            "justify_items": null,
            "left": null,
            "margin": null,
            "max_height": null,
            "max_width": null,
            "min_height": null,
            "min_width": null,
            "object_fit": null,
            "object_position": null,
            "order": null,
            "overflow": null,
            "overflow_x": null,
            "overflow_y": null,
            "padding": null,
            "right": null,
            "top": null,
            "visibility": null,
            "width": null
          }
        },
        "05bd8b06977045aab238ccdc5f76fd28": {
          "model_module": "@jupyter-widgets/base",
          "model_module_version": "1.2.0",
          "model_name": "LayoutModel",
          "state": {
            "_model_module": "@jupyter-widgets/base",
            "_model_module_version": "1.2.0",
            "_model_name": "LayoutModel",
            "_view_count": null,
            "_view_module": "@jupyter-widgets/base",
            "_view_module_version": "1.2.0",
            "_view_name": "LayoutView",
            "align_content": null,
            "align_items": null,
            "align_self": null,
            "border": null,
            "bottom": null,
            "display": null,
            "flex": null,
            "flex_flow": null,
            "grid_area": null,
            "grid_auto_columns": null,
            "grid_auto_flow": null,
            "grid_auto_rows": null,
            "grid_column": null,
            "grid_gap": null,
            "grid_row": null,
            "grid_template_areas": null,
            "grid_template_columns": null,
            "grid_template_rows": null,
            "height": null,
            "justify_content": null,
            "justify_items": null,
            "left": null,
            "margin": null,
            "max_height": null,
            "max_width": null,
            "min_height": null,
            "min_width": null,
            "object_fit": null,
            "object_position": null,
            "order": null,
            "overflow": null,
            "overflow_x": null,
            "overflow_y": null,
            "padding": null,
            "right": null,
            "top": null,
            "visibility": null,
            "width": null
          }
        },
        "064fbe4224fc4e25a6b2b4ac708b4178": {
          "model_module": "@jupyter-widgets/base",
          "model_module_version": "1.2.0",
          "model_name": "LayoutModel",
          "state": {
            "_model_module": "@jupyter-widgets/base",
            "_model_module_version": "1.2.0",
            "_model_name": "LayoutModel",
            "_view_count": null,
            "_view_module": "@jupyter-widgets/base",
            "_view_module_version": "1.2.0",
            "_view_name": "LayoutView",
            "align_content": null,
            "align_items": null,
            "align_self": null,
            "border": null,
            "bottom": null,
            "display": null,
            "flex": null,
            "flex_flow": null,
            "grid_area": null,
            "grid_auto_columns": null,
            "grid_auto_flow": null,
            "grid_auto_rows": null,
            "grid_column": null,
            "grid_gap": null,
            "grid_row": null,
            "grid_template_areas": null,
            "grid_template_columns": null,
            "grid_template_rows": null,
            "height": null,
            "justify_content": null,
            "justify_items": null,
            "left": null,
            "margin": null,
            "max_height": null,
            "max_width": null,
            "min_height": null,
            "min_width": null,
            "object_fit": null,
            "object_position": null,
            "order": null,
            "overflow": null,
            "overflow_x": null,
            "overflow_y": null,
            "padding": null,
            "right": null,
            "top": null,
            "visibility": null,
            "width": null
          }
        },
        "0769c3fa7f474ec2be66eaaf9b2ed769": {
          "model_module": "@jupyter-widgets/base",
          "model_module_version": "1.2.0",
          "model_name": "LayoutModel",
          "state": {
            "_model_module": "@jupyter-widgets/base",
            "_model_module_version": "1.2.0",
            "_model_name": "LayoutModel",
            "_view_count": null,
            "_view_module": "@jupyter-widgets/base",
            "_view_module_version": "1.2.0",
            "_view_name": "LayoutView",
            "align_content": null,
            "align_items": null,
            "align_self": null,
            "border": null,
            "bottom": null,
            "display": null,
            "flex": null,
            "flex_flow": null,
            "grid_area": null,
            "grid_auto_columns": null,
            "grid_auto_flow": null,
            "grid_auto_rows": null,
            "grid_column": null,
            "grid_gap": null,
            "grid_row": null,
            "grid_template_areas": null,
            "grid_template_columns": null,
            "grid_template_rows": null,
            "height": null,
            "justify_content": null,
            "justify_items": null,
            "left": null,
            "margin": null,
            "max_height": null,
            "max_width": null,
            "min_height": null,
            "min_width": null,
            "object_fit": null,
            "object_position": null,
            "order": null,
            "overflow": null,
            "overflow_x": null,
            "overflow_y": null,
            "padding": null,
            "right": null,
            "top": null,
            "visibility": null,
            "width": null
          }
        },
        "079840f2c5794c15bca31856f02e32ad": {
          "model_module": "@jupyter-widgets/controls",
          "model_module_version": "1.5.0",
          "model_name": "FloatProgressModel",
          "state": {
            "_dom_classes": [],
            "_model_module": "@jupyter-widgets/controls",
            "_model_module_version": "1.5.0",
            "_model_name": "FloatProgressModel",
            "_view_count": null,
            "_view_module": "@jupyter-widgets/controls",
            "_view_module_version": "1.5.0",
            "_view_name": "ProgressView",
            "bar_style": "success",
            "description": "",
            "description_tooltip": null,
            "layout": "IPY_MODEL_0769c3fa7f474ec2be66eaaf9b2ed769",
            "max": 26,
            "min": 0,
            "orientation": "horizontal",
            "style": "IPY_MODEL_218f839d556a4ec2898cb7ddfd05bfe0",
            "value": 26
          }
        },
        "095e4eba5ce14e60b7920158edd7a99a": {
          "model_module": "@jupyter-widgets/base",
          "model_module_version": "1.2.0",
          "model_name": "LayoutModel",
          "state": {
            "_model_module": "@jupyter-widgets/base",
            "_model_module_version": "1.2.0",
            "_model_name": "LayoutModel",
            "_view_count": null,
            "_view_module": "@jupyter-widgets/base",
            "_view_module_version": "1.2.0",
            "_view_name": "LayoutView",
            "align_content": null,
            "align_items": null,
            "align_self": null,
            "border": null,
            "bottom": null,
            "display": null,
            "flex": null,
            "flex_flow": null,
            "grid_area": null,
            "grid_auto_columns": null,
            "grid_auto_flow": null,
            "grid_auto_rows": null,
            "grid_column": null,
            "grid_gap": null,
            "grid_row": null,
            "grid_template_areas": null,
            "grid_template_columns": null,
            "grid_template_rows": null,
            "height": null,
            "justify_content": null,
            "justify_items": null,
            "left": null,
            "margin": null,
            "max_height": null,
            "max_width": null,
            "min_height": null,
            "min_width": null,
            "object_fit": null,
            "object_position": null,
            "order": null,
            "overflow": null,
            "overflow_x": null,
            "overflow_y": null,
            "padding": null,
            "right": null,
            "top": null,
            "visibility": null,
            "width": null
          }
        },
        "0961023bdba145c5b056d9c04a8c33da": {
          "model_module": "@jupyter-widgets/base",
          "model_module_version": "1.2.0",
          "model_name": "LayoutModel",
          "state": {
            "_model_module": "@jupyter-widgets/base",
            "_model_module_version": "1.2.0",
            "_model_name": "LayoutModel",
            "_view_count": null,
            "_view_module": "@jupyter-widgets/base",
            "_view_module_version": "1.2.0",
            "_view_name": "LayoutView",
            "align_content": null,
            "align_items": null,
            "align_self": null,
            "border": null,
            "bottom": null,
            "display": null,
            "flex": null,
            "flex_flow": null,
            "grid_area": null,
            "grid_auto_columns": null,
            "grid_auto_flow": null,
            "grid_auto_rows": null,
            "grid_column": null,
            "grid_gap": null,
            "grid_row": null,
            "grid_template_areas": null,
            "grid_template_columns": null,
            "grid_template_rows": null,
            "height": null,
            "justify_content": null,
            "justify_items": null,
            "left": null,
            "margin": null,
            "max_height": null,
            "max_width": null,
            "min_height": null,
            "min_width": null,
            "object_fit": null,
            "object_position": null,
            "order": null,
            "overflow": null,
            "overflow_x": null,
            "overflow_y": null,
            "padding": null,
            "right": null,
            "top": null,
            "visibility": null,
            "width": null
          }
        },
        "0a108658da8948e78016542638207a17": {
          "model_module": "@jupyter-widgets/base",
          "model_module_version": "1.2.0",
          "model_name": "LayoutModel",
          "state": {
            "_model_module": "@jupyter-widgets/base",
            "_model_module_version": "1.2.0",
            "_model_name": "LayoutModel",
            "_view_count": null,
            "_view_module": "@jupyter-widgets/base",
            "_view_module_version": "1.2.0",
            "_view_name": "LayoutView",
            "align_content": null,
            "align_items": null,
            "align_self": null,
            "border": null,
            "bottom": null,
            "display": null,
            "flex": null,
            "flex_flow": null,
            "grid_area": null,
            "grid_auto_columns": null,
            "grid_auto_flow": null,
            "grid_auto_rows": null,
            "grid_column": null,
            "grid_gap": null,
            "grid_row": null,
            "grid_template_areas": null,
            "grid_template_columns": null,
            "grid_template_rows": null,
            "height": null,
            "justify_content": null,
            "justify_items": null,
            "left": null,
            "margin": null,
            "max_height": null,
            "max_width": null,
            "min_height": null,
            "min_width": null,
            "object_fit": null,
            "object_position": null,
            "order": null,
            "overflow": null,
            "overflow_x": null,
            "overflow_y": null,
            "padding": null,
            "right": null,
            "top": null,
            "visibility": null,
            "width": null
          }
        },
        "0ad21e009cbe4cea926efa2819193314": {
          "model_module": "@jupyter-widgets/controls",
          "model_module_version": "1.5.0",
          "model_name": "DescriptionStyleModel",
          "state": {
            "_model_module": "@jupyter-widgets/controls",
            "_model_module_version": "1.5.0",
            "_model_name": "DescriptionStyleModel",
            "_view_count": null,
            "_view_module": "@jupyter-widgets/base",
            "_view_module_version": "1.2.0",
            "_view_name": "StyleView",
            "description_width": ""
          }
        },
        "0ae820c4f6524006b4b6de0e61f28fd2": {
          "model_module": "@jupyter-widgets/controls",
          "model_module_version": "1.5.0",
          "model_name": "FloatProgressModel",
          "state": {
            "_dom_classes": [],
            "_model_module": "@jupyter-widgets/controls",
            "_model_module_version": "1.5.0",
            "_model_name": "FloatProgressModel",
            "_view_count": null,
            "_view_module": "@jupyter-widgets/controls",
            "_view_module_version": "1.5.0",
            "_view_name": "ProgressView",
            "bar_style": "success",
            "description": "",
            "description_tooltip": null,
            "layout": "IPY_MODEL_7eeb1644ae07468d8dce49e9277bc2fe",
            "max": 112,
            "min": 0,
            "orientation": "horizontal",
            "style": "IPY_MODEL_dd101712c02645b18a1f52b9a657038a",
            "value": 112
          }
        },
        "0b0bb08ab4b94ced8a5be76ea87c8b8b": {
          "model_module": "@jupyter-widgets/controls",
          "model_module_version": "1.5.0",
          "model_name": "HTMLModel",
          "state": {
            "_dom_classes": [],
            "_model_module": "@jupyter-widgets/controls",
            "_model_module_version": "1.5.0",
            "_model_name": "HTMLModel",
            "_view_count": null,
            "_view_module": "@jupyter-widgets/controls",
            "_view_module_version": "1.5.0",
            "_view_name": "HTMLView",
            "description": "",
            "description_tooltip": null,
            "layout": "IPY_MODEL_e5843c4e098f4038999e3fd67f615e9f",
            "placeholder": "​",
            "style": "IPY_MODEL_0ad21e009cbe4cea926efa2819193314",
            "value": "tokenizer_config.json: 100%"
          }
        },
        "0d0477a19ace4c7aa9a9695f32432ff4": {
          "model_module": "@jupyter-widgets/controls",
          "model_module_version": "1.5.0",
          "model_name": "FloatProgressModel",
          "state": {
            "_dom_classes": [],
            "_model_module": "@jupyter-widgets/controls",
            "_model_module_version": "1.5.0",
            "_model_name": "FloatProgressModel",
            "_view_count": null,
            "_view_module": "@jupyter-widgets/controls",
            "_view_module_version": "1.5.0",
            "_view_name": "ProgressView",
            "bar_style": "success",
            "description": "",
            "description_tooltip": null,
            "layout": "IPY_MODEL_00c5eeacb7de4067bc80e9a21816c212",
            "max": 1042301,
            "min": 0,
            "orientation": "horizontal",
            "style": "IPY_MODEL_46363d908dd5474580736f5c38b9f205",
            "value": 1042301
          }
        },
        "0dab7e75dc6d43ebb4eb9da6020c3a51": {
          "model_module": "@jupyter-widgets/base",
          "model_module_version": "1.2.0",
          "model_name": "LayoutModel",
          "state": {
            "_model_module": "@jupyter-widgets/base",
            "_model_module_version": "1.2.0",
            "_model_name": "LayoutModel",
            "_view_count": null,
            "_view_module": "@jupyter-widgets/base",
            "_view_module_version": "1.2.0",
            "_view_name": "LayoutView",
            "align_content": null,
            "align_items": null,
            "align_self": null,
            "border": null,
            "bottom": null,
            "display": null,
            "flex": null,
            "flex_flow": null,
            "grid_area": null,
            "grid_auto_columns": null,
            "grid_auto_flow": null,
            "grid_auto_rows": null,
            "grid_column": null,
            "grid_gap": null,
            "grid_row": null,
            "grid_template_areas": null,
            "grid_template_columns": null,
            "grid_template_rows": null,
            "height": null,
            "justify_content": null,
            "justify_items": null,
            "left": null,
            "margin": null,
            "max_height": null,
            "max_width": null,
            "min_height": null,
            "min_width": null,
            "object_fit": null,
            "object_position": null,
            "order": null,
            "overflow": null,
            "overflow_x": null,
            "overflow_y": null,
            "padding": null,
            "right": null,
            "top": null,
            "visibility": null,
            "width": null
          }
        },
        "0dfce2ace3a446e095e0866491a7f502": {
          "model_module": "@jupyter-widgets/base",
          "model_module_version": "1.2.0",
          "model_name": "LayoutModel",
          "state": {
            "_model_module": "@jupyter-widgets/base",
            "_model_module_version": "1.2.0",
            "_model_name": "LayoutModel",
            "_view_count": null,
            "_view_module": "@jupyter-widgets/base",
            "_view_module_version": "1.2.0",
            "_view_name": "LayoutView",
            "align_content": null,
            "align_items": null,
            "align_self": null,
            "border": null,
            "bottom": null,
            "display": null,
            "flex": null,
            "flex_flow": null,
            "grid_area": null,
            "grid_auto_columns": null,
            "grid_auto_flow": null,
            "grid_auto_rows": null,
            "grid_column": null,
            "grid_gap": null,
            "grid_row": null,
            "grid_template_areas": null,
            "grid_template_columns": null,
            "grid_template_rows": null,
            "height": null,
            "justify_content": null,
            "justify_items": null,
            "left": null,
            "margin": null,
            "max_height": null,
            "max_width": null,
            "min_height": null,
            "min_width": null,
            "object_fit": null,
            "object_position": null,
            "order": null,
            "overflow": null,
            "overflow_x": null,
            "overflow_y": null,
            "padding": null,
            "right": null,
            "top": null,
            "visibility": null,
            "width": null
          }
        },
        "0f2a3f962fdb42e7b8bc701543a26f82": {
          "model_module": "@jupyter-widgets/controls",
          "model_module_version": "1.5.0",
          "model_name": "DescriptionStyleModel",
          "state": {
            "_model_module": "@jupyter-widgets/controls",
            "_model_module_version": "1.5.0",
            "_model_name": "DescriptionStyleModel",
            "_view_count": null,
            "_view_module": "@jupyter-widgets/base",
            "_view_module_version": "1.2.0",
            "_view_name": "StyleView",
            "description_width": ""
          }
        },
        "13265ec989b042f79c61deef76f23911": {
          "model_module": "@jupyter-widgets/controls",
          "model_module_version": "1.5.0",
          "model_name": "HBoxModel",
          "state": {
            "_dom_classes": [],
            "_model_module": "@jupyter-widgets/controls",
            "_model_module_version": "1.5.0",
            "_model_name": "HBoxModel",
            "_view_count": null,
            "_view_module": "@jupyter-widgets/controls",
            "_view_module_version": "1.5.0",
            "_view_name": "HBoxView",
            "box_style": "",
            "children": [
              "IPY_MODEL_7332b7ecd96540ff893af722a7e2202d",
              "IPY_MODEL_26f056bc09794bba97868c3c7bed0be0",
              "IPY_MODEL_194ae66781644fff93ef8d4c0252791a"
            ],
            "layout": "IPY_MODEL_859458c50e824192872279b4028127bc"
          }
        },
        "145d7489827345058cafd95552d89a9e": {
          "model_module": "@jupyter-widgets/controls",
          "model_module_version": "1.5.0",
          "model_name": "DescriptionStyleModel",
          "state": {
            "_model_module": "@jupyter-widgets/controls",
            "_model_module_version": "1.5.0",
            "_model_name": "DescriptionStyleModel",
            "_view_count": null,
            "_view_module": "@jupyter-widgets/base",
            "_view_module_version": "1.2.0",
            "_view_name": "StyleView",
            "description_width": ""
          }
        },
        "154dc1d1d61d41599f07f702826aeb8d": {
          "model_module": "@jupyter-widgets/base",
          "model_module_version": "1.2.0",
          "model_name": "LayoutModel",
          "state": {
            "_model_module": "@jupyter-widgets/base",
            "_model_module_version": "1.2.0",
            "_model_name": "LayoutModel",
            "_view_count": null,
            "_view_module": "@jupyter-widgets/base",
            "_view_module_version": "1.2.0",
            "_view_name": "LayoutView",
            "align_content": null,
            "align_items": null,
            "align_self": null,
            "border": null,
            "bottom": null,
            "display": null,
            "flex": null,
            "flex_flow": null,
            "grid_area": null,
            "grid_auto_columns": null,
            "grid_auto_flow": null,
            "grid_auto_rows": null,
            "grid_column": null,
            "grid_gap": null,
            "grid_row": null,
            "grid_template_areas": null,
            "grid_template_columns": null,
            "grid_template_rows": null,
            "height": null,
            "justify_content": null,
            "justify_items": null,
            "left": null,
            "margin": null,
            "max_height": null,
            "max_width": null,
            "min_height": null,
            "min_width": null,
            "object_fit": null,
            "object_position": null,
            "order": null,
            "overflow": null,
            "overflow_x": null,
            "overflow_y": null,
            "padding": null,
            "right": null,
            "top": null,
            "visibility": null,
            "width": null
          }
        },
        "162a7c5c6fc449ddab6598517693dfc7": {
          "model_module": "@jupyter-widgets/base",
          "model_module_version": "1.2.0",
          "model_name": "LayoutModel",
          "state": {
            "_model_module": "@jupyter-widgets/base",
            "_model_module_version": "1.2.0",
            "_model_name": "LayoutModel",
            "_view_count": null,
            "_view_module": "@jupyter-widgets/base",
            "_view_module_version": "1.2.0",
            "_view_name": "LayoutView",
            "align_content": null,
            "align_items": null,
            "align_self": null,
            "border": null,
            "bottom": null,
            "display": null,
            "flex": null,
            "flex_flow": null,
            "grid_area": null,
            "grid_auto_columns": null,
            "grid_auto_flow": null,
            "grid_auto_rows": null,
            "grid_column": null,
            "grid_gap": null,
            "grid_row": null,
            "grid_template_areas": null,
            "grid_template_columns": null,
            "grid_template_rows": null,
            "height": null,
            "justify_content": null,
            "justify_items": null,
            "left": null,
            "margin": null,
            "max_height": null,
            "max_width": null,
            "min_height": null,
            "min_width": null,
            "object_fit": null,
            "object_position": null,
            "order": null,
            "overflow": null,
            "overflow_x": null,
            "overflow_y": null,
            "padding": null,
            "right": null,
            "top": null,
            "visibility": null,
            "width": null
          }
        },
        "194ae66781644fff93ef8d4c0252791a": {
          "model_module": "@jupyter-widgets/controls",
          "model_module_version": "1.5.0",
          "model_name": "HTMLModel",
          "state": {
            "_dom_classes": [],
            "_model_module": "@jupyter-widgets/controls",
            "_model_module_version": "1.5.0",
            "_model_name": "HTMLModel",
            "_view_count": null,
            "_view_module": "@jupyter-widgets/controls",
            "_view_module_version": "1.5.0",
            "_view_name": "HTMLView",
            "description": "",
            "description_tooltip": null,
            "layout": "IPY_MODEL_394a735bf0b84c33b8d00daf8d0a2e76",
            "placeholder": "​",
            "style": "IPY_MODEL_63b76162b46f45b8b68830aa751fe356",
            "value": " 743/743 [00:00&lt;00:00, 43.2kB/s]"
          }
        },
        "19515c04ec45406dbe269ff2b01b5a8b": {
          "model_module": "@jupyter-widgets/base",
          "model_module_version": "1.2.0",
          "model_name": "LayoutModel",
          "state": {
            "_model_module": "@jupyter-widgets/base",
            "_model_module_version": "1.2.0",
            "_model_name": "LayoutModel",
            "_view_count": null,
            "_view_module": "@jupyter-widgets/base",
            "_view_module_version": "1.2.0",
            "_view_name": "LayoutView",
            "align_content": null,
            "align_items": null,
            "align_self": null,
            "border": null,
            "bottom": null,
            "display": null,
            "flex": null,
            "flex_flow": null,
            "grid_area": null,
            "grid_auto_columns": null,
            "grid_auto_flow": null,
            "grid_auto_rows": null,
            "grid_column": null,
            "grid_gap": null,
            "grid_row": null,
            "grid_template_areas": null,
            "grid_template_columns": null,
            "grid_template_rows": null,
            "height": null,
            "justify_content": null,
            "justify_items": null,
            "left": null,
            "margin": null,
            "max_height": null,
            "max_width": null,
            "min_height": null,
            "min_width": null,
            "object_fit": null,
            "object_position": null,
            "order": null,
            "overflow": null,
            "overflow_x": null,
            "overflow_y": null,
            "padding": null,
            "right": null,
            "top": null,
            "visibility": null,
            "width": null
          }
        },
        "19f32835fc0b4461a9998aa960d9afb1": {
          "model_module": "@jupyter-widgets/controls",
          "model_module_version": "1.5.0",
          "model_name": "FloatProgressModel",
          "state": {
            "_dom_classes": [],
            "_model_module": "@jupyter-widgets/controls",
            "_model_module_version": "1.5.0",
            "_model_name": "FloatProgressModel",
            "_view_count": null,
            "_view_module": "@jupyter-widgets/controls",
            "_view_module_version": "1.5.0",
            "_view_name": "ProgressView",
            "bar_style": "success",
            "description": "",
            "description_tooltip": null,
            "layout": "IPY_MODEL_8ef05da1340c4ac19fb0333b1e30dd60",
            "max": 1633,
            "min": 0,
            "orientation": "horizontal",
            "style": "IPY_MODEL_46a17009bd3a4b50b81f3d79da9c1996",
            "value": 1633
          }
        },
        "1c3a87e0521c43e6aeb2699736893aa6": {
          "model_module": "@jupyter-widgets/controls",
          "model_module_version": "1.5.0",
          "model_name": "FloatProgressModel",
          "state": {
            "_dom_classes": [],
            "_model_module": "@jupyter-widgets/controls",
            "_model_module_version": "1.5.0",
            "_model_name": "FloatProgressModel",
            "_view_count": null,
            "_view_module": "@jupyter-widgets/controls",
            "_view_module_version": "1.5.0",
            "_view_name": "ProgressView",
            "bar_style": "success",
            "description": "",
            "description_tooltip": null,
            "layout": "IPY_MODEL_91665ed2786547d8899596b24f0aee2f",
            "max": 665,
            "min": 0,
            "orientation": "horizontal",
            "style": "IPY_MODEL_67cf0b4c85de4e79b3cc52f481c42bd7",
            "value": 665
          }
        },
        "1c6bd2772ddb4c439f6aa951cf366f67": {
          "model_module": "@jupyter-widgets/controls",
          "model_module_version": "1.5.0",
          "model_name": "DescriptionStyleModel",
          "state": {
            "_model_module": "@jupyter-widgets/controls",
            "_model_module_version": "1.5.0",
            "_model_name": "DescriptionStyleModel",
            "_view_count": null,
            "_view_module": "@jupyter-widgets/base",
            "_view_module_version": "1.2.0",
            "_view_name": "StyleView",
            "description_width": ""
          }
        },
        "1c778336665a4ff2af140aaef3e2b7ca": {
          "model_module": "@jupyter-widgets/base",
          "model_module_version": "1.2.0",
          "model_name": "LayoutModel",
          "state": {
            "_model_module": "@jupyter-widgets/base",
            "_model_module_version": "1.2.0",
            "_model_name": "LayoutModel",
            "_view_count": null,
            "_view_module": "@jupyter-widgets/base",
            "_view_module_version": "1.2.0",
            "_view_name": "LayoutView",
            "align_content": null,
            "align_items": null,
            "align_self": null,
            "border": null,
            "bottom": null,
            "display": null,
            "flex": null,
            "flex_flow": null,
            "grid_area": null,
            "grid_auto_columns": null,
            "grid_auto_flow": null,
            "grid_auto_rows": null,
            "grid_column": null,
            "grid_gap": null,
            "grid_row": null,
            "grid_template_areas": null,
            "grid_template_columns": null,
            "grid_template_rows": null,
            "height": null,
            "justify_content": null,
            "justify_items": null,
            "left": null,
            "margin": null,
            "max_height": null,
            "max_width": null,
            "min_height": null,
            "min_width": null,
            "object_fit": null,
            "object_position": null,
            "order": null,
            "overflow": null,
            "overflow_x": null,
            "overflow_y": null,
            "padding": null,
            "right": null,
            "top": null,
            "visibility": null,
            "width": null
          }
        },
        "1c9a493d7b3c473f89c71ebc1da5f0f1": {
          "model_module": "@jupyter-widgets/controls",
          "model_module_version": "1.5.0",
          "model_name": "HTMLModel",
          "state": {
            "_dom_classes": [],
            "_model_module": "@jupyter-widgets/controls",
            "_model_module_version": "1.5.0",
            "_model_name": "HTMLModel",
            "_view_count": null,
            "_view_module": "@jupyter-widgets/controls",
            "_view_module_version": "1.5.0",
            "_view_name": "HTMLView",
            "description": "",
            "description_tooltip": null,
            "layout": "IPY_MODEL_41f8edc8ec514b0eab74c4192092a949",
            "placeholder": "​",
            "style": "IPY_MODEL_fe4e24165cf94991ae383b68cf8e14df",
            "value": "tokenizer.json: 100%"
          }
        },
        "1d0419ec3dc547a2a109702e83b1bc38": {
          "model_module": "@jupyter-widgets/controls",
          "model_module_version": "1.5.0",
          "model_name": "HTMLModel",
          "state": {
            "_dom_classes": [],
            "_model_module": "@jupyter-widgets/controls",
            "_model_module_version": "1.5.0",
            "_model_name": "HTMLModel",
            "_view_count": null,
            "_view_module": "@jupyter-widgets/controls",
            "_view_module_version": "1.5.0",
            "_view_name": "HTMLView",
            "description": "",
            "description_tooltip": null,
            "layout": "IPY_MODEL_ea6d0e546c02441fa479dc70950693ae",
            "placeholder": "​",
            "style": "IPY_MODEL_ef4b1c00e7d9497586cfe582538792d9",
            "value": "config.json: 100%"
          }
        },
        "1d0cd3c3a984475dbeb96147a226b1cb": {
          "model_module": "@jupyter-widgets/controls",
          "model_module_version": "1.5.0",
          "model_name": "FloatProgressModel",
          "state": {
            "_dom_classes": [],
            "_model_module": "@jupyter-widgets/controls",
            "_model_module_version": "1.5.0",
            "_model_name": "FloatProgressModel",
            "_view_count": null,
            "_view_module": "@jupyter-widgets/controls",
            "_view_module_version": "1.5.0",
            "_view_name": "ProgressView",
            "bar_style": "success",
            "description": "",
            "description_tooltip": null,
            "layout": "IPY_MODEL_944c7fc38d674f06807aa61edd3a6770",
            "max": 405,
            "min": 0,
            "orientation": "horizontal",
            "style": "IPY_MODEL_6421d009e6cd4aa386be046258ea8f6d",
            "value": 405
          }
        },
        "1dabb3b12d824fcd90fdd7db5a8e523a": {
          "model_module": "@jupyter-widgets/controls",
          "model_module_version": "1.5.0",
          "model_name": "DescriptionStyleModel",
          "state": {
            "_model_module": "@jupyter-widgets/controls",
            "_model_module_version": "1.5.0",
            "_model_name": "DescriptionStyleModel",
            "_view_count": null,
            "_view_module": "@jupyter-widgets/base",
            "_view_module_version": "1.2.0",
            "_view_name": "StyleView",
            "description_width": ""
          }
        },
        "1e98023cebfc46ac8a47dcab342a4232": {
          "model_module": "@jupyter-widgets/base",
          "model_module_version": "1.2.0",
          "model_name": "LayoutModel",
          "state": {
            "_model_module": "@jupyter-widgets/base",
            "_model_module_version": "1.2.0",
            "_model_name": "LayoutModel",
            "_view_count": null,
            "_view_module": "@jupyter-widgets/base",
            "_view_module_version": "1.2.0",
            "_view_name": "LayoutView",
            "align_content": null,
            "align_items": null,
            "align_self": null,
            "border": null,
            "bottom": null,
            "display": null,
            "flex": null,
            "flex_flow": null,
            "grid_area": null,
            "grid_auto_columns": null,
            "grid_auto_flow": null,
            "grid_auto_rows": null,
            "grid_column": null,
            "grid_gap": null,
            "grid_row": null,
            "grid_template_areas": null,
            "grid_template_columns": null,
            "grid_template_rows": null,
            "height": null,
            "justify_content": null,
            "justify_items": null,
            "left": null,
            "margin": null,
            "max_height": null,
            "max_width": null,
            "min_height": null,
            "min_width": null,
            "object_fit": null,
            "object_position": null,
            "order": null,
            "overflow": null,
            "overflow_x": null,
            "overflow_y": null,
            "padding": null,
            "right": null,
            "top": null,
            "visibility": null,
            "width": null
          }
        },
        "1f0d42297b554bcf8e6dd97e1356d879": {
          "model_module": "@jupyter-widgets/controls",
          "model_module_version": "1.5.0",
          "model_name": "HBoxModel",
          "state": {
            "_dom_classes": [],
            "_model_module": "@jupyter-widgets/controls",
            "_model_module_version": "1.5.0",
            "_model_name": "HBoxModel",
            "_view_count": null,
            "_view_module": "@jupyter-widgets/controls",
            "_view_module_version": "1.5.0",
            "_view_name": "HBoxView",
            "box_style": "",
            "children": [
              "IPY_MODEL_739d56437cb248748fce79c3c37d61e6",
              "IPY_MODEL_44120835504243d0bb770628ec22fb55",
              "IPY_MODEL_2280bd9e25db411faa6c432579c55c99"
            ],
            "layout": "IPY_MODEL_19515c04ec45406dbe269ff2b01b5a8b"
          }
        },
        "1f99301503ed422dbc14fcb9fb732f86": {
          "model_module": "@jupyter-widgets/base",
          "model_module_version": "1.2.0",
          "model_name": "LayoutModel",
          "state": {
            "_model_module": "@jupyter-widgets/base",
            "_model_module_version": "1.2.0",
            "_model_name": "LayoutModel",
            "_view_count": null,
            "_view_module": "@jupyter-widgets/base",
            "_view_module_version": "1.2.0",
            "_view_name": "LayoutView",
            "align_content": null,
            "align_items": null,
            "align_self": null,
            "border": null,
            "bottom": null,
            "display": null,
            "flex": null,
            "flex_flow": null,
            "grid_area": null,
            "grid_auto_columns": null,
            "grid_auto_flow": null,
            "grid_auto_rows": null,
            "grid_column": null,
            "grid_gap": null,
            "grid_row": null,
            "grid_template_areas": null,
            "grid_template_columns": null,
            "grid_template_rows": null,
            "height": null,
            "justify_content": null,
            "justify_items": null,
            "left": null,
            "margin": null,
            "max_height": null,
            "max_width": null,
            "min_height": null,
            "min_width": null,
            "object_fit": null,
            "object_position": null,
            "order": null,
            "overflow": null,
            "overflow_x": null,
            "overflow_y": null,
            "padding": null,
            "right": null,
            "top": null,
            "visibility": null,
            "width": null
          }
        },
        "206630239ab34017a91190b2034a3f1f": {
          "model_module": "@jupyter-widgets/base",
          "model_module_version": "1.2.0",
          "model_name": "LayoutModel",
          "state": {
            "_model_module": "@jupyter-widgets/base",
            "_model_module_version": "1.2.0",
            "_model_name": "LayoutModel",
            "_view_count": null,
            "_view_module": "@jupyter-widgets/base",
            "_view_module_version": "1.2.0",
            "_view_name": "LayoutView",
            "align_content": null,
            "align_items": null,
            "align_self": null,
            "border": null,
            "bottom": null,
            "display": null,
            "flex": null,
            "flex_flow": null,
            "grid_area": null,
            "grid_auto_columns": null,
            "grid_auto_flow": null,
            "grid_auto_rows": null,
            "grid_column": null,
            "grid_gap": null,
            "grid_row": null,
            "grid_template_areas": null,
            "grid_template_columns": null,
            "grid_template_rows": null,
            "height": null,
            "justify_content": null,
            "justify_items": null,
            "left": null,
            "margin": null,
            "max_height": null,
            "max_width": null,
            "min_height": null,
            "min_width": null,
            "object_fit": null,
            "object_position": null,
            "order": null,
            "overflow": null,
            "overflow_x": null,
            "overflow_y": null,
            "padding": null,
            "right": null,
            "top": null,
            "visibility": null,
            "width": null
          }
        },
        "20b16b70c47544e598430e136416f13f": {
          "model_module": "@jupyter-widgets/controls",
          "model_module_version": "1.5.0",
          "model_name": "HTMLModel",
          "state": {
            "_dom_classes": [],
            "_model_module": "@jupyter-widgets/controls",
            "_model_module_version": "1.5.0",
            "_model_name": "HTMLModel",
            "_view_count": null,
            "_view_module": "@jupyter-widgets/controls",
            "_view_module_version": "1.5.0",
            "_view_name": "HTMLView",
            "description": "",
            "description_tooltip": null,
            "layout": "IPY_MODEL_feaa72a3add04224b3fd7172270cfe1a",
            "placeholder": "​",
            "style": "IPY_MODEL_87693c6884a141f595c60a04b99ba925",
            "value": " 1.04M/1.04M [00:00&lt;00:00, 4.64MB/s]"
          }
        },
        "218f839d556a4ec2898cb7ddfd05bfe0": {
          "model_module": "@jupyter-widgets/controls",
          "model_module_version": "1.5.0",
          "model_name": "ProgressStyleModel",
          "state": {
            "_model_module": "@jupyter-widgets/controls",
            "_model_module_version": "1.5.0",
            "_model_name": "ProgressStyleModel",
            "_view_count": null,
            "_view_module": "@jupyter-widgets/base",
            "_view_module_version": "1.2.0",
            "_view_name": "StyleView",
            "bar_color": null,
            "description_width": ""
          }
        },
        "2280bd9e25db411faa6c432579c55c99": {
          "model_module": "@jupyter-widgets/controls",
          "model_module_version": "1.5.0",
          "model_name": "HTMLModel",
          "state": {
            "_dom_classes": [],
            "_model_module": "@jupyter-widgets/controls",
            "_model_module_version": "1.5.0",
            "_model_name": "HTMLModel",
            "_view_count": null,
            "_view_module": "@jupyter-widgets/controls",
            "_view_module_version": "1.5.0",
            "_view_name": "HTMLView",
            "description": "",
            "description_tooltip": null,
            "layout": "IPY_MODEL_af98005a02c1408aaeb2c5c2df7ca79c",
            "placeholder": "​",
            "style": "IPY_MODEL_ba1bdaaaff09463d8369e4186b2bed9d",
            "value": " 438M/438M [00:01&lt;00:00, 275MB/s]"
          }
        },
        "23a72f139fd24db79f80d0cbcaf2ac33": {
          "model_module": "@jupyter-widgets/base",
          "model_module_version": "1.2.0",
          "model_name": "LayoutModel",
          "state": {
            "_model_module": "@jupyter-widgets/base",
            "_model_module_version": "1.2.0",
            "_model_name": "LayoutModel",
            "_view_count": null,
            "_view_module": "@jupyter-widgets/base",
            "_view_module_version": "1.2.0",
            "_view_name": "LayoutView",
            "align_content": null,
            "align_items": null,
            "align_self": null,
            "border": null,
            "bottom": null,
            "display": null,
            "flex": null,
            "flex_flow": null,
            "grid_area": null,
            "grid_auto_columns": null,
            "grid_auto_flow": null,
            "grid_auto_rows": null,
            "grid_column": null,
            "grid_gap": null,
            "grid_row": null,
            "grid_template_areas": null,
            "grid_template_columns": null,
            "grid_template_rows": null,
            "height": null,
            "justify_content": null,
            "justify_items": null,
            "left": null,
            "margin": null,
            "max_height": null,
            "max_width": null,
            "min_height": null,
            "min_width": null,
            "object_fit": null,
            "object_position": null,
            "order": null,
            "overflow": null,
            "overflow_x": null,
            "overflow_y": null,
            "padding": null,
            "right": null,
            "top": null,
            "visibility": null,
            "width": null
          }
        },
        "23df424680814290aee74630e3eaf22e": {
          "model_module": "@jupyter-widgets/controls",
          "model_module_version": "1.5.0",
          "model_name": "DescriptionStyleModel",
          "state": {
            "_model_module": "@jupyter-widgets/controls",
            "_model_module_version": "1.5.0",
            "_model_name": "DescriptionStyleModel",
            "_view_count": null,
            "_view_module": "@jupyter-widgets/base",
            "_view_module_version": "1.2.0",
            "_view_name": "StyleView",
            "description_width": ""
          }
        },
        "24c19fb13c764f3cbf5a501f831eee27": {
          "model_module": "@jupyter-widgets/base",
          "model_module_version": "1.2.0",
          "model_name": "LayoutModel",
          "state": {
            "_model_module": "@jupyter-widgets/base",
            "_model_module_version": "1.2.0",
            "_model_name": "LayoutModel",
            "_view_count": null,
            "_view_module": "@jupyter-widgets/base",
            "_view_module_version": "1.2.0",
            "_view_name": "LayoutView",
            "align_content": null,
            "align_items": null,
            "align_self": null,
            "border": null,
            "bottom": null,
            "display": null,
            "flex": null,
            "flex_flow": null,
            "grid_area": null,
            "grid_auto_columns": null,
            "grid_auto_flow": null,
            "grid_auto_rows": null,
            "grid_column": null,
            "grid_gap": null,
            "grid_row": null,
            "grid_template_areas": null,
            "grid_template_columns": null,
            "grid_template_rows": null,
            "height": null,
            "justify_content": null,
            "justify_items": null,
            "left": null,
            "margin": null,
            "max_height": null,
            "max_width": null,
            "min_height": null,
            "min_width": null,
            "object_fit": null,
            "object_position": null,
            "order": null,
            "overflow": null,
            "overflow_x": null,
            "overflow_y": null,
            "padding": null,
            "right": null,
            "top": null,
            "visibility": null,
            "width": null
          }
        },
        "266a296d688d4a8295a09de712c63754": {
          "model_module": "@jupyter-widgets/controls",
          "model_module_version": "1.5.0",
          "model_name": "FloatProgressModel",
          "state": {
            "_dom_classes": [],
            "_model_module": "@jupyter-widgets/controls",
            "_model_module_version": "1.5.0",
            "_model_name": "FloatProgressModel",
            "_view_count": null,
            "_view_module": "@jupyter-widgets/controls",
            "_view_module_version": "1.5.0",
            "_view_name": "ProgressView",
            "bar_style": "success",
            "description": "",
            "description_tooltip": null,
            "layout": "IPY_MODEL_767d056b55064106aa8eaa5c924d47dc",
            "max": 466081,
            "min": 0,
            "orientation": "horizontal",
            "style": "IPY_MODEL_d43f2acdb2cb4fd89330dd6034d23a29",
            "value": 466081
          }
        },
        "26e3282588c042c5b0e4df5de6ae9bc1": {
          "model_module": "@jupyter-widgets/base",
          "model_module_version": "1.2.0",
          "model_name": "LayoutModel",
          "state": {
            "_model_module": "@jupyter-widgets/base",
            "_model_module_version": "1.2.0",
            "_model_name": "LayoutModel",
            "_view_count": null,
            "_view_module": "@jupyter-widgets/base",
            "_view_module_version": "1.2.0",
            "_view_name": "LayoutView",
            "align_content": null,
            "align_items": null,
            "align_self": null,
            "border": null,
            "bottom": null,
            "display": null,
            "flex": null,
            "flex_flow": null,
            "grid_area": null,
            "grid_auto_columns": null,
            "grid_auto_flow": null,
            "grid_auto_rows": null,
            "grid_column": null,
            "grid_gap": null,
            "grid_row": null,
            "grid_template_areas": null,
            "grid_template_columns": null,
            "grid_template_rows": null,
            "height": null,
            "justify_content": null,
            "justify_items": null,
            "left": null,
            "margin": null,
            "max_height": null,
            "max_width": null,
            "min_height": null,
            "min_width": null,
            "object_fit": null,
            "object_position": null,
            "order": null,
            "overflow": null,
            "overflow_x": null,
            "overflow_y": null,
            "padding": null,
            "right": null,
            "top": null,
            "visibility": null,
            "width": null
          }
        },
        "26f056bc09794bba97868c3c7bed0be0": {
          "model_module": "@jupyter-widgets/controls",
          "model_module_version": "1.5.0",
          "model_name": "FloatProgressModel",
          "state": {
            "_dom_classes": [],
            "_model_module": "@jupyter-widgets/controls",
            "_model_module_version": "1.5.0",
            "_model_name": "FloatProgressModel",
            "_view_count": null,
            "_view_module": "@jupyter-widgets/controls",
            "_view_module_version": "1.5.0",
            "_view_name": "ProgressView",
            "bar_style": "success",
            "description": "",
            "description_tooltip": null,
            "layout": "IPY_MODEL_7919a9a6bf7940e0bf0977a13f653365",
            "max": 743,
            "min": 0,
            "orientation": "horizontal",
            "style": "IPY_MODEL_73697a089f154ecebcd5cd50c119e7a2",
            "value": 743
          }
        },
        "2a1abc9c3bec456da0c1a79d305031d5": {
          "model_module": "@jupyter-widgets/controls",
          "model_module_version": "1.5.0",
          "model_name": "HTMLModel",
          "state": {
            "_dom_classes": [],
            "_model_module": "@jupyter-widgets/controls",
            "_model_module_version": "1.5.0",
            "_model_name": "HTMLModel",
            "_view_count": null,
            "_view_module": "@jupyter-widgets/controls",
            "_view_module_version": "1.5.0",
            "_view_name": "HTMLView",
            "description": "",
            "description_tooltip": null,
            "layout": "IPY_MODEL_a0d63499791a4d3bb1be9a18d5384ad9",
            "placeholder": "​",
            "style": "IPY_MODEL_962de82e79cc4d0fbfbcc92e9329c2f9",
            "value": " 466k/466k [00:00&lt;00:00, 2.68MB/s]"
          }
        },
        "2bb6d9dd5c3f4c5eb73f48f45e10cf12": {
          "model_module": "@jupyter-widgets/controls",
          "model_module_version": "1.5.0",
          "model_name": "DescriptionStyleModel",
          "state": {
            "_model_module": "@jupyter-widgets/controls",
            "_model_module_version": "1.5.0",
            "_model_name": "DescriptionStyleModel",
            "_view_count": null,
            "_view_module": "@jupyter-widgets/base",
            "_view_module_version": "1.2.0",
            "_view_name": "StyleView",
            "description_width": ""
          }
        },
        "2e53a2d98aed460697bb530af5133e31": {
          "model_module": "@jupyter-widgets/controls",
          "model_module_version": "1.5.0",
          "model_name": "ProgressStyleModel",
          "state": {
            "_model_module": "@jupyter-widgets/controls",
            "_model_module_version": "1.5.0",
            "_model_name": "ProgressStyleModel",
            "_view_count": null,
            "_view_module": "@jupyter-widgets/base",
            "_view_module_version": "1.2.0",
            "_view_name": "StyleView",
            "bar_color": null,
            "description_width": ""
          }
        },
        "2ebc4d89445c46088ad80691149bac1a": {
          "model_module": "@jupyter-widgets/controls",
          "model_module_version": "1.5.0",
          "model_name": "HTMLModel",
          "state": {
            "_dom_classes": [],
            "_model_module": "@jupyter-widgets/controls",
            "_model_module_version": "1.5.0",
            "_model_name": "HTMLModel",
            "_view_count": null,
            "_view_module": "@jupyter-widgets/controls",
            "_view_module_version": "1.5.0",
            "_view_name": "HTMLView",
            "description": "",
            "description_tooltip": null,
            "layout": "IPY_MODEL_e4b248c1466a437386f33baf9aad7930",
            "placeholder": "​",
            "style": "IPY_MODEL_a982d2300cc946b2806fdd27ce583be9",
            "value": "config.json: 100%"
          }
        },
        "3174768b65f440b88904e2bc950d8312": {
          "model_module": "@jupyter-widgets/base",
          "model_module_version": "1.2.0",
          "model_name": "LayoutModel",
          "state": {
            "_model_module": "@jupyter-widgets/base",
            "_model_module_version": "1.2.0",
            "_model_name": "LayoutModel",
            "_view_count": null,
            "_view_module": "@jupyter-widgets/base",
            "_view_module_version": "1.2.0",
            "_view_name": "LayoutView",
            "align_content": null,
            "align_items": null,
            "align_self": null,
            "border": null,
            "bottom": null,
            "display": null,
            "flex": null,
            "flex_flow": null,
            "grid_area": null,
            "grid_auto_columns": null,
            "grid_auto_flow": null,
            "grid_auto_rows": null,
            "grid_column": null,
            "grid_gap": null,
            "grid_row": null,
            "grid_template_areas": null,
            "grid_template_columns": null,
            "grid_template_rows": null,
            "height": null,
            "justify_content": null,
            "justify_items": null,
            "left": null,
            "margin": null,
            "max_height": null,
            "max_width": null,
            "min_height": null,
            "min_width": null,
            "object_fit": null,
            "object_position": null,
            "order": null,
            "overflow": null,
            "overflow_x": null,
            "overflow_y": null,
            "padding": null,
            "right": null,
            "top": null,
            "visibility": null,
            "width": null
          }
        },
        "328566d4f717486c941d3c5d50d35bf0": {
          "model_module": "@jupyter-widgets/controls",
          "model_module_version": "1.5.0",
          "model_name": "DescriptionStyleModel",
          "state": {
            "_model_module": "@jupyter-widgets/controls",
            "_model_module_version": "1.5.0",
            "_model_name": "DescriptionStyleModel",
            "_view_count": null,
            "_view_module": "@jupyter-widgets/base",
            "_view_module_version": "1.2.0",
            "_view_name": "StyleView",
            "description_width": ""
          }
        },
        "341067272e4f435b816f60058b3a3d0d": {
          "model_module": "@jupyter-widgets/controls",
          "model_module_version": "1.5.0",
          "model_name": "FloatProgressModel",
          "state": {
            "_dom_classes": [],
            "_model_module": "@jupyter-widgets/controls",
            "_model_module_version": "1.5.0",
            "_model_name": "FloatProgressModel",
            "_view_count": null,
            "_view_module": "@jupyter-widgets/controls",
            "_view_module_version": "1.5.0",
            "_view_name": "ProgressView",
            "bar_style": "success",
            "description": "",
            "description_tooltip": null,
            "layout": "IPY_MODEL_206630239ab34017a91190b2034a3f1f",
            "max": 743,
            "min": 0,
            "orientation": "horizontal",
            "style": "IPY_MODEL_9a842df2b24f4193b5de7d6f44c79c89",
            "value": 743
          }
        },
        "34175f7a64054fd2bd068ec05620d156": {
          "model_module": "@jupyter-widgets/controls",
          "model_module_version": "1.5.0",
          "model_name": "ProgressStyleModel",
          "state": {
            "_model_module": "@jupyter-widgets/controls",
            "_model_module_version": "1.5.0",
            "_model_name": "ProgressStyleModel",
            "_view_count": null,
            "_view_module": "@jupyter-widgets/base",
            "_view_module_version": "1.2.0",
            "_view_name": "StyleView",
            "bar_color": null,
            "description_width": ""
          }
        },
        "352ed0cb1afd44f1a8e1baa35831a112": {
          "model_module": "@jupyter-widgets/base",
          "model_module_version": "1.2.0",
          "model_name": "LayoutModel",
          "state": {
            "_model_module": "@jupyter-widgets/base",
            "_model_module_version": "1.2.0",
            "_model_name": "LayoutModel",
            "_view_count": null,
            "_view_module": "@jupyter-widgets/base",
            "_view_module_version": "1.2.0",
            "_view_name": "LayoutView",
            "align_content": null,
            "align_items": null,
            "align_self": null,
            "border": null,
            "bottom": null,
            "display": null,
            "flex": null,
            "flex_flow": null,
            "grid_area": null,
            "grid_auto_columns": null,
            "grid_auto_flow": null,
            "grid_auto_rows": null,
            "grid_column": null,
            "grid_gap": null,
            "grid_row": null,
            "grid_template_areas": null,
            "grid_template_columns": null,
            "grid_template_rows": null,
            "height": null,
            "justify_content": null,
            "justify_items": null,
            "left": null,
            "margin": null,
            "max_height": null,
            "max_width": null,
            "min_height": null,
            "min_width": null,
            "object_fit": null,
            "object_position": null,
            "order": null,
            "overflow": null,
            "overflow_x": null,
            "overflow_y": null,
            "padding": null,
            "right": null,
            "top": null,
            "visibility": null,
            "width": null
          }
        },
        "38e5f7c9fc0045ed9ec02cb89705ead9": {
          "model_module": "@jupyter-widgets/controls",
          "model_module_version": "1.5.0",
          "model_name": "DescriptionStyleModel",
          "state": {
            "_model_module": "@jupyter-widgets/controls",
            "_model_module_version": "1.5.0",
            "_model_name": "DescriptionStyleModel",
            "_view_count": null,
            "_view_module": "@jupyter-widgets/base",
            "_view_module_version": "1.2.0",
            "_view_name": "StyleView",
            "description_width": ""
          }
        },
        "394a735bf0b84c33b8d00daf8d0a2e76": {
          "model_module": "@jupyter-widgets/base",
          "model_module_version": "1.2.0",
          "model_name": "LayoutModel",
          "state": {
            "_model_module": "@jupyter-widgets/base",
            "_model_module_version": "1.2.0",
            "_model_name": "LayoutModel",
            "_view_count": null,
            "_view_module": "@jupyter-widgets/base",
            "_view_module_version": "1.2.0",
            "_view_name": "LayoutView",
            "align_content": null,
            "align_items": null,
            "align_self": null,
            "border": null,
            "bottom": null,
            "display": null,
            "flex": null,
            "flex_flow": null,
            "grid_area": null,
            "grid_auto_columns": null,
            "grid_auto_flow": null,
            "grid_auto_rows": null,
            "grid_column": null,
            "grid_gap": null,
            "grid_row": null,
            "grid_template_areas": null,
            "grid_template_columns": null,
            "grid_template_rows": null,
            "height": null,
            "justify_content": null,
            "justify_items": null,
            "left": null,
            "margin": null,
            "max_height": null,
            "max_width": null,
            "min_height": null,
            "min_width": null,
            "object_fit": null,
            "object_position": null,
            "order": null,
            "overflow": null,
            "overflow_x": null,
            "overflow_y": null,
            "padding": null,
            "right": null,
            "top": null,
            "visibility": null,
            "width": null
          }
        },
        "39c91e43d4d545058027b3f093a3c925": {
          "model_module": "@jupyter-widgets/controls",
          "model_module_version": "1.5.0",
          "model_name": "HTMLModel",
          "state": {
            "_dom_classes": [],
            "_model_module": "@jupyter-widgets/controls",
            "_model_module_version": "1.5.0",
            "_model_name": "HTMLModel",
            "_view_count": null,
            "_view_module": "@jupyter-widgets/controls",
            "_view_module_version": "1.5.0",
            "_view_name": "HTMLView",
            "description": "",
            "description_tooltip": null,
            "layout": "IPY_MODEL_d1aaab7bf9ac4aec98fc3ac269d4a6f3",
            "placeholder": "​",
            "style": "IPY_MODEL_030fb5d14cc9483cb1d926e5eb4a8d0c",
            "value": "tokenizer.json: 100%"
          }
        },
        "3e4fc4ff69664cadbfddcdff645b864e": {
          "model_module": "@jupyter-widgets/controls",
          "model_module_version": "1.5.0",
          "model_name": "DescriptionStyleModel",
          "state": {
            "_model_module": "@jupyter-widgets/controls",
            "_model_module_version": "1.5.0",
            "_model_name": "DescriptionStyleModel",
            "_view_count": null,
            "_view_module": "@jupyter-widgets/base",
            "_view_module_version": "1.2.0",
            "_view_name": "StyleView",
            "description_width": ""
          }
        },
        "3e99f42da5134a029be015a4a8514a82": {
          "model_module": "@jupyter-widgets/base",
          "model_module_version": "1.2.0",
          "model_name": "LayoutModel",
          "state": {
            "_model_module": "@jupyter-widgets/base",
            "_model_module_version": "1.2.0",
            "_model_name": "LayoutModel",
            "_view_count": null,
            "_view_module": "@jupyter-widgets/base",
            "_view_module_version": "1.2.0",
            "_view_name": "LayoutView",
            "align_content": null,
            "align_items": null,
            "align_self": null,
            "border": null,
            "bottom": null,
            "display": null,
            "flex": null,
            "flex_flow": null,
            "grid_area": null,
            "grid_auto_columns": null,
            "grid_auto_flow": null,
            "grid_auto_rows": null,
            "grid_column": null,
            "grid_gap": null,
            "grid_row": null,
            "grid_template_areas": null,
            "grid_template_columns": null,
            "grid_template_rows": null,
            "height": null,
            "justify_content": null,
            "justify_items": null,
            "left": null,
            "margin": null,
            "max_height": null,
            "max_width": null,
            "min_height": null,
            "min_width": null,
            "object_fit": null,
            "object_position": null,
            "order": null,
            "overflow": null,
            "overflow_x": null,
            "overflow_y": null,
            "padding": null,
            "right": null,
            "top": null,
            "visibility": null,
            "width": null
          }
        },
        "41f8edc8ec514b0eab74c4192092a949": {
          "model_module": "@jupyter-widgets/base",
          "model_module_version": "1.2.0",
          "model_name": "LayoutModel",
          "state": {
            "_model_module": "@jupyter-widgets/base",
            "_model_module_version": "1.2.0",
            "_model_name": "LayoutModel",
            "_view_count": null,
            "_view_module": "@jupyter-widgets/base",
            "_view_module_version": "1.2.0",
            "_view_name": "LayoutView",
            "align_content": null,
            "align_items": null,
            "align_self": null,
            "border": null,
            "bottom": null,
            "display": null,
            "flex": null,
            "flex_flow": null,
            "grid_area": null,
            "grid_auto_columns": null,
            "grid_auto_flow": null,
            "grid_auto_rows": null,
            "grid_column": null,
            "grid_gap": null,
            "grid_row": null,
            "grid_template_areas": null,
            "grid_template_columns": null,
            "grid_template_rows": null,
            "height": null,
            "justify_content": null,
            "justify_items": null,
            "left": null,
            "margin": null,
            "max_height": null,
            "max_width": null,
            "min_height": null,
            "min_width": null,
            "object_fit": null,
            "object_position": null,
            "order": null,
            "overflow": null,
            "overflow_x": null,
            "overflow_y": null,
            "padding": null,
            "right": null,
            "top": null,
            "visibility": null,
            "width": null
          }
        },
        "4269d0883f694093b0a561887a89f482": {
          "model_module": "@jupyter-widgets/base",
          "model_module_version": "1.2.0",
          "model_name": "LayoutModel",
          "state": {
            "_model_module": "@jupyter-widgets/base",
            "_model_module_version": "1.2.0",
            "_model_name": "LayoutModel",
            "_view_count": null,
            "_view_module": "@jupyter-widgets/base",
            "_view_module_version": "1.2.0",
            "_view_name": "LayoutView",
            "align_content": null,
            "align_items": null,
            "align_self": null,
            "border": null,
            "bottom": null,
            "display": null,
            "flex": null,
            "flex_flow": null,
            "grid_area": null,
            "grid_auto_columns": null,
            "grid_auto_flow": null,
            "grid_auto_rows": null,
            "grid_column": null,
            "grid_gap": null,
            "grid_row": null,
            "grid_template_areas": null,
            "grid_template_columns": null,
            "grid_template_rows": null,
            "height": null,
            "justify_content": null,
            "justify_items": null,
            "left": null,
            "margin": null,
            "max_height": null,
            "max_width": null,
            "min_height": null,
            "min_width": null,
            "object_fit": null,
            "object_position": null,
            "order": null,
            "overflow": null,
            "overflow_x": null,
            "overflow_y": null,
            "padding": null,
            "right": null,
            "top": null,
            "visibility": null,
            "width": null
          }
        },
        "43ad697f641c4ef99b1b0c2748e32dfa": {
          "model_module": "@jupyter-widgets/controls",
          "model_module_version": "1.5.0",
          "model_name": "HTMLModel",
          "state": {
            "_dom_classes": [],
            "_model_module": "@jupyter-widgets/controls",
            "_model_module_version": "1.5.0",
            "_model_name": "HTMLModel",
            "_view_count": null,
            "_view_module": "@jupyter-widgets/controls",
            "_view_module_version": "1.5.0",
            "_view_name": "HTMLView",
            "description": "",
            "description_tooltip": null,
            "layout": "IPY_MODEL_d588f58797f74ebfaa6e7da375767bb5",
            "placeholder": "​",
            "style": "IPY_MODEL_becccc3ce63b42a397b39f422087329d",
            "value": "artifact.metadata: 100%"
          }
        },
        "44120835504243d0bb770628ec22fb55": {
          "model_module": "@jupyter-widgets/controls",
          "model_module_version": "1.5.0",
          "model_name": "FloatProgressModel",
          "state": {
            "_dom_classes": [],
            "_model_module": "@jupyter-widgets/controls",
            "_model_module_version": "1.5.0",
            "_model_name": "FloatProgressModel",
            "_view_count": null,
            "_view_module": "@jupyter-widgets/controls",
            "_view_module_version": "1.5.0",
            "_view_name": "ProgressView",
            "bar_style": "success",
            "description": "",
            "description_tooltip": null,
            "layout": "IPY_MODEL_93249614f84c42c899691f0f42d9e3e7",
            "max": 438349816,
            "min": 0,
            "orientation": "horizontal",
            "style": "IPY_MODEL_5706e0bf106d41639d79276d060db261",
            "value": 438349816
          }
        },
        "450682b073de4e83b62c4c7043ee2d41": {
          "model_module": "@jupyter-widgets/controls",
          "model_module_version": "1.5.0",
          "model_name": "DescriptionStyleModel",
          "state": {
            "_model_module": "@jupyter-widgets/controls",
            "_model_module_version": "1.5.0",
            "_model_name": "DescriptionStyleModel",
            "_view_count": null,
            "_view_module": "@jupyter-widgets/base",
            "_view_module_version": "1.2.0",
            "_view_name": "StyleView",
            "description_width": ""
          }
        },
        "46363d908dd5474580736f5c38b9f205": {
          "model_module": "@jupyter-widgets/controls",
          "model_module_version": "1.5.0",
          "model_name": "ProgressStyleModel",
          "state": {
            "_model_module": "@jupyter-widgets/controls",
            "_model_module_version": "1.5.0",
            "_model_name": "ProgressStyleModel",
            "_view_count": null,
            "_view_module": "@jupyter-widgets/base",
            "_view_module_version": "1.2.0",
            "_view_name": "StyleView",
            "bar_color": null,
            "description_width": ""
          }
        },
        "46a17009bd3a4b50b81f3d79da9c1996": {
          "model_module": "@jupyter-widgets/controls",
          "model_module_version": "1.5.0",
          "model_name": "ProgressStyleModel",
          "state": {
            "_model_module": "@jupyter-widgets/controls",
            "_model_module_version": "1.5.0",
            "_model_name": "ProgressStyleModel",
            "_view_count": null,
            "_view_module": "@jupyter-widgets/base",
            "_view_module_version": "1.2.0",
            "_view_name": "StyleView",
            "bar_color": null,
            "description_width": ""
          }
        },
        "48653149433243ceae7bdb329fb94c85": {
          "model_module": "@jupyter-widgets/base",
          "model_module_version": "1.2.0",
          "model_name": "LayoutModel",
          "state": {
            "_model_module": "@jupyter-widgets/base",
            "_model_module_version": "1.2.0",
            "_model_name": "LayoutModel",
            "_view_count": null,
            "_view_module": "@jupyter-widgets/base",
            "_view_module_version": "1.2.0",
            "_view_name": "LayoutView",
            "align_content": null,
            "align_items": null,
            "align_self": null,
            "border": null,
            "bottom": null,
            "display": null,
            "flex": null,
            "flex_flow": null,
            "grid_area": null,
            "grid_auto_columns": null,
            "grid_auto_flow": null,
            "grid_auto_rows": null,
            "grid_column": null,
            "grid_gap": null,
            "grid_row": null,
            "grid_template_areas": null,
            "grid_template_columns": null,
            "grid_template_rows": null,
            "height": null,
            "justify_content": null,
            "justify_items": null,
            "left": null,
            "margin": null,
            "max_height": null,
            "max_width": null,
            "min_height": null,
            "min_width": null,
            "object_fit": null,
            "object_position": null,
            "order": null,
            "overflow": null,
            "overflow_x": null,
            "overflow_y": null,
            "padding": null,
            "right": null,
            "top": null,
            "visibility": null,
            "width": null
          }
        },
        "4c2bc1bac347481a99c1bd96659d8577": {
          "model_module": "@jupyter-widgets/controls",
          "model_module_version": "1.5.0",
          "model_name": "FloatProgressModel",
          "state": {
            "_dom_classes": [],
            "_model_module": "@jupyter-widgets/controls",
            "_model_module_version": "1.5.0",
            "_model_name": "FloatProgressModel",
            "_view_count": null,
            "_view_module": "@jupyter-widgets/controls",
            "_view_module_version": "1.5.0",
            "_view_name": "ProgressView",
            "bar_style": "success",
            "description": "",
            "description_tooltip": null,
            "layout": "IPY_MODEL_5b1af42a3f4f4d03890f80ff7f619fd9",
            "max": 112,
            "min": 0,
            "orientation": "horizontal",
            "style": "IPY_MODEL_bff17c6fd7864472825a7bc8db2c92c6",
            "value": 112
          }
        },
        "4ff56d78f757494589df99801135a67b": {
          "model_module": "@jupyter-widgets/controls",
          "model_module_version": "1.5.0",
          "model_name": "HTMLModel",
          "state": {
            "_dom_classes": [],
            "_model_module": "@jupyter-widgets/controls",
            "_model_module_version": "1.5.0",
            "_model_name": "HTMLModel",
            "_view_count": null,
            "_view_module": "@jupyter-widgets/controls",
            "_view_module_version": "1.5.0",
            "_view_name": "HTMLView",
            "description": "",
            "description_tooltip": null,
            "layout": "IPY_MODEL_1c778336665a4ff2af140aaef3e2b7ca",
            "placeholder": "​",
            "style": "IPY_MODEL_505cc68c91c344bea49af824899c34e1",
            "value": " 112/112 [00:00&lt;00:00, 8.35kB/s]"
          }
        },
        "505cc68c91c344bea49af824899c34e1": {
          "model_module": "@jupyter-widgets/controls",
          "model_module_version": "1.5.0",
          "model_name": "DescriptionStyleModel",
          "state": {
            "_model_module": "@jupyter-widgets/controls",
            "_model_module_version": "1.5.0",
            "_model_name": "DescriptionStyleModel",
            "_view_count": null,
            "_view_module": "@jupyter-widgets/base",
            "_view_module_version": "1.2.0",
            "_view_name": "StyleView",
            "description_width": ""
          }
        },
        "51444f58ad654b55a03a76da349d2896": {
          "model_module": "@jupyter-widgets/base",
          "model_module_version": "1.2.0",
          "model_name": "LayoutModel",
          "state": {
            "_model_module": "@jupyter-widgets/base",
            "_model_module_version": "1.2.0",
            "_model_name": "LayoutModel",
            "_view_count": null,
            "_view_module": "@jupyter-widgets/base",
            "_view_module_version": "1.2.0",
            "_view_name": "LayoutView",
            "align_content": null,
            "align_items": null,
            "align_self": null,
            "border": null,
            "bottom": null,
            "display": null,
            "flex": null,
            "flex_flow": null,
            "grid_area": null,
            "grid_auto_columns": null,
            "grid_auto_flow": null,
            "grid_auto_rows": null,
            "grid_column": null,
            "grid_gap": null,
            "grid_row": null,
            "grid_template_areas": null,
            "grid_template_columns": null,
            "grid_template_rows": null,
            "height": null,
            "justify_content": null,
            "justify_items": null,
            "left": null,
            "margin": null,
            "max_height": null,
            "max_width": null,
            "min_height": null,
            "min_width": null,
            "object_fit": null,
            "object_position": null,
            "order": null,
            "overflow": null,
            "overflow_x": null,
            "overflow_y": null,
            "padding": null,
            "right": null,
            "top": null,
            "visibility": null,
            "width": null
          }
        },
        "51ae3daa144c406ab8ef800a4b4f12cf": {
          "model_module": "@jupyter-widgets/controls",
          "model_module_version": "1.5.0",
          "model_name": "DescriptionStyleModel",
          "state": {
            "_model_module": "@jupyter-widgets/controls",
            "_model_module_version": "1.5.0",
            "_model_name": "DescriptionStyleModel",
            "_view_count": null,
            "_view_module": "@jupyter-widgets/base",
            "_view_module_version": "1.2.0",
            "_view_name": "StyleView",
            "description_width": ""
          }
        },
        "5215df07e0444ea79fcfe7ec781e1e07": {
          "model_module": "@jupyter-widgets/base",
          "model_module_version": "1.2.0",
          "model_name": "LayoutModel",
          "state": {
            "_model_module": "@jupyter-widgets/base",
            "_model_module_version": "1.2.0",
            "_model_name": "LayoutModel",
            "_view_count": null,
            "_view_module": "@jupyter-widgets/base",
            "_view_module_version": "1.2.0",
            "_view_name": "LayoutView",
            "align_content": null,
            "align_items": null,
            "align_self": null,
            "border": null,
            "bottom": null,
            "display": null,
            "flex": null,
            "flex_flow": null,
            "grid_area": null,
            "grid_auto_columns": null,
            "grid_auto_flow": null,
            "grid_auto_rows": null,
            "grid_column": null,
            "grid_gap": null,
            "grid_row": null,
            "grid_template_areas": null,
            "grid_template_columns": null,
            "grid_template_rows": null,
            "height": null,
            "justify_content": null,
            "justify_items": null,
            "left": null,
            "margin": null,
            "max_height": null,
            "max_width": null,
            "min_height": null,
            "min_width": null,
            "object_fit": null,
            "object_position": null,
            "order": null,
            "overflow": null,
            "overflow_x": null,
            "overflow_y": null,
            "padding": null,
            "right": null,
            "top": null,
            "visibility": null,
            "width": null
          }
        },
        "53950beaf6364351b3c6fee42d6b1e51": {
          "model_module": "@jupyter-widgets/controls",
          "model_module_version": "1.5.0",
          "model_name": "DescriptionStyleModel",
          "state": {
            "_model_module": "@jupyter-widgets/controls",
            "_model_module_version": "1.5.0",
            "_model_name": "DescriptionStyleModel",
            "_view_count": null,
            "_view_module": "@jupyter-widgets/base",
            "_view_module_version": "1.2.0",
            "_view_name": "StyleView",
            "description_width": ""
          }
        },
        "55f978d18bba4042bd05082e495e44ef": {
          "model_module": "@jupyter-widgets/controls",
          "model_module_version": "1.5.0",
          "model_name": "DescriptionStyleModel",
          "state": {
            "_model_module": "@jupyter-widgets/controls",
            "_model_module_version": "1.5.0",
            "_model_name": "DescriptionStyleModel",
            "_view_count": null,
            "_view_module": "@jupyter-widgets/base",
            "_view_module_version": "1.2.0",
            "_view_name": "StyleView",
            "description_width": ""
          }
        },
        "5706e0bf106d41639d79276d060db261": {
          "model_module": "@jupyter-widgets/controls",
          "model_module_version": "1.5.0",
          "model_name": "ProgressStyleModel",
          "state": {
            "_model_module": "@jupyter-widgets/controls",
            "_model_module_version": "1.5.0",
            "_model_name": "ProgressStyleModel",
            "_view_count": null,
            "_view_module": "@jupyter-widgets/base",
            "_view_module_version": "1.2.0",
            "_view_name": "StyleView",
            "bar_color": null,
            "description_width": ""
          }
        },
        "5848c1a0f2de43b996d683d32bdad0f0": {
          "model_module": "@jupyter-widgets/controls",
          "model_module_version": "1.5.0",
          "model_name": "DescriptionStyleModel",
          "state": {
            "_model_module": "@jupyter-widgets/controls",
            "_model_module_version": "1.5.0",
            "_model_name": "DescriptionStyleModel",
            "_view_count": null,
            "_view_module": "@jupyter-widgets/base",
            "_view_module_version": "1.2.0",
            "_view_name": "StyleView",
            "description_width": ""
          }
        },
        "5877d053ed794bc0a25fe3cc156cc200": {
          "model_module": "@jupyter-widgets/base",
          "model_module_version": "1.2.0",
          "model_name": "LayoutModel",
          "state": {
            "_model_module": "@jupyter-widgets/base",
            "_model_module_version": "1.2.0",
            "_model_name": "LayoutModel",
            "_view_count": null,
            "_view_module": "@jupyter-widgets/base",
            "_view_module_version": "1.2.0",
            "_view_name": "LayoutView",
            "align_content": null,
            "align_items": null,
            "align_self": null,
            "border": null,
            "bottom": null,
            "display": null,
            "flex": null,
            "flex_flow": null,
            "grid_area": null,
            "grid_auto_columns": null,
            "grid_auto_flow": null,
            "grid_auto_rows": null,
            "grid_column": null,
            "grid_gap": null,
            "grid_row": null,
            "grid_template_areas": null,
            "grid_template_columns": null,
            "grid_template_rows": null,
            "height": null,
            "justify_content": null,
            "justify_items": null,
            "left": null,
            "margin": null,
            "max_height": null,
            "max_width": null,
            "min_height": null,
            "min_width": null,
            "object_fit": null,
            "object_position": null,
            "order": null,
            "overflow": null,
            "overflow_x": null,
            "overflow_y": null,
            "padding": null,
            "right": null,
            "top": null,
            "visibility": null,
            "width": null
          }
        },
        "5a3e790f457440c8b55ce172455b8d19": {
          "model_module": "@jupyter-widgets/controls",
          "model_module_version": "1.5.0",
          "model_name": "DescriptionStyleModel",
          "state": {
            "_model_module": "@jupyter-widgets/controls",
            "_model_module_version": "1.5.0",
            "_model_name": "DescriptionStyleModel",
            "_view_count": null,
            "_view_module": "@jupyter-widgets/base",
            "_view_module_version": "1.2.0",
            "_view_name": "StyleView",
            "description_width": ""
          }
        },
        "5b1af42a3f4f4d03890f80ff7f619fd9": {
          "model_module": "@jupyter-widgets/base",
          "model_module_version": "1.2.0",
          "model_name": "LayoutModel",
          "state": {
            "_model_module": "@jupyter-widgets/base",
            "_model_module_version": "1.2.0",
            "_model_name": "LayoutModel",
            "_view_count": null,
            "_view_module": "@jupyter-widgets/base",
            "_view_module_version": "1.2.0",
            "_view_name": "LayoutView",
            "align_content": null,
            "align_items": null,
            "align_self": null,
            "border": null,
            "bottom": null,
            "display": null,
            "flex": null,
            "flex_flow": null,
            "grid_area": null,
            "grid_auto_columns": null,
            "grid_auto_flow": null,
            "grid_auto_rows": null,
            "grid_column": null,
            "grid_gap": null,
            "grid_row": null,
            "grid_template_areas": null,
            "grid_template_columns": null,
            "grid_template_rows": null,
            "height": null,
            "justify_content": null,
            "justify_items": null,
            "left": null,
            "margin": null,
            "max_height": null,
            "max_width": null,
            "min_height": null,
            "min_width": null,
            "object_fit": null,
            "object_position": null,
            "order": null,
            "overflow": null,
            "overflow_x": null,
            "overflow_y": null,
            "padding": null,
            "right": null,
            "top": null,
            "visibility": null,
            "width": null
          }
        },
        "5b1dec5cc7604551992446f9f4f26990": {
          "model_module": "@jupyter-widgets/controls",
          "model_module_version": "1.5.0",
          "model_name": "HBoxModel",
          "state": {
            "_dom_classes": [],
            "_model_module": "@jupyter-widgets/controls",
            "_model_module_version": "1.5.0",
            "_model_name": "HBoxModel",
            "_view_count": null,
            "_view_module": "@jupyter-widgets/controls",
            "_view_module_version": "1.5.0",
            "_view_name": "HBoxView",
            "box_style": "",
            "children": [
              "IPY_MODEL_1d0419ec3dc547a2a109702e83b1bc38",
              "IPY_MODEL_341067272e4f435b816f60058b3a3d0d",
              "IPY_MODEL_cce4e337a33c4901a89f1b052f712d50"
            ],
            "layout": "IPY_MODEL_98119d13b24b41c79b9fcb70ed3d4f22"
          }
        },
        "5ba50965023d4b099ef30ea6c7c012a8": {
          "model_module": "@jupyter-widgets/base",
          "model_module_version": "1.2.0",
          "model_name": "LayoutModel",
          "state": {
            "_model_module": "@jupyter-widgets/base",
            "_model_module_version": "1.2.0",
            "_model_name": "LayoutModel",
            "_view_count": null,
            "_view_module": "@jupyter-widgets/base",
            "_view_module_version": "1.2.0",
            "_view_name": "LayoutView",
            "align_content": null,
            "align_items": null,
            "align_self": null,
            "border": null,
            "bottom": null,
            "display": null,
            "flex": null,
            "flex_flow": null,
            "grid_area": null,
            "grid_auto_columns": null,
            "grid_auto_flow": null,
            "grid_auto_rows": null,
            "grid_column": null,
            "grid_gap": null,
            "grid_row": null,
            "grid_template_areas": null,
            "grid_template_columns": null,
            "grid_template_rows": null,
            "height": null,
            "justify_content": null,
            "justify_items": null,
            "left": null,
            "margin": null,
            "max_height": null,
            "max_width": null,
            "min_height": null,
            "min_width": null,
            "object_fit": null,
            "object_position": null,
            "order": null,
            "overflow": null,
            "overflow_x": null,
            "overflow_y": null,
            "padding": null,
            "right": null,
            "top": null,
            "visibility": null,
            "width": null
          }
        },
        "5c27cbae7fab4c0087cfd0e1c058504a": {
          "model_module": "@jupyter-widgets/controls",
          "model_module_version": "1.5.0",
          "model_name": "HTMLModel",
          "state": {
            "_dom_classes": [],
            "_model_module": "@jupyter-widgets/controls",
            "_model_module_version": "1.5.0",
            "_model_name": "HTMLModel",
            "_view_count": null,
            "_view_module": "@jupyter-widgets/controls",
            "_view_module_version": "1.5.0",
            "_view_name": "HTMLView",
            "description": "",
            "description_tooltip": null,
            "layout": "IPY_MODEL_26e3282588c042c5b0e4df5de6ae9bc1",
            "placeholder": "​",
            "style": "IPY_MODEL_1dabb3b12d824fcd90fdd7db5a8e523a",
            "value": "tokenizer.json: 100%"
          }
        },
        "5e3cbb46a9eb4f53bfd2f96c9c7a8706": {
          "model_module": "@jupyter-widgets/controls",
          "model_module_version": "1.5.0",
          "model_name": "HTMLModel",
          "state": {
            "_dom_classes": [],
            "_model_module": "@jupyter-widgets/controls",
            "_model_module_version": "1.5.0",
            "_model_name": "HTMLModel",
            "_view_count": null,
            "_view_module": "@jupyter-widgets/controls",
            "_view_module_version": "1.5.0",
            "_view_name": "HTMLView",
            "description": "",
            "description_tooltip": null,
            "layout": "IPY_MODEL_caac8f179bed461297c83c7b52f70b87",
            "placeholder": "​",
            "style": "IPY_MODEL_da40e89a1cb447c4aa49b4a950ac4ae5",
            "value": " 456k/456k [00:00&lt;00:00, 23.3MB/s]"
          }
        },
        "611957241d184d688f940316a293320c": {
          "model_module": "@jupyter-widgets/base",
          "model_module_version": "1.2.0",
          "model_name": "LayoutModel",
          "state": {
            "_model_module": "@jupyter-widgets/base",
            "_model_module_version": "1.2.0",
            "_model_name": "LayoutModel",
            "_view_count": null,
            "_view_module": "@jupyter-widgets/base",
            "_view_module_version": "1.2.0",
            "_view_name": "LayoutView",
            "align_content": null,
            "align_items": null,
            "align_self": null,
            "border": null,
            "bottom": null,
            "display": null,
            "flex": null,
            "flex_flow": null,
            "grid_area": null,
            "grid_auto_columns": null,
            "grid_auto_flow": null,
            "grid_auto_rows": null,
            "grid_column": null,
            "grid_gap": null,
            "grid_row": null,
            "grid_template_areas": null,
            "grid_template_columns": null,
            "grid_template_rows": null,
            "height": null,
            "justify_content": null,
            "justify_items": null,
            "left": null,
            "margin": null,
            "max_height": null,
            "max_width": null,
            "min_height": null,
            "min_width": null,
            "object_fit": null,
            "object_position": null,
            "order": null,
            "overflow": null,
            "overflow_x": null,
            "overflow_y": null,
            "padding": null,
            "right": null,
            "top": null,
            "visibility": null,
            "width": null
          }
        },
        "6163a67ccd284e0e8ea53ee50ee00380": {
          "model_module": "@jupyter-widgets/controls",
          "model_module_version": "1.5.0",
          "model_name": "HTMLModel",
          "state": {
            "_dom_classes": [],
            "_model_module": "@jupyter-widgets/controls",
            "_model_module_version": "1.5.0",
            "_model_name": "HTMLModel",
            "_view_count": null,
            "_view_module": "@jupyter-widgets/controls",
            "_view_module_version": "1.5.0",
            "_view_name": "HTMLView",
            "description": "",
            "description_tooltip": null,
            "layout": "IPY_MODEL_821ecf35d4114eb1a5a4cd757e9d83ef",
            "placeholder": "​",
            "style": "IPY_MODEL_55f978d18bba4042bd05082e495e44ef",
            "value": "model.safetensors: 100%"
          }
        },
        "63b76162b46f45b8b68830aa751fe356": {
          "model_module": "@jupyter-widgets/controls",
          "model_module_version": "1.5.0",
          "model_name": "DescriptionStyleModel",
          "state": {
            "_model_module": "@jupyter-widgets/controls",
            "_model_module_version": "1.5.0",
            "_model_name": "DescriptionStyleModel",
            "_view_count": null,
            "_view_module": "@jupyter-widgets/base",
            "_view_module_version": "1.2.0",
            "_view_name": "StyleView",
            "description_width": ""
          }
        },
        "6421d009e6cd4aa386be046258ea8f6d": {
          "model_module": "@jupyter-widgets/controls",
          "model_module_version": "1.5.0",
          "model_name": "ProgressStyleModel",
          "state": {
            "_model_module": "@jupyter-widgets/controls",
            "_model_module_version": "1.5.0",
            "_model_name": "ProgressStyleModel",
            "_view_count": null,
            "_view_module": "@jupyter-widgets/base",
            "_view_module_version": "1.2.0",
            "_view_name": "StyleView",
            "bar_color": null,
            "description_width": ""
          }
        },
        "64ec092710ab44f9ae4b5e7ebd28d577": {
          "model_module": "@jupyter-widgets/controls",
          "model_module_version": "1.5.0",
          "model_name": "FloatProgressModel",
          "state": {
            "_dom_classes": [],
            "_model_module": "@jupyter-widgets/controls",
            "_model_module_version": "1.5.0",
            "_model_name": "FloatProgressModel",
            "_view_count": null,
            "_view_module": "@jupyter-widgets/controls",
            "_view_module_version": "1.5.0",
            "_view_name": "ProgressView",
            "bar_style": "success",
            "description": "",
            "description_tooltip": null,
            "layout": "IPY_MODEL_7116ee5f60a0403f8e7e62263c72980c",
            "max": 405,
            "min": 0,
            "orientation": "horizontal",
            "style": "IPY_MODEL_2e53a2d98aed460697bb530af5133e31",
            "value": 405
          }
        },
        "66d9102fcaa642d1a4e690199491d79e": {
          "model_module": "@jupyter-widgets/controls",
          "model_module_version": "1.5.0",
          "model_name": "DescriptionStyleModel",
          "state": {
            "_model_module": "@jupyter-widgets/controls",
            "_model_module_version": "1.5.0",
            "_model_name": "DescriptionStyleModel",
            "_view_count": null,
            "_view_module": "@jupyter-widgets/base",
            "_view_module_version": "1.2.0",
            "_view_name": "StyleView",
            "description_width": ""
          }
        },
        "67b8ac6f93884e39aed57b8ad34fa7be": {
          "model_module": "@jupyter-widgets/controls",
          "model_module_version": "1.5.0",
          "model_name": "FloatProgressModel",
          "state": {
            "_dom_classes": [],
            "_model_module": "@jupyter-widgets/controls",
            "_model_module_version": "1.5.0",
            "_model_name": "FloatProgressModel",
            "_view_count": null,
            "_view_module": "@jupyter-widgets/controls",
            "_view_module_version": "1.5.0",
            "_view_name": "ProgressView",
            "bar_style": "success",
            "description": "",
            "description_tooltip": null,
            "layout": "IPY_MODEL_352ed0cb1afd44f1a8e1baa35831a112",
            "max": 231508,
            "min": 0,
            "orientation": "horizontal",
            "style": "IPY_MODEL_f8849ee418a84dc8a2e173b02a5a44df",
            "value": 231508
          }
        },
        "67cf0b4c85de4e79b3cc52f481c42bd7": {
          "model_module": "@jupyter-widgets/controls",
          "model_module_version": "1.5.0",
          "model_name": "ProgressStyleModel",
          "state": {
            "_model_module": "@jupyter-widgets/controls",
            "_model_module_version": "1.5.0",
            "_model_name": "ProgressStyleModel",
            "_view_count": null,
            "_view_module": "@jupyter-widgets/base",
            "_view_module_version": "1.2.0",
            "_view_name": "StyleView",
            "bar_color": null,
            "description_width": ""
          }
        },
        "6a1a72eae2d148cea8e9d9aecd93a0ce": {
          "model_module": "@jupyter-widgets/controls",
          "model_module_version": "1.5.0",
          "model_name": "HTMLModel",
          "state": {
            "_dom_classes": [],
            "_model_module": "@jupyter-widgets/controls",
            "_model_module_version": "1.5.0",
            "_model_name": "HTMLModel",
            "_view_count": null,
            "_view_module": "@jupyter-widgets/controls",
            "_view_module_version": "1.5.0",
            "_view_name": "HTMLView",
            "description": "",
            "description_tooltip": null,
            "layout": "IPY_MODEL_611957241d184d688f940316a293320c",
            "placeholder": "​",
            "style": "IPY_MODEL_53950beaf6364351b3c6fee42d6b1e51",
            "value": " 438M/438M [00:02&lt;00:00, 236MB/s]"
          }
        },
        "6cbdbfc3b9444e75af77f5468c10a317": {
          "model_module": "@jupyter-widgets/controls",
          "model_module_version": "1.5.0",
          "model_name": "FloatProgressModel",
          "state": {
            "_dom_classes": [],
            "_model_module": "@jupyter-widgets/controls",
            "_model_module_version": "1.5.0",
            "_model_name": "FloatProgressModel",
            "_view_count": null,
            "_view_module": "@jupyter-widgets/controls",
            "_view_module_version": "1.5.0",
            "_view_name": "ProgressView",
            "bar_style": "success",
            "description": "",
            "description_tooltip": null,
            "layout": "IPY_MODEL_e8cdab1a99ee4afaa9659193e05f1115",
            "max": 231508,
            "min": 0,
            "orientation": "horizontal",
            "style": "IPY_MODEL_73bf76314bce4f6d85c7657582c1aaa1",
            "value": 231508
          }
        },
        "7116ee5f60a0403f8e7e62263c72980c": {
          "model_module": "@jupyter-widgets/base",
          "model_module_version": "1.2.0",
          "model_name": "LayoutModel",
          "state": {
            "_model_module": "@jupyter-widgets/base",
            "_model_module_version": "1.2.0",
            "_model_name": "LayoutModel",
            "_view_count": null,
            "_view_module": "@jupyter-widgets/base",
            "_view_module_version": "1.2.0",
            "_view_name": "LayoutView",
            "align_content": null,
            "align_items": null,
            "align_self": null,
            "border": null,
            "bottom": null,
            "display": null,
            "flex": null,
            "flex_flow": null,
            "grid_area": null,
            "grid_auto_columns": null,
            "grid_auto_flow": null,
            "grid_auto_rows": null,
            "grid_column": null,
            "grid_gap": null,
            "grid_row": null,
            "grid_template_areas": null,
            "grid_template_columns": null,
            "grid_template_rows": null,
            "height": null,
            "justify_content": null,
            "justify_items": null,
            "left": null,
            "margin": null,
            "max_height": null,
            "max_width": null,
            "min_height": null,
            "min_width": null,
            "object_fit": null,
            "object_position": null,
            "order": null,
            "overflow": null,
            "overflow_x": null,
            "overflow_y": null,
            "padding": null,
            "right": null,
            "top": null,
            "visibility": null,
            "width": null
          }
        },
        "72fb180ec1f74e94910949c063da918f": {
          "model_module": "@jupyter-widgets/controls",
          "model_module_version": "1.5.0",
          "model_name": "HBoxModel",
          "state": {
            "_dom_classes": [],
            "_model_module": "@jupyter-widgets/controls",
            "_model_module_version": "1.5.0",
            "_model_name": "HBoxModel",
            "_view_count": null,
            "_view_module": "@jupyter-widgets/controls",
            "_view_module_version": "1.5.0",
            "_view_name": "HBoxView",
            "box_style": "",
            "children": [
              "IPY_MODEL_5c27cbae7fab4c0087cfd0e1c058504a",
              "IPY_MODEL_266a296d688d4a8295a09de712c63754",
              "IPY_MODEL_2a1abc9c3bec456da0c1a79d305031d5"
            ],
            "layout": "IPY_MODEL_f5a05e74dde2458e86089e9c32888a59"
          }
        },
        "7332b7ecd96540ff893af722a7e2202d": {
          "model_module": "@jupyter-widgets/controls",
          "model_module_version": "1.5.0",
          "model_name": "HTMLModel",
          "state": {
            "_dom_classes": [],
            "_model_module": "@jupyter-widgets/controls",
            "_model_module_version": "1.5.0",
            "_model_name": "HTMLModel",
            "_view_count": null,
            "_view_module": "@jupyter-widgets/controls",
            "_view_module_version": "1.5.0",
            "_view_name": "HTMLView",
            "description": "",
            "description_tooltip": null,
            "layout": "IPY_MODEL_efee22dfe0424b348e912a9d455bd2e8",
            "placeholder": "​",
            "style": "IPY_MODEL_51ae3daa144c406ab8ef800a4b4f12cf",
            "value": "config.json: 100%"
          }
        },
        "73697a089f154ecebcd5cd50c119e7a2": {
          "model_module": "@jupyter-widgets/controls",
          "model_module_version": "1.5.0",
          "model_name": "ProgressStyleModel",
          "state": {
            "_model_module": "@jupyter-widgets/controls",
            "_model_module_version": "1.5.0",
            "_model_name": "ProgressStyleModel",
            "_view_count": null,
            "_view_module": "@jupyter-widgets/base",
            "_view_module_version": "1.2.0",
            "_view_name": "StyleView",
            "bar_color": null,
            "description_width": ""
          }
        },
        "739d56437cb248748fce79c3c37d61e6": {
          "model_module": "@jupyter-widgets/controls",
          "model_module_version": "1.5.0",
          "model_name": "HTMLModel",
          "state": {
            "_dom_classes": [],
            "_model_module": "@jupyter-widgets/controls",
            "_model_module_version": "1.5.0",
            "_model_name": "HTMLModel",
            "_view_count": null,
            "_view_module": "@jupyter-widgets/controls",
            "_view_module_version": "1.5.0",
            "_view_name": "HTMLView",
            "description": "",
            "description_tooltip": null,
            "layout": "IPY_MODEL_0dab7e75dc6d43ebb4eb9da6020c3a51",
            "placeholder": "​",
            "style": "IPY_MODEL_1c6bd2772ddb4c439f6aa951cf366f67",
            "value": "model.safetensors: 100%"
          }
        },
        "739eba13086343b7b88129c2c5374396": {
          "model_module": "@jupyter-widgets/controls",
          "model_module_version": "1.5.0",
          "model_name": "HTMLModel",
          "state": {
            "_dom_classes": [],
            "_model_module": "@jupyter-widgets/controls",
            "_model_module_version": "1.5.0",
            "_model_name": "HTMLModel",
            "_view_count": null,
            "_view_module": "@jupyter-widgets/controls",
            "_view_module_version": "1.5.0",
            "_view_name": "HTMLView",
            "description": "",
            "description_tooltip": null,
            "layout": "IPY_MODEL_a2bcbd5bf3314e4d98e6ca3ed629b625",
            "placeholder": "​",
            "style": "IPY_MODEL_87feedde48c0458794a7cd0b4b2eff8d",
            "value": " 466k/466k [00:00&lt;00:00, 2.11MB/s]"
          }
        },
        "73bf76314bce4f6d85c7657582c1aaa1": {
          "model_module": "@jupyter-widgets/controls",
          "model_module_version": "1.5.0",
          "model_name": "ProgressStyleModel",
          "state": {
            "_model_module": "@jupyter-widgets/controls",
            "_model_module_version": "1.5.0",
            "_model_name": "ProgressStyleModel",
            "_view_count": null,
            "_view_module": "@jupyter-widgets/base",
            "_view_module_version": "1.2.0",
            "_view_name": "StyleView",
            "bar_color": null,
            "description_width": ""
          }
        },
        "749c7115bbd3466480c5cd2864083dee": {
          "model_module": "@jupyter-widgets/controls",
          "model_module_version": "1.5.0",
          "model_name": "HTMLModel",
          "state": {
            "_dom_classes": [],
            "_model_module": "@jupyter-widgets/controls",
            "_model_module_version": "1.5.0",
            "_model_name": "HTMLModel",
            "_view_count": null,
            "_view_module": "@jupyter-widgets/controls",
            "_view_module_version": "1.5.0",
            "_view_name": "HTMLView",
            "description": "",
            "description_tooltip": null,
            "layout": "IPY_MODEL_04ad862832464dc2a96476355ebe5709",
            "placeholder": "​",
            "style": "IPY_MODEL_328566d4f717486c941d3c5d50d35bf0",
            "value": " 665/665 [00:00&lt;00:00, 36.6kB/s]"
          }
        },
        "74f37565b9554807a3c5863a0bb0278e": {
          "model_module": "@jupyter-widgets/controls",
          "model_module_version": "1.5.0",
          "model_name": "HTMLModel",
          "state": {
            "_dom_classes": [],
            "_model_module": "@jupyter-widgets/controls",
            "_model_module_version": "1.5.0",
            "_model_name": "HTMLModel",
            "_view_count": null,
            "_view_module": "@jupyter-widgets/controls",
            "_view_module_version": "1.5.0",
            "_view_name": "HTMLView",
            "description": "",
            "description_tooltip": null,
            "layout": "IPY_MODEL_f9eb49df1b5f4709ae8cc57abe6915d9",
            "placeholder": "​",
            "style": "IPY_MODEL_0f2a3f962fdb42e7b8bc701543a26f82",
            "value": "vocab.txt: 100%"
          }
        },
        "767d056b55064106aa8eaa5c924d47dc": {
          "model_module": "@jupyter-widgets/base",
          "model_module_version": "1.2.0",
          "model_name": "LayoutModel",
          "state": {
            "_model_module": "@jupyter-widgets/base",
            "_model_module_version": "1.2.0",
            "_model_name": "LayoutModel",
            "_view_count": null,
            "_view_module": "@jupyter-widgets/base",
            "_view_module_version": "1.2.0",
            "_view_name": "LayoutView",
            "align_content": null,
            "align_items": null,
            "align_self": null,
            "border": null,
            "bottom": null,
            "display": null,
            "flex": null,
            "flex_flow": null,
            "grid_area": null,
            "grid_auto_columns": null,
            "grid_auto_flow": null,
            "grid_auto_rows": null,
            "grid_column": null,
            "grid_gap": null,
            "grid_row": null,
            "grid_template_areas": null,
            "grid_template_columns": null,
            "grid_template_rows": null,
            "height": null,
            "justify_content": null,
            "justify_items": null,
            "left": null,
            "margin": null,
            "max_height": null,
            "max_width": null,
            "min_height": null,
            "min_width": null,
            "object_fit": null,
            "object_position": null,
            "order": null,
            "overflow": null,
            "overflow_x": null,
            "overflow_y": null,
            "padding": null,
            "right": null,
            "top": null,
            "visibility": null,
            "width": null
          }
        },
        "7919a9a6bf7940e0bf0977a13f653365": {
          "model_module": "@jupyter-widgets/base",
          "model_module_version": "1.2.0",
          "model_name": "LayoutModel",
          "state": {
            "_model_module": "@jupyter-widgets/base",
            "_model_module_version": "1.2.0",
            "_model_name": "LayoutModel",
            "_view_count": null,
            "_view_module": "@jupyter-widgets/base",
            "_view_module_version": "1.2.0",
            "_view_name": "LayoutView",
            "align_content": null,
            "align_items": null,
            "align_self": null,
            "border": null,
            "bottom": null,
            "display": null,
            "flex": null,
            "flex_flow": null,
            "grid_area": null,
            "grid_auto_columns": null,
            "grid_auto_flow": null,
            "grid_auto_rows": null,
            "grid_column": null,
            "grid_gap": null,
            "grid_row": null,
            "grid_template_areas": null,
            "grid_template_columns": null,
            "grid_template_rows": null,
            "height": null,
            "justify_content": null,
            "justify_items": null,
            "left": null,
            "margin": null,
            "max_height": null,
            "max_width": null,
            "min_height": null,
            "min_width": null,
            "object_fit": null,
            "object_position": null,
            "order": null,
            "overflow": null,
            "overflow_x": null,
            "overflow_y": null,
            "padding": null,
            "right": null,
            "top": null,
            "visibility": null,
            "width": null
          }
        },
        "7cfbf96d76324fbaa5feb958de25efbb": {
          "model_module": "@jupyter-widgets/base",
          "model_module_version": "1.2.0",
          "model_name": "LayoutModel",
          "state": {
            "_model_module": "@jupyter-widgets/base",
            "_model_module_version": "1.2.0",
            "_model_name": "LayoutModel",
            "_view_count": null,
            "_view_module": "@jupyter-widgets/base",
            "_view_module_version": "1.2.0",
            "_view_name": "LayoutView",
            "align_content": null,
            "align_items": null,
            "align_self": null,
            "border": null,
            "bottom": null,
            "display": null,
            "flex": null,
            "flex_flow": null,
            "grid_area": null,
            "grid_auto_columns": null,
            "grid_auto_flow": null,
            "grid_auto_rows": null,
            "grid_column": null,
            "grid_gap": null,
            "grid_row": null,
            "grid_template_areas": null,
            "grid_template_columns": null,
            "grid_template_rows": null,
            "height": null,
            "justify_content": null,
            "justify_items": null,
            "left": null,
            "margin": null,
            "max_height": null,
            "max_width": null,
            "min_height": null,
            "min_width": null,
            "object_fit": null,
            "object_position": null,
            "order": null,
            "overflow": null,
            "overflow_x": null,
            "overflow_y": null,
            "padding": null,
            "right": null,
            "top": null,
            "visibility": null,
            "width": null
          }
        },
        "7d2135c887774529a58d99938194f044": {
          "model_module": "@jupyter-widgets/controls",
          "model_module_version": "1.5.0",
          "model_name": "HTMLModel",
          "state": {
            "_dom_classes": [],
            "_model_module": "@jupyter-widgets/controls",
            "_model_module_version": "1.5.0",
            "_model_name": "HTMLModel",
            "_view_count": null,
            "_view_module": "@jupyter-widgets/controls",
            "_view_module_version": "1.5.0",
            "_view_name": "HTMLView",
            "description": "",
            "description_tooltip": null,
            "layout": "IPY_MODEL_02c4376d9483434c8f5ce01e0b84c53b",
            "placeholder": "​",
            "style": "IPY_MODEL_c70fd401105a411ca154230d3e167c72",
            "value": "special_tokens_map.json: 100%"
          }
        },
        "7eeb1644ae07468d8dce49e9277bc2fe": {
          "model_module": "@jupyter-widgets/base",
          "model_module_version": "1.2.0",
          "model_name": "LayoutModel",
          "state": {
            "_model_module": "@jupyter-widgets/base",
            "_model_module_version": "1.2.0",
            "_model_name": "LayoutModel",
            "_view_count": null,
            "_view_module": "@jupyter-widgets/base",
            "_view_module_version": "1.2.0",
            "_view_name": "LayoutView",
            "align_content": null,
            "align_items": null,
            "align_self": null,
            "border": null,
            "bottom": null,
            "display": null,
            "flex": null,
            "flex_flow": null,
            "grid_area": null,
            "grid_auto_columns": null,
            "grid_auto_flow": null,
            "grid_auto_rows": null,
            "grid_column": null,
            "grid_gap": null,
            "grid_row": null,
            "grid_template_areas": null,
            "grid_template_columns": null,
            "grid_template_rows": null,
            "height": null,
            "justify_content": null,
            "justify_items": null,
            "left": null,
            "margin": null,
            "max_height": null,
            "max_width": null,
            "min_height": null,
            "min_width": null,
            "object_fit": null,
            "object_position": null,
            "order": null,
            "overflow": null,
            "overflow_x": null,
            "overflow_y": null,
            "padding": null,
            "right": null,
            "top": null,
            "visibility": null,
            "width": null
          }
        },
        "7fbfe57c17ac42f09361afff134a83eb": {
          "model_module": "@jupyter-widgets/controls",
          "model_module_version": "1.5.0",
          "model_name": "HBoxModel",
          "state": {
            "_dom_classes": [],
            "_model_module": "@jupyter-widgets/controls",
            "_model_module_version": "1.5.0",
            "_model_name": "HBoxModel",
            "_view_count": null,
            "_view_module": "@jupyter-widgets/controls",
            "_view_module_version": "1.5.0",
            "_view_name": "HBoxView",
            "box_style": "",
            "children": [
              "IPY_MODEL_43ad697f641c4ef99b1b0c2748e32dfa",
              "IPY_MODEL_19f32835fc0b4461a9998aa960d9afb1",
              "IPY_MODEL_da224268b298478a8b8472553e8eabbf"
            ],
            "layout": "IPY_MODEL_f69da1faa7084c0c8e4f26dff3a450a7"
          }
        },
        "821ecf35d4114eb1a5a4cd757e9d83ef": {
          "model_module": "@jupyter-widgets/base",
          "model_module_version": "1.2.0",
          "model_name": "LayoutModel",
          "state": {
            "_model_module": "@jupyter-widgets/base",
            "_model_module_version": "1.2.0",
            "_model_name": "LayoutModel",
            "_view_count": null,
            "_view_module": "@jupyter-widgets/base",
            "_view_module_version": "1.2.0",
            "_view_name": "LayoutView",
            "align_content": null,
            "align_items": null,
            "align_self": null,
            "border": null,
            "bottom": null,
            "display": null,
            "flex": null,
            "flex_flow": null,
            "grid_area": null,
            "grid_auto_columns": null,
            "grid_auto_flow": null,
            "grid_auto_rows": null,
            "grid_column": null,
            "grid_gap": null,
            "grid_row": null,
            "grid_template_areas": null,
            "grid_template_columns": null,
            "grid_template_rows": null,
            "height": null,
            "justify_content": null,
            "justify_items": null,
            "left": null,
            "margin": null,
            "max_height": null,
            "max_width": null,
            "min_height": null,
            "min_width": null,
            "object_fit": null,
            "object_position": null,
            "order": null,
            "overflow": null,
            "overflow_x": null,
            "overflow_y": null,
            "padding": null,
            "right": null,
            "top": null,
            "visibility": null,
            "width": null
          }
        },
        "859458c50e824192872279b4028127bc": {
          "model_module": "@jupyter-widgets/base",
          "model_module_version": "1.2.0",
          "model_name": "LayoutModel",
          "state": {
            "_model_module": "@jupyter-widgets/base",
            "_model_module_version": "1.2.0",
            "_model_name": "LayoutModel",
            "_view_count": null,
            "_view_module": "@jupyter-widgets/base",
            "_view_module_version": "1.2.0",
            "_view_name": "LayoutView",
            "align_content": null,
            "align_items": null,
            "align_self": null,
            "border": null,
            "bottom": null,
            "display": null,
            "flex": null,
            "flex_flow": null,
            "grid_area": null,
            "grid_auto_columns": null,
            "grid_auto_flow": null,
            "grid_auto_rows": null,
            "grid_column": null,
            "grid_gap": null,
            "grid_row": null,
            "grid_template_areas": null,
            "grid_template_columns": null,
            "grid_template_rows": null,
            "height": null,
            "justify_content": null,
            "justify_items": null,
            "left": null,
            "margin": null,
            "max_height": null,
            "max_width": null,
            "min_height": null,
            "min_width": null,
            "object_fit": null,
            "object_position": null,
            "order": null,
            "overflow": null,
            "overflow_x": null,
            "overflow_y": null,
            "padding": null,
            "right": null,
            "top": null,
            "visibility": null,
            "width": null
          }
        },
        "87693c6884a141f595c60a04b99ba925": {
          "model_module": "@jupyter-widgets/controls",
          "model_module_version": "1.5.0",
          "model_name": "DescriptionStyleModel",
          "state": {
            "_model_module": "@jupyter-widgets/controls",
            "_model_module_version": "1.5.0",
            "_model_name": "DescriptionStyleModel",
            "_view_count": null,
            "_view_module": "@jupyter-widgets/base",
            "_view_module_version": "1.2.0",
            "_view_name": "StyleView",
            "description_width": ""
          }
        },
        "877226c58138460fb1dfb70890a2dbb3": {
          "model_module": "@jupyter-widgets/controls",
          "model_module_version": "1.5.0",
          "model_name": "HTMLModel",
          "state": {
            "_dom_classes": [],
            "_model_module": "@jupyter-widgets/controls",
            "_model_module_version": "1.5.0",
            "_model_name": "HTMLModel",
            "_view_count": null,
            "_view_module": "@jupyter-widgets/controls",
            "_view_module_version": "1.5.0",
            "_view_name": "HTMLView",
            "description": "",
            "description_tooltip": null,
            "layout": "IPY_MODEL_1e98023cebfc46ac8a47dcab342a4232",
            "placeholder": "​",
            "style": "IPY_MODEL_23df424680814290aee74630e3eaf22e",
            "value": "artifact.metadata: 100%"
          }
        },
        "87feedde48c0458794a7cd0b4b2eff8d": {
          "model_module": "@jupyter-widgets/controls",
          "model_module_version": "1.5.0",
          "model_name": "DescriptionStyleModel",
          "state": {
            "_model_module": "@jupyter-widgets/controls",
            "_model_module_version": "1.5.0",
            "_model_name": "DescriptionStyleModel",
            "_view_count": null,
            "_view_module": "@jupyter-widgets/base",
            "_view_module_version": "1.2.0",
            "_view_name": "StyleView",
            "description_width": ""
          }
        },
        "8e46fee5489541f0a14d96dd51aaf68b": {
          "model_module": "@jupyter-widgets/controls",
          "model_module_version": "1.5.0",
          "model_name": "FloatProgressModel",
          "state": {
            "_dom_classes": [],
            "_model_module": "@jupyter-widgets/controls",
            "_model_module_version": "1.5.0",
            "_model_name": "FloatProgressModel",
            "_view_count": null,
            "_view_module": "@jupyter-widgets/controls",
            "_view_module_version": "1.5.0",
            "_view_name": "ProgressView",
            "bar_style": "success",
            "description": "",
            "description_tooltip": null,
            "layout": "IPY_MODEL_935b9d27e76c4cd292664675a8b6e84f",
            "max": 456318,
            "min": 0,
            "orientation": "horizontal",
            "style": "IPY_MODEL_bd804da6bb444d338c101aea221798c6",
            "value": 456318
          }
        },
        "8ef05da1340c4ac19fb0333b1e30dd60": {
          "model_module": "@jupyter-widgets/base",
          "model_module_version": "1.2.0",
          "model_name": "LayoutModel",
          "state": {
            "_model_module": "@jupyter-widgets/base",
            "_model_module_version": "1.2.0",
            "_model_name": "LayoutModel",
            "_view_count": null,
            "_view_module": "@jupyter-widgets/base",
            "_view_module_version": "1.2.0",
            "_view_name": "LayoutView",
            "align_content": null,
            "align_items": null,
            "align_self": null,
            "border": null,
            "bottom": null,
            "display": null,
            "flex": null,
            "flex_flow": null,
            "grid_area": null,
            "grid_auto_columns": null,
            "grid_auto_flow": null,
            "grid_auto_rows": null,
            "grid_column": null,
            "grid_gap": null,
            "grid_row": null,
            "grid_template_areas": null,
            "grid_template_columns": null,
            "grid_template_rows": null,
            "height": null,
            "justify_content": null,
            "justify_items": null,
            "left": null,
            "margin": null,
            "max_height": null,
            "max_width": null,
            "min_height": null,
            "min_width": null,
            "object_fit": null,
            "object_position": null,
            "order": null,
            "overflow": null,
            "overflow_x": null,
            "overflow_y": null,
            "padding": null,
            "right": null,
            "top": null,
            "visibility": null,
            "width": null
          }
        },
        "8f7778cdb3e3472c896111ab6ada0a01": {
          "model_module": "@jupyter-widgets/controls",
          "model_module_version": "1.5.0",
          "model_name": "HTMLModel",
          "state": {
            "_dom_classes": [],
            "_model_module": "@jupyter-widgets/controls",
            "_model_module_version": "1.5.0",
            "_model_name": "HTMLModel",
            "_view_count": null,
            "_view_module": "@jupyter-widgets/controls",
            "_view_module_version": "1.5.0",
            "_view_name": "HTMLView",
            "description": "",
            "description_tooltip": null,
            "layout": "IPY_MODEL_c71bed7648524d68a4e902a96c27b40a",
            "placeholder": "​",
            "style": "IPY_MODEL_eb1060f47ebd487996e8b55c04c121fe",
            "value": "merges.txt: 100%"
          }
        },
        "91665ed2786547d8899596b24f0aee2f": {
          "model_module": "@jupyter-widgets/base",
          "model_module_version": "1.2.0",
          "model_name": "LayoutModel",
          "state": {
            "_model_module": "@jupyter-widgets/base",
            "_model_module_version": "1.2.0",
            "_model_name": "LayoutModel",
            "_view_count": null,
            "_view_module": "@jupyter-widgets/base",
            "_view_module_version": "1.2.0",
            "_view_name": "LayoutView",
            "align_content": null,
            "align_items": null,
            "align_self": null,
            "border": null,
            "bottom": null,
            "display": null,
            "flex": null,
            "flex_flow": null,
            "grid_area": null,
            "grid_auto_columns": null,
            "grid_auto_flow": null,
            "grid_auto_rows": null,
            "grid_column": null,
            "grid_gap": null,
            "grid_row": null,
            "grid_template_areas": null,
            "grid_template_columns": null,
            "grid_template_rows": null,
            "height": null,
            "justify_content": null,
            "justify_items": null,
            "left": null,
            "margin": null,
            "max_height": null,
            "max_width": null,
            "min_height": null,
            "min_width": null,
            "object_fit": null,
            "object_position": null,
            "order": null,
            "overflow": null,
            "overflow_x": null,
            "overflow_y": null,
            "padding": null,
            "right": null,
            "top": null,
            "visibility": null,
            "width": null
          }
        },
        "93249614f84c42c899691f0f42d9e3e7": {
          "model_module": "@jupyter-widgets/base",
          "model_module_version": "1.2.0",
          "model_name": "LayoutModel",
          "state": {
            "_model_module": "@jupyter-widgets/base",
            "_model_module_version": "1.2.0",
            "_model_name": "LayoutModel",
            "_view_count": null,
            "_view_module": "@jupyter-widgets/base",
            "_view_module_version": "1.2.0",
            "_view_name": "LayoutView",
            "align_content": null,
            "align_items": null,
            "align_self": null,
            "border": null,
            "bottom": null,
            "display": null,
            "flex": null,
            "flex_flow": null,
            "grid_area": null,
            "grid_auto_columns": null,
            "grid_auto_flow": null,
            "grid_auto_rows": null,
            "grid_column": null,
            "grid_gap": null,
            "grid_row": null,
            "grid_template_areas": null,
            "grid_template_columns": null,
            "grid_template_rows": null,
            "height": null,
            "justify_content": null,
            "justify_items": null,
            "left": null,
            "margin": null,
            "max_height": null,
            "max_width": null,
            "min_height": null,
            "min_width": null,
            "object_fit": null,
            "object_position": null,
            "order": null,
            "overflow": null,
            "overflow_x": null,
            "overflow_y": null,
            "padding": null,
            "right": null,
            "top": null,
            "visibility": null,
            "width": null
          }
        },
        "935b9d27e76c4cd292664675a8b6e84f": {
          "model_module": "@jupyter-widgets/base",
          "model_module_version": "1.2.0",
          "model_name": "LayoutModel",
          "state": {
            "_model_module": "@jupyter-widgets/base",
            "_model_module_version": "1.2.0",
            "_model_name": "LayoutModel",
            "_view_count": null,
            "_view_module": "@jupyter-widgets/base",
            "_view_module_version": "1.2.0",
            "_view_name": "LayoutView",
            "align_content": null,
            "align_items": null,
            "align_self": null,
            "border": null,
            "bottom": null,
            "display": null,
            "flex": null,
            "flex_flow": null,
            "grid_area": null,
            "grid_auto_columns": null,
            "grid_auto_flow": null,
            "grid_auto_rows": null,
            "grid_column": null,
            "grid_gap": null,
            "grid_row": null,
            "grid_template_areas": null,
            "grid_template_columns": null,
            "grid_template_rows": null,
            "height": null,
            "justify_content": null,
            "justify_items": null,
            "left": null,
            "margin": null,
            "max_height": null,
            "max_width": null,
            "min_height": null,
            "min_width": null,
            "object_fit": null,
            "object_position": null,
            "order": null,
            "overflow": null,
            "overflow_x": null,
            "overflow_y": null,
            "padding": null,
            "right": null,
            "top": null,
            "visibility": null,
            "width": null
          }
        },
        "944c7fc38d674f06807aa61edd3a6770": {
          "model_module": "@jupyter-widgets/base",
          "model_module_version": "1.2.0",
          "model_name": "LayoutModel",
          "state": {
            "_model_module": "@jupyter-widgets/base",
            "_model_module_version": "1.2.0",
            "_model_name": "LayoutModel",
            "_view_count": null,
            "_view_module": "@jupyter-widgets/base",
            "_view_module_version": "1.2.0",
            "_view_name": "LayoutView",
            "align_content": null,
            "align_items": null,
            "align_self": null,
            "border": null,
            "bottom": null,
            "display": null,
            "flex": null,
            "flex_flow": null,
            "grid_area": null,
            "grid_auto_columns": null,
            "grid_auto_flow": null,
            "grid_auto_rows": null,
            "grid_column": null,
            "grid_gap": null,
            "grid_row": null,
            "grid_template_areas": null,
            "grid_template_columns": null,
            "grid_template_rows": null,
            "height": null,
            "justify_content": null,
            "justify_items": null,
            "left": null,
            "margin": null,
            "max_height": null,
            "max_width": null,
            "min_height": null,
            "min_width": null,
            "object_fit": null,
            "object_position": null,
            "order": null,
            "overflow": null,
            "overflow_x": null,
            "overflow_y": null,
            "padding": null,
            "right": null,
            "top": null,
            "visibility": null,
            "width": null
          }
        },
        "962de82e79cc4d0fbfbcc92e9329c2f9": {
          "model_module": "@jupyter-widgets/controls",
          "model_module_version": "1.5.0",
          "model_name": "DescriptionStyleModel",
          "state": {
            "_model_module": "@jupyter-widgets/controls",
            "_model_module_version": "1.5.0",
            "_model_name": "DescriptionStyleModel",
            "_view_count": null,
            "_view_module": "@jupyter-widgets/base",
            "_view_module_version": "1.2.0",
            "_view_name": "StyleView",
            "description_width": ""
          }
        },
        "98119d13b24b41c79b9fcb70ed3d4f22": {
          "model_module": "@jupyter-widgets/base",
          "model_module_version": "1.2.0",
          "model_name": "LayoutModel",
          "state": {
            "_model_module": "@jupyter-widgets/base",
            "_model_module_version": "1.2.0",
            "_model_name": "LayoutModel",
            "_view_count": null,
            "_view_module": "@jupyter-widgets/base",
            "_view_module_version": "1.2.0",
            "_view_name": "LayoutView",
            "align_content": null,
            "align_items": null,
            "align_self": null,
            "border": null,
            "bottom": null,
            "display": null,
            "flex": null,
            "flex_flow": null,
            "grid_area": null,
            "grid_auto_columns": null,
            "grid_auto_flow": null,
            "grid_auto_rows": null,
            "grid_column": null,
            "grid_gap": null,
            "grid_row": null,
            "grid_template_areas": null,
            "grid_template_columns": null,
            "grid_template_rows": null,
            "height": null,
            "justify_content": null,
            "justify_items": null,
            "left": null,
            "margin": null,
            "max_height": null,
            "max_width": null,
            "min_height": null,
            "min_width": null,
            "object_fit": null,
            "object_position": null,
            "order": null,
            "overflow": null,
            "overflow_x": null,
            "overflow_y": null,
            "padding": null,
            "right": null,
            "top": null,
            "visibility": null,
            "width": null
          }
        },
        "9946b27da51043e28ebf22234f2e0345": {
          "model_module": "@jupyter-widgets/controls",
          "model_module_version": "1.5.0",
          "model_name": "HBoxModel",
          "state": {
            "_dom_classes": [],
            "_model_module": "@jupyter-widgets/controls",
            "_model_module_version": "1.5.0",
            "_model_name": "HBoxModel",
            "_view_count": null,
            "_view_module": "@jupyter-widgets/controls",
            "_view_module_version": "1.5.0",
            "_view_name": "HBoxView",
            "box_style": "",
            "children": [
              "IPY_MODEL_39c91e43d4d545058027b3f093a3c925",
              "IPY_MODEL_fcfec64c370240b1a11dd9a1060bb11f",
              "IPY_MODEL_739eba13086343b7b88129c2c5374396"
            ],
            "layout": "IPY_MODEL_9d6e0575b95746999af14c367b7860e9"
          }
        },
        "9a75846a87e14a1f9efebff078fa7dc7": {
          "model_module": "@jupyter-widgets/controls",
          "model_module_version": "1.5.0",
          "model_name": "HBoxModel",
          "state": {
            "_dom_classes": [],
            "_model_module": "@jupyter-widgets/controls",
            "_model_module_version": "1.5.0",
            "_model_name": "HBoxModel",
            "_view_count": null,
            "_view_module": "@jupyter-widgets/controls",
            "_view_module_version": "1.5.0",
            "_view_name": "HBoxView",
            "box_style": "",
            "children": [
              "IPY_MODEL_1c9a493d7b3c473f89c71ebc1da5f0f1",
              "IPY_MODEL_a52df7db93f8427c94a43c197c565e75",
              "IPY_MODEL_cf51751f6b7743ac97ad4853e0e42bcc"
            ],
            "layout": "IPY_MODEL_9ae00c443e084e148fe25ad48e441b40"
          }
        },
        "9a842df2b24f4193b5de7d6f44c79c89": {
          "model_module": "@jupyter-widgets/controls",
          "model_module_version": "1.5.0",
          "model_name": "ProgressStyleModel",
          "state": {
            "_model_module": "@jupyter-widgets/controls",
            "_model_module_version": "1.5.0",
            "_model_name": "ProgressStyleModel",
            "_view_count": null,
            "_view_module": "@jupyter-widgets/base",
            "_view_module_version": "1.2.0",
            "_view_name": "StyleView",
            "bar_color": null,
            "description_width": ""
          }
        },
        "9ab89608452342b4a7c67d9a37e3b178": {
          "model_module": "@jupyter-widgets/base",
          "model_module_version": "1.2.0",
          "model_name": "LayoutModel",
          "state": {
            "_model_module": "@jupyter-widgets/base",
            "_model_module_version": "1.2.0",
            "_model_name": "LayoutModel",
            "_view_count": null,
            "_view_module": "@jupyter-widgets/base",
            "_view_module_version": "1.2.0",
            "_view_name": "LayoutView",
            "align_content": null,
            "align_items": null,
            "align_self": null,
            "border": null,
            "bottom": null,
            "display": null,
            "flex": null,
            "flex_flow": null,
            "grid_area": null,
            "grid_auto_columns": null,
            "grid_auto_flow": null,
            "grid_auto_rows": null,
            "grid_column": null,
            "grid_gap": null,
            "grid_row": null,
            "grid_template_areas": null,
            "grid_template_columns": null,
            "grid_template_rows": null,
            "height": null,
            "justify_content": null,
            "justify_items": null,
            "left": null,
            "margin": null,
            "max_height": null,
            "max_width": null,
            "min_height": null,
            "min_width": null,
            "object_fit": null,
            "object_position": null,
            "order": null,
            "overflow": null,
            "overflow_x": null,
            "overflow_y": null,
            "padding": null,
            "right": null,
            "top": null,
            "visibility": null,
            "width": null
          }
        },
        "9ae00c443e084e148fe25ad48e441b40": {
          "model_module": "@jupyter-widgets/base",
          "model_module_version": "1.2.0",
          "model_name": "LayoutModel",
          "state": {
            "_model_module": "@jupyter-widgets/base",
            "_model_module_version": "1.2.0",
            "_model_name": "LayoutModel",
            "_view_count": null,
            "_view_module": "@jupyter-widgets/base",
            "_view_module_version": "1.2.0",
            "_view_name": "LayoutView",
            "align_content": null,
            "align_items": null,
            "align_self": null,
            "border": null,
            "bottom": null,
            "display": null,
            "flex": null,
            "flex_flow": null,
            "grid_area": null,
            "grid_auto_columns": null,
            "grid_auto_flow": null,
            "grid_auto_rows": null,
            "grid_column": null,
            "grid_gap": null,
            "grid_row": null,
            "grid_template_areas": null,
            "grid_template_columns": null,
            "grid_template_rows": null,
            "height": null,
            "justify_content": null,
            "justify_items": null,
            "left": null,
            "margin": null,
            "max_height": null,
            "max_width": null,
            "min_height": null,
            "min_width": null,
            "object_fit": null,
            "object_position": null,
            "order": null,
            "overflow": null,
            "overflow_x": null,
            "overflow_y": null,
            "padding": null,
            "right": null,
            "top": null,
            "visibility": null,
            "width": null
          }
        },
        "9cf620f10c9f4290810ca2932a6959ec": {
          "model_module": "@jupyter-widgets/controls",
          "model_module_version": "1.5.0",
          "model_name": "HTMLModel",
          "state": {
            "_dom_classes": [],
            "_model_module": "@jupyter-widgets/controls",
            "_model_module_version": "1.5.0",
            "_model_name": "HTMLModel",
            "_view_count": null,
            "_view_module": "@jupyter-widgets/controls",
            "_view_module_version": "1.5.0",
            "_view_name": "HTMLView",
            "description": "",
            "description_tooltip": null,
            "layout": "IPY_MODEL_064fbe4224fc4e25a6b2b4ac708b4178",
            "placeholder": "​",
            "style": "IPY_MODEL_f2fa0f70f407463aa23e208e5fdeb716",
            "value": "special_tokens_map.json: 100%"
          }
        },
        "9d6e0575b95746999af14c367b7860e9": {
          "model_module": "@jupyter-widgets/base",
          "model_module_version": "1.2.0",
          "model_name": "LayoutModel",
          "state": {
            "_model_module": "@jupyter-widgets/base",
            "_model_module_version": "1.2.0",
            "_model_name": "LayoutModel",
            "_view_count": null,
            "_view_module": "@jupyter-widgets/base",
            "_view_module_version": "1.2.0",
            "_view_name": "LayoutView",
            "align_content": null,
            "align_items": null,
            "align_self": null,
            "border": null,
            "bottom": null,
            "display": null,
            "flex": null,
            "flex_flow": null,
            "grid_area": null,
            "grid_auto_columns": null,
            "grid_auto_flow": null,
            "grid_auto_rows": null,
            "grid_column": null,
            "grid_gap": null,
            "grid_row": null,
            "grid_template_areas": null,
            "grid_template_columns": null,
            "grid_template_rows": null,
            "height": null,
            "justify_content": null,
            "justify_items": null,
            "left": null,
            "margin": null,
            "max_height": null,
            "max_width": null,
            "min_height": null,
            "min_width": null,
            "object_fit": null,
            "object_position": null,
            "order": null,
            "overflow": null,
            "overflow_x": null,
            "overflow_y": null,
            "padding": null,
            "right": null,
            "top": null,
            "visibility": null,
            "width": null
          }
        },
        "9eaf2be11aba4f5bb6cacfff509d08e6": {
          "model_module": "@jupyter-widgets/controls",
          "model_module_version": "1.5.0",
          "model_name": "HTMLModel",
          "state": {
            "_dom_classes": [],
            "_model_module": "@jupyter-widgets/controls",
            "_model_module_version": "1.5.0",
            "_model_name": "HTMLModel",
            "_view_count": null,
            "_view_module": "@jupyter-widgets/controls",
            "_view_module_version": "1.5.0",
            "_view_name": "HTMLView",
            "description": "",
            "description_tooltip": null,
            "layout": "IPY_MODEL_23a72f139fd24db79f80d0cbcaf2ac33",
            "placeholder": "​",
            "style": "IPY_MODEL_450682b073de4e83b62c4c7043ee2d41",
            "value": " 112/112 [00:00&lt;00:00, 7.58kB/s]"
          }
        },
        "a00855f2258e493ca81b3ac9722b4fdf": {
          "model_module": "@jupyter-widgets/controls",
          "model_module_version": "1.5.0",
          "model_name": "HBoxModel",
          "state": {
            "_dom_classes": [],
            "_model_module": "@jupyter-widgets/controls",
            "_model_module_version": "1.5.0",
            "_model_name": "HBoxModel",
            "_view_count": null,
            "_view_module": "@jupyter-widgets/controls",
            "_view_module_version": "1.5.0",
            "_view_name": "HBoxView",
            "box_style": "",
            "children": [
              "IPY_MODEL_877226c58138460fb1dfb70890a2dbb3",
              "IPY_MODEL_c49f645cb9134415bde98288fe69708d",
              "IPY_MODEL_d3d4fb3fc1d0446b9e7e98ce22e98f3c"
            ],
            "layout": "IPY_MODEL_0a108658da8948e78016542638207a17"
          }
        },
        "a03252e3daa148099fd347683d248ac0": {
          "model_module": "@jupyter-widgets/base",
          "model_module_version": "1.2.0",
          "model_name": "LayoutModel",
          "state": {
            "_model_module": "@jupyter-widgets/base",
            "_model_module_version": "1.2.0",
            "_model_name": "LayoutModel",
            "_view_count": null,
            "_view_module": "@jupyter-widgets/base",
            "_view_module_version": "1.2.0",
            "_view_name": "LayoutView",
            "align_content": null,
            "align_items": null,
            "align_self": null,
            "border": null,
            "bottom": null,
            "display": null,
            "flex": null,
            "flex_flow": null,
            "grid_area": null,
            "grid_auto_columns": null,
            "grid_auto_flow": null,
            "grid_auto_rows": null,
            "grid_column": null,
            "grid_gap": null,
            "grid_row": null,
            "grid_template_areas": null,
            "grid_template_columns": null,
            "grid_template_rows": null,
            "height": null,
            "justify_content": null,
            "justify_items": null,
            "left": null,
            "margin": null,
            "max_height": null,
            "max_width": null,
            "min_height": null,
            "min_width": null,
            "object_fit": null,
            "object_position": null,
            "order": null,
            "overflow": null,
            "overflow_x": null,
            "overflow_y": null,
            "padding": null,
            "right": null,
            "top": null,
            "visibility": null,
            "width": null
          }
        },
        "a0d63499791a4d3bb1be9a18d5384ad9": {
          "model_module": "@jupyter-widgets/base",
          "model_module_version": "1.2.0",
          "model_name": "LayoutModel",
          "state": {
            "_model_module": "@jupyter-widgets/base",
            "_model_module_version": "1.2.0",
            "_model_name": "LayoutModel",
            "_view_count": null,
            "_view_module": "@jupyter-widgets/base",
            "_view_module_version": "1.2.0",
            "_view_name": "LayoutView",
            "align_content": null,
            "align_items": null,
            "align_self": null,
            "border": null,
            "bottom": null,
            "display": null,
            "flex": null,
            "flex_flow": null,
            "grid_area": null,
            "grid_auto_columns": null,
            "grid_auto_flow": null,
            "grid_auto_rows": null,
            "grid_column": null,
            "grid_gap": null,
            "grid_row": null,
            "grid_template_areas": null,
            "grid_template_columns": null,
            "grid_template_rows": null,
            "height": null,
            "justify_content": null,
            "justify_items": null,
            "left": null,
            "margin": null,
            "max_height": null,
            "max_width": null,
            "min_height": null,
            "min_width": null,
            "object_fit": null,
            "object_position": null,
            "order": null,
            "overflow": null,
            "overflow_x": null,
            "overflow_y": null,
            "padding": null,
            "right": null,
            "top": null,
            "visibility": null,
            "width": null
          }
        },
        "a2bcbd5bf3314e4d98e6ca3ed629b625": {
          "model_module": "@jupyter-widgets/base",
          "model_module_version": "1.2.0",
          "model_name": "LayoutModel",
          "state": {
            "_model_module": "@jupyter-widgets/base",
            "_model_module_version": "1.2.0",
            "_model_name": "LayoutModel",
            "_view_count": null,
            "_view_module": "@jupyter-widgets/base",
            "_view_module_version": "1.2.0",
            "_view_name": "LayoutView",
            "align_content": null,
            "align_items": null,
            "align_self": null,
            "border": null,
            "bottom": null,
            "display": null,
            "flex": null,
            "flex_flow": null,
            "grid_area": null,
            "grid_auto_columns": null,
            "grid_auto_flow": null,
            "grid_auto_rows": null,
            "grid_column": null,
            "grid_gap": null,
            "grid_row": null,
            "grid_template_areas": null,
            "grid_template_columns": null,
            "grid_template_rows": null,
            "height": null,
            "justify_content": null,
            "justify_items": null,
            "left": null,
            "margin": null,
            "max_height": null,
            "max_width": null,
            "min_height": null,
            "min_width": null,
            "object_fit": null,
            "object_position": null,
            "order": null,
            "overflow": null,
            "overflow_x": null,
            "overflow_y": null,
            "padding": null,
            "right": null,
            "top": null,
            "visibility": null,
            "width": null
          }
        },
        "a3a6d41d034a4474b49cdf7a23fc979f": {
          "model_module": "@jupyter-widgets/controls",
          "model_module_version": "1.5.0",
          "model_name": "HBoxModel",
          "state": {
            "_dom_classes": [],
            "_model_module": "@jupyter-widgets/controls",
            "_model_module_version": "1.5.0",
            "_model_name": "HBoxModel",
            "_view_count": null,
            "_view_module": "@jupyter-widgets/controls",
            "_view_module_version": "1.5.0",
            "_view_name": "HBoxView",
            "box_style": "",
            "children": [
              "IPY_MODEL_d53704fa230d43938fc40aa30e04ee11",
              "IPY_MODEL_0d0477a19ace4c7aa9a9695f32432ff4",
              "IPY_MODEL_20b16b70c47544e598430e136416f13f"
            ],
            "layout": "IPY_MODEL_24c19fb13c764f3cbf5a501f831eee27"
          }
        },
        "a52df7db93f8427c94a43c197c565e75": {
          "model_module": "@jupyter-widgets/controls",
          "model_module_version": "1.5.0",
          "model_name": "FloatProgressModel",
          "state": {
            "_dom_classes": [],
            "_model_module": "@jupyter-widgets/controls",
            "_model_module_version": "1.5.0",
            "_model_name": "FloatProgressModel",
            "_view_count": null,
            "_view_module": "@jupyter-widgets/controls",
            "_view_module_version": "1.5.0",
            "_view_name": "ProgressView",
            "bar_style": "success",
            "description": "",
            "description_tooltip": null,
            "layout": "IPY_MODEL_48653149433243ceae7bdb329fb94c85",
            "max": 1355256,
            "min": 0,
            "orientation": "horizontal",
            "style": "IPY_MODEL_f8953c7736cf473d8ab53b1f6f28349b",
            "value": 1355256
          }
        },
        "a89185e16597464f99f1fdb246c151b8": {
          "model_module": "@jupyter-widgets/base",
          "model_module_version": "1.2.0",
          "model_name": "LayoutModel",
          "state": {
            "_model_module": "@jupyter-widgets/base",
            "_model_module_version": "1.2.0",
            "_model_name": "LayoutModel",
            "_view_count": null,
            "_view_module": "@jupyter-widgets/base",
            "_view_module_version": "1.2.0",
            "_view_name": "LayoutView",
            "align_content": null,
            "align_items": null,
            "align_self": null,
            "border": null,
            "bottom": null,
            "display": null,
            "flex": null,
            "flex_flow": null,
            "grid_area": null,
            "grid_auto_columns": null,
            "grid_auto_flow": null,
            "grid_auto_rows": null,
            "grid_column": null,
            "grid_gap": null,
            "grid_row": null,
            "grid_template_areas": null,
            "grid_template_columns": null,
            "grid_template_rows": null,
            "height": null,
            "justify_content": null,
            "justify_items": null,
            "left": null,
            "margin": null,
            "max_height": null,
            "max_width": null,
            "min_height": null,
            "min_width": null,
            "object_fit": null,
            "object_position": null,
            "order": null,
            "overflow": null,
            "overflow_x": null,
            "overflow_y": null,
            "padding": null,
            "right": null,
            "top": null,
            "visibility": null,
            "width": null
          }
        },
        "a89a8f91aa72435c8ca26d7d15a444ce": {
          "model_module": "@jupyter-widgets/controls",
          "model_module_version": "1.5.0",
          "model_name": "DescriptionStyleModel",
          "state": {
            "_model_module": "@jupyter-widgets/controls",
            "_model_module_version": "1.5.0",
            "_model_name": "DescriptionStyleModel",
            "_view_count": null,
            "_view_module": "@jupyter-widgets/base",
            "_view_module_version": "1.2.0",
            "_view_name": "StyleView",
            "description_width": ""
          }
        },
        "a982d2300cc946b2806fdd27ce583be9": {
          "model_module": "@jupyter-widgets/controls",
          "model_module_version": "1.5.0",
          "model_name": "DescriptionStyleModel",
          "state": {
            "_model_module": "@jupyter-widgets/controls",
            "_model_module_version": "1.5.0",
            "_model_name": "DescriptionStyleModel",
            "_view_count": null,
            "_view_module": "@jupyter-widgets/base",
            "_view_module_version": "1.2.0",
            "_view_name": "StyleView",
            "description_width": ""
          }
        },
        "a992709a5c204ab39063186434c1f6d1": {
          "model_module": "@jupyter-widgets/base",
          "model_module_version": "1.2.0",
          "model_name": "LayoutModel",
          "state": {
            "_model_module": "@jupyter-widgets/base",
            "_model_module_version": "1.2.0",
            "_model_name": "LayoutModel",
            "_view_count": null,
            "_view_module": "@jupyter-widgets/base",
            "_view_module_version": "1.2.0",
            "_view_name": "LayoutView",
            "align_content": null,
            "align_items": null,
            "align_self": null,
            "border": null,
            "bottom": null,
            "display": null,
            "flex": null,
            "flex_flow": null,
            "grid_area": null,
            "grid_auto_columns": null,
            "grid_auto_flow": null,
            "grid_auto_rows": null,
            "grid_column": null,
            "grid_gap": null,
            "grid_row": null,
            "grid_template_areas": null,
            "grid_template_columns": null,
            "grid_template_rows": null,
            "height": null,
            "justify_content": null,
            "justify_items": null,
            "left": null,
            "margin": null,
            "max_height": null,
            "max_width": null,
            "min_height": null,
            "min_width": null,
            "object_fit": null,
            "object_position": null,
            "order": null,
            "overflow": null,
            "overflow_x": null,
            "overflow_y": null,
            "padding": null,
            "right": null,
            "top": null,
            "visibility": null,
            "width": null
          }
        },
        "aadd0f0d4254465491a29915c2027f7e": {
          "model_module": "@jupyter-widgets/controls",
          "model_module_version": "1.5.0",
          "model_name": "HBoxModel",
          "state": {
            "_dom_classes": [],
            "_model_module": "@jupyter-widgets/controls",
            "_model_module_version": "1.5.0",
            "_model_name": "HBoxModel",
            "_view_count": null,
            "_view_module": "@jupyter-widgets/controls",
            "_view_module_version": "1.5.0",
            "_view_name": "HBoxView",
            "box_style": "",
            "children": [
              "IPY_MODEL_7d2135c887774529a58d99938194f044",
              "IPY_MODEL_0ae820c4f6524006b4b6de0e61f28fd2",
              "IPY_MODEL_9eaf2be11aba4f5bb6cacfff509d08e6"
            ],
            "layout": "IPY_MODEL_a89185e16597464f99f1fdb246c151b8"
          }
        },
        "af98005a02c1408aaeb2c5c2df7ca79c": {
          "model_module": "@jupyter-widgets/base",
          "model_module_version": "1.2.0",
          "model_name": "LayoutModel",
          "state": {
            "_model_module": "@jupyter-widgets/base",
            "_model_module_version": "1.2.0",
            "_model_name": "LayoutModel",
            "_view_count": null,
            "_view_module": "@jupyter-widgets/base",
            "_view_module_version": "1.2.0",
            "_view_name": "LayoutView",
            "align_content": null,
            "align_items": null,
            "align_self": null,
            "border": null,
            "bottom": null,
            "display": null,
            "flex": null,
            "flex_flow": null,
            "grid_area": null,
            "grid_auto_columns": null,
            "grid_auto_flow": null,
            "grid_auto_rows": null,
            "grid_column": null,
            "grid_gap": null,
            "grid_row": null,
            "grid_template_areas": null,
            "grid_template_columns": null,
            "grid_template_rows": null,
            "height": null,
            "justify_content": null,
            "justify_items": null,
            "left": null,
            "margin": null,
            "max_height": null,
            "max_width": null,
            "min_height": null,
            "min_width": null,
            "object_fit": null,
            "object_position": null,
            "order": null,
            "overflow": null,
            "overflow_x": null,
            "overflow_y": null,
            "padding": null,
            "right": null,
            "top": null,
            "visibility": null,
            "width": null
          }
        },
        "b3877e84bfb04f33984fa96770092416": {
          "model_module": "@jupyter-widgets/controls",
          "model_module_version": "1.5.0",
          "model_name": "FloatProgressModel",
          "state": {
            "_dom_classes": [],
            "_model_module": "@jupyter-widgets/controls",
            "_model_module_version": "1.5.0",
            "_model_name": "FloatProgressModel",
            "_view_count": null,
            "_view_module": "@jupyter-widgets/controls",
            "_view_module_version": "1.5.0",
            "_view_name": "ProgressView",
            "bar_style": "success",
            "description": "",
            "description_tooltip": null,
            "layout": "IPY_MODEL_9ab89608452342b4a7c67d9a37e3b178",
            "max": 438349816,
            "min": 0,
            "orientation": "horizontal",
            "style": "IPY_MODEL_34175f7a64054fd2bd068ec05620d156",
            "value": 438349816
          }
        },
        "b95cd3c98aca47a6977d341fe4c415a2": {
          "model_module": "@jupyter-widgets/controls",
          "model_module_version": "1.5.0",
          "model_name": "HTMLModel",
          "state": {
            "_dom_classes": [],
            "_model_module": "@jupyter-widgets/controls",
            "_model_module_version": "1.5.0",
            "_model_name": "HTMLModel",
            "_view_count": null,
            "_view_module": "@jupyter-widgets/controls",
            "_view_module_version": "1.5.0",
            "_view_name": "HTMLView",
            "description": "",
            "description_tooltip": null,
            "layout": "IPY_MODEL_0dfce2ace3a446e095e0866491a7f502",
            "placeholder": "​",
            "style": "IPY_MODEL_2bb6d9dd5c3f4c5eb73f48f45e10cf12",
            "value": "vocab.txt: 100%"
          }
        },
        "ba1bdaaaff09463d8369e4186b2bed9d": {
          "model_module": "@jupyter-widgets/controls",
          "model_module_version": "1.5.0",
          "model_name": "DescriptionStyleModel",
          "state": {
            "_model_module": "@jupyter-widgets/controls",
            "_model_module_version": "1.5.0",
            "_model_name": "DescriptionStyleModel",
            "_view_count": null,
            "_view_module": "@jupyter-widgets/base",
            "_view_module_version": "1.2.0",
            "_view_name": "StyleView",
            "description_width": ""
          }
        },
        "bd804da6bb444d338c101aea221798c6": {
          "model_module": "@jupyter-widgets/controls",
          "model_module_version": "1.5.0",
          "model_name": "ProgressStyleModel",
          "state": {
            "_model_module": "@jupyter-widgets/controls",
            "_model_module_version": "1.5.0",
            "_model_name": "ProgressStyleModel",
            "_view_count": null,
            "_view_module": "@jupyter-widgets/base",
            "_view_module_version": "1.2.0",
            "_view_name": "StyleView",
            "bar_color": null,
            "description_width": ""
          }
        },
        "becccc3ce63b42a397b39f422087329d": {
          "model_module": "@jupyter-widgets/controls",
          "model_module_version": "1.5.0",
          "model_name": "DescriptionStyleModel",
          "state": {
            "_model_module": "@jupyter-widgets/controls",
            "_model_module_version": "1.5.0",
            "_model_name": "DescriptionStyleModel",
            "_view_count": null,
            "_view_module": "@jupyter-widgets/base",
            "_view_module_version": "1.2.0",
            "_view_name": "StyleView",
            "description_width": ""
          }
        },
        "bfb8028f02aa4549826bf9d07f046b7b": {
          "model_module": "@jupyter-widgets/controls",
          "model_module_version": "1.5.0",
          "model_name": "DescriptionStyleModel",
          "state": {
            "_model_module": "@jupyter-widgets/controls",
            "_model_module_version": "1.5.0",
            "_model_name": "DescriptionStyleModel",
            "_view_count": null,
            "_view_module": "@jupyter-widgets/base",
            "_view_module_version": "1.2.0",
            "_view_name": "StyleView",
            "description_width": ""
          }
        },
        "bff17c6fd7864472825a7bc8db2c92c6": {
          "model_module": "@jupyter-widgets/controls",
          "model_module_version": "1.5.0",
          "model_name": "ProgressStyleModel",
          "state": {
            "_model_module": "@jupyter-widgets/controls",
            "_model_module_version": "1.5.0",
            "_model_name": "ProgressStyleModel",
            "_view_count": null,
            "_view_module": "@jupyter-widgets/base",
            "_view_module_version": "1.2.0",
            "_view_name": "StyleView",
            "bar_color": null,
            "description_width": ""
          }
        },
        "c0c5d108a0134b24a0951fd3f85608b7": {
          "model_module": "@jupyter-widgets/base",
          "model_module_version": "1.2.0",
          "model_name": "LayoutModel",
          "state": {
            "_model_module": "@jupyter-widgets/base",
            "_model_module_version": "1.2.0",
            "_model_name": "LayoutModel",
            "_view_count": null,
            "_view_module": "@jupyter-widgets/base",
            "_view_module_version": "1.2.0",
            "_view_name": "LayoutView",
            "align_content": null,
            "align_items": null,
            "align_self": null,
            "border": null,
            "bottom": null,
            "display": null,
            "flex": null,
            "flex_flow": null,
            "grid_area": null,
            "grid_auto_columns": null,
            "grid_auto_flow": null,
            "grid_auto_rows": null,
            "grid_column": null,
            "grid_gap": null,
            "grid_row": null,
            "grid_template_areas": null,
            "grid_template_columns": null,
            "grid_template_rows": null,
            "height": null,
            "justify_content": null,
            "justify_items": null,
            "left": null,
            "margin": null,
            "max_height": null,
            "max_width": null,
            "min_height": null,
            "min_width": null,
            "object_fit": null,
            "object_position": null,
            "order": null,
            "overflow": null,
            "overflow_x": null,
            "overflow_y": null,
            "padding": null,
            "right": null,
            "top": null,
            "visibility": null,
            "width": null
          }
        },
        "c49f645cb9134415bde98288fe69708d": {
          "model_module": "@jupyter-widgets/controls",
          "model_module_version": "1.5.0",
          "model_name": "FloatProgressModel",
          "state": {
            "_dom_classes": [],
            "_model_module": "@jupyter-widgets/controls",
            "_model_module_version": "1.5.0",
            "_model_name": "FloatProgressModel",
            "_view_count": null,
            "_view_module": "@jupyter-widgets/controls",
            "_view_module_version": "1.5.0",
            "_view_name": "ProgressView",
            "bar_style": "success",
            "description": "",
            "description_tooltip": null,
            "layout": "IPY_MODEL_5ba50965023d4b099ef30ea6c7c012a8",
            "max": 1633,
            "min": 0,
            "orientation": "horizontal",
            "style": "IPY_MODEL_e10933170785419a9438402a959c3752",
            "value": 1633
          }
        },
        "c70fd401105a411ca154230d3e167c72": {
          "model_module": "@jupyter-widgets/controls",
          "model_module_version": "1.5.0",
          "model_name": "DescriptionStyleModel",
          "state": {
            "_model_module": "@jupyter-widgets/controls",
            "_model_module_version": "1.5.0",
            "_model_name": "DescriptionStyleModel",
            "_view_count": null,
            "_view_module": "@jupyter-widgets/base",
            "_view_module_version": "1.2.0",
            "_view_name": "StyleView",
            "description_width": ""
          }
        },
        "c71bed7648524d68a4e902a96c27b40a": {
          "model_module": "@jupyter-widgets/base",
          "model_module_version": "1.2.0",
          "model_name": "LayoutModel",
          "state": {
            "_model_module": "@jupyter-widgets/base",
            "_model_module_version": "1.2.0",
            "_model_name": "LayoutModel",
            "_view_count": null,
            "_view_module": "@jupyter-widgets/base",
            "_view_module_version": "1.2.0",
            "_view_name": "LayoutView",
            "align_content": null,
            "align_items": null,
            "align_self": null,
            "border": null,
            "bottom": null,
            "display": null,
            "flex": null,
            "flex_flow": null,
            "grid_area": null,
            "grid_auto_columns": null,
            "grid_auto_flow": null,
            "grid_auto_rows": null,
            "grid_column": null,
            "grid_gap": null,
            "grid_row": null,
            "grid_template_areas": null,
            "grid_template_columns": null,
            "grid_template_rows": null,
            "height": null,
            "justify_content": null,
            "justify_items": null,
            "left": null,
            "margin": null,
            "max_height": null,
            "max_width": null,
            "min_height": null,
            "min_width": null,
            "object_fit": null,
            "object_position": null,
            "order": null,
            "overflow": null,
            "overflow_x": null,
            "overflow_y": null,
            "padding": null,
            "right": null,
            "top": null,
            "visibility": null,
            "width": null
          }
        },
        "c83790d080c94986952654718ac345de": {
          "model_module": "@jupyter-widgets/base",
          "model_module_version": "1.2.0",
          "model_name": "LayoutModel",
          "state": {
            "_model_module": "@jupyter-widgets/base",
            "_model_module_version": "1.2.0",
            "_model_name": "LayoutModel",
            "_view_count": null,
            "_view_module": "@jupyter-widgets/base",
            "_view_module_version": "1.2.0",
            "_view_name": "LayoutView",
            "align_content": null,
            "align_items": null,
            "align_self": null,
            "border": null,
            "bottom": null,
            "display": null,
            "flex": null,
            "flex_flow": null,
            "grid_area": null,
            "grid_auto_columns": null,
            "grid_auto_flow": null,
            "grid_auto_rows": null,
            "grid_column": null,
            "grid_gap": null,
            "grid_row": null,
            "grid_template_areas": null,
            "grid_template_columns": null,
            "grid_template_rows": null,
            "height": null,
            "justify_content": null,
            "justify_items": null,
            "left": null,
            "margin": null,
            "max_height": null,
            "max_width": null,
            "min_height": null,
            "min_width": null,
            "object_fit": null,
            "object_position": null,
            "order": null,
            "overflow": null,
            "overflow_x": null,
            "overflow_y": null,
            "padding": null,
            "right": null,
            "top": null,
            "visibility": null,
            "width": null
          }
        },
        "c98bd88567f94744b3160405365ea345": {
          "model_module": "@jupyter-widgets/controls",
          "model_module_version": "1.5.0",
          "model_name": "HTMLModel",
          "state": {
            "_dom_classes": [],
            "_model_module": "@jupyter-widgets/controls",
            "_model_module_version": "1.5.0",
            "_model_name": "HTMLModel",
            "_view_count": null,
            "_view_module": "@jupyter-widgets/controls",
            "_view_module_version": "1.5.0",
            "_view_name": "HTMLView",
            "description": "",
            "description_tooltip": null,
            "layout": "IPY_MODEL_095e4eba5ce14e60b7920158edd7a99a",
            "placeholder": "​",
            "style": "IPY_MODEL_bfb8028f02aa4549826bf9d07f046b7b",
            "value": " 26.0/26.0 [00:00&lt;00:00, 1.26kB/s]"
          }
        },
        "ca7f905cc9904388a429c0000c17e4c6": {
          "model_module": "@jupyter-widgets/controls",
          "model_module_version": "1.5.0",
          "model_name": "HBoxModel",
          "state": {
            "_dom_classes": [],
            "_model_module": "@jupyter-widgets/controls",
            "_model_module_version": "1.5.0",
            "_model_name": "HBoxModel",
            "_view_count": null,
            "_view_module": "@jupyter-widgets/controls",
            "_view_module_version": "1.5.0",
            "_view_name": "HBoxView",
            "box_style": "",
            "children": [
              "IPY_MODEL_e0e7dd1b44854bc882be0f5ca2de1876",
              "IPY_MODEL_1d0cd3c3a984475dbeb96147a226b1cb",
              "IPY_MODEL_dd710e2048c44672b38249f326ec5da4"
            ],
            "layout": "IPY_MODEL_5877d053ed794bc0a25fe3cc156cc200"
          }
        },
        "caac8f179bed461297c83c7b52f70b87": {
          "model_module": "@jupyter-widgets/base",
          "model_module_version": "1.2.0",
          "model_name": "LayoutModel",
          "state": {
            "_model_module": "@jupyter-widgets/base",
            "_model_module_version": "1.2.0",
            "_model_name": "LayoutModel",
            "_view_count": null,
            "_view_module": "@jupyter-widgets/base",
            "_view_module_version": "1.2.0",
            "_view_name": "LayoutView",
            "align_content": null,
            "align_items": null,
            "align_self": null,
            "border": null,
            "bottom": null,
            "display": null,
            "flex": null,
            "flex_flow": null,
            "grid_area": null,
            "grid_auto_columns": null,
            "grid_auto_flow": null,
            "grid_auto_rows": null,
            "grid_column": null,
            "grid_gap": null,
            "grid_row": null,
            "grid_template_areas": null,
            "grid_template_columns": null,
            "grid_template_rows": null,
            "height": null,
            "justify_content": null,
            "justify_items": null,
            "left": null,
            "margin": null,
            "max_height": null,
            "max_width": null,
            "min_height": null,
            "min_width": null,
            "object_fit": null,
            "object_position": null,
            "order": null,
            "overflow": null,
            "overflow_x": null,
            "overflow_y": null,
            "padding": null,
            "right": null,
            "top": null,
            "visibility": null,
            "width": null
          }
        },
        "caf4050ed9fc45f1b59992b0e504d9ec": {
          "model_module": "@jupyter-widgets/controls",
          "model_module_version": "1.5.0",
          "model_name": "HBoxModel",
          "state": {
            "_dom_classes": [],
            "_model_module": "@jupyter-widgets/controls",
            "_model_module_version": "1.5.0",
            "_model_name": "HBoxModel",
            "_view_count": null,
            "_view_module": "@jupyter-widgets/controls",
            "_view_module_version": "1.5.0",
            "_view_name": "HBoxView",
            "box_style": "",
            "children": [
              "IPY_MODEL_74f37565b9554807a3c5863a0bb0278e",
              "IPY_MODEL_67b8ac6f93884e39aed57b8ad34fa7be",
              "IPY_MODEL_e2b5a5fc3528432fad639cb7b60cb9b1"
            ],
            "layout": "IPY_MODEL_3e99f42da5134a029be015a4a8514a82"
          }
        },
        "cce4e337a33c4901a89f1b052f712d50": {
          "model_module": "@jupyter-widgets/controls",
          "model_module_version": "1.5.0",
          "model_name": "HTMLModel",
          "state": {
            "_dom_classes": [],
            "_model_module": "@jupyter-widgets/controls",
            "_model_module_version": "1.5.0",
            "_model_name": "HTMLModel",
            "_view_count": null,
            "_view_module": "@jupyter-widgets/controls",
            "_view_module_version": "1.5.0",
            "_view_name": "HTMLView",
            "description": "",
            "description_tooltip": null,
            "layout": "IPY_MODEL_154dc1d1d61d41599f07f702826aeb8d",
            "placeholder": "​",
            "style": "IPY_MODEL_d534e140b09844acaaddd126296ee52f",
            "value": " 743/743 [00:00&lt;00:00, 25.7kB/s]"
          }
        },
        "ce0051b8cb6f4a17b2378fae13edc6ad": {
          "model_module": "@jupyter-widgets/base",
          "model_module_version": "1.2.0",
          "model_name": "LayoutModel",
          "state": {
            "_model_module": "@jupyter-widgets/base",
            "_model_module_version": "1.2.0",
            "_model_name": "LayoutModel",
            "_view_count": null,
            "_view_module": "@jupyter-widgets/base",
            "_view_module_version": "1.2.0",
            "_view_name": "LayoutView",
            "align_content": null,
            "align_items": null,
            "align_self": null,
            "border": null,
            "bottom": null,
            "display": null,
            "flex": null,
            "flex_flow": null,
            "grid_area": null,
            "grid_auto_columns": null,
            "grid_auto_flow": null,
            "grid_auto_rows": null,
            "grid_column": null,
            "grid_gap": null,
            "grid_row": null,
            "grid_template_areas": null,
            "grid_template_columns": null,
            "grid_template_rows": null,
            "height": null,
            "justify_content": null,
            "justify_items": null,
            "left": null,
            "margin": null,
            "max_height": null,
            "max_width": null,
            "min_height": null,
            "min_width": null,
            "object_fit": null,
            "object_position": null,
            "order": null,
            "overflow": null,
            "overflow_x": null,
            "overflow_y": null,
            "padding": null,
            "right": null,
            "top": null,
            "visibility": null,
            "width": null
          }
        },
        "cf51751f6b7743ac97ad4853e0e42bcc": {
          "model_module": "@jupyter-widgets/controls",
          "model_module_version": "1.5.0",
          "model_name": "HTMLModel",
          "state": {
            "_dom_classes": [],
            "_model_module": "@jupyter-widgets/controls",
            "_model_module_version": "1.5.0",
            "_model_name": "HTMLModel",
            "_view_count": null,
            "_view_module": "@jupyter-widgets/controls",
            "_view_module_version": "1.5.0",
            "_view_name": "HTMLView",
            "description": "",
            "description_tooltip": null,
            "layout": "IPY_MODEL_1f99301503ed422dbc14fcb9fb732f86",
            "placeholder": "​",
            "style": "IPY_MODEL_5848c1a0f2de43b996d683d32bdad0f0",
            "value": " 1.36M/1.36M [00:00&lt;00:00, 43.9MB/s]"
          }
        },
        "cf56d02d53a24463901ddf47cfc28ac5": {
          "model_module": "@jupyter-widgets/controls",
          "model_module_version": "1.5.0",
          "model_name": "HBoxModel",
          "state": {
            "_dom_classes": [],
            "_model_module": "@jupyter-widgets/controls",
            "_model_module_version": "1.5.0",
            "_model_name": "HBoxModel",
            "_view_count": null,
            "_view_module": "@jupyter-widgets/controls",
            "_view_module_version": "1.5.0",
            "_view_name": "HBoxView",
            "box_style": "",
            "children": [
              "IPY_MODEL_8f7778cdb3e3472c896111ab6ada0a01",
              "IPY_MODEL_8e46fee5489541f0a14d96dd51aaf68b",
              "IPY_MODEL_5e3cbb46a9eb4f53bfd2f96c9c7a8706"
            ],
            "layout": "IPY_MODEL_feafe2c64f254fdfa408ec47ecf3b74b"
          }
        },
        "d1aaab7bf9ac4aec98fc3ac269d4a6f3": {
          "model_module": "@jupyter-widgets/base",
          "model_module_version": "1.2.0",
          "model_name": "LayoutModel",
          "state": {
            "_model_module": "@jupyter-widgets/base",
            "_model_module_version": "1.2.0",
            "_model_name": "LayoutModel",
            "_view_count": null,
            "_view_module": "@jupyter-widgets/base",
            "_view_module_version": "1.2.0",
            "_view_name": "LayoutView",
            "align_content": null,
            "align_items": null,
            "align_self": null,
            "border": null,
            "bottom": null,
            "display": null,
            "flex": null,
            "flex_flow": null,
            "grid_area": null,
            "grid_auto_columns": null,
            "grid_auto_flow": null,
            "grid_auto_rows": null,
            "grid_column": null,
            "grid_gap": null,
            "grid_row": null,
            "grid_template_areas": null,
            "grid_template_columns": null,
            "grid_template_rows": null,
            "height": null,
            "justify_content": null,
            "justify_items": null,
            "left": null,
            "margin": null,
            "max_height": null,
            "max_width": null,
            "min_height": null,
            "min_width": null,
            "object_fit": null,
            "object_position": null,
            "order": null,
            "overflow": null,
            "overflow_x": null,
            "overflow_y": null,
            "padding": null,
            "right": null,
            "top": null,
            "visibility": null,
            "width": null
          }
        },
        "d3d4fb3fc1d0446b9e7e98ce22e98f3c": {
          "model_module": "@jupyter-widgets/controls",
          "model_module_version": "1.5.0",
          "model_name": "HTMLModel",
          "state": {
            "_dom_classes": [],
            "_model_module": "@jupyter-widgets/controls",
            "_model_module_version": "1.5.0",
            "_model_name": "HTMLModel",
            "_view_count": null,
            "_view_module": "@jupyter-widgets/controls",
            "_view_module_version": "1.5.0",
            "_view_name": "HTMLView",
            "description": "",
            "description_tooltip": null,
            "layout": "IPY_MODEL_c83790d080c94986952654718ac345de",
            "placeholder": "​",
            "style": "IPY_MODEL_5a3e790f457440c8b55ce172455b8d19",
            "value": " 1.63k/1.63k [00:00&lt;00:00, 72.8kB/s]"
          }
        },
        "d43f2acdb2cb4fd89330dd6034d23a29": {
          "model_module": "@jupyter-widgets/controls",
          "model_module_version": "1.5.0",
          "model_name": "ProgressStyleModel",
          "state": {
            "_model_module": "@jupyter-widgets/controls",
            "_model_module_version": "1.5.0",
            "_model_name": "ProgressStyleModel",
            "_view_count": null,
            "_view_module": "@jupyter-widgets/base",
            "_view_module_version": "1.2.0",
            "_view_name": "StyleView",
            "bar_color": null,
            "description_width": ""
          }
        },
        "d534e140b09844acaaddd126296ee52f": {
          "model_module": "@jupyter-widgets/controls",
          "model_module_version": "1.5.0",
          "model_name": "DescriptionStyleModel",
          "state": {
            "_model_module": "@jupyter-widgets/controls",
            "_model_module_version": "1.5.0",
            "_model_name": "DescriptionStyleModel",
            "_view_count": null,
            "_view_module": "@jupyter-widgets/base",
            "_view_module_version": "1.2.0",
            "_view_name": "StyleView",
            "description_width": ""
          }
        },
        "d53704fa230d43938fc40aa30e04ee11": {
          "model_module": "@jupyter-widgets/controls",
          "model_module_version": "1.5.0",
          "model_name": "HTMLModel",
          "state": {
            "_dom_classes": [],
            "_model_module": "@jupyter-widgets/controls",
            "_model_module_version": "1.5.0",
            "_model_name": "HTMLModel",
            "_view_count": null,
            "_view_module": "@jupyter-widgets/controls",
            "_view_module_version": "1.5.0",
            "_view_name": "HTMLView",
            "description": "",
            "description_tooltip": null,
            "layout": "IPY_MODEL_7cfbf96d76324fbaa5feb958de25efbb",
            "placeholder": "​",
            "style": "IPY_MODEL_38e5f7c9fc0045ed9ec02cb89705ead9",
            "value": "vocab.json: 100%"
          }
        },
        "d588f58797f74ebfaa6e7da375767bb5": {
          "model_module": "@jupyter-widgets/base",
          "model_module_version": "1.2.0",
          "model_name": "LayoutModel",
          "state": {
            "_model_module": "@jupyter-widgets/base",
            "_model_module_version": "1.2.0",
            "_model_name": "LayoutModel",
            "_view_count": null,
            "_view_module": "@jupyter-widgets/base",
            "_view_module_version": "1.2.0",
            "_view_name": "LayoutView",
            "align_content": null,
            "align_items": null,
            "align_self": null,
            "border": null,
            "bottom": null,
            "display": null,
            "flex": null,
            "flex_flow": null,
            "grid_area": null,
            "grid_auto_columns": null,
            "grid_auto_flow": null,
            "grid_auto_rows": null,
            "grid_column": null,
            "grid_gap": null,
            "grid_row": null,
            "grid_template_areas": null,
            "grid_template_columns": null,
            "grid_template_rows": null,
            "height": null,
            "justify_content": null,
            "justify_items": null,
            "left": null,
            "margin": null,
            "max_height": null,
            "max_width": null,
            "min_height": null,
            "min_width": null,
            "object_fit": null,
            "object_position": null,
            "order": null,
            "overflow": null,
            "overflow_x": null,
            "overflow_y": null,
            "padding": null,
            "right": null,
            "top": null,
            "visibility": null,
            "width": null
          }
        },
        "da224268b298478a8b8472553e8eabbf": {
          "model_module": "@jupyter-widgets/controls",
          "model_module_version": "1.5.0",
          "model_name": "HTMLModel",
          "state": {
            "_dom_classes": [],
            "_model_module": "@jupyter-widgets/controls",
            "_model_module_version": "1.5.0",
            "_model_name": "HTMLModel",
            "_view_count": null,
            "_view_module": "@jupyter-widgets/controls",
            "_view_module_version": "1.5.0",
            "_view_name": "HTMLView",
            "description": "",
            "description_tooltip": null,
            "layout": "IPY_MODEL_a992709a5c204ab39063186434c1f6d1",
            "placeholder": "​",
            "style": "IPY_MODEL_a89a8f91aa72435c8ca26d7d15a444ce",
            "value": " 1.63k/1.63k [00:00&lt;00:00, 43.8kB/s]"
          }
        },
        "da40e89a1cb447c4aa49b4a950ac4ae5": {
          "model_module": "@jupyter-widgets/controls",
          "model_module_version": "1.5.0",
          "model_name": "DescriptionStyleModel",
          "state": {
            "_model_module": "@jupyter-widgets/controls",
            "_model_module_version": "1.5.0",
            "_model_name": "DescriptionStyleModel",
            "_view_count": null,
            "_view_module": "@jupyter-widgets/base",
            "_view_module_version": "1.2.0",
            "_view_name": "StyleView",
            "description_width": ""
          }
        },
        "db07df98d1254d36945b095148816e5a": {
          "model_module": "@jupyter-widgets/controls",
          "model_module_version": "1.5.0",
          "model_name": "DescriptionStyleModel",
          "state": {
            "_model_module": "@jupyter-widgets/controls",
            "_model_module_version": "1.5.0",
            "_model_name": "DescriptionStyleModel",
            "_view_count": null,
            "_view_module": "@jupyter-widgets/base",
            "_view_module_version": "1.2.0",
            "_view_name": "StyleView",
            "description_width": ""
          }
        },
        "dd101712c02645b18a1f52b9a657038a": {
          "model_module": "@jupyter-widgets/controls",
          "model_module_version": "1.5.0",
          "model_name": "ProgressStyleModel",
          "state": {
            "_model_module": "@jupyter-widgets/controls",
            "_model_module_version": "1.5.0",
            "_model_name": "ProgressStyleModel",
            "_view_count": null,
            "_view_module": "@jupyter-widgets/base",
            "_view_module_version": "1.2.0",
            "_view_name": "StyleView",
            "bar_color": null,
            "description_width": ""
          }
        },
        "dd710e2048c44672b38249f326ec5da4": {
          "model_module": "@jupyter-widgets/controls",
          "model_module_version": "1.5.0",
          "model_name": "HTMLModel",
          "state": {
            "_dom_classes": [],
            "_model_module": "@jupyter-widgets/controls",
            "_model_module_version": "1.5.0",
            "_model_name": "HTMLModel",
            "_view_count": null,
            "_view_module": "@jupyter-widgets/controls",
            "_view_module_version": "1.5.0",
            "_view_name": "HTMLView",
            "description": "",
            "description_tooltip": null,
            "layout": "IPY_MODEL_0961023bdba145c5b056d9c04a8c33da",
            "placeholder": "​",
            "style": "IPY_MODEL_dd7feee1c2154fd082542be5827976ed",
            "value": " 405/405 [00:00&lt;00:00, 29.5kB/s]"
          }
        },
        "dd7feee1c2154fd082542be5827976ed": {
          "model_module": "@jupyter-widgets/controls",
          "model_module_version": "1.5.0",
          "model_name": "DescriptionStyleModel",
          "state": {
            "_model_module": "@jupyter-widgets/controls",
            "_model_module_version": "1.5.0",
            "_model_name": "DescriptionStyleModel",
            "_view_count": null,
            "_view_module": "@jupyter-widgets/base",
            "_view_module_version": "1.2.0",
            "_view_name": "StyleView",
            "description_width": ""
          }
        },
        "e0e7dd1b44854bc882be0f5ca2de1876": {
          "model_module": "@jupyter-widgets/controls",
          "model_module_version": "1.5.0",
          "model_name": "HTMLModel",
          "state": {
            "_dom_classes": [],
            "_model_module": "@jupyter-widgets/controls",
            "_model_module_version": "1.5.0",
            "_model_name": "HTMLModel",
            "_view_count": null,
            "_view_module": "@jupyter-widgets/controls",
            "_view_module_version": "1.5.0",
            "_view_name": "HTMLView",
            "description": "",
            "description_tooltip": null,
            "layout": "IPY_MODEL_ce0051b8cb6f4a17b2378fae13edc6ad",
            "placeholder": "​",
            "style": "IPY_MODEL_3e4fc4ff69664cadbfddcdff645b864e",
            "value": "tokenizer_config.json: 100%"
          }
        },
        "e0f9429dd1a4456991a4d54654de25fb": {
          "model_module": "@jupyter-widgets/controls",
          "model_module_version": "1.5.0",
          "model_name": "HBoxModel",
          "state": {
            "_dom_classes": [],
            "_model_module": "@jupyter-widgets/controls",
            "_model_module_version": "1.5.0",
            "_model_name": "HBoxModel",
            "_view_count": null,
            "_view_module": "@jupyter-widgets/controls",
            "_view_module_version": "1.5.0",
            "_view_name": "HBoxView",
            "box_style": "",
            "children": [
              "IPY_MODEL_f3ae4c1c59bc41bdb0475fe0a9518a62",
              "IPY_MODEL_079840f2c5794c15bca31856f02e32ad",
              "IPY_MODEL_c98bd88567f94744b3160405365ea345"
            ],
            "layout": "IPY_MODEL_a03252e3daa148099fd347683d248ac0"
          }
        },
        "e10933170785419a9438402a959c3752": {
          "model_module": "@jupyter-widgets/controls",
          "model_module_version": "1.5.0",
          "model_name": "ProgressStyleModel",
          "state": {
            "_model_module": "@jupyter-widgets/controls",
            "_model_module_version": "1.5.0",
            "_model_name": "ProgressStyleModel",
            "_view_count": null,
            "_view_module": "@jupyter-widgets/base",
            "_view_module_version": "1.2.0",
            "_view_name": "StyleView",
            "bar_color": null,
            "description_width": ""
          }
        },
        "e2b5a5fc3528432fad639cb7b60cb9b1": {
          "model_module": "@jupyter-widgets/controls",
          "model_module_version": "1.5.0",
          "model_name": "HTMLModel",
          "state": {
            "_dom_classes": [],
            "_model_module": "@jupyter-widgets/controls",
            "_model_module_version": "1.5.0",
            "_model_name": "HTMLModel",
            "_view_count": null,
            "_view_module": "@jupyter-widgets/controls",
            "_view_module_version": "1.5.0",
            "_view_name": "HTMLView",
            "description": "",
            "description_tooltip": null,
            "layout": "IPY_MODEL_51444f58ad654b55a03a76da349d2896",
            "placeholder": "​",
            "style": "IPY_MODEL_e2ff413fd2154ef5a219548e9fa639ef",
            "value": " 232k/232k [00:00&lt;00:00, 9.28MB/s]"
          }
        },
        "e2ff413fd2154ef5a219548e9fa639ef": {
          "model_module": "@jupyter-widgets/controls",
          "model_module_version": "1.5.0",
          "model_name": "DescriptionStyleModel",
          "state": {
            "_model_module": "@jupyter-widgets/controls",
            "_model_module_version": "1.5.0",
            "_model_name": "DescriptionStyleModel",
            "_view_count": null,
            "_view_module": "@jupyter-widgets/base",
            "_view_module_version": "1.2.0",
            "_view_name": "StyleView",
            "description_width": ""
          }
        },
        "e4b248c1466a437386f33baf9aad7930": {
          "model_module": "@jupyter-widgets/base",
          "model_module_version": "1.2.0",
          "model_name": "LayoutModel",
          "state": {
            "_model_module": "@jupyter-widgets/base",
            "_model_module_version": "1.2.0",
            "_model_name": "LayoutModel",
            "_view_count": null,
            "_view_module": "@jupyter-widgets/base",
            "_view_module_version": "1.2.0",
            "_view_name": "LayoutView",
            "align_content": null,
            "align_items": null,
            "align_self": null,
            "border": null,
            "bottom": null,
            "display": null,
            "flex": null,
            "flex_flow": null,
            "grid_area": null,
            "grid_auto_columns": null,
            "grid_auto_flow": null,
            "grid_auto_rows": null,
            "grid_column": null,
            "grid_gap": null,
            "grid_row": null,
            "grid_template_areas": null,
            "grid_template_columns": null,
            "grid_template_rows": null,
            "height": null,
            "justify_content": null,
            "justify_items": null,
            "left": null,
            "margin": null,
            "max_height": null,
            "max_width": null,
            "min_height": null,
            "min_width": null,
            "object_fit": null,
            "object_position": null,
            "order": null,
            "overflow": null,
            "overflow_x": null,
            "overflow_y": null,
            "padding": null,
            "right": null,
            "top": null,
            "visibility": null,
            "width": null
          }
        },
        "e5843c4e098f4038999e3fd67f615e9f": {
          "model_module": "@jupyter-widgets/base",
          "model_module_version": "1.2.0",
          "model_name": "LayoutModel",
          "state": {
            "_model_module": "@jupyter-widgets/base",
            "_model_module_version": "1.2.0",
            "_model_name": "LayoutModel",
            "_view_count": null,
            "_view_module": "@jupyter-widgets/base",
            "_view_module_version": "1.2.0",
            "_view_name": "LayoutView",
            "align_content": null,
            "align_items": null,
            "align_self": null,
            "border": null,
            "bottom": null,
            "display": null,
            "flex": null,
            "flex_flow": null,
            "grid_area": null,
            "grid_auto_columns": null,
            "grid_auto_flow": null,
            "grid_auto_rows": null,
            "grid_column": null,
            "grid_gap": null,
            "grid_row": null,
            "grid_template_areas": null,
            "grid_template_columns": null,
            "grid_template_rows": null,
            "height": null,
            "justify_content": null,
            "justify_items": null,
            "left": null,
            "margin": null,
            "max_height": null,
            "max_width": null,
            "min_height": null,
            "min_width": null,
            "object_fit": null,
            "object_position": null,
            "order": null,
            "overflow": null,
            "overflow_x": null,
            "overflow_y": null,
            "padding": null,
            "right": null,
            "top": null,
            "visibility": null,
            "width": null
          }
        },
        "e813c15461f246aca3922837a4ad9a94": {
          "model_module": "@jupyter-widgets/controls",
          "model_module_version": "1.5.0",
          "model_name": "HBoxModel",
          "state": {
            "_dom_classes": [],
            "_model_module": "@jupyter-widgets/controls",
            "_model_module_version": "1.5.0",
            "_model_name": "HBoxModel",
            "_view_count": null,
            "_view_module": "@jupyter-widgets/controls",
            "_view_module_version": "1.5.0",
            "_view_name": "HBoxView",
            "box_style": "",
            "children": [
              "IPY_MODEL_b95cd3c98aca47a6977d341fe4c415a2",
              "IPY_MODEL_6cbdbfc3b9444e75af77f5468c10a317",
              "IPY_MODEL_e92fe8eabfa34407bced1a6599aaf0d5"
            ],
            "layout": "IPY_MODEL_4269d0883f694093b0a561887a89f482"
          }
        },
        "e8cdab1a99ee4afaa9659193e05f1115": {
          "model_module": "@jupyter-widgets/base",
          "model_module_version": "1.2.0",
          "model_name": "LayoutModel",
          "state": {
            "_model_module": "@jupyter-widgets/base",
            "_model_module_version": "1.2.0",
            "_model_name": "LayoutModel",
            "_view_count": null,
            "_view_module": "@jupyter-widgets/base",
            "_view_module_version": "1.2.0",
            "_view_name": "LayoutView",
            "align_content": null,
            "align_items": null,
            "align_self": null,
            "border": null,
            "bottom": null,
            "display": null,
            "flex": null,
            "flex_flow": null,
            "grid_area": null,
            "grid_auto_columns": null,
            "grid_auto_flow": null,
            "grid_auto_rows": null,
            "grid_column": null,
            "grid_gap": null,
            "grid_row": null,
            "grid_template_areas": null,
            "grid_template_columns": null,
            "grid_template_rows": null,
            "height": null,
            "justify_content": null,
            "justify_items": null,
            "left": null,
            "margin": null,
            "max_height": null,
            "max_width": null,
            "min_height": null,
            "min_width": null,
            "object_fit": null,
            "object_position": null,
            "order": null,
            "overflow": null,
            "overflow_x": null,
            "overflow_y": null,
            "padding": null,
            "right": null,
            "top": null,
            "visibility": null,
            "width": null
          }
        },
        "e92fe8eabfa34407bced1a6599aaf0d5": {
          "model_module": "@jupyter-widgets/controls",
          "model_module_version": "1.5.0",
          "model_name": "HTMLModel",
          "state": {
            "_dom_classes": [],
            "_model_module": "@jupyter-widgets/controls",
            "_model_module_version": "1.5.0",
            "_model_name": "HTMLModel",
            "_view_count": null,
            "_view_module": "@jupyter-widgets/controls",
            "_view_module_version": "1.5.0",
            "_view_name": "HTMLView",
            "description": "",
            "description_tooltip": null,
            "layout": "IPY_MODEL_c0c5d108a0134b24a0951fd3f85608b7",
            "placeholder": "​",
            "style": "IPY_MODEL_db07df98d1254d36945b095148816e5a",
            "value": " 232k/232k [00:00&lt;00:00, 2.01MB/s]"
          }
        },
        "e9764add8d81419ab9b37ce9bbc34434": {
          "model_module": "@jupyter-widgets/base",
          "model_module_version": "1.2.0",
          "model_name": "LayoutModel",
          "state": {
            "_model_module": "@jupyter-widgets/base",
            "_model_module_version": "1.2.0",
            "_model_name": "LayoutModel",
            "_view_count": null,
            "_view_module": "@jupyter-widgets/base",
            "_view_module_version": "1.2.0",
            "_view_name": "LayoutView",
            "align_content": null,
            "align_items": null,
            "align_self": null,
            "border": null,
            "bottom": null,
            "display": null,
            "flex": null,
            "flex_flow": null,
            "grid_area": null,
            "grid_auto_columns": null,
            "grid_auto_flow": null,
            "grid_auto_rows": null,
            "grid_column": null,
            "grid_gap": null,
            "grid_row": null,
            "grid_template_areas": null,
            "grid_template_columns": null,
            "grid_template_rows": null,
            "height": null,
            "justify_content": null,
            "justify_items": null,
            "left": null,
            "margin": null,
            "max_height": null,
            "max_width": null,
            "min_height": null,
            "min_width": null,
            "object_fit": null,
            "object_position": null,
            "order": null,
            "overflow": null,
            "overflow_x": null,
            "overflow_y": null,
            "padding": null,
            "right": null,
            "top": null,
            "visibility": null,
            "width": null
          }
        },
        "ea6d0e546c02441fa479dc70950693ae": {
          "model_module": "@jupyter-widgets/base",
          "model_module_version": "1.2.0",
          "model_name": "LayoutModel",
          "state": {
            "_model_module": "@jupyter-widgets/base",
            "_model_module_version": "1.2.0",
            "_model_name": "LayoutModel",
            "_view_count": null,
            "_view_module": "@jupyter-widgets/base",
            "_view_module_version": "1.2.0",
            "_view_name": "LayoutView",
            "align_content": null,
            "align_items": null,
            "align_self": null,
            "border": null,
            "bottom": null,
            "display": null,
            "flex": null,
            "flex_flow": null,
            "grid_area": null,
            "grid_auto_columns": null,
            "grid_auto_flow": null,
            "grid_auto_rows": null,
            "grid_column": null,
            "grid_gap": null,
            "grid_row": null,
            "grid_template_areas": null,
            "grid_template_columns": null,
            "grid_template_rows": null,
            "height": null,
            "justify_content": null,
            "justify_items": null,
            "left": null,
            "margin": null,
            "max_height": null,
            "max_width": null,
            "min_height": null,
            "min_width": null,
            "object_fit": null,
            "object_position": null,
            "order": null,
            "overflow": null,
            "overflow_x": null,
            "overflow_y": null,
            "padding": null,
            "right": null,
            "top": null,
            "visibility": null,
            "width": null
          }
        },
        "eb1060f47ebd487996e8b55c04c121fe": {
          "model_module": "@jupyter-widgets/controls",
          "model_module_version": "1.5.0",
          "model_name": "DescriptionStyleModel",
          "state": {
            "_model_module": "@jupyter-widgets/controls",
            "_model_module_version": "1.5.0",
            "_model_name": "DescriptionStyleModel",
            "_view_count": null,
            "_view_module": "@jupyter-widgets/base",
            "_view_module_version": "1.2.0",
            "_view_name": "StyleView",
            "description_width": ""
          }
        },
        "ee307b5ad1214c348f747e0c34a9c37b": {
          "model_module": "@jupyter-widgets/controls",
          "model_module_version": "1.5.0",
          "model_name": "HBoxModel",
          "state": {
            "_dom_classes": [],
            "_model_module": "@jupyter-widgets/controls",
            "_model_module_version": "1.5.0",
            "_model_name": "HBoxModel",
            "_view_count": null,
            "_view_module": "@jupyter-widgets/controls",
            "_view_module_version": "1.5.0",
            "_view_name": "HBoxView",
            "box_style": "",
            "children": [
              "IPY_MODEL_9cf620f10c9f4290810ca2932a6959ec",
              "IPY_MODEL_4c2bc1bac347481a99c1bd96659d8577",
              "IPY_MODEL_4ff56d78f757494589df99801135a67b"
            ],
            "layout": "IPY_MODEL_e9764add8d81419ab9b37ce9bbc34434"
          }
        },
        "ef4b1c00e7d9497586cfe582538792d9": {
          "model_module": "@jupyter-widgets/controls",
          "model_module_version": "1.5.0",
          "model_name": "DescriptionStyleModel",
          "state": {
            "_model_module": "@jupyter-widgets/controls",
            "_model_module_version": "1.5.0",
            "_model_name": "DescriptionStyleModel",
            "_view_count": null,
            "_view_module": "@jupyter-widgets/base",
            "_view_module_version": "1.2.0",
            "_view_name": "StyleView",
            "description_width": ""
          }
        },
        "efee22dfe0424b348e912a9d455bd2e8": {
          "model_module": "@jupyter-widgets/base",
          "model_module_version": "1.2.0",
          "model_name": "LayoutModel",
          "state": {
            "_model_module": "@jupyter-widgets/base",
            "_model_module_version": "1.2.0",
            "_model_name": "LayoutModel",
            "_view_count": null,
            "_view_module": "@jupyter-widgets/base",
            "_view_module_version": "1.2.0",
            "_view_name": "LayoutView",
            "align_content": null,
            "align_items": null,
            "align_self": null,
            "border": null,
            "bottom": null,
            "display": null,
            "flex": null,
            "flex_flow": null,
            "grid_area": null,
            "grid_auto_columns": null,
            "grid_auto_flow": null,
            "grid_auto_rows": null,
            "grid_column": null,
            "grid_gap": null,
            "grid_row": null,
            "grid_template_areas": null,
            "grid_template_columns": null,
            "grid_template_rows": null,
            "height": null,
            "justify_content": null,
            "justify_items": null,
            "left": null,
            "margin": null,
            "max_height": null,
            "max_width": null,
            "min_height": null,
            "min_width": null,
            "object_fit": null,
            "object_position": null,
            "order": null,
            "overflow": null,
            "overflow_x": null,
            "overflow_y": null,
            "padding": null,
            "right": null,
            "top": null,
            "visibility": null,
            "width": null
          }
        },
        "f0f29f216f424c4ebbc02c016ba11a30": {
          "model_module": "@jupyter-widgets/base",
          "model_module_version": "1.2.0",
          "model_name": "LayoutModel",
          "state": {
            "_model_module": "@jupyter-widgets/base",
            "_model_module_version": "1.2.0",
            "_model_name": "LayoutModel",
            "_view_count": null,
            "_view_module": "@jupyter-widgets/base",
            "_view_module_version": "1.2.0",
            "_view_name": "LayoutView",
            "align_content": null,
            "align_items": null,
            "align_self": null,
            "border": null,
            "bottom": null,
            "display": null,
            "flex": null,
            "flex_flow": null,
            "grid_area": null,
            "grid_auto_columns": null,
            "grid_auto_flow": null,
            "grid_auto_rows": null,
            "grid_column": null,
            "grid_gap": null,
            "grid_row": null,
            "grid_template_areas": null,
            "grid_template_columns": null,
            "grid_template_rows": null,
            "height": null,
            "justify_content": null,
            "justify_items": null,
            "left": null,
            "margin": null,
            "max_height": null,
            "max_width": null,
            "min_height": null,
            "min_width": null,
            "object_fit": null,
            "object_position": null,
            "order": null,
            "overflow": null,
            "overflow_x": null,
            "overflow_y": null,
            "padding": null,
            "right": null,
            "top": null,
            "visibility": null,
            "width": null
          }
        },
        "f2fa0f70f407463aa23e208e5fdeb716": {
          "model_module": "@jupyter-widgets/controls",
          "model_module_version": "1.5.0",
          "model_name": "DescriptionStyleModel",
          "state": {
            "_model_module": "@jupyter-widgets/controls",
            "_model_module_version": "1.5.0",
            "_model_name": "DescriptionStyleModel",
            "_view_count": null,
            "_view_module": "@jupyter-widgets/base",
            "_view_module_version": "1.2.0",
            "_view_name": "StyleView",
            "description_width": ""
          }
        },
        "f3a8660a71bb4d9688dc5a45390b7759": {
          "model_module": "@jupyter-widgets/controls",
          "model_module_version": "1.5.0",
          "model_name": "ProgressStyleModel",
          "state": {
            "_model_module": "@jupyter-widgets/controls",
            "_model_module_version": "1.5.0",
            "_model_name": "ProgressStyleModel",
            "_view_count": null,
            "_view_module": "@jupyter-widgets/base",
            "_view_module_version": "1.2.0",
            "_view_name": "StyleView",
            "bar_color": null,
            "description_width": ""
          }
        },
        "f3ae4c1c59bc41bdb0475fe0a9518a62": {
          "model_module": "@jupyter-widgets/controls",
          "model_module_version": "1.5.0",
          "model_name": "HTMLModel",
          "state": {
            "_dom_classes": [],
            "_model_module": "@jupyter-widgets/controls",
            "_model_module_version": "1.5.0",
            "_model_name": "HTMLModel",
            "_view_count": null,
            "_view_module": "@jupyter-widgets/controls",
            "_view_module_version": "1.5.0",
            "_view_name": "HTMLView",
            "description": "",
            "description_tooltip": null,
            "layout": "IPY_MODEL_162a7c5c6fc449ddab6598517693dfc7",
            "placeholder": "​",
            "style": "IPY_MODEL_145d7489827345058cafd95552d89a9e",
            "value": "tokenizer_config.json: 100%"
          }
        },
        "f5a05e74dde2458e86089e9c32888a59": {
          "model_module": "@jupyter-widgets/base",
          "model_module_version": "1.2.0",
          "model_name": "LayoutModel",
          "state": {
            "_model_module": "@jupyter-widgets/base",
            "_model_module_version": "1.2.0",
            "_model_name": "LayoutModel",
            "_view_count": null,
            "_view_module": "@jupyter-widgets/base",
            "_view_module_version": "1.2.0",
            "_view_name": "LayoutView",
            "align_content": null,
            "align_items": null,
            "align_self": null,
            "border": null,
            "bottom": null,
            "display": null,
            "flex": null,
            "flex_flow": null,
            "grid_area": null,
            "grid_auto_columns": null,
            "grid_auto_flow": null,
            "grid_auto_rows": null,
            "grid_column": null,
            "grid_gap": null,
            "grid_row": null,
            "grid_template_areas": null,
            "grid_template_columns": null,
            "grid_template_rows": null,
            "height": null,
            "justify_content": null,
            "justify_items": null,
            "left": null,
            "margin": null,
            "max_height": null,
            "max_width": null,
            "min_height": null,
            "min_width": null,
            "object_fit": null,
            "object_position": null,
            "order": null,
            "overflow": null,
            "overflow_x": null,
            "overflow_y": null,
            "padding": null,
            "right": null,
            "top": null,
            "visibility": null,
            "width": null
          }
        },
        "f69da1faa7084c0c8e4f26dff3a450a7": {
          "model_module": "@jupyter-widgets/base",
          "model_module_version": "1.2.0",
          "model_name": "LayoutModel",
          "state": {
            "_model_module": "@jupyter-widgets/base",
            "_model_module_version": "1.2.0",
            "_model_name": "LayoutModel",
            "_view_count": null,
            "_view_module": "@jupyter-widgets/base",
            "_view_module_version": "1.2.0",
            "_view_name": "LayoutView",
            "align_content": null,
            "align_items": null,
            "align_self": null,
            "border": null,
            "bottom": null,
            "display": null,
            "flex": null,
            "flex_flow": null,
            "grid_area": null,
            "grid_auto_columns": null,
            "grid_auto_flow": null,
            "grid_auto_rows": null,
            "grid_column": null,
            "grid_gap": null,
            "grid_row": null,
            "grid_template_areas": null,
            "grid_template_columns": null,
            "grid_template_rows": null,
            "height": null,
            "justify_content": null,
            "justify_items": null,
            "left": null,
            "margin": null,
            "max_height": null,
            "max_width": null,
            "min_height": null,
            "min_width": null,
            "object_fit": null,
            "object_position": null,
            "order": null,
            "overflow": null,
            "overflow_x": null,
            "overflow_y": null,
            "padding": null,
            "right": null,
            "top": null,
            "visibility": null,
            "width": null
          }
        },
        "f6b032a880884be9908251283cf2e9d6": {
          "model_module": "@jupyter-widgets/controls",
          "model_module_version": "1.5.0",
          "model_name": "HTMLModel",
          "state": {
            "_dom_classes": [],
            "_model_module": "@jupyter-widgets/controls",
            "_model_module_version": "1.5.0",
            "_model_name": "HTMLModel",
            "_view_count": null,
            "_view_module": "@jupyter-widgets/controls",
            "_view_module_version": "1.5.0",
            "_view_name": "HTMLView",
            "description": "",
            "description_tooltip": null,
            "layout": "IPY_MODEL_3174768b65f440b88904e2bc950d8312",
            "placeholder": "​",
            "style": "IPY_MODEL_66d9102fcaa642d1a4e690199491d79e",
            "value": " 405/405 [00:00&lt;00:00, 30.3kB/s]"
          }
        },
        "f8849ee418a84dc8a2e173b02a5a44df": {
          "model_module": "@jupyter-widgets/controls",
          "model_module_version": "1.5.0",
          "model_name": "ProgressStyleModel",
          "state": {
            "_model_module": "@jupyter-widgets/controls",
            "_model_module_version": "1.5.0",
            "_model_name": "ProgressStyleModel",
            "_view_count": null,
            "_view_module": "@jupyter-widgets/base",
            "_view_module_version": "1.2.0",
            "_view_name": "StyleView",
            "bar_color": null,
            "description_width": ""
          }
        },
        "f8953c7736cf473d8ab53b1f6f28349b": {
          "model_module": "@jupyter-widgets/controls",
          "model_module_version": "1.5.0",
          "model_name": "ProgressStyleModel",
          "state": {
            "_model_module": "@jupyter-widgets/controls",
            "_model_module_version": "1.5.0",
            "_model_name": "ProgressStyleModel",
            "_view_count": null,
            "_view_module": "@jupyter-widgets/base",
            "_view_module_version": "1.2.0",
            "_view_name": "StyleView",
            "bar_color": null,
            "description_width": ""
          }
        },
        "f9eb49df1b5f4709ae8cc57abe6915d9": {
          "model_module": "@jupyter-widgets/base",
          "model_module_version": "1.2.0",
          "model_name": "LayoutModel",
          "state": {
            "_model_module": "@jupyter-widgets/base",
            "_model_module_version": "1.2.0",
            "_model_name": "LayoutModel",
            "_view_count": null,
            "_view_module": "@jupyter-widgets/base",
            "_view_module_version": "1.2.0",
            "_view_name": "LayoutView",
            "align_content": null,
            "align_items": null,
            "align_self": null,
            "border": null,
            "bottom": null,
            "display": null,
            "flex": null,
            "flex_flow": null,
            "grid_area": null,
            "grid_auto_columns": null,
            "grid_auto_flow": null,
            "grid_auto_rows": null,
            "grid_column": null,
            "grid_gap": null,
            "grid_row": null,
            "grid_template_areas": null,
            "grid_template_columns": null,
            "grid_template_rows": null,
            "height": null,
            "justify_content": null,
            "justify_items": null,
            "left": null,
            "margin": null,
            "max_height": null,
            "max_width": null,
            "min_height": null,
            "min_width": null,
            "object_fit": null,
            "object_position": null,
            "order": null,
            "overflow": null,
            "overflow_x": null,
            "overflow_y": null,
            "padding": null,
            "right": null,
            "top": null,
            "visibility": null,
            "width": null
          }
        },
        "fcfec64c370240b1a11dd9a1060bb11f": {
          "model_module": "@jupyter-widgets/controls",
          "model_module_version": "1.5.0",
          "model_name": "FloatProgressModel",
          "state": {
            "_dom_classes": [],
            "_model_module": "@jupyter-widgets/controls",
            "_model_module_version": "1.5.0",
            "_model_name": "FloatProgressModel",
            "_view_count": null,
            "_view_module": "@jupyter-widgets/controls",
            "_view_module_version": "1.5.0",
            "_view_name": "ProgressView",
            "bar_style": "success",
            "description": "",
            "description_tooltip": null,
            "layout": "IPY_MODEL_f0f29f216f424c4ebbc02c016ba11a30",
            "max": 466081,
            "min": 0,
            "orientation": "horizontal",
            "style": "IPY_MODEL_f3a8660a71bb4d9688dc5a45390b7759",
            "value": 466081
          }
        },
        "fe4e24165cf94991ae383b68cf8e14df": {
          "model_module": "@jupyter-widgets/controls",
          "model_module_version": "1.5.0",
          "model_name": "DescriptionStyleModel",
          "state": {
            "_model_module": "@jupyter-widgets/controls",
            "_model_module_version": "1.5.0",
            "_model_name": "DescriptionStyleModel",
            "_view_count": null,
            "_view_module": "@jupyter-widgets/base",
            "_view_module_version": "1.2.0",
            "_view_name": "StyleView",
            "description_width": ""
          }
        },
        "feaa72a3add04224b3fd7172270cfe1a": {
          "model_module": "@jupyter-widgets/base",
          "model_module_version": "1.2.0",
          "model_name": "LayoutModel",
          "state": {
            "_model_module": "@jupyter-widgets/base",
            "_model_module_version": "1.2.0",
            "_model_name": "LayoutModel",
            "_view_count": null,
            "_view_module": "@jupyter-widgets/base",
            "_view_module_version": "1.2.0",
            "_view_name": "LayoutView",
            "align_content": null,
            "align_items": null,
            "align_self": null,
            "border": null,
            "bottom": null,
            "display": null,
            "flex": null,
            "flex_flow": null,
            "grid_area": null,
            "grid_auto_columns": null,
            "grid_auto_flow": null,
            "grid_auto_rows": null,
            "grid_column": null,
            "grid_gap": null,
            "grid_row": null,
            "grid_template_areas": null,
            "grid_template_columns": null,
            "grid_template_rows": null,
            "height": null,
            "justify_content": null,
            "justify_items": null,
            "left": null,
            "margin": null,
            "max_height": null,
            "max_width": null,
            "min_height": null,
            "min_width": null,
            "object_fit": null,
            "object_position": null,
            "order": null,
            "overflow": null,
            "overflow_x": null,
            "overflow_y": null,
            "padding": null,
            "right": null,
            "top": null,
            "visibility": null,
            "width": null
          }
        },
        "feafe2c64f254fdfa408ec47ecf3b74b": {
          "model_module": "@jupyter-widgets/base",
          "model_module_version": "1.2.0",
          "model_name": "LayoutModel",
          "state": {
            "_model_module": "@jupyter-widgets/base",
            "_model_module_version": "1.2.0",
            "_model_name": "LayoutModel",
            "_view_count": null,
            "_view_module": "@jupyter-widgets/base",
            "_view_module_version": "1.2.0",
            "_view_name": "LayoutView",
            "align_content": null,
            "align_items": null,
            "align_self": null,
            "border": null,
            "bottom": null,
            "display": null,
            "flex": null,
            "flex_flow": null,
            "grid_area": null,
            "grid_auto_columns": null,
            "grid_auto_flow": null,
            "grid_auto_rows": null,
            "grid_column": null,
            "grid_gap": null,
            "grid_row": null,
            "grid_template_areas": null,
            "grid_template_columns": null,
            "grid_template_rows": null,
            "height": null,
            "justify_content": null,
            "justify_items": null,
            "left": null,
            "margin": null,
            "max_height": null,
            "max_width": null,
            "min_height": null,
            "min_width": null,
            "object_fit": null,
            "object_position": null,
            "order": null,
            "overflow": null,
            "overflow_x": null,
            "overflow_y": null,
            "padding": null,
            "right": null,
            "top": null,
            "visibility": null,
            "width": null
          }
        }
      }
    }
  },
  "nbformat": 4,
  "nbformat_minor": 0
}
